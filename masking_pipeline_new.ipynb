{
  "nbformat": 4,
  "nbformat_minor": 0,
  "metadata": {
    "colab": {
      "provenance": [],
      "gpuType": "T4",
      "name": "masking_pipeline_new.ipynb",
      "include_colab_link": true
    },
    "kernelspec": {
      "name": "python3",
      "display_name": "Python 3"
    },
    "language_info": {
      "name": "python"
    },
    "accelerator": "GPU",
    "widgets": {
      "application/vnd.jupyter.widget-state+json": {
        "b1a82d12c48142ab8d7292aa3b95aad4": {
          "model_module": "@jupyter-widgets/controls",
          "model_name": "VBoxModel",
          "model_module_version": "1.5.0",
          "state": {
            "_dom_classes": [],
            "_model_module": "@jupyter-widgets/controls",
            "_model_module_version": "1.5.0",
            "_model_name": "VBoxModel",
            "_view_count": null,
            "_view_module": "@jupyter-widgets/controls",
            "_view_module_version": "1.5.0",
            "_view_name": "VBoxView",
            "box_style": "",
            "children": [],
            "layout": "IPY_MODEL_c0869472b4e3462087324bd8f053053b"
          }
        },
        "73d99bb5fdee48fbb29cbf719d26c5c7": {
          "model_module": "@jupyter-widgets/controls",
          "model_name": "HTMLModel",
          "model_module_version": "1.5.0",
          "state": {
            "_dom_classes": [],
            "_model_module": "@jupyter-widgets/controls",
            "_model_module_version": "1.5.0",
            "_model_name": "HTMLModel",
            "_view_count": null,
            "_view_module": "@jupyter-widgets/controls",
            "_view_module_version": "1.5.0",
            "_view_name": "HTMLView",
            "description": "",
            "description_tooltip": null,
            "layout": "IPY_MODEL_2444b661fcfa483093be33ab50e1c4ce",
            "placeholder": "​",
            "style": "IPY_MODEL_24d68adccee047529c154d17311766af",
            "value": "<center> <img\nsrc=https://huggingface.co/front/assets/huggingface_logo-noborder.svg\nalt='Hugging Face'> <br> Copy a token from <a\nhref=\"https://huggingface.co/settings/tokens\" target=\"_blank\">your Hugging Face\ntokens page</a> and paste it below. <br> Immediately click login after copying\nyour token or it might be stored in plain text in this notebook file. </center>"
          }
        },
        "99447f18cd2041bd8fba531ea55f8362": {
          "model_module": "@jupyter-widgets/controls",
          "model_name": "PasswordModel",
          "model_module_version": "1.5.0",
          "state": {
            "_dom_classes": [],
            "_model_module": "@jupyter-widgets/controls",
            "_model_module_version": "1.5.0",
            "_model_name": "PasswordModel",
            "_view_count": null,
            "_view_module": "@jupyter-widgets/controls",
            "_view_module_version": "1.5.0",
            "_view_name": "PasswordView",
            "continuous_update": true,
            "description": "Token:",
            "description_tooltip": null,
            "disabled": false,
            "layout": "IPY_MODEL_631b28c8fb69439597f4820a3b902220",
            "placeholder": "​",
            "style": "IPY_MODEL_4285e67534f245a59266799f1959e93d",
            "value": ""
          }
        },
        "0f72cddc1d9740aa8ae4528e8aeb290c": {
          "model_module": "@jupyter-widgets/controls",
          "model_name": "CheckboxModel",
          "model_module_version": "1.5.0",
          "state": {
            "_dom_classes": [],
            "_model_module": "@jupyter-widgets/controls",
            "_model_module_version": "1.5.0",
            "_model_name": "CheckboxModel",
            "_view_count": null,
            "_view_module": "@jupyter-widgets/controls",
            "_view_module_version": "1.5.0",
            "_view_name": "CheckboxView",
            "description": "Add token as git credential?",
            "description_tooltip": null,
            "disabled": false,
            "indent": true,
            "layout": "IPY_MODEL_54e55689aca74142b1344a3fe89c3014",
            "style": "IPY_MODEL_b21fff4957094b06b580be24f0fba0eb",
            "value": true
          }
        },
        "c16714a922884057a01d50fd031ffcb2": {
          "model_module": "@jupyter-widgets/controls",
          "model_name": "ButtonModel",
          "model_module_version": "1.5.0",
          "state": {
            "_dom_classes": [],
            "_model_module": "@jupyter-widgets/controls",
            "_model_module_version": "1.5.0",
            "_model_name": "ButtonModel",
            "_view_count": null,
            "_view_module": "@jupyter-widgets/controls",
            "_view_module_version": "1.5.0",
            "_view_name": "ButtonView",
            "button_style": "",
            "description": "Login",
            "disabled": false,
            "icon": "",
            "layout": "IPY_MODEL_ab743d46436a4989b7236b9b8cf466e2",
            "style": "IPY_MODEL_981dd790f4204c9bbe7ffd732baf6b1c",
            "tooltip": ""
          }
        },
        "d5f78ff879d2433db73789dfc9ce0805": {
          "model_module": "@jupyter-widgets/controls",
          "model_name": "HTMLModel",
          "model_module_version": "1.5.0",
          "state": {
            "_dom_classes": [],
            "_model_module": "@jupyter-widgets/controls",
            "_model_module_version": "1.5.0",
            "_model_name": "HTMLModel",
            "_view_count": null,
            "_view_module": "@jupyter-widgets/controls",
            "_view_module_version": "1.5.0",
            "_view_name": "HTMLView",
            "description": "",
            "description_tooltip": null,
            "layout": "IPY_MODEL_347557e99698460ea96fb92010d49eac",
            "placeholder": "​",
            "style": "IPY_MODEL_f564f0bcd2a74199b6cc15a9c3720384",
            "value": "\n<b>Pro Tip:</b> If you don't already have one, you can create a dedicated\n'notebooks' token with 'write' access, that you can then easily reuse for all\nnotebooks. </center>"
          }
        },
        "c0869472b4e3462087324bd8f053053b": {
          "model_module": "@jupyter-widgets/base",
          "model_name": "LayoutModel",
          "model_module_version": "1.2.0",
          "state": {
            "_model_module": "@jupyter-widgets/base",
            "_model_module_version": "1.2.0",
            "_model_name": "LayoutModel",
            "_view_count": null,
            "_view_module": "@jupyter-widgets/base",
            "_view_module_version": "1.2.0",
            "_view_name": "LayoutView",
            "align_content": null,
            "align_items": "center",
            "align_self": null,
            "border": null,
            "bottom": null,
            "display": "flex",
            "flex": null,
            "flex_flow": "column",
            "grid_area": null,
            "grid_auto_columns": null,
            "grid_auto_flow": null,
            "grid_auto_rows": null,
            "grid_column": null,
            "grid_gap": null,
            "grid_row": null,
            "grid_template_areas": null,
            "grid_template_columns": null,
            "grid_template_rows": null,
            "height": null,
            "justify_content": null,
            "justify_items": null,
            "left": null,
            "margin": null,
            "max_height": null,
            "max_width": null,
            "min_height": null,
            "min_width": null,
            "object_fit": null,
            "object_position": null,
            "order": null,
            "overflow": null,
            "overflow_x": null,
            "overflow_y": null,
            "padding": null,
            "right": null,
            "top": null,
            "visibility": null,
            "width": "50%"
          }
        },
        "2444b661fcfa483093be33ab50e1c4ce": {
          "model_module": "@jupyter-widgets/base",
          "model_name": "LayoutModel",
          "model_module_version": "1.2.0",
          "state": {
            "_model_module": "@jupyter-widgets/base",
            "_model_module_version": "1.2.0",
            "_model_name": "LayoutModel",
            "_view_count": null,
            "_view_module": "@jupyter-widgets/base",
            "_view_module_version": "1.2.0",
            "_view_name": "LayoutView",
            "align_content": null,
            "align_items": null,
            "align_self": null,
            "border": null,
            "bottom": null,
            "display": null,
            "flex": null,
            "flex_flow": null,
            "grid_area": null,
            "grid_auto_columns": null,
            "grid_auto_flow": null,
            "grid_auto_rows": null,
            "grid_column": null,
            "grid_gap": null,
            "grid_row": null,
            "grid_template_areas": null,
            "grid_template_columns": null,
            "grid_template_rows": null,
            "height": null,
            "justify_content": null,
            "justify_items": null,
            "left": null,
            "margin": null,
            "max_height": null,
            "max_width": null,
            "min_height": null,
            "min_width": null,
            "object_fit": null,
            "object_position": null,
            "order": null,
            "overflow": null,
            "overflow_x": null,
            "overflow_y": null,
            "padding": null,
            "right": null,
            "top": null,
            "visibility": null,
            "width": null
          }
        },
        "24d68adccee047529c154d17311766af": {
          "model_module": "@jupyter-widgets/controls",
          "model_name": "DescriptionStyleModel",
          "model_module_version": "1.5.0",
          "state": {
            "_model_module": "@jupyter-widgets/controls",
            "_model_module_version": "1.5.0",
            "_model_name": "DescriptionStyleModel",
            "_view_count": null,
            "_view_module": "@jupyter-widgets/base",
            "_view_module_version": "1.2.0",
            "_view_name": "StyleView",
            "description_width": ""
          }
        },
        "631b28c8fb69439597f4820a3b902220": {
          "model_module": "@jupyter-widgets/base",
          "model_name": "LayoutModel",
          "model_module_version": "1.2.0",
          "state": {
            "_model_module": "@jupyter-widgets/base",
            "_model_module_version": "1.2.0",
            "_model_name": "LayoutModel",
            "_view_count": null,
            "_view_module": "@jupyter-widgets/base",
            "_view_module_version": "1.2.0",
            "_view_name": "LayoutView",
            "align_content": null,
            "align_items": null,
            "align_self": null,
            "border": null,
            "bottom": null,
            "display": null,
            "flex": null,
            "flex_flow": null,
            "grid_area": null,
            "grid_auto_columns": null,
            "grid_auto_flow": null,
            "grid_auto_rows": null,
            "grid_column": null,
            "grid_gap": null,
            "grid_row": null,
            "grid_template_areas": null,
            "grid_template_columns": null,
            "grid_template_rows": null,
            "height": null,
            "justify_content": null,
            "justify_items": null,
            "left": null,
            "margin": null,
            "max_height": null,
            "max_width": null,
            "min_height": null,
            "min_width": null,
            "object_fit": null,
            "object_position": null,
            "order": null,
            "overflow": null,
            "overflow_x": null,
            "overflow_y": null,
            "padding": null,
            "right": null,
            "top": null,
            "visibility": null,
            "width": null
          }
        },
        "4285e67534f245a59266799f1959e93d": {
          "model_module": "@jupyter-widgets/controls",
          "model_name": "DescriptionStyleModel",
          "model_module_version": "1.5.0",
          "state": {
            "_model_module": "@jupyter-widgets/controls",
            "_model_module_version": "1.5.0",
            "_model_name": "DescriptionStyleModel",
            "_view_count": null,
            "_view_module": "@jupyter-widgets/base",
            "_view_module_version": "1.2.0",
            "_view_name": "StyleView",
            "description_width": ""
          }
        },
        "54e55689aca74142b1344a3fe89c3014": {
          "model_module": "@jupyter-widgets/base",
          "model_name": "LayoutModel",
          "model_module_version": "1.2.0",
          "state": {
            "_model_module": "@jupyter-widgets/base",
            "_model_module_version": "1.2.0",
            "_model_name": "LayoutModel",
            "_view_count": null,
            "_view_module": "@jupyter-widgets/base",
            "_view_module_version": "1.2.0",
            "_view_name": "LayoutView",
            "align_content": null,
            "align_items": null,
            "align_self": null,
            "border": null,
            "bottom": null,
            "display": null,
            "flex": null,
            "flex_flow": null,
            "grid_area": null,
            "grid_auto_columns": null,
            "grid_auto_flow": null,
            "grid_auto_rows": null,
            "grid_column": null,
            "grid_gap": null,
            "grid_row": null,
            "grid_template_areas": null,
            "grid_template_columns": null,
            "grid_template_rows": null,
            "height": null,
            "justify_content": null,
            "justify_items": null,
            "left": null,
            "margin": null,
            "max_height": null,
            "max_width": null,
            "min_height": null,
            "min_width": null,
            "object_fit": null,
            "object_position": null,
            "order": null,
            "overflow": null,
            "overflow_x": null,
            "overflow_y": null,
            "padding": null,
            "right": null,
            "top": null,
            "visibility": null,
            "width": null
          }
        },
        "b21fff4957094b06b580be24f0fba0eb": {
          "model_module": "@jupyter-widgets/controls",
          "model_name": "DescriptionStyleModel",
          "model_module_version": "1.5.0",
          "state": {
            "_model_module": "@jupyter-widgets/controls",
            "_model_module_version": "1.5.0",
            "_model_name": "DescriptionStyleModel",
            "_view_count": null,
            "_view_module": "@jupyter-widgets/base",
            "_view_module_version": "1.2.0",
            "_view_name": "StyleView",
            "description_width": ""
          }
        },
        "ab743d46436a4989b7236b9b8cf466e2": {
          "model_module": "@jupyter-widgets/base",
          "model_name": "LayoutModel",
          "model_module_version": "1.2.0",
          "state": {
            "_model_module": "@jupyter-widgets/base",
            "_model_module_version": "1.2.0",
            "_model_name": "LayoutModel",
            "_view_count": null,
            "_view_module": "@jupyter-widgets/base",
            "_view_module_version": "1.2.0",
            "_view_name": "LayoutView",
            "align_content": null,
            "align_items": null,
            "align_self": null,
            "border": null,
            "bottom": null,
            "display": null,
            "flex": null,
            "flex_flow": null,
            "grid_area": null,
            "grid_auto_columns": null,
            "grid_auto_flow": null,
            "grid_auto_rows": null,
            "grid_column": null,
            "grid_gap": null,
            "grid_row": null,
            "grid_template_areas": null,
            "grid_template_columns": null,
            "grid_template_rows": null,
            "height": null,
            "justify_content": null,
            "justify_items": null,
            "left": null,
            "margin": null,
            "max_height": null,
            "max_width": null,
            "min_height": null,
            "min_width": null,
            "object_fit": null,
            "object_position": null,
            "order": null,
            "overflow": null,
            "overflow_x": null,
            "overflow_y": null,
            "padding": null,
            "right": null,
            "top": null,
            "visibility": null,
            "width": null
          }
        },
        "981dd790f4204c9bbe7ffd732baf6b1c": {
          "model_module": "@jupyter-widgets/controls",
          "model_name": "ButtonStyleModel",
          "model_module_version": "1.5.0",
          "state": {
            "_model_module": "@jupyter-widgets/controls",
            "_model_module_version": "1.5.0",
            "_model_name": "ButtonStyleModel",
            "_view_count": null,
            "_view_module": "@jupyter-widgets/base",
            "_view_module_version": "1.2.0",
            "_view_name": "StyleView",
            "button_color": null,
            "font_weight": ""
          }
        },
        "347557e99698460ea96fb92010d49eac": {
          "model_module": "@jupyter-widgets/base",
          "model_name": "LayoutModel",
          "model_module_version": "1.2.0",
          "state": {
            "_model_module": "@jupyter-widgets/base",
            "_model_module_version": "1.2.0",
            "_model_name": "LayoutModel",
            "_view_count": null,
            "_view_module": "@jupyter-widgets/base",
            "_view_module_version": "1.2.0",
            "_view_name": "LayoutView",
            "align_content": null,
            "align_items": null,
            "align_self": null,
            "border": null,
            "bottom": null,
            "display": null,
            "flex": null,
            "flex_flow": null,
            "grid_area": null,
            "grid_auto_columns": null,
            "grid_auto_flow": null,
            "grid_auto_rows": null,
            "grid_column": null,
            "grid_gap": null,
            "grid_row": null,
            "grid_template_areas": null,
            "grid_template_columns": null,
            "grid_template_rows": null,
            "height": null,
            "justify_content": null,
            "justify_items": null,
            "left": null,
            "margin": null,
            "max_height": null,
            "max_width": null,
            "min_height": null,
            "min_width": null,
            "object_fit": null,
            "object_position": null,
            "order": null,
            "overflow": null,
            "overflow_x": null,
            "overflow_y": null,
            "padding": null,
            "right": null,
            "top": null,
            "visibility": null,
            "width": null
          }
        },
        "f564f0bcd2a74199b6cc15a9c3720384": {
          "model_module": "@jupyter-widgets/controls",
          "model_name": "DescriptionStyleModel",
          "model_module_version": "1.5.0",
          "state": {
            "_model_module": "@jupyter-widgets/controls",
            "_model_module_version": "1.5.0",
            "_model_name": "DescriptionStyleModel",
            "_view_count": null,
            "_view_module": "@jupyter-widgets/base",
            "_view_module_version": "1.2.0",
            "_view_name": "StyleView",
            "description_width": ""
          }
        },
        "4e828641561c42f2bbcf1cc6647fe371": {
          "model_module": "@jupyter-widgets/controls",
          "model_name": "LabelModel",
          "model_module_version": "1.5.0",
          "state": {
            "_dom_classes": [],
            "_model_module": "@jupyter-widgets/controls",
            "_model_module_version": "1.5.0",
            "_model_name": "LabelModel",
            "_view_count": null,
            "_view_module": "@jupyter-widgets/controls",
            "_view_module_version": "1.5.0",
            "_view_name": "LabelView",
            "description": "",
            "description_tooltip": null,
            "layout": "IPY_MODEL_3e8eda892c3c4b408a91cf95152fe100",
            "placeholder": "​",
            "style": "IPY_MODEL_8fc7c13c26394981ad8a298bef2f9efa",
            "value": "Connecting..."
          }
        },
        "3e8eda892c3c4b408a91cf95152fe100": {
          "model_module": "@jupyter-widgets/base",
          "model_name": "LayoutModel",
          "model_module_version": "1.2.0",
          "state": {
            "_model_module": "@jupyter-widgets/base",
            "_model_module_version": "1.2.0",
            "_model_name": "LayoutModel",
            "_view_count": null,
            "_view_module": "@jupyter-widgets/base",
            "_view_module_version": "1.2.0",
            "_view_name": "LayoutView",
            "align_content": null,
            "align_items": null,
            "align_self": null,
            "border": null,
            "bottom": null,
            "display": null,
            "flex": null,
            "flex_flow": null,
            "grid_area": null,
            "grid_auto_columns": null,
            "grid_auto_flow": null,
            "grid_auto_rows": null,
            "grid_column": null,
            "grid_gap": null,
            "grid_row": null,
            "grid_template_areas": null,
            "grid_template_columns": null,
            "grid_template_rows": null,
            "height": null,
            "justify_content": null,
            "justify_items": null,
            "left": null,
            "margin": null,
            "max_height": null,
            "max_width": null,
            "min_height": null,
            "min_width": null,
            "object_fit": null,
            "object_position": null,
            "order": null,
            "overflow": null,
            "overflow_x": null,
            "overflow_y": null,
            "padding": null,
            "right": null,
            "top": null,
            "visibility": null,
            "width": null
          }
        },
        "8fc7c13c26394981ad8a298bef2f9efa": {
          "model_module": "@jupyter-widgets/controls",
          "model_name": "DescriptionStyleModel",
          "model_module_version": "1.5.0",
          "state": {
            "_model_module": "@jupyter-widgets/controls",
            "_model_module_version": "1.5.0",
            "_model_name": "DescriptionStyleModel",
            "_view_count": null,
            "_view_module": "@jupyter-widgets/base",
            "_view_module_version": "1.2.0",
            "_view_name": "StyleView",
            "description_width": ""
          }
        },
        "46f22c5941254f1ba9034efe7aec002c": {
          "model_module": "@jupyter-widgets/controls",
          "model_name": "HBoxModel",
          "model_module_version": "1.5.0",
          "state": {
            "_dom_classes": [],
            "_model_module": "@jupyter-widgets/controls",
            "_model_module_version": "1.5.0",
            "_model_name": "HBoxModel",
            "_view_count": null,
            "_view_module": "@jupyter-widgets/controls",
            "_view_module_version": "1.5.0",
            "_view_name": "HBoxView",
            "box_style": "",
            "children": [
              "IPY_MODEL_c5708ed2915f49b2b2ec8e946eabc631",
              "IPY_MODEL_0132fc258f034dbcb1aa645002f9e534",
              "IPY_MODEL_4086b59ec23b4d1cac58481a818110c9"
            ],
            "layout": "IPY_MODEL_bf3e268fe3bd4c6bb0f3cc624a2cdb7e"
          }
        },
        "c5708ed2915f49b2b2ec8e946eabc631": {
          "model_module": "@jupyter-widgets/controls",
          "model_name": "HTMLModel",
          "model_module_version": "1.5.0",
          "state": {
            "_dom_classes": [],
            "_model_module": "@jupyter-widgets/controls",
            "_model_module_version": "1.5.0",
            "_model_name": "HTMLModel",
            "_view_count": null,
            "_view_module": "@jupyter-widgets/controls",
            "_view_module_version": "1.5.0",
            "_view_name": "HTMLView",
            "description": "",
            "description_tooltip": null,
            "layout": "IPY_MODEL_0f68e1ec213d40479ee76aa114489d38",
            "placeholder": "​",
            "style": "IPY_MODEL_097dd37aa5ab44668ffc10b0761c9931",
            "value": "Fetching 22 files: 100%"
          }
        },
        "0132fc258f034dbcb1aa645002f9e534": {
          "model_module": "@jupyter-widgets/controls",
          "model_name": "FloatProgressModel",
          "model_module_version": "1.5.0",
          "state": {
            "_dom_classes": [],
            "_model_module": "@jupyter-widgets/controls",
            "_model_module_version": "1.5.0",
            "_model_name": "FloatProgressModel",
            "_view_count": null,
            "_view_module": "@jupyter-widgets/controls",
            "_view_module_version": "1.5.0",
            "_view_name": "ProgressView",
            "bar_style": "success",
            "description": "",
            "description_tooltip": null,
            "layout": "IPY_MODEL_1f4d181f856c468aba5db67187ffc355",
            "max": 22,
            "min": 0,
            "orientation": "horizontal",
            "style": "IPY_MODEL_dcceb6a711504bb98274ee3d7dc0e876",
            "value": 22
          }
        },
        "4086b59ec23b4d1cac58481a818110c9": {
          "model_module": "@jupyter-widgets/controls",
          "model_name": "HTMLModel",
          "model_module_version": "1.5.0",
          "state": {
            "_dom_classes": [],
            "_model_module": "@jupyter-widgets/controls",
            "_model_module_version": "1.5.0",
            "_model_name": "HTMLModel",
            "_view_count": null,
            "_view_module": "@jupyter-widgets/controls",
            "_view_module_version": "1.5.0",
            "_view_name": "HTMLView",
            "description": "",
            "description_tooltip": null,
            "layout": "IPY_MODEL_598edee413c64d6abb6ed204000bad06",
            "placeholder": "​",
            "style": "IPY_MODEL_d8a3cbecc11c4f13baa837a17126478c",
            "value": " 22/22 [01:33&lt;00:00,  8.43s/it]"
          }
        },
        "bf3e268fe3bd4c6bb0f3cc624a2cdb7e": {
          "model_module": "@jupyter-widgets/base",
          "model_name": "LayoutModel",
          "model_module_version": "1.2.0",
          "state": {
            "_model_module": "@jupyter-widgets/base",
            "_model_module_version": "1.2.0",
            "_model_name": "LayoutModel",
            "_view_count": null,
            "_view_module": "@jupyter-widgets/base",
            "_view_module_version": "1.2.0",
            "_view_name": "LayoutView",
            "align_content": null,
            "align_items": null,
            "align_self": null,
            "border": null,
            "bottom": null,
            "display": null,
            "flex": null,
            "flex_flow": null,
            "grid_area": null,
            "grid_auto_columns": null,
            "grid_auto_flow": null,
            "grid_auto_rows": null,
            "grid_column": null,
            "grid_gap": null,
            "grid_row": null,
            "grid_template_areas": null,
            "grid_template_columns": null,
            "grid_template_rows": null,
            "height": null,
            "justify_content": null,
            "justify_items": null,
            "left": null,
            "margin": null,
            "max_height": null,
            "max_width": null,
            "min_height": null,
            "min_width": null,
            "object_fit": null,
            "object_position": null,
            "order": null,
            "overflow": null,
            "overflow_x": null,
            "overflow_y": null,
            "padding": null,
            "right": null,
            "top": null,
            "visibility": null,
            "width": null
          }
        },
        "0f68e1ec213d40479ee76aa114489d38": {
          "model_module": "@jupyter-widgets/base",
          "model_name": "LayoutModel",
          "model_module_version": "1.2.0",
          "state": {
            "_model_module": "@jupyter-widgets/base",
            "_model_module_version": "1.2.0",
            "_model_name": "LayoutModel",
            "_view_count": null,
            "_view_module": "@jupyter-widgets/base",
            "_view_module_version": "1.2.0",
            "_view_name": "LayoutView",
            "align_content": null,
            "align_items": null,
            "align_self": null,
            "border": null,
            "bottom": null,
            "display": null,
            "flex": null,
            "flex_flow": null,
            "grid_area": null,
            "grid_auto_columns": null,
            "grid_auto_flow": null,
            "grid_auto_rows": null,
            "grid_column": null,
            "grid_gap": null,
            "grid_row": null,
            "grid_template_areas": null,
            "grid_template_columns": null,
            "grid_template_rows": null,
            "height": null,
            "justify_content": null,
            "justify_items": null,
            "left": null,
            "margin": null,
            "max_height": null,
            "max_width": null,
            "min_height": null,
            "min_width": null,
            "object_fit": null,
            "object_position": null,
            "order": null,
            "overflow": null,
            "overflow_x": null,
            "overflow_y": null,
            "padding": null,
            "right": null,
            "top": null,
            "visibility": null,
            "width": null
          }
        },
        "097dd37aa5ab44668ffc10b0761c9931": {
          "model_module": "@jupyter-widgets/controls",
          "model_name": "DescriptionStyleModel",
          "model_module_version": "1.5.0",
          "state": {
            "_model_module": "@jupyter-widgets/controls",
            "_model_module_version": "1.5.0",
            "_model_name": "DescriptionStyleModel",
            "_view_count": null,
            "_view_module": "@jupyter-widgets/base",
            "_view_module_version": "1.2.0",
            "_view_name": "StyleView",
            "description_width": ""
          }
        },
        "1f4d181f856c468aba5db67187ffc355": {
          "model_module": "@jupyter-widgets/base",
          "model_name": "LayoutModel",
          "model_module_version": "1.2.0",
          "state": {
            "_model_module": "@jupyter-widgets/base",
            "_model_module_version": "1.2.0",
            "_model_name": "LayoutModel",
            "_view_count": null,
            "_view_module": "@jupyter-widgets/base",
            "_view_module_version": "1.2.0",
            "_view_name": "LayoutView",
            "align_content": null,
            "align_items": null,
            "align_self": null,
            "border": null,
            "bottom": null,
            "display": null,
            "flex": null,
            "flex_flow": null,
            "grid_area": null,
            "grid_auto_columns": null,
            "grid_auto_flow": null,
            "grid_auto_rows": null,
            "grid_column": null,
            "grid_gap": null,
            "grid_row": null,
            "grid_template_areas": null,
            "grid_template_columns": null,
            "grid_template_rows": null,
            "height": null,
            "justify_content": null,
            "justify_items": null,
            "left": null,
            "margin": null,
            "max_height": null,
            "max_width": null,
            "min_height": null,
            "min_width": null,
            "object_fit": null,
            "object_position": null,
            "order": null,
            "overflow": null,
            "overflow_x": null,
            "overflow_y": null,
            "padding": null,
            "right": null,
            "top": null,
            "visibility": null,
            "width": null
          }
        },
        "dcceb6a711504bb98274ee3d7dc0e876": {
          "model_module": "@jupyter-widgets/controls",
          "model_name": "ProgressStyleModel",
          "model_module_version": "1.5.0",
          "state": {
            "_model_module": "@jupyter-widgets/controls",
            "_model_module_version": "1.5.0",
            "_model_name": "ProgressStyleModel",
            "_view_count": null,
            "_view_module": "@jupyter-widgets/base",
            "_view_module_version": "1.2.0",
            "_view_name": "StyleView",
            "bar_color": null,
            "description_width": ""
          }
        },
        "598edee413c64d6abb6ed204000bad06": {
          "model_module": "@jupyter-widgets/base",
          "model_name": "LayoutModel",
          "model_module_version": "1.2.0",
          "state": {
            "_model_module": "@jupyter-widgets/base",
            "_model_module_version": "1.2.0",
            "_model_name": "LayoutModel",
            "_view_count": null,
            "_view_module": "@jupyter-widgets/base",
            "_view_module_version": "1.2.0",
            "_view_name": "LayoutView",
            "align_content": null,
            "align_items": null,
            "align_self": null,
            "border": null,
            "bottom": null,
            "display": null,
            "flex": null,
            "flex_flow": null,
            "grid_area": null,
            "grid_auto_columns": null,
            "grid_auto_flow": null,
            "grid_auto_rows": null,
            "grid_column": null,
            "grid_gap": null,
            "grid_row": null,
            "grid_template_areas": null,
            "grid_template_columns": null,
            "grid_template_rows": null,
            "height": null,
            "justify_content": null,
            "justify_items": null,
            "left": null,
            "margin": null,
            "max_height": null,
            "max_width": null,
            "min_height": null,
            "min_width": null,
            "object_fit": null,
            "object_position": null,
            "order": null,
            "overflow": null,
            "overflow_x": null,
            "overflow_y": null,
            "padding": null,
            "right": null,
            "top": null,
            "visibility": null,
            "width": null
          }
        },
        "d8a3cbecc11c4f13baa837a17126478c": {
          "model_module": "@jupyter-widgets/controls",
          "model_name": "DescriptionStyleModel",
          "model_module_version": "1.5.0",
          "state": {
            "_model_module": "@jupyter-widgets/controls",
            "_model_module_version": "1.5.0",
            "_model_name": "DescriptionStyleModel",
            "_view_count": null,
            "_view_module": "@jupyter-widgets/base",
            "_view_module_version": "1.2.0",
            "_view_name": "StyleView",
            "description_width": ""
          }
        },
        "03c1f23209c346e1abf72fe2a4c08c90": {
          "model_module": "@jupyter-widgets/controls",
          "model_name": "HBoxModel",
          "model_module_version": "1.5.0",
          "state": {
            "_dom_classes": [],
            "_model_module": "@jupyter-widgets/controls",
            "_model_module_version": "1.5.0",
            "_model_name": "HBoxModel",
            "_view_count": null,
            "_view_module": "@jupyter-widgets/controls",
            "_view_module_version": "1.5.0",
            "_view_name": "HBoxView",
            "box_style": "",
            "children": [
              "IPY_MODEL_4ac585a243a7458eabc2fb1f9ac6a658",
              "IPY_MODEL_c409ab6213cf4d3fb4460bf5a4209552",
              "IPY_MODEL_331d586d3c94490d8778306bd9eaddde"
            ],
            "layout": "IPY_MODEL_91aadfe914d542fdb4795f89f04fb76b"
          }
        },
        "4ac585a243a7458eabc2fb1f9ac6a658": {
          "model_module": "@jupyter-widgets/controls",
          "model_name": "HTMLModel",
          "model_module_version": "1.5.0",
          "state": {
            "_dom_classes": [],
            "_model_module": "@jupyter-widgets/controls",
            "_model_module_version": "1.5.0",
            "_model_name": "HTMLModel",
            "_view_count": null,
            "_view_module": "@jupyter-widgets/controls",
            "_view_module_version": "1.5.0",
            "_view_name": "HTMLView",
            "description": "",
            "description_tooltip": null,
            "layout": "IPY_MODEL_9d0ec97923dd4f6a8ae4df95300bfd14",
            "placeholder": "​",
            "style": "IPY_MODEL_603f839efac248c1b66560c28e46ea0a",
            "value": "README.md: 100%"
          }
        },
        "c409ab6213cf4d3fb4460bf5a4209552": {
          "model_module": "@jupyter-widgets/controls",
          "model_name": "FloatProgressModel",
          "model_module_version": "1.5.0",
          "state": {
            "_dom_classes": [],
            "_model_module": "@jupyter-widgets/controls",
            "_model_module_version": "1.5.0",
            "_model_name": "FloatProgressModel",
            "_view_count": null,
            "_view_module": "@jupyter-widgets/controls",
            "_view_module_version": "1.5.0",
            "_view_name": "ProgressView",
            "bar_style": "success",
            "description": "",
            "description_tooltip": null,
            "layout": "IPY_MODEL_5291ddc320b044c0a8efb8e7d6a544eb",
            "max": 3057,
            "min": 0,
            "orientation": "horizontal",
            "style": "IPY_MODEL_229b272f56e4466bbb0f95790656bf19",
            "value": 3057
          }
        },
        "331d586d3c94490d8778306bd9eaddde": {
          "model_module": "@jupyter-widgets/controls",
          "model_name": "HTMLModel",
          "model_module_version": "1.5.0",
          "state": {
            "_dom_classes": [],
            "_model_module": "@jupyter-widgets/controls",
            "_model_module_version": "1.5.0",
            "_model_name": "HTMLModel",
            "_view_count": null,
            "_view_module": "@jupyter-widgets/controls",
            "_view_module_version": "1.5.0",
            "_view_name": "HTMLView",
            "description": "",
            "description_tooltip": null,
            "layout": "IPY_MODEL_dd66d60ebf1448fc88ec7db633cf0a97",
            "placeholder": "​",
            "style": "IPY_MODEL_d2fd00ae47874bf49805fadfc97963a7",
            "value": " 3.06k/3.06k [00:00&lt;00:00, 55.7kB/s]"
          }
        },
        "91aadfe914d542fdb4795f89f04fb76b": {
          "model_module": "@jupyter-widgets/base",
          "model_name": "LayoutModel",
          "model_module_version": "1.2.0",
          "state": {
            "_model_module": "@jupyter-widgets/base",
            "_model_module_version": "1.2.0",
            "_model_name": "LayoutModel",
            "_view_count": null,
            "_view_module": "@jupyter-widgets/base",
            "_view_module_version": "1.2.0",
            "_view_name": "LayoutView",
            "align_content": null,
            "align_items": null,
            "align_self": null,
            "border": null,
            "bottom": null,
            "display": null,
            "flex": null,
            "flex_flow": null,
            "grid_area": null,
            "grid_auto_columns": null,
            "grid_auto_flow": null,
            "grid_auto_rows": null,
            "grid_column": null,
            "grid_gap": null,
            "grid_row": null,
            "grid_template_areas": null,
            "grid_template_columns": null,
            "grid_template_rows": null,
            "height": null,
            "justify_content": null,
            "justify_items": null,
            "left": null,
            "margin": null,
            "max_height": null,
            "max_width": null,
            "min_height": null,
            "min_width": null,
            "object_fit": null,
            "object_position": null,
            "order": null,
            "overflow": null,
            "overflow_x": null,
            "overflow_y": null,
            "padding": null,
            "right": null,
            "top": null,
            "visibility": null,
            "width": null
          }
        },
        "9d0ec97923dd4f6a8ae4df95300bfd14": {
          "model_module": "@jupyter-widgets/base",
          "model_name": "LayoutModel",
          "model_module_version": "1.2.0",
          "state": {
            "_model_module": "@jupyter-widgets/base",
            "_model_module_version": "1.2.0",
            "_model_name": "LayoutModel",
            "_view_count": null,
            "_view_module": "@jupyter-widgets/base",
            "_view_module_version": "1.2.0",
            "_view_name": "LayoutView",
            "align_content": null,
            "align_items": null,
            "align_self": null,
            "border": null,
            "bottom": null,
            "display": null,
            "flex": null,
            "flex_flow": null,
            "grid_area": null,
            "grid_auto_columns": null,
            "grid_auto_flow": null,
            "grid_auto_rows": null,
            "grid_column": null,
            "grid_gap": null,
            "grid_row": null,
            "grid_template_areas": null,
            "grid_template_columns": null,
            "grid_template_rows": null,
            "height": null,
            "justify_content": null,
            "justify_items": null,
            "left": null,
            "margin": null,
            "max_height": null,
            "max_width": null,
            "min_height": null,
            "min_width": null,
            "object_fit": null,
            "object_position": null,
            "order": null,
            "overflow": null,
            "overflow_x": null,
            "overflow_y": null,
            "padding": null,
            "right": null,
            "top": null,
            "visibility": null,
            "width": null
          }
        },
        "603f839efac248c1b66560c28e46ea0a": {
          "model_module": "@jupyter-widgets/controls",
          "model_name": "DescriptionStyleModel",
          "model_module_version": "1.5.0",
          "state": {
            "_model_module": "@jupyter-widgets/controls",
            "_model_module_version": "1.5.0",
            "_model_name": "DescriptionStyleModel",
            "_view_count": null,
            "_view_module": "@jupyter-widgets/base",
            "_view_module_version": "1.2.0",
            "_view_name": "StyleView",
            "description_width": ""
          }
        },
        "5291ddc320b044c0a8efb8e7d6a544eb": {
          "model_module": "@jupyter-widgets/base",
          "model_name": "LayoutModel",
          "model_module_version": "1.2.0",
          "state": {
            "_model_module": "@jupyter-widgets/base",
            "_model_module_version": "1.2.0",
            "_model_name": "LayoutModel",
            "_view_count": null,
            "_view_module": "@jupyter-widgets/base",
            "_view_module_version": "1.2.0",
            "_view_name": "LayoutView",
            "align_content": null,
            "align_items": null,
            "align_self": null,
            "border": null,
            "bottom": null,
            "display": null,
            "flex": null,
            "flex_flow": null,
            "grid_area": null,
            "grid_auto_columns": null,
            "grid_auto_flow": null,
            "grid_auto_rows": null,
            "grid_column": null,
            "grid_gap": null,
            "grid_row": null,
            "grid_template_areas": null,
            "grid_template_columns": null,
            "grid_template_rows": null,
            "height": null,
            "justify_content": null,
            "justify_items": null,
            "left": null,
            "margin": null,
            "max_height": null,
            "max_width": null,
            "min_height": null,
            "min_width": null,
            "object_fit": null,
            "object_position": null,
            "order": null,
            "overflow": null,
            "overflow_x": null,
            "overflow_y": null,
            "padding": null,
            "right": null,
            "top": null,
            "visibility": null,
            "width": null
          }
        },
        "229b272f56e4466bbb0f95790656bf19": {
          "model_module": "@jupyter-widgets/controls",
          "model_name": "ProgressStyleModel",
          "model_module_version": "1.5.0",
          "state": {
            "_model_module": "@jupyter-widgets/controls",
            "_model_module_version": "1.5.0",
            "_model_name": "ProgressStyleModel",
            "_view_count": null,
            "_view_module": "@jupyter-widgets/base",
            "_view_module_version": "1.2.0",
            "_view_name": "StyleView",
            "bar_color": null,
            "description_width": ""
          }
        },
        "dd66d60ebf1448fc88ec7db633cf0a97": {
          "model_module": "@jupyter-widgets/base",
          "model_name": "LayoutModel",
          "model_module_version": "1.2.0",
          "state": {
            "_model_module": "@jupyter-widgets/base",
            "_model_module_version": "1.2.0",
            "_model_name": "LayoutModel",
            "_view_count": null,
            "_view_module": "@jupyter-widgets/base",
            "_view_module_version": "1.2.0",
            "_view_name": "LayoutView",
            "align_content": null,
            "align_items": null,
            "align_self": null,
            "border": null,
            "bottom": null,
            "display": null,
            "flex": null,
            "flex_flow": null,
            "grid_area": null,
            "grid_auto_columns": null,
            "grid_auto_flow": null,
            "grid_auto_rows": null,
            "grid_column": null,
            "grid_gap": null,
            "grid_row": null,
            "grid_template_areas": null,
            "grid_template_columns": null,
            "grid_template_rows": null,
            "height": null,
            "justify_content": null,
            "justify_items": null,
            "left": null,
            "margin": null,
            "max_height": null,
            "max_width": null,
            "min_height": null,
            "min_width": null,
            "object_fit": null,
            "object_position": null,
            "order": null,
            "overflow": null,
            "overflow_x": null,
            "overflow_y": null,
            "padding": null,
            "right": null,
            "top": null,
            "visibility": null,
            "width": null
          }
        },
        "d2fd00ae47874bf49805fadfc97963a7": {
          "model_module": "@jupyter-widgets/controls",
          "model_name": "DescriptionStyleModel",
          "model_module_version": "1.5.0",
          "state": {
            "_model_module": "@jupyter-widgets/controls",
            "_model_module_version": "1.5.0",
            "_model_name": "DescriptionStyleModel",
            "_view_count": null,
            "_view_module": "@jupyter-widgets/base",
            "_view_module_version": "1.2.0",
            "_view_name": "StyleView",
            "description_width": ""
          }
        },
        "26e11f1f845c4ef08d5de8ce000d8bf4": {
          "model_module": "@jupyter-widgets/controls",
          "model_name": "HBoxModel",
          "model_module_version": "1.5.0",
          "state": {
            "_dom_classes": [],
            "_model_module": "@jupyter-widgets/controls",
            "_model_module_version": "1.5.0",
            "_model_name": "HBoxModel",
            "_view_count": null,
            "_view_module": "@jupyter-widgets/controls",
            "_view_module_version": "1.5.0",
            "_view_name": "HBoxView",
            "box_style": "",
            "children": [
              "IPY_MODEL_817462efbc9b4f28960b9678d170b343",
              "IPY_MODEL_1798ca2e567c4fdebe1daa36ff050d70",
              "IPY_MODEL_55cf035e22b045338ef9511f4003beea"
            ],
            "layout": "IPY_MODEL_52a636ce7aee4a5586659871dbb3c5b7"
          }
        },
        "817462efbc9b4f28960b9678d170b343": {
          "model_module": "@jupyter-widgets/controls",
          "model_name": "HTMLModel",
          "model_module_version": "1.5.0",
          "state": {
            "_dom_classes": [],
            "_model_module": "@jupyter-widgets/controls",
            "_model_module_version": "1.5.0",
            "_model_name": "HTMLModel",
            "_view_count": null,
            "_view_module": "@jupyter-widgets/controls",
            "_view_module_version": "1.5.0",
            "_view_name": "HTMLView",
            "description": "",
            "description_tooltip": null,
            "layout": "IPY_MODEL_0497945e5af3486fbca1e0f863027e04",
            "placeholder": "​",
            "style": "IPY_MODEL_20a00ff4b3114ca68cec141f0386e2e1",
            "value": "data/1utn.pdb: 100%"
          }
        },
        "1798ca2e567c4fdebe1daa36ff050d70": {
          "model_module": "@jupyter-widgets/controls",
          "model_name": "FloatProgressModel",
          "model_module_version": "1.5.0",
          "state": {
            "_dom_classes": [],
            "_model_module": "@jupyter-widgets/controls",
            "_model_module_version": "1.5.0",
            "_model_name": "FloatProgressModel",
            "_view_count": null,
            "_view_module": "@jupyter-widgets/controls",
            "_view_module_version": "1.5.0",
            "_view_name": "ProgressView",
            "bar_style": "success",
            "description": "",
            "description_tooltip": null,
            "layout": "IPY_MODEL_d9f15ef5cb144dc19dcfb3222b40f207",
            "max": 568701,
            "min": 0,
            "orientation": "horizontal",
            "style": "IPY_MODEL_281b648c4e0b4defb9031070a62f672f",
            "value": 568701
          }
        },
        "55cf035e22b045338ef9511f4003beea": {
          "model_module": "@jupyter-widgets/controls",
          "model_name": "HTMLModel",
          "model_module_version": "1.5.0",
          "state": {
            "_dom_classes": [],
            "_model_module": "@jupyter-widgets/controls",
            "_model_module_version": "1.5.0",
            "_model_name": "HTMLModel",
            "_view_count": null,
            "_view_module": "@jupyter-widgets/controls",
            "_view_module_version": "1.5.0",
            "_view_name": "HTMLView",
            "description": "",
            "description_tooltip": null,
            "layout": "IPY_MODEL_a7241e508c074de98cb1e9820d6a1b71",
            "placeholder": "​",
            "style": "IPY_MODEL_779e8d99a0054300b962b084b380d13f",
            "value": " 569k/569k [00:00&lt;00:00, 2.83MB/s]"
          }
        },
        "52a636ce7aee4a5586659871dbb3c5b7": {
          "model_module": "@jupyter-widgets/base",
          "model_name": "LayoutModel",
          "model_module_version": "1.2.0",
          "state": {
            "_model_module": "@jupyter-widgets/base",
            "_model_module_version": "1.2.0",
            "_model_name": "LayoutModel",
            "_view_count": null,
            "_view_module": "@jupyter-widgets/base",
            "_view_module_version": "1.2.0",
            "_view_name": "LayoutView",
            "align_content": null,
            "align_items": null,
            "align_self": null,
            "border": null,
            "bottom": null,
            "display": null,
            "flex": null,
            "flex_flow": null,
            "grid_area": null,
            "grid_auto_columns": null,
            "grid_auto_flow": null,
            "grid_auto_rows": null,
            "grid_column": null,
            "grid_gap": null,
            "grid_row": null,
            "grid_template_areas": null,
            "grid_template_columns": null,
            "grid_template_rows": null,
            "height": null,
            "justify_content": null,
            "justify_items": null,
            "left": null,
            "margin": null,
            "max_height": null,
            "max_width": null,
            "min_height": null,
            "min_width": null,
            "object_fit": null,
            "object_position": null,
            "order": null,
            "overflow": null,
            "overflow_x": null,
            "overflow_y": null,
            "padding": null,
            "right": null,
            "top": null,
            "visibility": null,
            "width": null
          }
        },
        "0497945e5af3486fbca1e0f863027e04": {
          "model_module": "@jupyter-widgets/base",
          "model_name": "LayoutModel",
          "model_module_version": "1.2.0",
          "state": {
            "_model_module": "@jupyter-widgets/base",
            "_model_module_version": "1.2.0",
            "_model_name": "LayoutModel",
            "_view_count": null,
            "_view_module": "@jupyter-widgets/base",
            "_view_module_version": "1.2.0",
            "_view_name": "LayoutView",
            "align_content": null,
            "align_items": null,
            "align_self": null,
            "border": null,
            "bottom": null,
            "display": null,
            "flex": null,
            "flex_flow": null,
            "grid_area": null,
            "grid_auto_columns": null,
            "grid_auto_flow": null,
            "grid_auto_rows": null,
            "grid_column": null,
            "grid_gap": null,
            "grid_row": null,
            "grid_template_areas": null,
            "grid_template_columns": null,
            "grid_template_rows": null,
            "height": null,
            "justify_content": null,
            "justify_items": null,
            "left": null,
            "margin": null,
            "max_height": null,
            "max_width": null,
            "min_height": null,
            "min_width": null,
            "object_fit": null,
            "object_position": null,
            "order": null,
            "overflow": null,
            "overflow_x": null,
            "overflow_y": null,
            "padding": null,
            "right": null,
            "top": null,
            "visibility": null,
            "width": null
          }
        },
        "20a00ff4b3114ca68cec141f0386e2e1": {
          "model_module": "@jupyter-widgets/controls",
          "model_name": "DescriptionStyleModel",
          "model_module_version": "1.5.0",
          "state": {
            "_model_module": "@jupyter-widgets/controls",
            "_model_module_version": "1.5.0",
            "_model_name": "DescriptionStyleModel",
            "_view_count": null,
            "_view_module": "@jupyter-widgets/base",
            "_view_module_version": "1.2.0",
            "_view_name": "StyleView",
            "description_width": ""
          }
        },
        "d9f15ef5cb144dc19dcfb3222b40f207": {
          "model_module": "@jupyter-widgets/base",
          "model_name": "LayoutModel",
          "model_module_version": "1.2.0",
          "state": {
            "_model_module": "@jupyter-widgets/base",
            "_model_module_version": "1.2.0",
            "_model_name": "LayoutModel",
            "_view_count": null,
            "_view_module": "@jupyter-widgets/base",
            "_view_module_version": "1.2.0",
            "_view_name": "LayoutView",
            "align_content": null,
            "align_items": null,
            "align_self": null,
            "border": null,
            "bottom": null,
            "display": null,
            "flex": null,
            "flex_flow": null,
            "grid_area": null,
            "grid_auto_columns": null,
            "grid_auto_flow": null,
            "grid_auto_rows": null,
            "grid_column": null,
            "grid_gap": null,
            "grid_row": null,
            "grid_template_areas": null,
            "grid_template_columns": null,
            "grid_template_rows": null,
            "height": null,
            "justify_content": null,
            "justify_items": null,
            "left": null,
            "margin": null,
            "max_height": null,
            "max_width": null,
            "min_height": null,
            "min_width": null,
            "object_fit": null,
            "object_position": null,
            "order": null,
            "overflow": null,
            "overflow_x": null,
            "overflow_y": null,
            "padding": null,
            "right": null,
            "top": null,
            "visibility": null,
            "width": null
          }
        },
        "281b648c4e0b4defb9031070a62f672f": {
          "model_module": "@jupyter-widgets/controls",
          "model_name": "ProgressStyleModel",
          "model_module_version": "1.5.0",
          "state": {
            "_model_module": "@jupyter-widgets/controls",
            "_model_module_version": "1.5.0",
            "_model_name": "ProgressStyleModel",
            "_view_count": null,
            "_view_module": "@jupyter-widgets/base",
            "_view_module_version": "1.2.0",
            "_view_name": "StyleView",
            "bar_color": null,
            "description_width": ""
          }
        },
        "a7241e508c074de98cb1e9820d6a1b71": {
          "model_module": "@jupyter-widgets/base",
          "model_name": "LayoutModel",
          "model_module_version": "1.2.0",
          "state": {
            "_model_module": "@jupyter-widgets/base",
            "_model_module_version": "1.2.0",
            "_model_name": "LayoutModel",
            "_view_count": null,
            "_view_module": "@jupyter-widgets/base",
            "_view_module_version": "1.2.0",
            "_view_name": "LayoutView",
            "align_content": null,
            "align_items": null,
            "align_self": null,
            "border": null,
            "bottom": null,
            "display": null,
            "flex": null,
            "flex_flow": null,
            "grid_area": null,
            "grid_auto_columns": null,
            "grid_auto_flow": null,
            "grid_auto_rows": null,
            "grid_column": null,
            "grid_gap": null,
            "grid_row": null,
            "grid_template_areas": null,
            "grid_template_columns": null,
            "grid_template_rows": null,
            "height": null,
            "justify_content": null,
            "justify_items": null,
            "left": null,
            "margin": null,
            "max_height": null,
            "max_width": null,
            "min_height": null,
            "min_width": null,
            "object_fit": null,
            "object_position": null,
            "order": null,
            "overflow": null,
            "overflow_x": null,
            "overflow_y": null,
            "padding": null,
            "right": null,
            "top": null,
            "visibility": null,
            "width": null
          }
        },
        "779e8d99a0054300b962b084b380d13f": {
          "model_module": "@jupyter-widgets/controls",
          "model_name": "DescriptionStyleModel",
          "model_module_version": "1.5.0",
          "state": {
            "_model_module": "@jupyter-widgets/controls",
            "_model_module_version": "1.5.0",
            "_model_name": "DescriptionStyleModel",
            "_view_count": null,
            "_view_module": "@jupyter-widgets/base",
            "_view_module_version": "1.2.0",
            "_view_name": "StyleView",
            "description_width": ""
          }
        },
        "0a47bf055a5b4cf88a23e69ba1706361": {
          "model_module": "@jupyter-widgets/controls",
          "model_name": "HBoxModel",
          "model_module_version": "1.5.0",
          "state": {
            "_dom_classes": [],
            "_model_module": "@jupyter-widgets/controls",
            "_model_module_version": "1.5.0",
            "_model_name": "HBoxModel",
            "_view_count": null,
            "_view_module": "@jupyter-widgets/controls",
            "_view_module_version": "1.5.0",
            "_view_name": "HBoxView",
            "box_style": "",
            "children": [
              "IPY_MODEL_cc0dd9558a9145cd8a3dea724773495e",
              "IPY_MODEL_2b82ecfe74bf4b75a610b2422886b2cf",
              "IPY_MODEL_4b830a3474074988801429131c8b11be"
            ],
            "layout": "IPY_MODEL_b0b6c18f985b410fb4107ded3fd16807"
          }
        },
        "cc0dd9558a9145cd8a3dea724773495e": {
          "model_module": "@jupyter-widgets/controls",
          "model_name": "HTMLModel",
          "model_module_version": "1.5.0",
          "state": {
            "_dom_classes": [],
            "_model_module": "@jupyter-widgets/controls",
            "_model_module_version": "1.5.0",
            "_model_name": "HTMLModel",
            "_view_count": null,
            "_view_module": "@jupyter-widgets/controls",
            "_view_module_version": "1.5.0",
            "_view_name": "HTMLView",
            "description": "",
            "description_tooltip": null,
            "layout": "IPY_MODEL_3037ad6ff8bd4bc69877eafb4049bd9f",
            "placeholder": "​",
            "style": "IPY_MODEL_5486fa54ec0a41229589303dbbc39984",
            "value": "config.json: 100%"
          }
        },
        "2b82ecfe74bf4b75a610b2422886b2cf": {
          "model_module": "@jupyter-widgets/controls",
          "model_name": "FloatProgressModel",
          "model_module_version": "1.5.0",
          "state": {
            "_dom_classes": [],
            "_model_module": "@jupyter-widgets/controls",
            "_model_module_version": "1.5.0",
            "_model_name": "FloatProgressModel",
            "_view_count": null,
            "_view_module": "@jupyter-widgets/controls",
            "_view_module_version": "1.5.0",
            "_view_name": "ProgressView",
            "bar_style": "success",
            "description": "",
            "description_tooltip": null,
            "layout": "IPY_MODEL_966235794c354daab2284b6062ed6c25",
            "max": 3,
            "min": 0,
            "orientation": "horizontal",
            "style": "IPY_MODEL_5634d56f041548b58e03ef36d0f7be93",
            "value": 3
          }
        },
        "4b830a3474074988801429131c8b11be": {
          "model_module": "@jupyter-widgets/controls",
          "model_name": "HTMLModel",
          "model_module_version": "1.5.0",
          "state": {
            "_dom_classes": [],
            "_model_module": "@jupyter-widgets/controls",
            "_model_module_version": "1.5.0",
            "_model_name": "HTMLModel",
            "_view_count": null,
            "_view_module": "@jupyter-widgets/controls",
            "_view_module_version": "1.5.0",
            "_view_name": "HTMLView",
            "description": "",
            "description_tooltip": null,
            "layout": "IPY_MODEL_0cf66d181709433cba752bc064617196",
            "placeholder": "​",
            "style": "IPY_MODEL_76510881f905441fa73416bf6d65d7e7",
            "value": " 3.00/3.00 [00:00&lt;00:00, 52.7B/s]"
          }
        },
        "b0b6c18f985b410fb4107ded3fd16807": {
          "model_module": "@jupyter-widgets/base",
          "model_name": "LayoutModel",
          "model_module_version": "1.2.0",
          "state": {
            "_model_module": "@jupyter-widgets/base",
            "_model_module_version": "1.2.0",
            "_model_name": "LayoutModel",
            "_view_count": null,
            "_view_module": "@jupyter-widgets/base",
            "_view_module_version": "1.2.0",
            "_view_name": "LayoutView",
            "align_content": null,
            "align_items": null,
            "align_self": null,
            "border": null,
            "bottom": null,
            "display": null,
            "flex": null,
            "flex_flow": null,
            "grid_area": null,
            "grid_auto_columns": null,
            "grid_auto_flow": null,
            "grid_auto_rows": null,
            "grid_column": null,
            "grid_gap": null,
            "grid_row": null,
            "grid_template_areas": null,
            "grid_template_columns": null,
            "grid_template_rows": null,
            "height": null,
            "justify_content": null,
            "justify_items": null,
            "left": null,
            "margin": null,
            "max_height": null,
            "max_width": null,
            "min_height": null,
            "min_width": null,
            "object_fit": null,
            "object_position": null,
            "order": null,
            "overflow": null,
            "overflow_x": null,
            "overflow_y": null,
            "padding": null,
            "right": null,
            "top": null,
            "visibility": null,
            "width": null
          }
        },
        "3037ad6ff8bd4bc69877eafb4049bd9f": {
          "model_module": "@jupyter-widgets/base",
          "model_name": "LayoutModel",
          "model_module_version": "1.2.0",
          "state": {
            "_model_module": "@jupyter-widgets/base",
            "_model_module_version": "1.2.0",
            "_model_name": "LayoutModel",
            "_view_count": null,
            "_view_module": "@jupyter-widgets/base",
            "_view_module_version": "1.2.0",
            "_view_name": "LayoutView",
            "align_content": null,
            "align_items": null,
            "align_self": null,
            "border": null,
            "bottom": null,
            "display": null,
            "flex": null,
            "flex_flow": null,
            "grid_area": null,
            "grid_auto_columns": null,
            "grid_auto_flow": null,
            "grid_auto_rows": null,
            "grid_column": null,
            "grid_gap": null,
            "grid_row": null,
            "grid_template_areas": null,
            "grid_template_columns": null,
            "grid_template_rows": null,
            "height": null,
            "justify_content": null,
            "justify_items": null,
            "left": null,
            "margin": null,
            "max_height": null,
            "max_width": null,
            "min_height": null,
            "min_width": null,
            "object_fit": null,
            "object_position": null,
            "order": null,
            "overflow": null,
            "overflow_x": null,
            "overflow_y": null,
            "padding": null,
            "right": null,
            "top": null,
            "visibility": null,
            "width": null
          }
        },
        "5486fa54ec0a41229589303dbbc39984": {
          "model_module": "@jupyter-widgets/controls",
          "model_name": "DescriptionStyleModel",
          "model_module_version": "1.5.0",
          "state": {
            "_model_module": "@jupyter-widgets/controls",
            "_model_module_version": "1.5.0",
            "_model_name": "DescriptionStyleModel",
            "_view_count": null,
            "_view_module": "@jupyter-widgets/base",
            "_view_module_version": "1.2.0",
            "_view_name": "StyleView",
            "description_width": ""
          }
        },
        "966235794c354daab2284b6062ed6c25": {
          "model_module": "@jupyter-widgets/base",
          "model_name": "LayoutModel",
          "model_module_version": "1.2.0",
          "state": {
            "_model_module": "@jupyter-widgets/base",
            "_model_module_version": "1.2.0",
            "_model_name": "LayoutModel",
            "_view_count": null,
            "_view_module": "@jupyter-widgets/base",
            "_view_module_version": "1.2.0",
            "_view_name": "LayoutView",
            "align_content": null,
            "align_items": null,
            "align_self": null,
            "border": null,
            "bottom": null,
            "display": null,
            "flex": null,
            "flex_flow": null,
            "grid_area": null,
            "grid_auto_columns": null,
            "grid_auto_flow": null,
            "grid_auto_rows": null,
            "grid_column": null,
            "grid_gap": null,
            "grid_row": null,
            "grid_template_areas": null,
            "grid_template_columns": null,
            "grid_template_rows": null,
            "height": null,
            "justify_content": null,
            "justify_items": null,
            "left": null,
            "margin": null,
            "max_height": null,
            "max_width": null,
            "min_height": null,
            "min_width": null,
            "object_fit": null,
            "object_position": null,
            "order": null,
            "overflow": null,
            "overflow_x": null,
            "overflow_y": null,
            "padding": null,
            "right": null,
            "top": null,
            "visibility": null,
            "width": null
          }
        },
        "5634d56f041548b58e03ef36d0f7be93": {
          "model_module": "@jupyter-widgets/controls",
          "model_name": "ProgressStyleModel",
          "model_module_version": "1.5.0",
          "state": {
            "_model_module": "@jupyter-widgets/controls",
            "_model_module_version": "1.5.0",
            "_model_name": "ProgressStyleModel",
            "_view_count": null,
            "_view_module": "@jupyter-widgets/base",
            "_view_module_version": "1.2.0",
            "_view_name": "StyleView",
            "bar_color": null,
            "description_width": ""
          }
        },
        "0cf66d181709433cba752bc064617196": {
          "model_module": "@jupyter-widgets/base",
          "model_name": "LayoutModel",
          "model_module_version": "1.2.0",
          "state": {
            "_model_module": "@jupyter-widgets/base",
            "_model_module_version": "1.2.0",
            "_model_name": "LayoutModel",
            "_view_count": null,
            "_view_module": "@jupyter-widgets/base",
            "_view_module_version": "1.2.0",
            "_view_name": "LayoutView",
            "align_content": null,
            "align_items": null,
            "align_self": null,
            "border": null,
            "bottom": null,
            "display": null,
            "flex": null,
            "flex_flow": null,
            "grid_area": null,
            "grid_auto_columns": null,
            "grid_auto_flow": null,
            "grid_auto_rows": null,
            "grid_column": null,
            "grid_gap": null,
            "grid_row": null,
            "grid_template_areas": null,
            "grid_template_columns": null,
            "grid_template_rows": null,
            "height": null,
            "justify_content": null,
            "justify_items": null,
            "left": null,
            "margin": null,
            "max_height": null,
            "max_width": null,
            "min_height": null,
            "min_width": null,
            "object_fit": null,
            "object_position": null,
            "order": null,
            "overflow": null,
            "overflow_x": null,
            "overflow_y": null,
            "padding": null,
            "right": null,
            "top": null,
            "visibility": null,
            "width": null
          }
        },
        "76510881f905441fa73416bf6d65d7e7": {
          "model_module": "@jupyter-widgets/controls",
          "model_name": "DescriptionStyleModel",
          "model_module_version": "1.5.0",
          "state": {
            "_model_module": "@jupyter-widgets/controls",
            "_model_module_version": "1.5.0",
            "_model_name": "DescriptionStyleModel",
            "_view_count": null,
            "_view_module": "@jupyter-widgets/base",
            "_view_module_version": "1.2.0",
            "_view_name": "StyleView",
            "description_width": ""
          }
        },
        "b97efae8efa345c48cd84f942cab34f7": {
          "model_module": "@jupyter-widgets/controls",
          "model_name": "HBoxModel",
          "model_module_version": "1.5.0",
          "state": {
            "_dom_classes": [],
            "_model_module": "@jupyter-widgets/controls",
            "_model_module_version": "1.5.0",
            "_model_name": "HBoxModel",
            "_view_count": null,
            "_view_module": "@jupyter-widgets/controls",
            "_view_module_version": "1.5.0",
            "_view_name": "HBoxView",
            "box_style": "",
            "children": [
              "IPY_MODEL_c025ec08a9324839894e6c719a79ed8c",
              "IPY_MODEL_15a2e8a39e6a4c24b025c5d2a8a3b34e",
              "IPY_MODEL_7b56cad2d499475693138f52a85e36a0"
            ],
            "layout": "IPY_MODEL_a7991fa54abc409e8b756b8a99a7b035"
          }
        },
        "c025ec08a9324839894e6c719a79ed8c": {
          "model_module": "@jupyter-widgets/controls",
          "model_name": "HTMLModel",
          "model_module_version": "1.5.0",
          "state": {
            "_dom_classes": [],
            "_model_module": "@jupyter-widgets/controls",
            "_model_module_version": "1.5.0",
            "_model_name": "HTMLModel",
            "_view_count": null,
            "_view_module": "@jupyter-widgets/controls",
            "_view_module_version": "1.5.0",
            "_view_name": "HTMLView",
            "description": "",
            "description_tooltip": null,
            "layout": "IPY_MODEL_c43fa927483b407cae2d030bb1c896a8",
            "placeholder": "​",
            "style": "IPY_MODEL_5d3d9ee333324ac1af06321ce8c08811",
            "value": ".gitattributes: 100%"
          }
        },
        "15a2e8a39e6a4c24b025c5d2a8a3b34e": {
          "model_module": "@jupyter-widgets/controls",
          "model_name": "FloatProgressModel",
          "model_module_version": "1.5.0",
          "state": {
            "_dom_classes": [],
            "_model_module": "@jupyter-widgets/controls",
            "_model_module_version": "1.5.0",
            "_model_name": "FloatProgressModel",
            "_view_count": null,
            "_view_module": "@jupyter-widgets/controls",
            "_view_module_version": "1.5.0",
            "_view_name": "ProgressView",
            "bar_style": "success",
            "description": "",
            "description_tooltip": null,
            "layout": "IPY_MODEL_d6ef40cf91614709a925f0f56f9fd1c4",
            "max": 1519,
            "min": 0,
            "orientation": "horizontal",
            "style": "IPY_MODEL_396621b92b234d2d86676227ef9c77f9",
            "value": 1519
          }
        },
        "7b56cad2d499475693138f52a85e36a0": {
          "model_module": "@jupyter-widgets/controls",
          "model_name": "HTMLModel",
          "model_module_version": "1.5.0",
          "state": {
            "_dom_classes": [],
            "_model_module": "@jupyter-widgets/controls",
            "_model_module_version": "1.5.0",
            "_model_name": "HTMLModel",
            "_view_count": null,
            "_view_module": "@jupyter-widgets/controls",
            "_view_module_version": "1.5.0",
            "_view_name": "HTMLView",
            "description": "",
            "description_tooltip": null,
            "layout": "IPY_MODEL_f923697f720c48deb992113f1d1bacc3",
            "placeholder": "​",
            "style": "IPY_MODEL_7dbf9113b779488b9a45b60b2a579450",
            "value": " 1.52k/1.52k [00:00&lt;00:00, 21.8kB/s]"
          }
        },
        "a7991fa54abc409e8b756b8a99a7b035": {
          "model_module": "@jupyter-widgets/base",
          "model_name": "LayoutModel",
          "model_module_version": "1.2.0",
          "state": {
            "_model_module": "@jupyter-widgets/base",
            "_model_module_version": "1.2.0",
            "_model_name": "LayoutModel",
            "_view_count": null,
            "_view_module": "@jupyter-widgets/base",
            "_view_module_version": "1.2.0",
            "_view_name": "LayoutView",
            "align_content": null,
            "align_items": null,
            "align_self": null,
            "border": null,
            "bottom": null,
            "display": null,
            "flex": null,
            "flex_flow": null,
            "grid_area": null,
            "grid_auto_columns": null,
            "grid_auto_flow": null,
            "grid_auto_rows": null,
            "grid_column": null,
            "grid_gap": null,
            "grid_row": null,
            "grid_template_areas": null,
            "grid_template_columns": null,
            "grid_template_rows": null,
            "height": null,
            "justify_content": null,
            "justify_items": null,
            "left": null,
            "margin": null,
            "max_height": null,
            "max_width": null,
            "min_height": null,
            "min_width": null,
            "object_fit": null,
            "object_position": null,
            "order": null,
            "overflow": null,
            "overflow_x": null,
            "overflow_y": null,
            "padding": null,
            "right": null,
            "top": null,
            "visibility": null,
            "width": null
          }
        },
        "c43fa927483b407cae2d030bb1c896a8": {
          "model_module": "@jupyter-widgets/base",
          "model_name": "LayoutModel",
          "model_module_version": "1.2.0",
          "state": {
            "_model_module": "@jupyter-widgets/base",
            "_model_module_version": "1.2.0",
            "_model_name": "LayoutModel",
            "_view_count": null,
            "_view_module": "@jupyter-widgets/base",
            "_view_module_version": "1.2.0",
            "_view_name": "LayoutView",
            "align_content": null,
            "align_items": null,
            "align_self": null,
            "border": null,
            "bottom": null,
            "display": null,
            "flex": null,
            "flex_flow": null,
            "grid_area": null,
            "grid_auto_columns": null,
            "grid_auto_flow": null,
            "grid_auto_rows": null,
            "grid_column": null,
            "grid_gap": null,
            "grid_row": null,
            "grid_template_areas": null,
            "grid_template_columns": null,
            "grid_template_rows": null,
            "height": null,
            "justify_content": null,
            "justify_items": null,
            "left": null,
            "margin": null,
            "max_height": null,
            "max_width": null,
            "min_height": null,
            "min_width": null,
            "object_fit": null,
            "object_position": null,
            "order": null,
            "overflow": null,
            "overflow_x": null,
            "overflow_y": null,
            "padding": null,
            "right": null,
            "top": null,
            "visibility": null,
            "width": null
          }
        },
        "5d3d9ee333324ac1af06321ce8c08811": {
          "model_module": "@jupyter-widgets/controls",
          "model_name": "DescriptionStyleModel",
          "model_module_version": "1.5.0",
          "state": {
            "_model_module": "@jupyter-widgets/controls",
            "_model_module_version": "1.5.0",
            "_model_name": "DescriptionStyleModel",
            "_view_count": null,
            "_view_module": "@jupyter-widgets/base",
            "_view_module_version": "1.2.0",
            "_view_name": "StyleView",
            "description_width": ""
          }
        },
        "d6ef40cf91614709a925f0f56f9fd1c4": {
          "model_module": "@jupyter-widgets/base",
          "model_name": "LayoutModel",
          "model_module_version": "1.2.0",
          "state": {
            "_model_module": "@jupyter-widgets/base",
            "_model_module_version": "1.2.0",
            "_model_name": "LayoutModel",
            "_view_count": null,
            "_view_module": "@jupyter-widgets/base",
            "_view_module_version": "1.2.0",
            "_view_name": "LayoutView",
            "align_content": null,
            "align_items": null,
            "align_self": null,
            "border": null,
            "bottom": null,
            "display": null,
            "flex": null,
            "flex_flow": null,
            "grid_area": null,
            "grid_auto_columns": null,
            "grid_auto_flow": null,
            "grid_auto_rows": null,
            "grid_column": null,
            "grid_gap": null,
            "grid_row": null,
            "grid_template_areas": null,
            "grid_template_columns": null,
            "grid_template_rows": null,
            "height": null,
            "justify_content": null,
            "justify_items": null,
            "left": null,
            "margin": null,
            "max_height": null,
            "max_width": null,
            "min_height": null,
            "min_width": null,
            "object_fit": null,
            "object_position": null,
            "order": null,
            "overflow": null,
            "overflow_x": null,
            "overflow_y": null,
            "padding": null,
            "right": null,
            "top": null,
            "visibility": null,
            "width": null
          }
        },
        "396621b92b234d2d86676227ef9c77f9": {
          "model_module": "@jupyter-widgets/controls",
          "model_name": "ProgressStyleModel",
          "model_module_version": "1.5.0",
          "state": {
            "_model_module": "@jupyter-widgets/controls",
            "_model_module_version": "1.5.0",
            "_model_name": "ProgressStyleModel",
            "_view_count": null,
            "_view_module": "@jupyter-widgets/base",
            "_view_module_version": "1.2.0",
            "_view_name": "StyleView",
            "bar_color": null,
            "description_width": ""
          }
        },
        "f923697f720c48deb992113f1d1bacc3": {
          "model_module": "@jupyter-widgets/base",
          "model_name": "LayoutModel",
          "model_module_version": "1.2.0",
          "state": {
            "_model_module": "@jupyter-widgets/base",
            "_model_module_version": "1.2.0",
            "_model_name": "LayoutModel",
            "_view_count": null,
            "_view_module": "@jupyter-widgets/base",
            "_view_module_version": "1.2.0",
            "_view_name": "LayoutView",
            "align_content": null,
            "align_items": null,
            "align_self": null,
            "border": null,
            "bottom": null,
            "display": null,
            "flex": null,
            "flex_flow": null,
            "grid_area": null,
            "grid_auto_columns": null,
            "grid_auto_flow": null,
            "grid_auto_rows": null,
            "grid_column": null,
            "grid_gap": null,
            "grid_row": null,
            "grid_template_areas": null,
            "grid_template_columns": null,
            "grid_template_rows": null,
            "height": null,
            "justify_content": null,
            "justify_items": null,
            "left": null,
            "margin": null,
            "max_height": null,
            "max_width": null,
            "min_height": null,
            "min_width": null,
            "object_fit": null,
            "object_position": null,
            "order": null,
            "overflow": null,
            "overflow_x": null,
            "overflow_y": null,
            "padding": null,
            "right": null,
            "top": null,
            "visibility": null,
            "width": null
          }
        },
        "7dbf9113b779488b9a45b60b2a579450": {
          "model_module": "@jupyter-widgets/controls",
          "model_name": "DescriptionStyleModel",
          "model_module_version": "1.5.0",
          "state": {
            "_model_module": "@jupyter-widgets/controls",
            "_model_module_version": "1.5.0",
            "_model_name": "DescriptionStyleModel",
            "_view_count": null,
            "_view_module": "@jupyter-widgets/base",
            "_view_module_version": "1.2.0",
            "_view_name": "StyleView",
            "description_width": ""
          }
        },
        "1fa15096b466402292fe06b543b7ffd8": {
          "model_module": "@jupyter-widgets/controls",
          "model_name": "HBoxModel",
          "model_module_version": "1.5.0",
          "state": {
            "_dom_classes": [],
            "_model_module": "@jupyter-widgets/controls",
            "_model_module_version": "1.5.0",
            "_model_name": "HBoxModel",
            "_view_count": null,
            "_view_module": "@jupyter-widgets/controls",
            "_view_module_version": "1.5.0",
            "_view_name": "HBoxView",
            "box_style": "",
            "children": [
              "IPY_MODEL_b00a1c419e104d8387ab615149c3a57b",
              "IPY_MODEL_c42c19a05778427a857d7477afbc8b4b",
              "IPY_MODEL_82ee6eecc0c74cf4ad2711c5d2179387"
            ],
            "layout": "IPY_MODEL_a01ac68e8004493a9952214da9c643b4"
          }
        },
        "b00a1c419e104d8387ab615149c3a57b": {
          "model_module": "@jupyter-widgets/controls",
          "model_name": "HTMLModel",
          "model_module_version": "1.5.0",
          "state": {
            "_dom_classes": [],
            "_model_module": "@jupyter-widgets/controls",
            "_model_module_version": "1.5.0",
            "_model_name": "HTMLModel",
            "_view_count": null,
            "_view_module": "@jupyter-widgets/controls",
            "_view_module_version": "1.5.0",
            "_view_name": "HTMLView",
            "description": "",
            "description_tooltip": null,
            "layout": "IPY_MODEL_9714e0671ac64ddbaebeb93bf97c244d",
            "placeholder": "​",
            "style": "IPY_MODEL_7b9cb8fdc86e40b088180947ee864df2",
            "value": "hyperplanes_8bit_58641.npz: 100%"
          }
        },
        "c42c19a05778427a857d7477afbc8b4b": {
          "model_module": "@jupyter-widgets/controls",
          "model_name": "FloatProgressModel",
          "model_module_version": "1.5.0",
          "state": {
            "_dom_classes": [],
            "_model_module": "@jupyter-widgets/controls",
            "_model_module_version": "1.5.0",
            "_model_name": "FloatProgressModel",
            "_view_count": null,
            "_view_module": "@jupyter-widgets/controls",
            "_view_module_version": "1.5.0",
            "_view_name": "ProgressView",
            "bar_style": "success",
            "description": "",
            "description_tooltip": null,
            "layout": "IPY_MODEL_02af3c58553343dab1ab8ee5355e0837",
            "max": 30026086,
            "min": 0,
            "orientation": "horizontal",
            "style": "IPY_MODEL_1d55f1ce1cb94d62ba6f60b02898753a",
            "value": 30026086
          }
        },
        "82ee6eecc0c74cf4ad2711c5d2179387": {
          "model_module": "@jupyter-widgets/controls",
          "model_name": "HTMLModel",
          "model_module_version": "1.5.0",
          "state": {
            "_dom_classes": [],
            "_model_module": "@jupyter-widgets/controls",
            "_model_module_version": "1.5.0",
            "_model_name": "HTMLModel",
            "_view_count": null,
            "_view_module": "@jupyter-widgets/controls",
            "_view_module_version": "1.5.0",
            "_view_name": "HTMLView",
            "description": "",
            "description_tooltip": null,
            "layout": "IPY_MODEL_95802546fe10478f9a6c0822364f073b",
            "placeholder": "​",
            "style": "IPY_MODEL_b6094ad60e14447fa462bc5230bb4a33",
            "value": " 30.0M/30.0M [00:00&lt;00:00, 38.4MB/s]"
          }
        },
        "a01ac68e8004493a9952214da9c643b4": {
          "model_module": "@jupyter-widgets/base",
          "model_name": "LayoutModel",
          "model_module_version": "1.2.0",
          "state": {
            "_model_module": "@jupyter-widgets/base",
            "_model_module_version": "1.2.0",
            "_model_name": "LayoutModel",
            "_view_count": null,
            "_view_module": "@jupyter-widgets/base",
            "_view_module_version": "1.2.0",
            "_view_name": "LayoutView",
            "align_content": null,
            "align_items": null,
            "align_self": null,
            "border": null,
            "bottom": null,
            "display": null,
            "flex": null,
            "flex_flow": null,
            "grid_area": null,
            "grid_auto_columns": null,
            "grid_auto_flow": null,
            "grid_auto_rows": null,
            "grid_column": null,
            "grid_gap": null,
            "grid_row": null,
            "grid_template_areas": null,
            "grid_template_columns": null,
            "grid_template_rows": null,
            "height": null,
            "justify_content": null,
            "justify_items": null,
            "left": null,
            "margin": null,
            "max_height": null,
            "max_width": null,
            "min_height": null,
            "min_width": null,
            "object_fit": null,
            "object_position": null,
            "order": null,
            "overflow": null,
            "overflow_x": null,
            "overflow_y": null,
            "padding": null,
            "right": null,
            "top": null,
            "visibility": null,
            "width": null
          }
        },
        "9714e0671ac64ddbaebeb93bf97c244d": {
          "model_module": "@jupyter-widgets/base",
          "model_name": "LayoutModel",
          "model_module_version": "1.2.0",
          "state": {
            "_model_module": "@jupyter-widgets/base",
            "_model_module_version": "1.2.0",
            "_model_name": "LayoutModel",
            "_view_count": null,
            "_view_module": "@jupyter-widgets/base",
            "_view_module_version": "1.2.0",
            "_view_name": "LayoutView",
            "align_content": null,
            "align_items": null,
            "align_self": null,
            "border": null,
            "bottom": null,
            "display": null,
            "flex": null,
            "flex_flow": null,
            "grid_area": null,
            "grid_auto_columns": null,
            "grid_auto_flow": null,
            "grid_auto_rows": null,
            "grid_column": null,
            "grid_gap": null,
            "grid_row": null,
            "grid_template_areas": null,
            "grid_template_columns": null,
            "grid_template_rows": null,
            "height": null,
            "justify_content": null,
            "justify_items": null,
            "left": null,
            "margin": null,
            "max_height": null,
            "max_width": null,
            "min_height": null,
            "min_width": null,
            "object_fit": null,
            "object_position": null,
            "order": null,
            "overflow": null,
            "overflow_x": null,
            "overflow_y": null,
            "padding": null,
            "right": null,
            "top": null,
            "visibility": null,
            "width": null
          }
        },
        "7b9cb8fdc86e40b088180947ee864df2": {
          "model_module": "@jupyter-widgets/controls",
          "model_name": "DescriptionStyleModel",
          "model_module_version": "1.5.0",
          "state": {
            "_model_module": "@jupyter-widgets/controls",
            "_model_module_version": "1.5.0",
            "_model_name": "DescriptionStyleModel",
            "_view_count": null,
            "_view_module": "@jupyter-widgets/base",
            "_view_module_version": "1.2.0",
            "_view_name": "StyleView",
            "description_width": ""
          }
        },
        "02af3c58553343dab1ab8ee5355e0837": {
          "model_module": "@jupyter-widgets/base",
          "model_name": "LayoutModel",
          "model_module_version": "1.2.0",
          "state": {
            "_model_module": "@jupyter-widgets/base",
            "_model_module_version": "1.2.0",
            "_model_name": "LayoutModel",
            "_view_count": null,
            "_view_module": "@jupyter-widgets/base",
            "_view_module_version": "1.2.0",
            "_view_name": "LayoutView",
            "align_content": null,
            "align_items": null,
            "align_self": null,
            "border": null,
            "bottom": null,
            "display": null,
            "flex": null,
            "flex_flow": null,
            "grid_area": null,
            "grid_auto_columns": null,
            "grid_auto_flow": null,
            "grid_auto_rows": null,
            "grid_column": null,
            "grid_gap": null,
            "grid_row": null,
            "grid_template_areas": null,
            "grid_template_columns": null,
            "grid_template_rows": null,
            "height": null,
            "justify_content": null,
            "justify_items": null,
            "left": null,
            "margin": null,
            "max_height": null,
            "max_width": null,
            "min_height": null,
            "min_width": null,
            "object_fit": null,
            "object_position": null,
            "order": null,
            "overflow": null,
            "overflow_x": null,
            "overflow_y": null,
            "padding": null,
            "right": null,
            "top": null,
            "visibility": null,
            "width": null
          }
        },
        "1d55f1ce1cb94d62ba6f60b02898753a": {
          "model_module": "@jupyter-widgets/controls",
          "model_name": "ProgressStyleModel",
          "model_module_version": "1.5.0",
          "state": {
            "_model_module": "@jupyter-widgets/controls",
            "_model_module_version": "1.5.0",
            "_model_name": "ProgressStyleModel",
            "_view_count": null,
            "_view_module": "@jupyter-widgets/base",
            "_view_module_version": "1.2.0",
            "_view_name": "StyleView",
            "bar_color": null,
            "description_width": ""
          }
        },
        "95802546fe10478f9a6c0822364f073b": {
          "model_module": "@jupyter-widgets/base",
          "model_name": "LayoutModel",
          "model_module_version": "1.2.0",
          "state": {
            "_model_module": "@jupyter-widgets/base",
            "_model_module_version": "1.2.0",
            "_model_name": "LayoutModel",
            "_view_count": null,
            "_view_module": "@jupyter-widgets/base",
            "_view_module_version": "1.2.0",
            "_view_name": "LayoutView",
            "align_content": null,
            "align_items": null,
            "align_self": null,
            "border": null,
            "bottom": null,
            "display": null,
            "flex": null,
            "flex_flow": null,
            "grid_area": null,
            "grid_auto_columns": null,
            "grid_auto_flow": null,
            "grid_auto_rows": null,
            "grid_column": null,
            "grid_gap": null,
            "grid_row": null,
            "grid_template_areas": null,
            "grid_template_columns": null,
            "grid_template_rows": null,
            "height": null,
            "justify_content": null,
            "justify_items": null,
            "left": null,
            "margin": null,
            "max_height": null,
            "max_width": null,
            "min_height": null,
            "min_width": null,
            "object_fit": null,
            "object_position": null,
            "order": null,
            "overflow": null,
            "overflow_x": null,
            "overflow_y": null,
            "padding": null,
            "right": null,
            "top": null,
            "visibility": null,
            "width": null
          }
        },
        "b6094ad60e14447fa462bc5230bb4a33": {
          "model_module": "@jupyter-widgets/controls",
          "model_name": "DescriptionStyleModel",
          "model_module_version": "1.5.0",
          "state": {
            "_model_module": "@jupyter-widgets/controls",
            "_model_module_version": "1.5.0",
            "_model_name": "DescriptionStyleModel",
            "_view_count": null,
            "_view_module": "@jupyter-widgets/base",
            "_view_module_version": "1.2.0",
            "_view_name": "StyleView",
            "description_width": ""
          }
        },
        "317341faef6e4c6a97df7125b2e4032b": {
          "model_module": "@jupyter-widgets/controls",
          "model_name": "HBoxModel",
          "model_module_version": "1.5.0",
          "state": {
            "_dom_classes": [],
            "_model_module": "@jupyter-widgets/controls",
            "_model_module_version": "1.5.0",
            "_model_name": "HBoxModel",
            "_view_count": null,
            "_view_module": "@jupyter-widgets/controls",
            "_view_module_version": "1.5.0",
            "_view_name": "HBoxView",
            "box_style": "",
            "children": [
              "IPY_MODEL_9bd91379cb5f4b2f95edce8e6e8da0f6",
              "IPY_MODEL_7bed911a3d7746ccbc18ce16c24e56b3",
              "IPY_MODEL_16d3bc6c0205460aa4a8ae514c1331b6"
            ],
            "layout": "IPY_MODEL_c74beec1521e4a21968e458f13b08d57"
          }
        },
        "9bd91379cb5f4b2f95edce8e6e8da0f6": {
          "model_module": "@jupyter-widgets/controls",
          "model_name": "HTMLModel",
          "model_module_version": "1.5.0",
          "state": {
            "_dom_classes": [],
            "_model_module": "@jupyter-widgets/controls",
            "_model_module_version": "1.5.0",
            "_model_name": "HTMLModel",
            "_view_count": null,
            "_view_module": "@jupyter-widgets/controls",
            "_view_module_version": "1.5.0",
            "_view_name": "HTMLView",
            "description": "",
            "description_tooltip": null,
            "layout": "IPY_MODEL_2ce8ad5c70c6452f84630884b918b11f",
            "placeholder": "​",
            "style": "IPY_MODEL_f25a06b53b45471c98dcefba752a994b",
            "value": "data/entry_list_safety_29026.list: 100%"
          }
        },
        "7bed911a3d7746ccbc18ce16c24e56b3": {
          "model_module": "@jupyter-widgets/controls",
          "model_name": "FloatProgressModel",
          "model_module_version": "1.5.0",
          "state": {
            "_dom_classes": [],
            "_model_module": "@jupyter-widgets/controls",
            "_model_module_version": "1.5.0",
            "_model_name": "FloatProgressModel",
            "_view_count": null,
            "_view_module": "@jupyter-widgets/controls",
            "_view_module_version": "1.5.0",
            "_view_name": "ProgressView",
            "bar_style": "success",
            "description": "",
            "description_tooltip": null,
            "layout": "IPY_MODEL_0a3efad985ba450595ceeeec322bf1a4",
            "max": 1595245,
            "min": 0,
            "orientation": "horizontal",
            "style": "IPY_MODEL_64b8b8b5c68f46be9d7d1cc8cee79b2e",
            "value": 1595245
          }
        },
        "16d3bc6c0205460aa4a8ae514c1331b6": {
          "model_module": "@jupyter-widgets/controls",
          "model_name": "HTMLModel",
          "model_module_version": "1.5.0",
          "state": {
            "_dom_classes": [],
            "_model_module": "@jupyter-widgets/controls",
            "_model_module_version": "1.5.0",
            "_model_name": "HTMLModel",
            "_view_count": null,
            "_view_module": "@jupyter-widgets/controls",
            "_view_module_version": "1.5.0",
            "_view_name": "HTMLView",
            "description": "",
            "description_tooltip": null,
            "layout": "IPY_MODEL_75461d90771f418888c87a3bd155c337",
            "placeholder": "​",
            "style": "IPY_MODEL_374ea8220f3647ff93748a5f6df38e89",
            "value": " 1.60M/1.60M [00:00&lt;00:00, 6.74MB/s]"
          }
        },
        "c74beec1521e4a21968e458f13b08d57": {
          "model_module": "@jupyter-widgets/base",
          "model_name": "LayoutModel",
          "model_module_version": "1.2.0",
          "state": {
            "_model_module": "@jupyter-widgets/base",
            "_model_module_version": "1.2.0",
            "_model_name": "LayoutModel",
            "_view_count": null,
            "_view_module": "@jupyter-widgets/base",
            "_view_module_version": "1.2.0",
            "_view_name": "LayoutView",
            "align_content": null,
            "align_items": null,
            "align_self": null,
            "border": null,
            "bottom": null,
            "display": null,
            "flex": null,
            "flex_flow": null,
            "grid_area": null,
            "grid_auto_columns": null,
            "grid_auto_flow": null,
            "grid_auto_rows": null,
            "grid_column": null,
            "grid_gap": null,
            "grid_row": null,
            "grid_template_areas": null,
            "grid_template_columns": null,
            "grid_template_rows": null,
            "height": null,
            "justify_content": null,
            "justify_items": null,
            "left": null,
            "margin": null,
            "max_height": null,
            "max_width": null,
            "min_height": null,
            "min_width": null,
            "object_fit": null,
            "object_position": null,
            "order": null,
            "overflow": null,
            "overflow_x": null,
            "overflow_y": null,
            "padding": null,
            "right": null,
            "top": null,
            "visibility": null,
            "width": null
          }
        },
        "2ce8ad5c70c6452f84630884b918b11f": {
          "model_module": "@jupyter-widgets/base",
          "model_name": "LayoutModel",
          "model_module_version": "1.2.0",
          "state": {
            "_model_module": "@jupyter-widgets/base",
            "_model_module_version": "1.2.0",
            "_model_name": "LayoutModel",
            "_view_count": null,
            "_view_module": "@jupyter-widgets/base",
            "_view_module_version": "1.2.0",
            "_view_name": "LayoutView",
            "align_content": null,
            "align_items": null,
            "align_self": null,
            "border": null,
            "bottom": null,
            "display": null,
            "flex": null,
            "flex_flow": null,
            "grid_area": null,
            "grid_auto_columns": null,
            "grid_auto_flow": null,
            "grid_auto_rows": null,
            "grid_column": null,
            "grid_gap": null,
            "grid_row": null,
            "grid_template_areas": null,
            "grid_template_columns": null,
            "grid_template_rows": null,
            "height": null,
            "justify_content": null,
            "justify_items": null,
            "left": null,
            "margin": null,
            "max_height": null,
            "max_width": null,
            "min_height": null,
            "min_width": null,
            "object_fit": null,
            "object_position": null,
            "order": null,
            "overflow": null,
            "overflow_x": null,
            "overflow_y": null,
            "padding": null,
            "right": null,
            "top": null,
            "visibility": null,
            "width": null
          }
        },
        "f25a06b53b45471c98dcefba752a994b": {
          "model_module": "@jupyter-widgets/controls",
          "model_name": "DescriptionStyleModel",
          "model_module_version": "1.5.0",
          "state": {
            "_model_module": "@jupyter-widgets/controls",
            "_model_module_version": "1.5.0",
            "_model_name": "DescriptionStyleModel",
            "_view_count": null,
            "_view_module": "@jupyter-widgets/base",
            "_view_module_version": "1.2.0",
            "_view_name": "StyleView",
            "description_width": ""
          }
        },
        "0a3efad985ba450595ceeeec322bf1a4": {
          "model_module": "@jupyter-widgets/base",
          "model_name": "LayoutModel",
          "model_module_version": "1.2.0",
          "state": {
            "_model_module": "@jupyter-widgets/base",
            "_model_module_version": "1.2.0",
            "_model_name": "LayoutModel",
            "_view_count": null,
            "_view_module": "@jupyter-widgets/base",
            "_view_module_version": "1.2.0",
            "_view_name": "LayoutView",
            "align_content": null,
            "align_items": null,
            "align_self": null,
            "border": null,
            "bottom": null,
            "display": null,
            "flex": null,
            "flex_flow": null,
            "grid_area": null,
            "grid_auto_columns": null,
            "grid_auto_flow": null,
            "grid_auto_rows": null,
            "grid_column": null,
            "grid_gap": null,
            "grid_row": null,
            "grid_template_areas": null,
            "grid_template_columns": null,
            "grid_template_rows": null,
            "height": null,
            "justify_content": null,
            "justify_items": null,
            "left": null,
            "margin": null,
            "max_height": null,
            "max_width": null,
            "min_height": null,
            "min_width": null,
            "object_fit": null,
            "object_position": null,
            "order": null,
            "overflow": null,
            "overflow_x": null,
            "overflow_y": null,
            "padding": null,
            "right": null,
            "top": null,
            "visibility": null,
            "width": null
          }
        },
        "64b8b8b5c68f46be9d7d1cc8cee79b2e": {
          "model_module": "@jupyter-widgets/controls",
          "model_name": "ProgressStyleModel",
          "model_module_version": "1.5.0",
          "state": {
            "_model_module": "@jupyter-widgets/controls",
            "_model_module_version": "1.5.0",
            "_model_name": "ProgressStyleModel",
            "_view_count": null,
            "_view_module": "@jupyter-widgets/base",
            "_view_module_version": "1.2.0",
            "_view_name": "StyleView",
            "bar_color": null,
            "description_width": ""
          }
        },
        "75461d90771f418888c87a3bd155c337": {
          "model_module": "@jupyter-widgets/base",
          "model_name": "LayoutModel",
          "model_module_version": "1.2.0",
          "state": {
            "_model_module": "@jupyter-widgets/base",
            "_model_module_version": "1.2.0",
            "_model_name": "LayoutModel",
            "_view_count": null,
            "_view_module": "@jupyter-widgets/base",
            "_view_module_version": "1.2.0",
            "_view_name": "LayoutView",
            "align_content": null,
            "align_items": null,
            "align_self": null,
            "border": null,
            "bottom": null,
            "display": null,
            "flex": null,
            "flex_flow": null,
            "grid_area": null,
            "grid_auto_columns": null,
            "grid_auto_flow": null,
            "grid_auto_rows": null,
            "grid_column": null,
            "grid_gap": null,
            "grid_row": null,
            "grid_template_areas": null,
            "grid_template_columns": null,
            "grid_template_rows": null,
            "height": null,
            "justify_content": null,
            "justify_items": null,
            "left": null,
            "margin": null,
            "max_height": null,
            "max_width": null,
            "min_height": null,
            "min_width": null,
            "object_fit": null,
            "object_position": null,
            "order": null,
            "overflow": null,
            "overflow_x": null,
            "overflow_y": null,
            "padding": null,
            "right": null,
            "top": null,
            "visibility": null,
            "width": null
          }
        },
        "374ea8220f3647ff93748a5f6df38e89": {
          "model_module": "@jupyter-widgets/controls",
          "model_name": "DescriptionStyleModel",
          "model_module_version": "1.5.0",
          "state": {
            "_model_module": "@jupyter-widgets/controls",
            "_model_module_version": "1.5.0",
            "_model_name": "DescriptionStyleModel",
            "_view_count": null,
            "_view_module": "@jupyter-widgets/base",
            "_view_module_version": "1.2.0",
            "_view_name": "StyleView",
            "description_width": ""
          }
        },
        "00b8d34313784c90b530830d093afeaa": {
          "model_module": "@jupyter-widgets/controls",
          "model_name": "HBoxModel",
          "model_module_version": "1.5.0",
          "state": {
            "_dom_classes": [],
            "_model_module": "@jupyter-widgets/controls",
            "_model_module_version": "1.5.0",
            "_model_name": "HBoxModel",
            "_view_count": null,
            "_view_module": "@jupyter-widgets/controls",
            "_view_module_version": "1.5.0",
            "_view_name": "HBoxView",
            "box_style": "",
            "children": [
              "IPY_MODEL_ee46b2cb26b34883a08be65322f10bd6",
              "IPY_MODEL_ae34a4bb21e6454389d0ec7f8defec53",
              "IPY_MODEL_0c633f73392145d5947b2aff098259c8"
            ],
            "layout": "IPY_MODEL_2bde2643f0c44995acb6d00541d6fa27"
          }
        },
        "ee46b2cb26b34883a08be65322f10bd6": {
          "model_module": "@jupyter-widgets/controls",
          "model_name": "HTMLModel",
          "model_module_version": "1.5.0",
          "state": {
            "_dom_classes": [],
            "_model_module": "@jupyter-widgets/controls",
            "_model_module_version": "1.5.0",
            "_model_name": "HTMLModel",
            "_view_count": null,
            "_view_module": "@jupyter-widgets/controls",
            "_view_module_version": "1.5.0",
            "_view_name": "HTMLView",
            "description": "",
            "description_tooltip": null,
            "layout": "IPY_MODEL_f2a04a869573467f970b23f5b835637b",
            "placeholder": "​",
            "style": "IPY_MODEL_4fe0e5ce657d4c19a712a9d9d7c89a81",
            "value": "data/ParentChildTreeFile.txt: 100%"
          }
        },
        "ae34a4bb21e6454389d0ec7f8defec53": {
          "model_module": "@jupyter-widgets/controls",
          "model_name": "FloatProgressModel",
          "model_module_version": "1.5.0",
          "state": {
            "_dom_classes": [],
            "_model_module": "@jupyter-widgets/controls",
            "_model_module_version": "1.5.0",
            "_model_name": "FloatProgressModel",
            "_view_count": null,
            "_view_module": "@jupyter-widgets/controls",
            "_view_module_version": "1.5.0",
            "_view_name": "ProgressView",
            "bar_style": "success",
            "description": "",
            "description_tooltip": null,
            "layout": "IPY_MODEL_435c6cf5aced4a668e965384f63d95e9",
            "max": 594786,
            "min": 0,
            "orientation": "horizontal",
            "style": "IPY_MODEL_f5fcac3958764d799e810ef386ace786",
            "value": 594786
          }
        },
        "0c633f73392145d5947b2aff098259c8": {
          "model_module": "@jupyter-widgets/controls",
          "model_name": "HTMLModel",
          "model_module_version": "1.5.0",
          "state": {
            "_dom_classes": [],
            "_model_module": "@jupyter-widgets/controls",
            "_model_module_version": "1.5.0",
            "_model_name": "HTMLModel",
            "_view_count": null,
            "_view_module": "@jupyter-widgets/controls",
            "_view_module_version": "1.5.0",
            "_view_name": "HTMLView",
            "description": "",
            "description_tooltip": null,
            "layout": "IPY_MODEL_69b9d39f8c4941b9850dfc26b67a1052",
            "placeholder": "​",
            "style": "IPY_MODEL_98b886c8250f4564b0e6c236f630b76c",
            "value": " 595k/595k [00:00&lt;00:00, 3.19MB/s]"
          }
        },
        "2bde2643f0c44995acb6d00541d6fa27": {
          "model_module": "@jupyter-widgets/base",
          "model_name": "LayoutModel",
          "model_module_version": "1.2.0",
          "state": {
            "_model_module": "@jupyter-widgets/base",
            "_model_module_version": "1.2.0",
            "_model_name": "LayoutModel",
            "_view_count": null,
            "_view_module": "@jupyter-widgets/base",
            "_view_module_version": "1.2.0",
            "_view_name": "LayoutView",
            "align_content": null,
            "align_items": null,
            "align_self": null,
            "border": null,
            "bottom": null,
            "display": null,
            "flex": null,
            "flex_flow": null,
            "grid_area": null,
            "grid_auto_columns": null,
            "grid_auto_flow": null,
            "grid_auto_rows": null,
            "grid_column": null,
            "grid_gap": null,
            "grid_row": null,
            "grid_template_areas": null,
            "grid_template_columns": null,
            "grid_template_rows": null,
            "height": null,
            "justify_content": null,
            "justify_items": null,
            "left": null,
            "margin": null,
            "max_height": null,
            "max_width": null,
            "min_height": null,
            "min_width": null,
            "object_fit": null,
            "object_position": null,
            "order": null,
            "overflow": null,
            "overflow_x": null,
            "overflow_y": null,
            "padding": null,
            "right": null,
            "top": null,
            "visibility": null,
            "width": null
          }
        },
        "f2a04a869573467f970b23f5b835637b": {
          "model_module": "@jupyter-widgets/base",
          "model_name": "LayoutModel",
          "model_module_version": "1.2.0",
          "state": {
            "_model_module": "@jupyter-widgets/base",
            "_model_module_version": "1.2.0",
            "_model_name": "LayoutModel",
            "_view_count": null,
            "_view_module": "@jupyter-widgets/base",
            "_view_module_version": "1.2.0",
            "_view_name": "LayoutView",
            "align_content": null,
            "align_items": null,
            "align_self": null,
            "border": null,
            "bottom": null,
            "display": null,
            "flex": null,
            "flex_flow": null,
            "grid_area": null,
            "grid_auto_columns": null,
            "grid_auto_flow": null,
            "grid_auto_rows": null,
            "grid_column": null,
            "grid_gap": null,
            "grid_row": null,
            "grid_template_areas": null,
            "grid_template_columns": null,
            "grid_template_rows": null,
            "height": null,
            "justify_content": null,
            "justify_items": null,
            "left": null,
            "margin": null,
            "max_height": null,
            "max_width": null,
            "min_height": null,
            "min_width": null,
            "object_fit": null,
            "object_position": null,
            "order": null,
            "overflow": null,
            "overflow_x": null,
            "overflow_y": null,
            "padding": null,
            "right": null,
            "top": null,
            "visibility": null,
            "width": null
          }
        },
        "4fe0e5ce657d4c19a712a9d9d7c89a81": {
          "model_module": "@jupyter-widgets/controls",
          "model_name": "DescriptionStyleModel",
          "model_module_version": "1.5.0",
          "state": {
            "_model_module": "@jupyter-widgets/controls",
            "_model_module_version": "1.5.0",
            "_model_name": "DescriptionStyleModel",
            "_view_count": null,
            "_view_module": "@jupyter-widgets/base",
            "_view_module_version": "1.2.0",
            "_view_name": "StyleView",
            "description_width": ""
          }
        },
        "435c6cf5aced4a668e965384f63d95e9": {
          "model_module": "@jupyter-widgets/base",
          "model_name": "LayoutModel",
          "model_module_version": "1.2.0",
          "state": {
            "_model_module": "@jupyter-widgets/base",
            "_model_module_version": "1.2.0",
            "_model_name": "LayoutModel",
            "_view_count": null,
            "_view_module": "@jupyter-widgets/base",
            "_view_module_version": "1.2.0",
            "_view_name": "LayoutView",
            "align_content": null,
            "align_items": null,
            "align_self": null,
            "border": null,
            "bottom": null,
            "display": null,
            "flex": null,
            "flex_flow": null,
            "grid_area": null,
            "grid_auto_columns": null,
            "grid_auto_flow": null,
            "grid_auto_rows": null,
            "grid_column": null,
            "grid_gap": null,
            "grid_row": null,
            "grid_template_areas": null,
            "grid_template_columns": null,
            "grid_template_rows": null,
            "height": null,
            "justify_content": null,
            "justify_items": null,
            "left": null,
            "margin": null,
            "max_height": null,
            "max_width": null,
            "min_height": null,
            "min_width": null,
            "object_fit": null,
            "object_position": null,
            "order": null,
            "overflow": null,
            "overflow_x": null,
            "overflow_y": null,
            "padding": null,
            "right": null,
            "top": null,
            "visibility": null,
            "width": null
          }
        },
        "f5fcac3958764d799e810ef386ace786": {
          "model_module": "@jupyter-widgets/controls",
          "model_name": "ProgressStyleModel",
          "model_module_version": "1.5.0",
          "state": {
            "_model_module": "@jupyter-widgets/controls",
            "_model_module_version": "1.5.0",
            "_model_name": "ProgressStyleModel",
            "_view_count": null,
            "_view_module": "@jupyter-widgets/base",
            "_view_module_version": "1.2.0",
            "_view_name": "StyleView",
            "bar_color": null,
            "description_width": ""
          }
        },
        "69b9d39f8c4941b9850dfc26b67a1052": {
          "model_module": "@jupyter-widgets/base",
          "model_name": "LayoutModel",
          "model_module_version": "1.2.0",
          "state": {
            "_model_module": "@jupyter-widgets/base",
            "_model_module_version": "1.2.0",
            "_model_name": "LayoutModel",
            "_view_count": null,
            "_view_module": "@jupyter-widgets/base",
            "_view_module_version": "1.2.0",
            "_view_name": "LayoutView",
            "align_content": null,
            "align_items": null,
            "align_self": null,
            "border": null,
            "bottom": null,
            "display": null,
            "flex": null,
            "flex_flow": null,
            "grid_area": null,
            "grid_auto_columns": null,
            "grid_auto_flow": null,
            "grid_auto_rows": null,
            "grid_column": null,
            "grid_gap": null,
            "grid_row": null,
            "grid_template_areas": null,
            "grid_template_columns": null,
            "grid_template_rows": null,
            "height": null,
            "justify_content": null,
            "justify_items": null,
            "left": null,
            "margin": null,
            "max_height": null,
            "max_width": null,
            "min_height": null,
            "min_width": null,
            "object_fit": null,
            "object_position": null,
            "order": null,
            "overflow": null,
            "overflow_x": null,
            "overflow_y": null,
            "padding": null,
            "right": null,
            "top": null,
            "visibility": null,
            "width": null
          }
        },
        "98b886c8250f4564b0e6c236f630b76c": {
          "model_module": "@jupyter-widgets/controls",
          "model_name": "DescriptionStyleModel",
          "model_module_version": "1.5.0",
          "state": {
            "_model_module": "@jupyter-widgets/controls",
            "_model_module_version": "1.5.0",
            "_model_name": "DescriptionStyleModel",
            "_view_count": null,
            "_view_module": "@jupyter-widgets/base",
            "_view_module_version": "1.2.0",
            "_view_name": "StyleView",
            "description_width": ""
          }
        },
        "8edd55f2f92b4a82a81ef694dbaaa3ba": {
          "model_module": "@jupyter-widgets/controls",
          "model_name": "HBoxModel",
          "model_module_version": "1.5.0",
          "state": {
            "_dom_classes": [],
            "_model_module": "@jupyter-widgets/controls",
            "_model_module_version": "1.5.0",
            "_model_name": "HBoxModel",
            "_view_count": null,
            "_view_module": "@jupyter-widgets/controls",
            "_view_module_version": "1.5.0",
            "_view_name": "HBoxView",
            "box_style": "",
            "children": [
              "IPY_MODEL_dd9390821e4d4ae48fd33a1e38cd8cc4",
              "IPY_MODEL_bd3ef22a38d042f8b750e9d1feb9a163",
              "IPY_MODEL_5316171b5b564c0d976baf9d3715ec8d"
            ],
            "layout": "IPY_MODEL_c4f34c25ec7a41e390fb0b2a5e1f0dc5"
          }
        },
        "dd9390821e4d4ae48fd33a1e38cd8cc4": {
          "model_module": "@jupyter-widgets/controls",
          "model_name": "HTMLModel",
          "model_module_version": "1.5.0",
          "state": {
            "_dom_classes": [],
            "_model_module": "@jupyter-widgets/controls",
            "_model_module_version": "1.5.0",
            "_model_name": "HTMLModel",
            "_view_count": null,
            "_view_module": "@jupyter-widgets/controls",
            "_view_module_version": "1.5.0",
            "_view_name": "HTMLView",
            "description": "",
            "description_tooltip": null,
            "layout": "IPY_MODEL_6cfec725304f4586813a6350365fefe9",
            "placeholder": "​",
            "style": "IPY_MODEL_a817f2df92674c0ba21addc93beb5c48",
            "value": "hyperplanes_8bit_68103.npz: 100%"
          }
        },
        "bd3ef22a38d042f8b750e9d1feb9a163": {
          "model_module": "@jupyter-widgets/controls",
          "model_name": "FloatProgressModel",
          "model_module_version": "1.5.0",
          "state": {
            "_dom_classes": [],
            "_model_module": "@jupyter-widgets/controls",
            "_model_module_version": "1.5.0",
            "_model_name": "FloatProgressModel",
            "_view_count": null,
            "_view_module": "@jupyter-widgets/controls",
            "_view_module_version": "1.5.0",
            "_view_name": "ProgressView",
            "bar_style": "success",
            "description": "",
            "description_tooltip": null,
            "layout": "IPY_MODEL_d035a2300571418fa6f8b985dafd8cf3",
            "max": 34870630,
            "min": 0,
            "orientation": "horizontal",
            "style": "IPY_MODEL_1c21b3ce292d48bbbba036842d47b557",
            "value": 34870630
          }
        },
        "5316171b5b564c0d976baf9d3715ec8d": {
          "model_module": "@jupyter-widgets/controls",
          "model_name": "HTMLModel",
          "model_module_version": "1.5.0",
          "state": {
            "_dom_classes": [],
            "_model_module": "@jupyter-widgets/controls",
            "_model_module_version": "1.5.0",
            "_model_name": "HTMLModel",
            "_view_count": null,
            "_view_module": "@jupyter-widgets/controls",
            "_view_module_version": "1.5.0",
            "_view_name": "HTMLView",
            "description": "",
            "description_tooltip": null,
            "layout": "IPY_MODEL_9d54fd41367447eeb4c0d1afd251a0a9",
            "placeholder": "​",
            "style": "IPY_MODEL_5a5b2ad3108b4c7bbe8538dfd7758737",
            "value": " 34.9M/34.9M [00:00&lt;00:00, 36.8MB/s]"
          }
        },
        "c4f34c25ec7a41e390fb0b2a5e1f0dc5": {
          "model_module": "@jupyter-widgets/base",
          "model_name": "LayoutModel",
          "model_module_version": "1.2.0",
          "state": {
            "_model_module": "@jupyter-widgets/base",
            "_model_module_version": "1.2.0",
            "_model_name": "LayoutModel",
            "_view_count": null,
            "_view_module": "@jupyter-widgets/base",
            "_view_module_version": "1.2.0",
            "_view_name": "LayoutView",
            "align_content": null,
            "align_items": null,
            "align_self": null,
            "border": null,
            "bottom": null,
            "display": null,
            "flex": null,
            "flex_flow": null,
            "grid_area": null,
            "grid_auto_columns": null,
            "grid_auto_flow": null,
            "grid_auto_rows": null,
            "grid_column": null,
            "grid_gap": null,
            "grid_row": null,
            "grid_template_areas": null,
            "grid_template_columns": null,
            "grid_template_rows": null,
            "height": null,
            "justify_content": null,
            "justify_items": null,
            "left": null,
            "margin": null,
            "max_height": null,
            "max_width": null,
            "min_height": null,
            "min_width": null,
            "object_fit": null,
            "object_position": null,
            "order": null,
            "overflow": null,
            "overflow_x": null,
            "overflow_y": null,
            "padding": null,
            "right": null,
            "top": null,
            "visibility": null,
            "width": null
          }
        },
        "6cfec725304f4586813a6350365fefe9": {
          "model_module": "@jupyter-widgets/base",
          "model_name": "LayoutModel",
          "model_module_version": "1.2.0",
          "state": {
            "_model_module": "@jupyter-widgets/base",
            "_model_module_version": "1.2.0",
            "_model_name": "LayoutModel",
            "_view_count": null,
            "_view_module": "@jupyter-widgets/base",
            "_view_module_version": "1.2.0",
            "_view_name": "LayoutView",
            "align_content": null,
            "align_items": null,
            "align_self": null,
            "border": null,
            "bottom": null,
            "display": null,
            "flex": null,
            "flex_flow": null,
            "grid_area": null,
            "grid_auto_columns": null,
            "grid_auto_flow": null,
            "grid_auto_rows": null,
            "grid_column": null,
            "grid_gap": null,
            "grid_row": null,
            "grid_template_areas": null,
            "grid_template_columns": null,
            "grid_template_rows": null,
            "height": null,
            "justify_content": null,
            "justify_items": null,
            "left": null,
            "margin": null,
            "max_height": null,
            "max_width": null,
            "min_height": null,
            "min_width": null,
            "object_fit": null,
            "object_position": null,
            "order": null,
            "overflow": null,
            "overflow_x": null,
            "overflow_y": null,
            "padding": null,
            "right": null,
            "top": null,
            "visibility": null,
            "width": null
          }
        },
        "a817f2df92674c0ba21addc93beb5c48": {
          "model_module": "@jupyter-widgets/controls",
          "model_name": "DescriptionStyleModel",
          "model_module_version": "1.5.0",
          "state": {
            "_model_module": "@jupyter-widgets/controls",
            "_model_module_version": "1.5.0",
            "_model_name": "DescriptionStyleModel",
            "_view_count": null,
            "_view_module": "@jupyter-widgets/base",
            "_view_module_version": "1.2.0",
            "_view_name": "StyleView",
            "description_width": ""
          }
        },
        "d035a2300571418fa6f8b985dafd8cf3": {
          "model_module": "@jupyter-widgets/base",
          "model_name": "LayoutModel",
          "model_module_version": "1.2.0",
          "state": {
            "_model_module": "@jupyter-widgets/base",
            "_model_module_version": "1.2.0",
            "_model_name": "LayoutModel",
            "_view_count": null,
            "_view_module": "@jupyter-widgets/base",
            "_view_module_version": "1.2.0",
            "_view_name": "LayoutView",
            "align_content": null,
            "align_items": null,
            "align_self": null,
            "border": null,
            "bottom": null,
            "display": null,
            "flex": null,
            "flex_flow": null,
            "grid_area": null,
            "grid_auto_columns": null,
            "grid_auto_flow": null,
            "grid_auto_rows": null,
            "grid_column": null,
            "grid_gap": null,
            "grid_row": null,
            "grid_template_areas": null,
            "grid_template_columns": null,
            "grid_template_rows": null,
            "height": null,
            "justify_content": null,
            "justify_items": null,
            "left": null,
            "margin": null,
            "max_height": null,
            "max_width": null,
            "min_height": null,
            "min_width": null,
            "object_fit": null,
            "object_position": null,
            "order": null,
            "overflow": null,
            "overflow_x": null,
            "overflow_y": null,
            "padding": null,
            "right": null,
            "top": null,
            "visibility": null,
            "width": null
          }
        },
        "1c21b3ce292d48bbbba036842d47b557": {
          "model_module": "@jupyter-widgets/controls",
          "model_name": "ProgressStyleModel",
          "model_module_version": "1.5.0",
          "state": {
            "_model_module": "@jupyter-widgets/controls",
            "_model_module_version": "1.5.0",
            "_model_name": "ProgressStyleModel",
            "_view_count": null,
            "_view_module": "@jupyter-widgets/base",
            "_view_module_version": "1.2.0",
            "_view_name": "StyleView",
            "bar_color": null,
            "description_width": ""
          }
        },
        "9d54fd41367447eeb4c0d1afd251a0a9": {
          "model_module": "@jupyter-widgets/base",
          "model_name": "LayoutModel",
          "model_module_version": "1.2.0",
          "state": {
            "_model_module": "@jupyter-widgets/base",
            "_model_module_version": "1.2.0",
            "_model_name": "LayoutModel",
            "_view_count": null,
            "_view_module": "@jupyter-widgets/base",
            "_view_module_version": "1.2.0",
            "_view_name": "LayoutView",
            "align_content": null,
            "align_items": null,
            "align_self": null,
            "border": null,
            "bottom": null,
            "display": null,
            "flex": null,
            "flex_flow": null,
            "grid_area": null,
            "grid_auto_columns": null,
            "grid_auto_flow": null,
            "grid_auto_rows": null,
            "grid_column": null,
            "grid_gap": null,
            "grid_row": null,
            "grid_template_areas": null,
            "grid_template_columns": null,
            "grid_template_rows": null,
            "height": null,
            "justify_content": null,
            "justify_items": null,
            "left": null,
            "margin": null,
            "max_height": null,
            "max_width": null,
            "min_height": null,
            "min_width": null,
            "object_fit": null,
            "object_position": null,
            "order": null,
            "overflow": null,
            "overflow_x": null,
            "overflow_y": null,
            "padding": null,
            "right": null,
            "top": null,
            "visibility": null,
            "width": null
          }
        },
        "5a5b2ad3108b4c7bbe8538dfd7758737": {
          "model_module": "@jupyter-widgets/controls",
          "model_name": "DescriptionStyleModel",
          "model_module_version": "1.5.0",
          "state": {
            "_model_module": "@jupyter-widgets/controls",
            "_model_module_version": "1.5.0",
            "_model_name": "DescriptionStyleModel",
            "_view_count": null,
            "_view_module": "@jupyter-widgets/base",
            "_view_module_version": "1.2.0",
            "_view_name": "StyleView",
            "description_width": ""
          }
        },
        "51fcc7515d314caab8b47f2dd1170bc1": {
          "model_module": "@jupyter-widgets/controls",
          "model_name": "HBoxModel",
          "model_module_version": "1.5.0",
          "state": {
            "_dom_classes": [],
            "_model_module": "@jupyter-widgets/controls",
            "_model_module_version": "1.5.0",
            "_model_name": "HBoxModel",
            "_view_count": null,
            "_view_module": "@jupyter-widgets/controls",
            "_view_module_version": "1.5.0",
            "_view_name": "HBoxView",
            "box_style": "",
            "children": [
              "IPY_MODEL_af86d5b73375483a8051a0028c72d5c3",
              "IPY_MODEL_906fd4d734d04c6ab46bb56cd0075044",
              "IPY_MODEL_45fc39afa3074ceebbfc85aff67693d2"
            ],
            "layout": "IPY_MODEL_152b8bbd22094765b00e7f6da69ff258"
          }
        },
        "af86d5b73375483a8051a0028c72d5c3": {
          "model_module": "@jupyter-widgets/controls",
          "model_name": "HTMLModel",
          "model_module_version": "1.5.0",
          "state": {
            "_dom_classes": [],
            "_model_module": "@jupyter-widgets/controls",
            "_model_module_version": "1.5.0",
            "_model_name": "HTMLModel",
            "_view_count": null,
            "_view_module": "@jupyter-widgets/controls",
            "_view_module_version": "1.5.0",
            "_view_name": "HTMLView",
            "description": "",
            "description_tooltip": null,
            "layout": "IPY_MODEL_23f5c25fa73d4a0080726f9078a2407d",
            "placeholder": "​",
            "style": "IPY_MODEL_f7a0f6c76f674a55834afcbd3db97525",
            "value": "(…)ata/interpro_29026_to_keywords_58641.csv: 100%"
          }
        },
        "906fd4d734d04c6ab46bb56cd0075044": {
          "model_module": "@jupyter-widgets/controls",
          "model_name": "FloatProgressModel",
          "model_module_version": "1.5.0",
          "state": {
            "_dom_classes": [],
            "_model_module": "@jupyter-widgets/controls",
            "_model_module_version": "1.5.0",
            "_model_name": "FloatProgressModel",
            "_view_count": null,
            "_view_module": "@jupyter-widgets/controls",
            "_view_module_version": "1.5.0",
            "_view_name": "ProgressView",
            "bar_style": "success",
            "description": "",
            "description_tooltip": null,
            "layout": "IPY_MODEL_a09dbea0b5a54f209965a08731897903",
            "max": 10061298,
            "min": 0,
            "orientation": "horizontal",
            "style": "IPY_MODEL_034ccadc1a5d4fa89f4164e84eb225e8",
            "value": 10061298
          }
        },
        "45fc39afa3074ceebbfc85aff67693d2": {
          "model_module": "@jupyter-widgets/controls",
          "model_name": "HTMLModel",
          "model_module_version": "1.5.0",
          "state": {
            "_dom_classes": [],
            "_model_module": "@jupyter-widgets/controls",
            "_model_module_version": "1.5.0",
            "_model_name": "HTMLModel",
            "_view_count": null,
            "_view_module": "@jupyter-widgets/controls",
            "_view_module_version": "1.5.0",
            "_view_name": "HTMLView",
            "description": "",
            "description_tooltip": null,
            "layout": "IPY_MODEL_2448543343e2467fafbe9a2e034a75f2",
            "placeholder": "​",
            "style": "IPY_MODEL_f005a60db7c746dd966efefbef582807",
            "value": " 10.1M/10.1M [00:00&lt;00:00, 17.2MB/s]"
          }
        },
        "152b8bbd22094765b00e7f6da69ff258": {
          "model_module": "@jupyter-widgets/base",
          "model_name": "LayoutModel",
          "model_module_version": "1.2.0",
          "state": {
            "_model_module": "@jupyter-widgets/base",
            "_model_module_version": "1.2.0",
            "_model_name": "LayoutModel",
            "_view_count": null,
            "_view_module": "@jupyter-widgets/base",
            "_view_module_version": "1.2.0",
            "_view_name": "LayoutView",
            "align_content": null,
            "align_items": null,
            "align_self": null,
            "border": null,
            "bottom": null,
            "display": null,
            "flex": null,
            "flex_flow": null,
            "grid_area": null,
            "grid_auto_columns": null,
            "grid_auto_flow": null,
            "grid_auto_rows": null,
            "grid_column": null,
            "grid_gap": null,
            "grid_row": null,
            "grid_template_areas": null,
            "grid_template_columns": null,
            "grid_template_rows": null,
            "height": null,
            "justify_content": null,
            "justify_items": null,
            "left": null,
            "margin": null,
            "max_height": null,
            "max_width": null,
            "min_height": null,
            "min_width": null,
            "object_fit": null,
            "object_position": null,
            "order": null,
            "overflow": null,
            "overflow_x": null,
            "overflow_y": null,
            "padding": null,
            "right": null,
            "top": null,
            "visibility": null,
            "width": null
          }
        },
        "23f5c25fa73d4a0080726f9078a2407d": {
          "model_module": "@jupyter-widgets/base",
          "model_name": "LayoutModel",
          "model_module_version": "1.2.0",
          "state": {
            "_model_module": "@jupyter-widgets/base",
            "_model_module_version": "1.2.0",
            "_model_name": "LayoutModel",
            "_view_count": null,
            "_view_module": "@jupyter-widgets/base",
            "_view_module_version": "1.2.0",
            "_view_name": "LayoutView",
            "align_content": null,
            "align_items": null,
            "align_self": null,
            "border": null,
            "bottom": null,
            "display": null,
            "flex": null,
            "flex_flow": null,
            "grid_area": null,
            "grid_auto_columns": null,
            "grid_auto_flow": null,
            "grid_auto_rows": null,
            "grid_column": null,
            "grid_gap": null,
            "grid_row": null,
            "grid_template_areas": null,
            "grid_template_columns": null,
            "grid_template_rows": null,
            "height": null,
            "justify_content": null,
            "justify_items": null,
            "left": null,
            "margin": null,
            "max_height": null,
            "max_width": null,
            "min_height": null,
            "min_width": null,
            "object_fit": null,
            "object_position": null,
            "order": null,
            "overflow": null,
            "overflow_x": null,
            "overflow_y": null,
            "padding": null,
            "right": null,
            "top": null,
            "visibility": null,
            "width": null
          }
        },
        "f7a0f6c76f674a55834afcbd3db97525": {
          "model_module": "@jupyter-widgets/controls",
          "model_name": "DescriptionStyleModel",
          "model_module_version": "1.5.0",
          "state": {
            "_model_module": "@jupyter-widgets/controls",
            "_model_module_version": "1.5.0",
            "_model_name": "DescriptionStyleModel",
            "_view_count": null,
            "_view_module": "@jupyter-widgets/base",
            "_view_module_version": "1.2.0",
            "_view_name": "StyleView",
            "description_width": ""
          }
        },
        "a09dbea0b5a54f209965a08731897903": {
          "model_module": "@jupyter-widgets/base",
          "model_name": "LayoutModel",
          "model_module_version": "1.2.0",
          "state": {
            "_model_module": "@jupyter-widgets/base",
            "_model_module_version": "1.2.0",
            "_model_name": "LayoutModel",
            "_view_count": null,
            "_view_module": "@jupyter-widgets/base",
            "_view_module_version": "1.2.0",
            "_view_name": "LayoutView",
            "align_content": null,
            "align_items": null,
            "align_self": null,
            "border": null,
            "bottom": null,
            "display": null,
            "flex": null,
            "flex_flow": null,
            "grid_area": null,
            "grid_auto_columns": null,
            "grid_auto_flow": null,
            "grid_auto_rows": null,
            "grid_column": null,
            "grid_gap": null,
            "grid_row": null,
            "grid_template_areas": null,
            "grid_template_columns": null,
            "grid_template_rows": null,
            "height": null,
            "justify_content": null,
            "justify_items": null,
            "left": null,
            "margin": null,
            "max_height": null,
            "max_width": null,
            "min_height": null,
            "min_width": null,
            "object_fit": null,
            "object_position": null,
            "order": null,
            "overflow": null,
            "overflow_x": null,
            "overflow_y": null,
            "padding": null,
            "right": null,
            "top": null,
            "visibility": null,
            "width": null
          }
        },
        "034ccadc1a5d4fa89f4164e84eb225e8": {
          "model_module": "@jupyter-widgets/controls",
          "model_name": "ProgressStyleModel",
          "model_module_version": "1.5.0",
          "state": {
            "_model_module": "@jupyter-widgets/controls",
            "_model_module_version": "1.5.0",
            "_model_name": "ProgressStyleModel",
            "_view_count": null,
            "_view_module": "@jupyter-widgets/base",
            "_view_module_version": "1.2.0",
            "_view_name": "StyleView",
            "bar_color": null,
            "description_width": ""
          }
        },
        "2448543343e2467fafbe9a2e034a75f2": {
          "model_module": "@jupyter-widgets/base",
          "model_name": "LayoutModel",
          "model_module_version": "1.2.0",
          "state": {
            "_model_module": "@jupyter-widgets/base",
            "_model_module_version": "1.2.0",
            "_model_name": "LayoutModel",
            "_view_count": null,
            "_view_module": "@jupyter-widgets/base",
            "_view_module_version": "1.2.0",
            "_view_name": "LayoutView",
            "align_content": null,
            "align_items": null,
            "align_self": null,
            "border": null,
            "bottom": null,
            "display": null,
            "flex": null,
            "flex_flow": null,
            "grid_area": null,
            "grid_auto_columns": null,
            "grid_auto_flow": null,
            "grid_auto_rows": null,
            "grid_column": null,
            "grid_gap": null,
            "grid_row": null,
            "grid_template_areas": null,
            "grid_template_columns": null,
            "grid_template_rows": null,
            "height": null,
            "justify_content": null,
            "justify_items": null,
            "left": null,
            "margin": null,
            "max_height": null,
            "max_width": null,
            "min_height": null,
            "min_width": null,
            "object_fit": null,
            "object_position": null,
            "order": null,
            "overflow": null,
            "overflow_x": null,
            "overflow_y": null,
            "padding": null,
            "right": null,
            "top": null,
            "visibility": null,
            "width": null
          }
        },
        "f005a60db7c746dd966efefbef582807": {
          "model_module": "@jupyter-widgets/controls",
          "model_name": "DescriptionStyleModel",
          "model_module_version": "1.5.0",
          "state": {
            "_model_module": "@jupyter-widgets/controls",
            "_model_module_version": "1.5.0",
            "_model_name": "DescriptionStyleModel",
            "_view_count": null,
            "_view_module": "@jupyter-widgets/base",
            "_view_module_version": "1.2.0",
            "_view_name": "StyleView",
            "description_width": ""
          }
        },
        "60070935186e4935948d61a7c025699e": {
          "model_module": "@jupyter-widgets/controls",
          "model_name": "HBoxModel",
          "model_module_version": "1.5.0",
          "state": {
            "_dom_classes": [],
            "_model_module": "@jupyter-widgets/controls",
            "_model_module_version": "1.5.0",
            "_model_name": "HBoxModel",
            "_view_count": null,
            "_view_module": "@jupyter-widgets/controls",
            "_view_module_version": "1.5.0",
            "_view_name": "HBoxView",
            "box_style": "",
            "children": [
              "IPY_MODEL_7a5fe66bc1e045c0b3c4094eeca189a0",
              "IPY_MODEL_efb3449861064b70a1254f47610e3c03",
              "IPY_MODEL_bc08e13d02514f6e9b1dbd2ad818ce8f"
            ],
            "layout": "IPY_MODEL_4f6f5ec183ca4100baf8e302014f22e9"
          }
        },
        "7a5fe66bc1e045c0b3c4094eeca189a0": {
          "model_module": "@jupyter-widgets/controls",
          "model_name": "HTMLModel",
          "model_module_version": "1.5.0",
          "state": {
            "_dom_classes": [],
            "_model_module": "@jupyter-widgets/controls",
            "_model_module_version": "1.5.0",
            "_model_name": "HTMLModel",
            "_view_count": null,
            "_view_module": "@jupyter-widgets/controls",
            "_view_module_version": "1.5.0",
            "_view_name": "HTMLView",
            "description": "",
            "description_tooltip": null,
            "layout": "IPY_MODEL_45eef5d60e8343a4b4f5d1949e6b87ea",
            "placeholder": "​",
            "style": "IPY_MODEL_bac1a818e88544efb0f69bc9b882645e",
            "value": "data/esm3_entry.list: 100%"
          }
        },
        "efb3449861064b70a1254f47610e3c03": {
          "model_module": "@jupyter-widgets/controls",
          "model_name": "FloatProgressModel",
          "model_module_version": "1.5.0",
          "state": {
            "_dom_classes": [],
            "_model_module": "@jupyter-widgets/controls",
            "_model_module_version": "1.5.0",
            "_model_name": "FloatProgressModel",
            "_view_count": null,
            "_view_module": "@jupyter-widgets/controls",
            "_view_module_version": "1.5.0",
            "_view_name": "ProgressView",
            "bar_style": "success",
            "description": "",
            "description_tooltip": null,
            "layout": "IPY_MODEL_9d546fa2e8714a398f0217ad42014dbc",
            "max": 1929090,
            "min": 0,
            "orientation": "horizontal",
            "style": "IPY_MODEL_fdfabf706bb74943b9c1ee730d55dc7e",
            "value": 1929090
          }
        },
        "bc08e13d02514f6e9b1dbd2ad818ce8f": {
          "model_module": "@jupyter-widgets/controls",
          "model_name": "HTMLModel",
          "model_module_version": "1.5.0",
          "state": {
            "_dom_classes": [],
            "_model_module": "@jupyter-widgets/controls",
            "_model_module_version": "1.5.0",
            "_model_name": "HTMLModel",
            "_view_count": null,
            "_view_module": "@jupyter-widgets/controls",
            "_view_module_version": "1.5.0",
            "_view_name": "HTMLView",
            "description": "",
            "description_tooltip": null,
            "layout": "IPY_MODEL_b68f98b8a39543c688be0ab9e4d759fe",
            "placeholder": "​",
            "style": "IPY_MODEL_117dd519805941cc9bfe64c1cd142ccb",
            "value": " 1.93M/1.93M [00:00&lt;00:00, 6.66MB/s]"
          }
        },
        "4f6f5ec183ca4100baf8e302014f22e9": {
          "model_module": "@jupyter-widgets/base",
          "model_name": "LayoutModel",
          "model_module_version": "1.2.0",
          "state": {
            "_model_module": "@jupyter-widgets/base",
            "_model_module_version": "1.2.0",
            "_model_name": "LayoutModel",
            "_view_count": null,
            "_view_module": "@jupyter-widgets/base",
            "_view_module_version": "1.2.0",
            "_view_name": "LayoutView",
            "align_content": null,
            "align_items": null,
            "align_self": null,
            "border": null,
            "bottom": null,
            "display": null,
            "flex": null,
            "flex_flow": null,
            "grid_area": null,
            "grid_auto_columns": null,
            "grid_auto_flow": null,
            "grid_auto_rows": null,
            "grid_column": null,
            "grid_gap": null,
            "grid_row": null,
            "grid_template_areas": null,
            "grid_template_columns": null,
            "grid_template_rows": null,
            "height": null,
            "justify_content": null,
            "justify_items": null,
            "left": null,
            "margin": null,
            "max_height": null,
            "max_width": null,
            "min_height": null,
            "min_width": null,
            "object_fit": null,
            "object_position": null,
            "order": null,
            "overflow": null,
            "overflow_x": null,
            "overflow_y": null,
            "padding": null,
            "right": null,
            "top": null,
            "visibility": null,
            "width": null
          }
        },
        "45eef5d60e8343a4b4f5d1949e6b87ea": {
          "model_module": "@jupyter-widgets/base",
          "model_name": "LayoutModel",
          "model_module_version": "1.2.0",
          "state": {
            "_model_module": "@jupyter-widgets/base",
            "_model_module_version": "1.2.0",
            "_model_name": "LayoutModel",
            "_view_count": null,
            "_view_module": "@jupyter-widgets/base",
            "_view_module_version": "1.2.0",
            "_view_name": "LayoutView",
            "align_content": null,
            "align_items": null,
            "align_self": null,
            "border": null,
            "bottom": null,
            "display": null,
            "flex": null,
            "flex_flow": null,
            "grid_area": null,
            "grid_auto_columns": null,
            "grid_auto_flow": null,
            "grid_auto_rows": null,
            "grid_column": null,
            "grid_gap": null,
            "grid_row": null,
            "grid_template_areas": null,
            "grid_template_columns": null,
            "grid_template_rows": null,
            "height": null,
            "justify_content": null,
            "justify_items": null,
            "left": null,
            "margin": null,
            "max_height": null,
            "max_width": null,
            "min_height": null,
            "min_width": null,
            "object_fit": null,
            "object_position": null,
            "order": null,
            "overflow": null,
            "overflow_x": null,
            "overflow_y": null,
            "padding": null,
            "right": null,
            "top": null,
            "visibility": null,
            "width": null
          }
        },
        "bac1a818e88544efb0f69bc9b882645e": {
          "model_module": "@jupyter-widgets/controls",
          "model_name": "DescriptionStyleModel",
          "model_module_version": "1.5.0",
          "state": {
            "_model_module": "@jupyter-widgets/controls",
            "_model_module_version": "1.5.0",
            "_model_name": "DescriptionStyleModel",
            "_view_count": null,
            "_view_module": "@jupyter-widgets/base",
            "_view_module_version": "1.2.0",
            "_view_name": "StyleView",
            "description_width": ""
          }
        },
        "9d546fa2e8714a398f0217ad42014dbc": {
          "model_module": "@jupyter-widgets/base",
          "model_name": "LayoutModel",
          "model_module_version": "1.2.0",
          "state": {
            "_model_module": "@jupyter-widgets/base",
            "_model_module_version": "1.2.0",
            "_model_name": "LayoutModel",
            "_view_count": null,
            "_view_module": "@jupyter-widgets/base",
            "_view_module_version": "1.2.0",
            "_view_name": "LayoutView",
            "align_content": null,
            "align_items": null,
            "align_self": null,
            "border": null,
            "bottom": null,
            "display": null,
            "flex": null,
            "flex_flow": null,
            "grid_area": null,
            "grid_auto_columns": null,
            "grid_auto_flow": null,
            "grid_auto_rows": null,
            "grid_column": null,
            "grid_gap": null,
            "grid_row": null,
            "grid_template_areas": null,
            "grid_template_columns": null,
            "grid_template_rows": null,
            "height": null,
            "justify_content": null,
            "justify_items": null,
            "left": null,
            "margin": null,
            "max_height": null,
            "max_width": null,
            "min_height": null,
            "min_width": null,
            "object_fit": null,
            "object_position": null,
            "order": null,
            "overflow": null,
            "overflow_x": null,
            "overflow_y": null,
            "padding": null,
            "right": null,
            "top": null,
            "visibility": null,
            "width": null
          }
        },
        "fdfabf706bb74943b9c1ee730d55dc7e": {
          "model_module": "@jupyter-widgets/controls",
          "model_name": "ProgressStyleModel",
          "model_module_version": "1.5.0",
          "state": {
            "_model_module": "@jupyter-widgets/controls",
            "_model_module_version": "1.5.0",
            "_model_name": "ProgressStyleModel",
            "_view_count": null,
            "_view_module": "@jupyter-widgets/base",
            "_view_module_version": "1.2.0",
            "_view_name": "StyleView",
            "bar_color": null,
            "description_width": ""
          }
        },
        "b68f98b8a39543c688be0ab9e4d759fe": {
          "model_module": "@jupyter-widgets/base",
          "model_name": "LayoutModel",
          "model_module_version": "1.2.0",
          "state": {
            "_model_module": "@jupyter-widgets/base",
            "_model_module_version": "1.2.0",
            "_model_name": "LayoutModel",
            "_view_count": null,
            "_view_module": "@jupyter-widgets/base",
            "_view_module_version": "1.2.0",
            "_view_name": "LayoutView",
            "align_content": null,
            "align_items": null,
            "align_self": null,
            "border": null,
            "bottom": null,
            "display": null,
            "flex": null,
            "flex_flow": null,
            "grid_area": null,
            "grid_auto_columns": null,
            "grid_auto_flow": null,
            "grid_auto_rows": null,
            "grid_column": null,
            "grid_gap": null,
            "grid_row": null,
            "grid_template_areas": null,
            "grid_template_columns": null,
            "grid_template_rows": null,
            "height": null,
            "justify_content": null,
            "justify_items": null,
            "left": null,
            "margin": null,
            "max_height": null,
            "max_width": null,
            "min_height": null,
            "min_width": null,
            "object_fit": null,
            "object_position": null,
            "order": null,
            "overflow": null,
            "overflow_x": null,
            "overflow_y": null,
            "padding": null,
            "right": null,
            "top": null,
            "visibility": null,
            "width": null
          }
        },
        "117dd519805941cc9bfe64c1cd142ccb": {
          "model_module": "@jupyter-widgets/controls",
          "model_name": "DescriptionStyleModel",
          "model_module_version": "1.5.0",
          "state": {
            "_model_module": "@jupyter-widgets/controls",
            "_model_module_version": "1.5.0",
            "_model_name": "DescriptionStyleModel",
            "_view_count": null,
            "_view_module": "@jupyter-widgets/base",
            "_view_module_version": "1.2.0",
            "_view_name": "StyleView",
            "description_width": ""
          }
        },
        "6b33e188d37949e5bc2297294f0ecbff": {
          "model_module": "@jupyter-widgets/controls",
          "model_name": "HBoxModel",
          "model_module_version": "1.5.0",
          "state": {
            "_dom_classes": [],
            "_model_module": "@jupyter-widgets/controls",
            "_model_module_version": "1.5.0",
            "_model_name": "HBoxModel",
            "_view_count": null,
            "_view_module": "@jupyter-widgets/controls",
            "_view_module_version": "1.5.0",
            "_view_name": "HBoxView",
            "box_style": "",
            "children": [
              "IPY_MODEL_5fcf4ef86d6b4bc095d41e820e34a161",
              "IPY_MODEL_a3ed6a4b5f484cc0b339ca67492254fe",
              "IPY_MODEL_e298a7a1fc1642a59e7d77187e266447"
            ],
            "layout": "IPY_MODEL_b5260950ac4d4eeca042018030c1a4b4"
          }
        },
        "5fcf4ef86d6b4bc095d41e820e34a161": {
          "model_module": "@jupyter-widgets/controls",
          "model_name": "HTMLModel",
          "model_module_version": "1.5.0",
          "state": {
            "_dom_classes": [],
            "_model_module": "@jupyter-widgets/controls",
            "_model_module_version": "1.5.0",
            "_model_name": "HTMLModel",
            "_view_count": null,
            "_view_module": "@jupyter-widgets/controls",
            "_view_module_version": "1.5.0",
            "_view_name": "HTMLView",
            "description": "",
            "description_tooltip": null,
            "layout": "IPY_MODEL_6456a360531b42b5a4f45485834e9939",
            "placeholder": "​",
            "style": "IPY_MODEL_5f9e6442626e48d3ba791a7b52dd47e2",
            "value": "data/interpro2keywords.csv: 100%"
          }
        },
        "a3ed6a4b5f484cc0b339ca67492254fe": {
          "model_module": "@jupyter-widgets/controls",
          "model_name": "FloatProgressModel",
          "model_module_version": "1.5.0",
          "state": {
            "_dom_classes": [],
            "_model_module": "@jupyter-widgets/controls",
            "_model_module_version": "1.5.0",
            "_model_name": "FloatProgressModel",
            "_view_count": null,
            "_view_module": "@jupyter-widgets/controls",
            "_view_module_version": "1.5.0",
            "_view_name": "ProgressView",
            "bar_style": "success",
            "description": "",
            "description_tooltip": null,
            "layout": "IPY_MODEL_4c4eb25867324e6eaff60beb9a674197",
            "max": 7320318,
            "min": 0,
            "orientation": "horizontal",
            "style": "IPY_MODEL_6d0b858420c44cb5a8ef1641e8277cf2",
            "value": 7320318
          }
        },
        "e298a7a1fc1642a59e7d77187e266447": {
          "model_module": "@jupyter-widgets/controls",
          "model_name": "HTMLModel",
          "model_module_version": "1.5.0",
          "state": {
            "_dom_classes": [],
            "_model_module": "@jupyter-widgets/controls",
            "_model_module_version": "1.5.0",
            "_model_name": "HTMLModel",
            "_view_count": null,
            "_view_module": "@jupyter-widgets/controls",
            "_view_module_version": "1.5.0",
            "_view_name": "HTMLView",
            "description": "",
            "description_tooltip": null,
            "layout": "IPY_MODEL_e8fd65b997544f7d8eccac0dbd61b9f9",
            "placeholder": "​",
            "style": "IPY_MODEL_f03d2d51bab846ac8bba92448994270b",
            "value": " 7.32M/7.32M [00:00&lt;00:00, 13.8MB/s]"
          }
        },
        "b5260950ac4d4eeca042018030c1a4b4": {
          "model_module": "@jupyter-widgets/base",
          "model_name": "LayoutModel",
          "model_module_version": "1.2.0",
          "state": {
            "_model_module": "@jupyter-widgets/base",
            "_model_module_version": "1.2.0",
            "_model_name": "LayoutModel",
            "_view_count": null,
            "_view_module": "@jupyter-widgets/base",
            "_view_module_version": "1.2.0",
            "_view_name": "LayoutView",
            "align_content": null,
            "align_items": null,
            "align_self": null,
            "border": null,
            "bottom": null,
            "display": null,
            "flex": null,
            "flex_flow": null,
            "grid_area": null,
            "grid_auto_columns": null,
            "grid_auto_flow": null,
            "grid_auto_rows": null,
            "grid_column": null,
            "grid_gap": null,
            "grid_row": null,
            "grid_template_areas": null,
            "grid_template_columns": null,
            "grid_template_rows": null,
            "height": null,
            "justify_content": null,
            "justify_items": null,
            "left": null,
            "margin": null,
            "max_height": null,
            "max_width": null,
            "min_height": null,
            "min_width": null,
            "object_fit": null,
            "object_position": null,
            "order": null,
            "overflow": null,
            "overflow_x": null,
            "overflow_y": null,
            "padding": null,
            "right": null,
            "top": null,
            "visibility": null,
            "width": null
          }
        },
        "6456a360531b42b5a4f45485834e9939": {
          "model_module": "@jupyter-widgets/base",
          "model_name": "LayoutModel",
          "model_module_version": "1.2.0",
          "state": {
            "_model_module": "@jupyter-widgets/base",
            "_model_module_version": "1.2.0",
            "_model_name": "LayoutModel",
            "_view_count": null,
            "_view_module": "@jupyter-widgets/base",
            "_view_module_version": "1.2.0",
            "_view_name": "LayoutView",
            "align_content": null,
            "align_items": null,
            "align_self": null,
            "border": null,
            "bottom": null,
            "display": null,
            "flex": null,
            "flex_flow": null,
            "grid_area": null,
            "grid_auto_columns": null,
            "grid_auto_flow": null,
            "grid_auto_rows": null,
            "grid_column": null,
            "grid_gap": null,
            "grid_row": null,
            "grid_template_areas": null,
            "grid_template_columns": null,
            "grid_template_rows": null,
            "height": null,
            "justify_content": null,
            "justify_items": null,
            "left": null,
            "margin": null,
            "max_height": null,
            "max_width": null,
            "min_height": null,
            "min_width": null,
            "object_fit": null,
            "object_position": null,
            "order": null,
            "overflow": null,
            "overflow_x": null,
            "overflow_y": null,
            "padding": null,
            "right": null,
            "top": null,
            "visibility": null,
            "width": null
          }
        },
        "5f9e6442626e48d3ba791a7b52dd47e2": {
          "model_module": "@jupyter-widgets/controls",
          "model_name": "DescriptionStyleModel",
          "model_module_version": "1.5.0",
          "state": {
            "_model_module": "@jupyter-widgets/controls",
            "_model_module_version": "1.5.0",
            "_model_name": "DescriptionStyleModel",
            "_view_count": null,
            "_view_module": "@jupyter-widgets/base",
            "_view_module_version": "1.2.0",
            "_view_name": "StyleView",
            "description_width": ""
          }
        },
        "4c4eb25867324e6eaff60beb9a674197": {
          "model_module": "@jupyter-widgets/base",
          "model_name": "LayoutModel",
          "model_module_version": "1.2.0",
          "state": {
            "_model_module": "@jupyter-widgets/base",
            "_model_module_version": "1.2.0",
            "_model_name": "LayoutModel",
            "_view_count": null,
            "_view_module": "@jupyter-widgets/base",
            "_view_module_version": "1.2.0",
            "_view_name": "LayoutView",
            "align_content": null,
            "align_items": null,
            "align_self": null,
            "border": null,
            "bottom": null,
            "display": null,
            "flex": null,
            "flex_flow": null,
            "grid_area": null,
            "grid_auto_columns": null,
            "grid_auto_flow": null,
            "grid_auto_rows": null,
            "grid_column": null,
            "grid_gap": null,
            "grid_row": null,
            "grid_template_areas": null,
            "grid_template_columns": null,
            "grid_template_rows": null,
            "height": null,
            "justify_content": null,
            "justify_items": null,
            "left": null,
            "margin": null,
            "max_height": null,
            "max_width": null,
            "min_height": null,
            "min_width": null,
            "object_fit": null,
            "object_position": null,
            "order": null,
            "overflow": null,
            "overflow_x": null,
            "overflow_y": null,
            "padding": null,
            "right": null,
            "top": null,
            "visibility": null,
            "width": null
          }
        },
        "6d0b858420c44cb5a8ef1641e8277cf2": {
          "model_module": "@jupyter-widgets/controls",
          "model_name": "ProgressStyleModel",
          "model_module_version": "1.5.0",
          "state": {
            "_model_module": "@jupyter-widgets/controls",
            "_model_module_version": "1.5.0",
            "_model_name": "ProgressStyleModel",
            "_view_count": null,
            "_view_module": "@jupyter-widgets/base",
            "_view_module_version": "1.2.0",
            "_view_name": "StyleView",
            "bar_color": null,
            "description_width": ""
          }
        },
        "e8fd65b997544f7d8eccac0dbd61b9f9": {
          "model_module": "@jupyter-widgets/base",
          "model_name": "LayoutModel",
          "model_module_version": "1.2.0",
          "state": {
            "_model_module": "@jupyter-widgets/base",
            "_model_module_version": "1.2.0",
            "_model_name": "LayoutModel",
            "_view_count": null,
            "_view_module": "@jupyter-widgets/base",
            "_view_module_version": "1.2.0",
            "_view_name": "LayoutView",
            "align_content": null,
            "align_items": null,
            "align_self": null,
            "border": null,
            "bottom": null,
            "display": null,
            "flex": null,
            "flex_flow": null,
            "grid_area": null,
            "grid_auto_columns": null,
            "grid_auto_flow": null,
            "grid_auto_rows": null,
            "grid_column": null,
            "grid_gap": null,
            "grid_row": null,
            "grid_template_areas": null,
            "grid_template_columns": null,
            "grid_template_rows": null,
            "height": null,
            "justify_content": null,
            "justify_items": null,
            "left": null,
            "margin": null,
            "max_height": null,
            "max_width": null,
            "min_height": null,
            "min_width": null,
            "object_fit": null,
            "object_position": null,
            "order": null,
            "overflow": null,
            "overflow_x": null,
            "overflow_y": null,
            "padding": null,
            "right": null,
            "top": null,
            "visibility": null,
            "width": null
          }
        },
        "f03d2d51bab846ac8bba92448994270b": {
          "model_module": "@jupyter-widgets/controls",
          "model_name": "DescriptionStyleModel",
          "model_module_version": "1.5.0",
          "state": {
            "_model_module": "@jupyter-widgets/controls",
            "_model_module_version": "1.5.0",
            "_model_name": "DescriptionStyleModel",
            "_view_count": null,
            "_view_module": "@jupyter-widgets/base",
            "_view_module_version": "1.2.0",
            "_view_name": "StyleView",
            "description_width": ""
          }
        },
        "86a68559718f4acea424248ed3c10d6f": {
          "model_module": "@jupyter-widgets/controls",
          "model_name": "HBoxModel",
          "model_module_version": "1.5.0",
          "state": {
            "_dom_classes": [],
            "_model_module": "@jupyter-widgets/controls",
            "_model_module_version": "1.5.0",
            "_model_name": "HBoxModel",
            "_view_count": null,
            "_view_module": "@jupyter-widgets/controls",
            "_view_module_version": "1.5.0",
            "_view_name": "HBoxView",
            "box_style": "",
            "children": [
              "IPY_MODEL_78fc7405129f4aeab733186e826cb35e",
              "IPY_MODEL_4bb84f16396448df9ca32e613f5133d1",
              "IPY_MODEL_3a71133343e84379af0514d6ac975f56"
            ],
            "layout": "IPY_MODEL_9d506fb97cf04dba900c51ce99f8c465"
          }
        },
        "78fc7405129f4aeab733186e826cb35e": {
          "model_module": "@jupyter-widgets/controls",
          "model_name": "HTMLModel",
          "model_module_version": "1.5.0",
          "state": {
            "_dom_classes": [],
            "_model_module": "@jupyter-widgets/controls",
            "_model_module_version": "1.5.0",
            "_model_name": "HTMLModel",
            "_view_count": null,
            "_view_module": "@jupyter-widgets/controls",
            "_view_module_version": "1.5.0",
            "_view_name": "HTMLView",
            "description": "",
            "description_tooltip": null,
            "layout": "IPY_MODEL_7cab5514a9cb4275aff22fc3d6814e68",
            "placeholder": "​",
            "style": "IPY_MODEL_f0437e5175b74a7a8cc3aca8cb2506c1",
            "value": "(…)ord_vocabulary_safety_filtered_58641.txt: 100%"
          }
        },
        "4bb84f16396448df9ca32e613f5133d1": {
          "model_module": "@jupyter-widgets/controls",
          "model_name": "FloatProgressModel",
          "model_module_version": "1.5.0",
          "state": {
            "_dom_classes": [],
            "_model_module": "@jupyter-widgets/controls",
            "_model_module_version": "1.5.0",
            "_model_name": "FloatProgressModel",
            "_view_count": null,
            "_view_module": "@jupyter-widgets/controls",
            "_view_module_version": "1.5.0",
            "_view_name": "ProgressView",
            "bar_style": "success",
            "description": "",
            "description_tooltip": null,
            "layout": "IPY_MODEL_f37d0d697f4347e1b8c848a0e7e0981f",
            "max": 787696,
            "min": 0,
            "orientation": "horizontal",
            "style": "IPY_MODEL_8645ac7f35064d24b9c857b5cf021347",
            "value": 787696
          }
        },
        "3a71133343e84379af0514d6ac975f56": {
          "model_module": "@jupyter-widgets/controls",
          "model_name": "HTMLModel",
          "model_module_version": "1.5.0",
          "state": {
            "_dom_classes": [],
            "_model_module": "@jupyter-widgets/controls",
            "_model_module_version": "1.5.0",
            "_model_name": "HTMLModel",
            "_view_count": null,
            "_view_module": "@jupyter-widgets/controls",
            "_view_module_version": "1.5.0",
            "_view_name": "HTMLView",
            "description": "",
            "description_tooltip": null,
            "layout": "IPY_MODEL_4ae40f4a8e7e493d8dc0a56dbfe6264b",
            "placeholder": "​",
            "style": "IPY_MODEL_4b025c70108944e09b88743f705d380a",
            "value": " 788k/788k [00:00&lt;00:00, 4.52MB/s]"
          }
        },
        "9d506fb97cf04dba900c51ce99f8c465": {
          "model_module": "@jupyter-widgets/base",
          "model_name": "LayoutModel",
          "model_module_version": "1.2.0",
          "state": {
            "_model_module": "@jupyter-widgets/base",
            "_model_module_version": "1.2.0",
            "_model_name": "LayoutModel",
            "_view_count": null,
            "_view_module": "@jupyter-widgets/base",
            "_view_module_version": "1.2.0",
            "_view_name": "LayoutView",
            "align_content": null,
            "align_items": null,
            "align_self": null,
            "border": null,
            "bottom": null,
            "display": null,
            "flex": null,
            "flex_flow": null,
            "grid_area": null,
            "grid_auto_columns": null,
            "grid_auto_flow": null,
            "grid_auto_rows": null,
            "grid_column": null,
            "grid_gap": null,
            "grid_row": null,
            "grid_template_areas": null,
            "grid_template_columns": null,
            "grid_template_rows": null,
            "height": null,
            "justify_content": null,
            "justify_items": null,
            "left": null,
            "margin": null,
            "max_height": null,
            "max_width": null,
            "min_height": null,
            "min_width": null,
            "object_fit": null,
            "object_position": null,
            "order": null,
            "overflow": null,
            "overflow_x": null,
            "overflow_y": null,
            "padding": null,
            "right": null,
            "top": null,
            "visibility": null,
            "width": null
          }
        },
        "7cab5514a9cb4275aff22fc3d6814e68": {
          "model_module": "@jupyter-widgets/base",
          "model_name": "LayoutModel",
          "model_module_version": "1.2.0",
          "state": {
            "_model_module": "@jupyter-widgets/base",
            "_model_module_version": "1.2.0",
            "_model_name": "LayoutModel",
            "_view_count": null,
            "_view_module": "@jupyter-widgets/base",
            "_view_module_version": "1.2.0",
            "_view_name": "LayoutView",
            "align_content": null,
            "align_items": null,
            "align_self": null,
            "border": null,
            "bottom": null,
            "display": null,
            "flex": null,
            "flex_flow": null,
            "grid_area": null,
            "grid_auto_columns": null,
            "grid_auto_flow": null,
            "grid_auto_rows": null,
            "grid_column": null,
            "grid_gap": null,
            "grid_row": null,
            "grid_template_areas": null,
            "grid_template_columns": null,
            "grid_template_rows": null,
            "height": null,
            "justify_content": null,
            "justify_items": null,
            "left": null,
            "margin": null,
            "max_height": null,
            "max_width": null,
            "min_height": null,
            "min_width": null,
            "object_fit": null,
            "object_position": null,
            "order": null,
            "overflow": null,
            "overflow_x": null,
            "overflow_y": null,
            "padding": null,
            "right": null,
            "top": null,
            "visibility": null,
            "width": null
          }
        },
        "f0437e5175b74a7a8cc3aca8cb2506c1": {
          "model_module": "@jupyter-widgets/controls",
          "model_name": "DescriptionStyleModel",
          "model_module_version": "1.5.0",
          "state": {
            "_model_module": "@jupyter-widgets/controls",
            "_model_module_version": "1.5.0",
            "_model_name": "DescriptionStyleModel",
            "_view_count": null,
            "_view_module": "@jupyter-widgets/base",
            "_view_module_version": "1.2.0",
            "_view_name": "StyleView",
            "description_width": ""
          }
        },
        "f37d0d697f4347e1b8c848a0e7e0981f": {
          "model_module": "@jupyter-widgets/base",
          "model_name": "LayoutModel",
          "model_module_version": "1.2.0",
          "state": {
            "_model_module": "@jupyter-widgets/base",
            "_model_module_version": "1.2.0",
            "_model_name": "LayoutModel",
            "_view_count": null,
            "_view_module": "@jupyter-widgets/base",
            "_view_module_version": "1.2.0",
            "_view_name": "LayoutView",
            "align_content": null,
            "align_items": null,
            "align_self": null,
            "border": null,
            "bottom": null,
            "display": null,
            "flex": null,
            "flex_flow": null,
            "grid_area": null,
            "grid_auto_columns": null,
            "grid_auto_flow": null,
            "grid_auto_rows": null,
            "grid_column": null,
            "grid_gap": null,
            "grid_row": null,
            "grid_template_areas": null,
            "grid_template_columns": null,
            "grid_template_rows": null,
            "height": null,
            "justify_content": null,
            "justify_items": null,
            "left": null,
            "margin": null,
            "max_height": null,
            "max_width": null,
            "min_height": null,
            "min_width": null,
            "object_fit": null,
            "object_position": null,
            "order": null,
            "overflow": null,
            "overflow_x": null,
            "overflow_y": null,
            "padding": null,
            "right": null,
            "top": null,
            "visibility": null,
            "width": null
          }
        },
        "8645ac7f35064d24b9c857b5cf021347": {
          "model_module": "@jupyter-widgets/controls",
          "model_name": "ProgressStyleModel",
          "model_module_version": "1.5.0",
          "state": {
            "_model_module": "@jupyter-widgets/controls",
            "_model_module_version": "1.5.0",
            "_model_name": "ProgressStyleModel",
            "_view_count": null,
            "_view_module": "@jupyter-widgets/base",
            "_view_module_version": "1.2.0",
            "_view_name": "StyleView",
            "bar_color": null,
            "description_width": ""
          }
        },
        "4ae40f4a8e7e493d8dc0a56dbfe6264b": {
          "model_module": "@jupyter-widgets/base",
          "model_name": "LayoutModel",
          "model_module_version": "1.2.0",
          "state": {
            "_model_module": "@jupyter-widgets/base",
            "_model_module_version": "1.2.0",
            "_model_name": "LayoutModel",
            "_view_count": null,
            "_view_module": "@jupyter-widgets/base",
            "_view_module_version": "1.2.0",
            "_view_name": "LayoutView",
            "align_content": null,
            "align_items": null,
            "align_self": null,
            "border": null,
            "bottom": null,
            "display": null,
            "flex": null,
            "flex_flow": null,
            "grid_area": null,
            "grid_auto_columns": null,
            "grid_auto_flow": null,
            "grid_auto_rows": null,
            "grid_column": null,
            "grid_gap": null,
            "grid_row": null,
            "grid_template_areas": null,
            "grid_template_columns": null,
            "grid_template_rows": null,
            "height": null,
            "justify_content": null,
            "justify_items": null,
            "left": null,
            "margin": null,
            "max_height": null,
            "max_width": null,
            "min_height": null,
            "min_width": null,
            "object_fit": null,
            "object_position": null,
            "order": null,
            "overflow": null,
            "overflow_x": null,
            "overflow_y": null,
            "padding": null,
            "right": null,
            "top": null,
            "visibility": null,
            "width": null
          }
        },
        "4b025c70108944e09b88743f705d380a": {
          "model_module": "@jupyter-widgets/controls",
          "model_name": "DescriptionStyleModel",
          "model_module_version": "1.5.0",
          "state": {
            "_model_module": "@jupyter-widgets/controls",
            "_model_module_version": "1.5.0",
            "_model_name": "DescriptionStyleModel",
            "_view_count": null,
            "_view_module": "@jupyter-widgets/base",
            "_view_module_version": "1.2.0",
            "_view_name": "StyleView",
            "description_width": ""
          }
        },
        "02a3bd12050541e286ba9e7e6a8a7d57": {
          "model_module": "@jupyter-widgets/controls",
          "model_name": "HBoxModel",
          "model_module_version": "1.5.0",
          "state": {
            "_dom_classes": [],
            "_model_module": "@jupyter-widgets/controls",
            "_model_module_version": "1.5.0",
            "_model_name": "HBoxModel",
            "_view_count": null,
            "_view_module": "@jupyter-widgets/controls",
            "_view_module_version": "1.5.0",
            "_view_name": "HBoxView",
            "box_style": "",
            "children": [
              "IPY_MODEL_4bbbda4c521d47b293a0578e8b0ca383",
              "IPY_MODEL_d46258a0d01648a295cc5d2079d653a0",
              "IPY_MODEL_941edac8d0124b0fbba858a1a1e68ecf"
            ],
            "layout": "IPY_MODEL_ccd2e23a6733465e96520e3f6214a1fa"
          }
        },
        "4bbbda4c521d47b293a0578e8b0ca383": {
          "model_module": "@jupyter-widgets/controls",
          "model_name": "HTMLModel",
          "model_module_version": "1.5.0",
          "state": {
            "_dom_classes": [],
            "_model_module": "@jupyter-widgets/controls",
            "_model_module_version": "1.5.0",
            "_model_name": "HTMLModel",
            "_view_count": null,
            "_view_module": "@jupyter-widgets/controls",
            "_view_module_version": "1.5.0",
            "_view_name": "HTMLView",
            "description": "",
            "description_tooltip": null,
            "layout": "IPY_MODEL_8a312e3dadb649a8a9c1a565bc542541",
            "placeholder": "​",
            "style": "IPY_MODEL_8f84cd1a3d034c4492984f698169833a",
            "value": "data/keywords.txt: 100%"
          }
        },
        "d46258a0d01648a295cc5d2079d653a0": {
          "model_module": "@jupyter-widgets/controls",
          "model_name": "FloatProgressModel",
          "model_module_version": "1.5.0",
          "state": {
            "_dom_classes": [],
            "_model_module": "@jupyter-widgets/controls",
            "_model_module_version": "1.5.0",
            "_model_name": "FloatProgressModel",
            "_view_count": null,
            "_view_module": "@jupyter-widgets/controls",
            "_view_module_version": "1.5.0",
            "_view_name": "ProgressView",
            "bar_style": "success",
            "description": "",
            "description_tooltip": null,
            "layout": "IPY_MODEL_d79924a3930b4e78a34a6f4df4ac4d5a",
            "max": 787695,
            "min": 0,
            "orientation": "horizontal",
            "style": "IPY_MODEL_1f1e2a7e56ea4e58b4ca4104aa483f8a",
            "value": 787695
          }
        },
        "941edac8d0124b0fbba858a1a1e68ecf": {
          "model_module": "@jupyter-widgets/controls",
          "model_name": "HTMLModel",
          "model_module_version": "1.5.0",
          "state": {
            "_dom_classes": [],
            "_model_module": "@jupyter-widgets/controls",
            "_model_module_version": "1.5.0",
            "_model_name": "HTMLModel",
            "_view_count": null,
            "_view_module": "@jupyter-widgets/controls",
            "_view_module_version": "1.5.0",
            "_view_name": "HTMLView",
            "description": "",
            "description_tooltip": null,
            "layout": "IPY_MODEL_d9ef30bce6cf42daa2c154ce1a162ebb",
            "placeholder": "​",
            "style": "IPY_MODEL_825148fb193d45da9015c4d35a44516a",
            "value": " 788k/788k [00:00&lt;00:00, 2.87MB/s]"
          }
        },
        "ccd2e23a6733465e96520e3f6214a1fa": {
          "model_module": "@jupyter-widgets/base",
          "model_name": "LayoutModel",
          "model_module_version": "1.2.0",
          "state": {
            "_model_module": "@jupyter-widgets/base",
            "_model_module_version": "1.2.0",
            "_model_name": "LayoutModel",
            "_view_count": null,
            "_view_module": "@jupyter-widgets/base",
            "_view_module_version": "1.2.0",
            "_view_name": "LayoutView",
            "align_content": null,
            "align_items": null,
            "align_self": null,
            "border": null,
            "bottom": null,
            "display": null,
            "flex": null,
            "flex_flow": null,
            "grid_area": null,
            "grid_auto_columns": null,
            "grid_auto_flow": null,
            "grid_auto_rows": null,
            "grid_column": null,
            "grid_gap": null,
            "grid_row": null,
            "grid_template_areas": null,
            "grid_template_columns": null,
            "grid_template_rows": null,
            "height": null,
            "justify_content": null,
            "justify_items": null,
            "left": null,
            "margin": null,
            "max_height": null,
            "max_width": null,
            "min_height": null,
            "min_width": null,
            "object_fit": null,
            "object_position": null,
            "order": null,
            "overflow": null,
            "overflow_x": null,
            "overflow_y": null,
            "padding": null,
            "right": null,
            "top": null,
            "visibility": null,
            "width": null
          }
        },
        "8a312e3dadb649a8a9c1a565bc542541": {
          "model_module": "@jupyter-widgets/base",
          "model_name": "LayoutModel",
          "model_module_version": "1.2.0",
          "state": {
            "_model_module": "@jupyter-widgets/base",
            "_model_module_version": "1.2.0",
            "_model_name": "LayoutModel",
            "_view_count": null,
            "_view_module": "@jupyter-widgets/base",
            "_view_module_version": "1.2.0",
            "_view_name": "LayoutView",
            "align_content": null,
            "align_items": null,
            "align_self": null,
            "border": null,
            "bottom": null,
            "display": null,
            "flex": null,
            "flex_flow": null,
            "grid_area": null,
            "grid_auto_columns": null,
            "grid_auto_flow": null,
            "grid_auto_rows": null,
            "grid_column": null,
            "grid_gap": null,
            "grid_row": null,
            "grid_template_areas": null,
            "grid_template_columns": null,
            "grid_template_rows": null,
            "height": null,
            "justify_content": null,
            "justify_items": null,
            "left": null,
            "margin": null,
            "max_height": null,
            "max_width": null,
            "min_height": null,
            "min_width": null,
            "object_fit": null,
            "object_position": null,
            "order": null,
            "overflow": null,
            "overflow_x": null,
            "overflow_y": null,
            "padding": null,
            "right": null,
            "top": null,
            "visibility": null,
            "width": null
          }
        },
        "8f84cd1a3d034c4492984f698169833a": {
          "model_module": "@jupyter-widgets/controls",
          "model_name": "DescriptionStyleModel",
          "model_module_version": "1.5.0",
          "state": {
            "_model_module": "@jupyter-widgets/controls",
            "_model_module_version": "1.5.0",
            "_model_name": "DescriptionStyleModel",
            "_view_count": null,
            "_view_module": "@jupyter-widgets/base",
            "_view_module_version": "1.2.0",
            "_view_name": "StyleView",
            "description_width": ""
          }
        },
        "d79924a3930b4e78a34a6f4df4ac4d5a": {
          "model_module": "@jupyter-widgets/base",
          "model_name": "LayoutModel",
          "model_module_version": "1.2.0",
          "state": {
            "_model_module": "@jupyter-widgets/base",
            "_model_module_version": "1.2.0",
            "_model_name": "LayoutModel",
            "_view_count": null,
            "_view_module": "@jupyter-widgets/base",
            "_view_module_version": "1.2.0",
            "_view_name": "LayoutView",
            "align_content": null,
            "align_items": null,
            "align_self": null,
            "border": null,
            "bottom": null,
            "display": null,
            "flex": null,
            "flex_flow": null,
            "grid_area": null,
            "grid_auto_columns": null,
            "grid_auto_flow": null,
            "grid_auto_rows": null,
            "grid_column": null,
            "grid_gap": null,
            "grid_row": null,
            "grid_template_areas": null,
            "grid_template_columns": null,
            "grid_template_rows": null,
            "height": null,
            "justify_content": null,
            "justify_items": null,
            "left": null,
            "margin": null,
            "max_height": null,
            "max_width": null,
            "min_height": null,
            "min_width": null,
            "object_fit": null,
            "object_position": null,
            "order": null,
            "overflow": null,
            "overflow_x": null,
            "overflow_y": null,
            "padding": null,
            "right": null,
            "top": null,
            "visibility": null,
            "width": null
          }
        },
        "1f1e2a7e56ea4e58b4ca4104aa483f8a": {
          "model_module": "@jupyter-widgets/controls",
          "model_name": "ProgressStyleModel",
          "model_module_version": "1.5.0",
          "state": {
            "_model_module": "@jupyter-widgets/controls",
            "_model_module_version": "1.5.0",
            "_model_name": "ProgressStyleModel",
            "_view_count": null,
            "_view_module": "@jupyter-widgets/base",
            "_view_module_version": "1.2.0",
            "_view_name": "StyleView",
            "bar_color": null,
            "description_width": ""
          }
        },
        "d9ef30bce6cf42daa2c154ce1a162ebb": {
          "model_module": "@jupyter-widgets/base",
          "model_name": "LayoutModel",
          "model_module_version": "1.2.0",
          "state": {
            "_model_module": "@jupyter-widgets/base",
            "_model_module_version": "1.2.0",
            "_model_name": "LayoutModel",
            "_view_count": null,
            "_view_module": "@jupyter-widgets/base",
            "_view_module_version": "1.2.0",
            "_view_name": "LayoutView",
            "align_content": null,
            "align_items": null,
            "align_self": null,
            "border": null,
            "bottom": null,
            "display": null,
            "flex": null,
            "flex_flow": null,
            "grid_area": null,
            "grid_auto_columns": null,
            "grid_auto_flow": null,
            "grid_auto_rows": null,
            "grid_column": null,
            "grid_gap": null,
            "grid_row": null,
            "grid_template_areas": null,
            "grid_template_columns": null,
            "grid_template_rows": null,
            "height": null,
            "justify_content": null,
            "justify_items": null,
            "left": null,
            "margin": null,
            "max_height": null,
            "max_width": null,
            "min_height": null,
            "min_width": null,
            "object_fit": null,
            "object_position": null,
            "order": null,
            "overflow": null,
            "overflow_x": null,
            "overflow_y": null,
            "padding": null,
            "right": null,
            "top": null,
            "visibility": null,
            "width": null
          }
        },
        "825148fb193d45da9015c4d35a44516a": {
          "model_module": "@jupyter-widgets/controls",
          "model_name": "DescriptionStyleModel",
          "model_module_version": "1.5.0",
          "state": {
            "_model_module": "@jupyter-widgets/controls",
            "_model_module_version": "1.5.0",
            "_model_name": "DescriptionStyleModel",
            "_view_count": null,
            "_view_module": "@jupyter-widgets/base",
            "_view_module_version": "1.2.0",
            "_view_name": "StyleView",
            "description_width": ""
          }
        },
        "4f8c0451d05e43658b265d2ae4766faf": {
          "model_module": "@jupyter-widgets/controls",
          "model_name": "HBoxModel",
          "model_module_version": "1.5.0",
          "state": {
            "_dom_classes": [],
            "_model_module": "@jupyter-widgets/controls",
            "_model_module_version": "1.5.0",
            "_model_name": "HBoxModel",
            "_view_count": null,
            "_view_module": "@jupyter-widgets/controls",
            "_view_module_version": "1.5.0",
            "_view_name": "HBoxView",
            "box_style": "",
            "children": [
              "IPY_MODEL_400c6a298be04761863ad9699c5face3",
              "IPY_MODEL_e5458361689144a889236068685329c7",
              "IPY_MODEL_d0c38a638ef844878367a736d3dbfb9f"
            ],
            "layout": "IPY_MODEL_6a28848406d84b8da80a7c7fc133ddd9"
          }
        },
        "400c6a298be04761863ad9699c5face3": {
          "model_module": "@jupyter-widgets/controls",
          "model_name": "HTMLModel",
          "model_module_version": "1.5.0",
          "state": {
            "_dom_classes": [],
            "_model_module": "@jupyter-widgets/controls",
            "_model_module_version": "1.5.0",
            "_model_name": "HTMLModel",
            "_view_count": null,
            "_view_module": "@jupyter-widgets/controls",
            "_view_module_version": "1.5.0",
            "_view_name": "HTMLView",
            "description": "",
            "description_tooltip": null,
            "layout": "IPY_MODEL_b1014d4e7cfc43c28c3d9facf76da544",
            "placeholder": "​",
            "style": "IPY_MODEL_b9ee2aadd6fa45e487ffe265a744879d",
            "value": "data/tag_dict_4.json: 100%"
          }
        },
        "e5458361689144a889236068685329c7": {
          "model_module": "@jupyter-widgets/controls",
          "model_name": "FloatProgressModel",
          "model_module_version": "1.5.0",
          "state": {
            "_dom_classes": [],
            "_model_module": "@jupyter-widgets/controls",
            "_model_module_version": "1.5.0",
            "_model_name": "FloatProgressModel",
            "_view_count": null,
            "_view_module": "@jupyter-widgets/controls",
            "_view_module_version": "1.5.0",
            "_view_name": "ProgressView",
            "bar_style": "success",
            "description": "",
            "description_tooltip": null,
            "layout": "IPY_MODEL_ee4cd096d0644f4295739630cdc67a5c",
            "max": 691190,
            "min": 0,
            "orientation": "horizontal",
            "style": "IPY_MODEL_ead3d579775b4dbe841eb72e2b2ddf62",
            "value": 691190
          }
        },
        "d0c38a638ef844878367a736d3dbfb9f": {
          "model_module": "@jupyter-widgets/controls",
          "model_name": "HTMLModel",
          "model_module_version": "1.5.0",
          "state": {
            "_dom_classes": [],
            "_model_module": "@jupyter-widgets/controls",
            "_model_module_version": "1.5.0",
            "_model_name": "HTMLModel",
            "_view_count": null,
            "_view_module": "@jupyter-widgets/controls",
            "_view_module_version": "1.5.0",
            "_view_name": "HTMLView",
            "description": "",
            "description_tooltip": null,
            "layout": "IPY_MODEL_08f62bec8cbc4208887f9c87d959bec7",
            "placeholder": "​",
            "style": "IPY_MODEL_2116c6388a00413abdbed3a9facc57be",
            "value": " 691k/691k [00:00&lt;00:00, 5.17MB/s]"
          }
        },
        "6a28848406d84b8da80a7c7fc133ddd9": {
          "model_module": "@jupyter-widgets/base",
          "model_name": "LayoutModel",
          "model_module_version": "1.2.0",
          "state": {
            "_model_module": "@jupyter-widgets/base",
            "_model_module_version": "1.2.0",
            "_model_name": "LayoutModel",
            "_view_count": null,
            "_view_module": "@jupyter-widgets/base",
            "_view_module_version": "1.2.0",
            "_view_name": "LayoutView",
            "align_content": null,
            "align_items": null,
            "align_self": null,
            "border": null,
            "bottom": null,
            "display": null,
            "flex": null,
            "flex_flow": null,
            "grid_area": null,
            "grid_auto_columns": null,
            "grid_auto_flow": null,
            "grid_auto_rows": null,
            "grid_column": null,
            "grid_gap": null,
            "grid_row": null,
            "grid_template_areas": null,
            "grid_template_columns": null,
            "grid_template_rows": null,
            "height": null,
            "justify_content": null,
            "justify_items": null,
            "left": null,
            "margin": null,
            "max_height": null,
            "max_width": null,
            "min_height": null,
            "min_width": null,
            "object_fit": null,
            "object_position": null,
            "order": null,
            "overflow": null,
            "overflow_x": null,
            "overflow_y": null,
            "padding": null,
            "right": null,
            "top": null,
            "visibility": null,
            "width": null
          }
        },
        "b1014d4e7cfc43c28c3d9facf76da544": {
          "model_module": "@jupyter-widgets/base",
          "model_name": "LayoutModel",
          "model_module_version": "1.2.0",
          "state": {
            "_model_module": "@jupyter-widgets/base",
            "_model_module_version": "1.2.0",
            "_model_name": "LayoutModel",
            "_view_count": null,
            "_view_module": "@jupyter-widgets/base",
            "_view_module_version": "1.2.0",
            "_view_name": "LayoutView",
            "align_content": null,
            "align_items": null,
            "align_self": null,
            "border": null,
            "bottom": null,
            "display": null,
            "flex": null,
            "flex_flow": null,
            "grid_area": null,
            "grid_auto_columns": null,
            "grid_auto_flow": null,
            "grid_auto_rows": null,
            "grid_column": null,
            "grid_gap": null,
            "grid_row": null,
            "grid_template_areas": null,
            "grid_template_columns": null,
            "grid_template_rows": null,
            "height": null,
            "justify_content": null,
            "justify_items": null,
            "left": null,
            "margin": null,
            "max_height": null,
            "max_width": null,
            "min_height": null,
            "min_width": null,
            "object_fit": null,
            "object_position": null,
            "order": null,
            "overflow": null,
            "overflow_x": null,
            "overflow_y": null,
            "padding": null,
            "right": null,
            "top": null,
            "visibility": null,
            "width": null
          }
        },
        "b9ee2aadd6fa45e487ffe265a744879d": {
          "model_module": "@jupyter-widgets/controls",
          "model_name": "DescriptionStyleModel",
          "model_module_version": "1.5.0",
          "state": {
            "_model_module": "@jupyter-widgets/controls",
            "_model_module_version": "1.5.0",
            "_model_name": "DescriptionStyleModel",
            "_view_count": null,
            "_view_module": "@jupyter-widgets/base",
            "_view_module_version": "1.2.0",
            "_view_name": "StyleView",
            "description_width": ""
          }
        },
        "ee4cd096d0644f4295739630cdc67a5c": {
          "model_module": "@jupyter-widgets/base",
          "model_name": "LayoutModel",
          "model_module_version": "1.2.0",
          "state": {
            "_model_module": "@jupyter-widgets/base",
            "_model_module_version": "1.2.0",
            "_model_name": "LayoutModel",
            "_view_count": null,
            "_view_module": "@jupyter-widgets/base",
            "_view_module_version": "1.2.0",
            "_view_name": "LayoutView",
            "align_content": null,
            "align_items": null,
            "align_self": null,
            "border": null,
            "bottom": null,
            "display": null,
            "flex": null,
            "flex_flow": null,
            "grid_area": null,
            "grid_auto_columns": null,
            "grid_auto_flow": null,
            "grid_auto_rows": null,
            "grid_column": null,
            "grid_gap": null,
            "grid_row": null,
            "grid_template_areas": null,
            "grid_template_columns": null,
            "grid_template_rows": null,
            "height": null,
            "justify_content": null,
            "justify_items": null,
            "left": null,
            "margin": null,
            "max_height": null,
            "max_width": null,
            "min_height": null,
            "min_width": null,
            "object_fit": null,
            "object_position": null,
            "order": null,
            "overflow": null,
            "overflow_x": null,
            "overflow_y": null,
            "padding": null,
            "right": null,
            "top": null,
            "visibility": null,
            "width": null
          }
        },
        "ead3d579775b4dbe841eb72e2b2ddf62": {
          "model_module": "@jupyter-widgets/controls",
          "model_name": "ProgressStyleModel",
          "model_module_version": "1.5.0",
          "state": {
            "_model_module": "@jupyter-widgets/controls",
            "_model_module_version": "1.5.0",
            "_model_name": "ProgressStyleModel",
            "_view_count": null,
            "_view_module": "@jupyter-widgets/base",
            "_view_module_version": "1.2.0",
            "_view_name": "StyleView",
            "bar_color": null,
            "description_width": ""
          }
        },
        "08f62bec8cbc4208887f9c87d959bec7": {
          "model_module": "@jupyter-widgets/base",
          "model_name": "LayoutModel",
          "model_module_version": "1.2.0",
          "state": {
            "_model_module": "@jupyter-widgets/base",
            "_model_module_version": "1.2.0",
            "_model_name": "LayoutModel",
            "_view_count": null,
            "_view_module": "@jupyter-widgets/base",
            "_view_module_version": "1.2.0",
            "_view_name": "LayoutView",
            "align_content": null,
            "align_items": null,
            "align_self": null,
            "border": null,
            "bottom": null,
            "display": null,
            "flex": null,
            "flex_flow": null,
            "grid_area": null,
            "grid_auto_columns": null,
            "grid_auto_flow": null,
            "grid_auto_rows": null,
            "grid_column": null,
            "grid_gap": null,
            "grid_row": null,
            "grid_template_areas": null,
            "grid_template_columns": null,
            "grid_template_rows": null,
            "height": null,
            "justify_content": null,
            "justify_items": null,
            "left": null,
            "margin": null,
            "max_height": null,
            "max_width": null,
            "min_height": null,
            "min_width": null,
            "object_fit": null,
            "object_position": null,
            "order": null,
            "overflow": null,
            "overflow_x": null,
            "overflow_y": null,
            "padding": null,
            "right": null,
            "top": null,
            "visibility": null,
            "width": null
          }
        },
        "2116c6388a00413abdbed3a9facc57be": {
          "model_module": "@jupyter-widgets/controls",
          "model_name": "DescriptionStyleModel",
          "model_module_version": "1.5.0",
          "state": {
            "_model_module": "@jupyter-widgets/controls",
            "_model_module_version": "1.5.0",
            "_model_name": "DescriptionStyleModel",
            "_view_count": null,
            "_view_module": "@jupyter-widgets/base",
            "_view_module_version": "1.2.0",
            "_view_name": "StyleView",
            "description_width": ""
          }
        },
        "81ce2158d61244efa8156931f6b6d61f": {
          "model_module": "@jupyter-widgets/controls",
          "model_name": "HBoxModel",
          "model_module_version": "1.5.0",
          "state": {
            "_dom_classes": [],
            "_model_module": "@jupyter-widgets/controls",
            "_model_module_version": "1.5.0",
            "_model_name": "HBoxModel",
            "_view_count": null,
            "_view_module": "@jupyter-widgets/controls",
            "_view_module_version": "1.5.0",
            "_view_name": "HBoxView",
            "box_style": "",
            "children": [
              "IPY_MODEL_49bfc5b62a504c5da48a318c4890dc47",
              "IPY_MODEL_4180eb8a05d0456cbee501f4044fa65b",
              "IPY_MODEL_dbfe341401a44f74a3ed5388c06d9328"
            ],
            "layout": "IPY_MODEL_7ac3bfb68ca248f6aa9fea410f3db925"
          }
        },
        "49bfc5b62a504c5da48a318c4890dc47": {
          "model_module": "@jupyter-widgets/controls",
          "model_name": "HTMLModel",
          "model_module_version": "1.5.0",
          "state": {
            "_dom_classes": [],
            "_model_module": "@jupyter-widgets/controls",
            "_model_module_version": "1.5.0",
            "_model_name": "HTMLModel",
            "_view_count": null,
            "_view_module": "@jupyter-widgets/controls",
            "_view_module_version": "1.5.0",
            "_view_name": "HTMLView",
            "description": "",
            "description_tooltip": null,
            "layout": "IPY_MODEL_48e9d1b4a693418ba9c3f87984d36ee5",
            "placeholder": "​",
            "style": "IPY_MODEL_f3054de2e8854bdf8e81439ce00240a4",
            "value": "data/tag_dict_4_safety_filtered.json: 100%"
          }
        },
        "4180eb8a05d0456cbee501f4044fa65b": {
          "model_module": "@jupyter-widgets/controls",
          "model_name": "FloatProgressModel",
          "model_module_version": "1.5.0",
          "state": {
            "_dom_classes": [],
            "_model_module": "@jupyter-widgets/controls",
            "_model_module_version": "1.5.0",
            "_model_name": "FloatProgressModel",
            "_view_count": null,
            "_view_module": "@jupyter-widgets/controls",
            "_view_module_version": "1.5.0",
            "_view_name": "ProgressView",
            "bar_style": "success",
            "description": "",
            "description_tooltip": null,
            "layout": "IPY_MODEL_4c1976dd09a644d3bd55136ed28ecc35",
            "max": 569410,
            "min": 0,
            "orientation": "horizontal",
            "style": "IPY_MODEL_926a385ea0d04744a79765062d0c0bfe",
            "value": 569410
          }
        },
        "dbfe341401a44f74a3ed5388c06d9328": {
          "model_module": "@jupyter-widgets/controls",
          "model_name": "HTMLModel",
          "model_module_version": "1.5.0",
          "state": {
            "_dom_classes": [],
            "_model_module": "@jupyter-widgets/controls",
            "_model_module_version": "1.5.0",
            "_model_name": "HTMLModel",
            "_view_count": null,
            "_view_module": "@jupyter-widgets/controls",
            "_view_module_version": "1.5.0",
            "_view_name": "HTMLView",
            "description": "",
            "description_tooltip": null,
            "layout": "IPY_MODEL_4213074d6efa47a3afc6dcaabd6dc46a",
            "placeholder": "​",
            "style": "IPY_MODEL_baa40f99e43e4eb180ad483d518cd553",
            "value": " 569k/569k [00:00&lt;00:00, 6.15MB/s]"
          }
        },
        "7ac3bfb68ca248f6aa9fea410f3db925": {
          "model_module": "@jupyter-widgets/base",
          "model_name": "LayoutModel",
          "model_module_version": "1.2.0",
          "state": {
            "_model_module": "@jupyter-widgets/base",
            "_model_module_version": "1.2.0",
            "_model_name": "LayoutModel",
            "_view_count": null,
            "_view_module": "@jupyter-widgets/base",
            "_view_module_version": "1.2.0",
            "_view_name": "LayoutView",
            "align_content": null,
            "align_items": null,
            "align_self": null,
            "border": null,
            "bottom": null,
            "display": null,
            "flex": null,
            "flex_flow": null,
            "grid_area": null,
            "grid_auto_columns": null,
            "grid_auto_flow": null,
            "grid_auto_rows": null,
            "grid_column": null,
            "grid_gap": null,
            "grid_row": null,
            "grid_template_areas": null,
            "grid_template_columns": null,
            "grid_template_rows": null,
            "height": null,
            "justify_content": null,
            "justify_items": null,
            "left": null,
            "margin": null,
            "max_height": null,
            "max_width": null,
            "min_height": null,
            "min_width": null,
            "object_fit": null,
            "object_position": null,
            "order": null,
            "overflow": null,
            "overflow_x": null,
            "overflow_y": null,
            "padding": null,
            "right": null,
            "top": null,
            "visibility": null,
            "width": null
          }
        },
        "48e9d1b4a693418ba9c3f87984d36ee5": {
          "model_module": "@jupyter-widgets/base",
          "model_name": "LayoutModel",
          "model_module_version": "1.2.0",
          "state": {
            "_model_module": "@jupyter-widgets/base",
            "_model_module_version": "1.2.0",
            "_model_name": "LayoutModel",
            "_view_count": null,
            "_view_module": "@jupyter-widgets/base",
            "_view_module_version": "1.2.0",
            "_view_name": "LayoutView",
            "align_content": null,
            "align_items": null,
            "align_self": null,
            "border": null,
            "bottom": null,
            "display": null,
            "flex": null,
            "flex_flow": null,
            "grid_area": null,
            "grid_auto_columns": null,
            "grid_auto_flow": null,
            "grid_auto_rows": null,
            "grid_column": null,
            "grid_gap": null,
            "grid_row": null,
            "grid_template_areas": null,
            "grid_template_columns": null,
            "grid_template_rows": null,
            "height": null,
            "justify_content": null,
            "justify_items": null,
            "left": null,
            "margin": null,
            "max_height": null,
            "max_width": null,
            "min_height": null,
            "min_width": null,
            "object_fit": null,
            "object_position": null,
            "order": null,
            "overflow": null,
            "overflow_x": null,
            "overflow_y": null,
            "padding": null,
            "right": null,
            "top": null,
            "visibility": null,
            "width": null
          }
        },
        "f3054de2e8854bdf8e81439ce00240a4": {
          "model_module": "@jupyter-widgets/controls",
          "model_name": "DescriptionStyleModel",
          "model_module_version": "1.5.0",
          "state": {
            "_model_module": "@jupyter-widgets/controls",
            "_model_module_version": "1.5.0",
            "_model_name": "DescriptionStyleModel",
            "_view_count": null,
            "_view_module": "@jupyter-widgets/base",
            "_view_module_version": "1.2.0",
            "_view_name": "StyleView",
            "description_width": ""
          }
        },
        "4c1976dd09a644d3bd55136ed28ecc35": {
          "model_module": "@jupyter-widgets/base",
          "model_name": "LayoutModel",
          "model_module_version": "1.2.0",
          "state": {
            "_model_module": "@jupyter-widgets/base",
            "_model_module_version": "1.2.0",
            "_model_name": "LayoutModel",
            "_view_count": null,
            "_view_module": "@jupyter-widgets/base",
            "_view_module_version": "1.2.0",
            "_view_name": "LayoutView",
            "align_content": null,
            "align_items": null,
            "align_self": null,
            "border": null,
            "bottom": null,
            "display": null,
            "flex": null,
            "flex_flow": null,
            "grid_area": null,
            "grid_auto_columns": null,
            "grid_auto_flow": null,
            "grid_auto_rows": null,
            "grid_column": null,
            "grid_gap": null,
            "grid_row": null,
            "grid_template_areas": null,
            "grid_template_columns": null,
            "grid_template_rows": null,
            "height": null,
            "justify_content": null,
            "justify_items": null,
            "left": null,
            "margin": null,
            "max_height": null,
            "max_width": null,
            "min_height": null,
            "min_width": null,
            "object_fit": null,
            "object_position": null,
            "order": null,
            "overflow": null,
            "overflow_x": null,
            "overflow_y": null,
            "padding": null,
            "right": null,
            "top": null,
            "visibility": null,
            "width": null
          }
        },
        "926a385ea0d04744a79765062d0c0bfe": {
          "model_module": "@jupyter-widgets/controls",
          "model_name": "ProgressStyleModel",
          "model_module_version": "1.5.0",
          "state": {
            "_model_module": "@jupyter-widgets/controls",
            "_model_module_version": "1.5.0",
            "_model_name": "ProgressStyleModel",
            "_view_count": null,
            "_view_module": "@jupyter-widgets/base",
            "_view_module_version": "1.2.0",
            "_view_name": "StyleView",
            "bar_color": null,
            "description_width": ""
          }
        },
        "4213074d6efa47a3afc6dcaabd6dc46a": {
          "model_module": "@jupyter-widgets/base",
          "model_name": "LayoutModel",
          "model_module_version": "1.2.0",
          "state": {
            "_model_module": "@jupyter-widgets/base",
            "_model_module_version": "1.2.0",
            "_model_name": "LayoutModel",
            "_view_count": null,
            "_view_module": "@jupyter-widgets/base",
            "_view_module_version": "1.2.0",
            "_view_name": "LayoutView",
            "align_content": null,
            "align_items": null,
            "align_self": null,
            "border": null,
            "bottom": null,
            "display": null,
            "flex": null,
            "flex_flow": null,
            "grid_area": null,
            "grid_auto_columns": null,
            "grid_auto_flow": null,
            "grid_auto_rows": null,
            "grid_column": null,
            "grid_gap": null,
            "grid_row": null,
            "grid_template_areas": null,
            "grid_template_columns": null,
            "grid_template_rows": null,
            "height": null,
            "justify_content": null,
            "justify_items": null,
            "left": null,
            "margin": null,
            "max_height": null,
            "max_width": null,
            "min_height": null,
            "min_width": null,
            "object_fit": null,
            "object_position": null,
            "order": null,
            "overflow": null,
            "overflow_x": null,
            "overflow_y": null,
            "padding": null,
            "right": null,
            "top": null,
            "visibility": null,
            "width": null
          }
        },
        "baa40f99e43e4eb180ad483d518cd553": {
          "model_module": "@jupyter-widgets/controls",
          "model_name": "DescriptionStyleModel",
          "model_module_version": "1.5.0",
          "state": {
            "_model_module": "@jupyter-widgets/controls",
            "_model_module_version": "1.5.0",
            "_model_name": "DescriptionStyleModel",
            "_view_count": null,
            "_view_module": "@jupyter-widgets/base",
            "_view_module_version": "1.2.0",
            "_view_name": "StyleView",
            "description_width": ""
          }
        },
        "efeffd2afb6d471d9a3776df32877d0e": {
          "model_module": "@jupyter-widgets/controls",
          "model_name": "HBoxModel",
          "model_module_version": "1.5.0",
          "state": {
            "_dom_classes": [],
            "_model_module": "@jupyter-widgets/controls",
            "_model_module_version": "1.5.0",
            "_model_name": "HBoxModel",
            "_view_count": null,
            "_view_module": "@jupyter-widgets/controls",
            "_view_module_version": "1.5.0",
            "_view_name": "HBoxView",
            "box_style": "",
            "children": [
              "IPY_MODEL_dd32425c75854dbca8bb7acbb4c848ce",
              "IPY_MODEL_cc3b78ec63f44abcacf6ec94b6562d49",
              "IPY_MODEL_2d6b9db14c434be1b2bb996b2bac74d7"
            ],
            "layout": "IPY_MODEL_b396feba00d64edba19f0d6602c693aa"
          }
        },
        "dd32425c75854dbca8bb7acbb4c848ce": {
          "model_module": "@jupyter-widgets/controls",
          "model_name": "HTMLModel",
          "model_module_version": "1.5.0",
          "state": {
            "_dom_classes": [],
            "_model_module": "@jupyter-widgets/controls",
            "_model_module_version": "1.5.0",
            "_model_name": "HTMLModel",
            "_view_count": null,
            "_view_module": "@jupyter-widgets/controls",
            "_view_module_version": "1.5.0",
            "_view_name": "HTMLView",
            "description": "",
            "description_tooltip": null,
            "layout": "IPY_MODEL_9b4c1214aaf5489e9548f6819abf8861",
            "placeholder": "​",
            "style": "IPY_MODEL_71de10f14c1c492ea0bca92502877962",
            "value": "(…)0_residue_annotations_gt_1k_proteins.csv: 100%"
          }
        },
        "cc3b78ec63f44abcacf6ec94b6562d49": {
          "model_module": "@jupyter-widgets/controls",
          "model_name": "FloatProgressModel",
          "model_module_version": "1.5.0",
          "state": {
            "_dom_classes": [],
            "_model_module": "@jupyter-widgets/controls",
            "_model_module_version": "1.5.0",
            "_model_name": "FloatProgressModel",
            "_view_count": null,
            "_view_module": "@jupyter-widgets/controls",
            "_view_module_version": "1.5.0",
            "_view_name": "ProgressView",
            "bar_style": "success",
            "description": "",
            "description_tooltip": null,
            "layout": "IPY_MODEL_8e49868a65cc4013b2e03a8d0c527613",
            "max": 109468,
            "min": 0,
            "orientation": "horizontal",
            "style": "IPY_MODEL_986c7482cb2d492dba8256ce48ba4918",
            "value": 109468
          }
        },
        "2d6b9db14c434be1b2bb996b2bac74d7": {
          "model_module": "@jupyter-widgets/controls",
          "model_name": "HTMLModel",
          "model_module_version": "1.5.0",
          "state": {
            "_dom_classes": [],
            "_model_module": "@jupyter-widgets/controls",
            "_model_module_version": "1.5.0",
            "_model_name": "HTMLModel",
            "_view_count": null,
            "_view_module": "@jupyter-widgets/controls",
            "_view_module_version": "1.5.0",
            "_view_name": "HTMLView",
            "description": "",
            "description_tooltip": null,
            "layout": "IPY_MODEL_65204d9dddea4ad1996cddfee225cdfc",
            "placeholder": "​",
            "style": "IPY_MODEL_b176757a5902405cb86f02c7733a3353",
            "value": " 109k/109k [00:00&lt;00:00, 1.20MB/s]"
          }
        },
        "b396feba00d64edba19f0d6602c693aa": {
          "model_module": "@jupyter-widgets/base",
          "model_name": "LayoutModel",
          "model_module_version": "1.2.0",
          "state": {
            "_model_module": "@jupyter-widgets/base",
            "_model_module_version": "1.2.0",
            "_model_name": "LayoutModel",
            "_view_count": null,
            "_view_module": "@jupyter-widgets/base",
            "_view_module_version": "1.2.0",
            "_view_name": "LayoutView",
            "align_content": null,
            "align_items": null,
            "align_self": null,
            "border": null,
            "bottom": null,
            "display": null,
            "flex": null,
            "flex_flow": null,
            "grid_area": null,
            "grid_auto_columns": null,
            "grid_auto_flow": null,
            "grid_auto_rows": null,
            "grid_column": null,
            "grid_gap": null,
            "grid_row": null,
            "grid_template_areas": null,
            "grid_template_columns": null,
            "grid_template_rows": null,
            "height": null,
            "justify_content": null,
            "justify_items": null,
            "left": null,
            "margin": null,
            "max_height": null,
            "max_width": null,
            "min_height": null,
            "min_width": null,
            "object_fit": null,
            "object_position": null,
            "order": null,
            "overflow": null,
            "overflow_x": null,
            "overflow_y": null,
            "padding": null,
            "right": null,
            "top": null,
            "visibility": null,
            "width": null
          }
        },
        "9b4c1214aaf5489e9548f6819abf8861": {
          "model_module": "@jupyter-widgets/base",
          "model_name": "LayoutModel",
          "model_module_version": "1.2.0",
          "state": {
            "_model_module": "@jupyter-widgets/base",
            "_model_module_version": "1.2.0",
            "_model_name": "LayoutModel",
            "_view_count": null,
            "_view_module": "@jupyter-widgets/base",
            "_view_module_version": "1.2.0",
            "_view_name": "LayoutView",
            "align_content": null,
            "align_items": null,
            "align_self": null,
            "border": null,
            "bottom": null,
            "display": null,
            "flex": null,
            "flex_flow": null,
            "grid_area": null,
            "grid_auto_columns": null,
            "grid_auto_flow": null,
            "grid_auto_rows": null,
            "grid_column": null,
            "grid_gap": null,
            "grid_row": null,
            "grid_template_areas": null,
            "grid_template_columns": null,
            "grid_template_rows": null,
            "height": null,
            "justify_content": null,
            "justify_items": null,
            "left": null,
            "margin": null,
            "max_height": null,
            "max_width": null,
            "min_height": null,
            "min_width": null,
            "object_fit": null,
            "object_position": null,
            "order": null,
            "overflow": null,
            "overflow_x": null,
            "overflow_y": null,
            "padding": null,
            "right": null,
            "top": null,
            "visibility": null,
            "width": null
          }
        },
        "71de10f14c1c492ea0bca92502877962": {
          "model_module": "@jupyter-widgets/controls",
          "model_name": "DescriptionStyleModel",
          "model_module_version": "1.5.0",
          "state": {
            "_model_module": "@jupyter-widgets/controls",
            "_model_module_version": "1.5.0",
            "_model_name": "DescriptionStyleModel",
            "_view_count": null,
            "_view_module": "@jupyter-widgets/base",
            "_view_module_version": "1.2.0",
            "_view_name": "StyleView",
            "description_width": ""
          }
        },
        "8e49868a65cc4013b2e03a8d0c527613": {
          "model_module": "@jupyter-widgets/base",
          "model_name": "LayoutModel",
          "model_module_version": "1.2.0",
          "state": {
            "_model_module": "@jupyter-widgets/base",
            "_model_module_version": "1.2.0",
            "_model_name": "LayoutModel",
            "_view_count": null,
            "_view_module": "@jupyter-widgets/base",
            "_view_module_version": "1.2.0",
            "_view_name": "LayoutView",
            "align_content": null,
            "align_items": null,
            "align_self": null,
            "border": null,
            "bottom": null,
            "display": null,
            "flex": null,
            "flex_flow": null,
            "grid_area": null,
            "grid_auto_columns": null,
            "grid_auto_flow": null,
            "grid_auto_rows": null,
            "grid_column": null,
            "grid_gap": null,
            "grid_row": null,
            "grid_template_areas": null,
            "grid_template_columns": null,
            "grid_template_rows": null,
            "height": null,
            "justify_content": null,
            "justify_items": null,
            "left": null,
            "margin": null,
            "max_height": null,
            "max_width": null,
            "min_height": null,
            "min_width": null,
            "object_fit": null,
            "object_position": null,
            "order": null,
            "overflow": null,
            "overflow_x": null,
            "overflow_y": null,
            "padding": null,
            "right": null,
            "top": null,
            "visibility": null,
            "width": null
          }
        },
        "986c7482cb2d492dba8256ce48ba4918": {
          "model_module": "@jupyter-widgets/controls",
          "model_name": "ProgressStyleModel",
          "model_module_version": "1.5.0",
          "state": {
            "_model_module": "@jupyter-widgets/controls",
            "_model_module_version": "1.5.0",
            "_model_name": "ProgressStyleModel",
            "_view_count": null,
            "_view_module": "@jupyter-widgets/base",
            "_view_module_version": "1.2.0",
            "_view_name": "StyleView",
            "bar_color": null,
            "description_width": ""
          }
        },
        "65204d9dddea4ad1996cddfee225cdfc": {
          "model_module": "@jupyter-widgets/base",
          "model_name": "LayoutModel",
          "model_module_version": "1.2.0",
          "state": {
            "_model_module": "@jupyter-widgets/base",
            "_model_module_version": "1.2.0",
            "_model_name": "LayoutModel",
            "_view_count": null,
            "_view_module": "@jupyter-widgets/base",
            "_view_module_version": "1.2.0",
            "_view_name": "LayoutView",
            "align_content": null,
            "align_items": null,
            "align_self": null,
            "border": null,
            "bottom": null,
            "display": null,
            "flex": null,
            "flex_flow": null,
            "grid_area": null,
            "grid_auto_columns": null,
            "grid_auto_flow": null,
            "grid_auto_rows": null,
            "grid_column": null,
            "grid_gap": null,
            "grid_row": null,
            "grid_template_areas": null,
            "grid_template_columns": null,
            "grid_template_rows": null,
            "height": null,
            "justify_content": null,
            "justify_items": null,
            "left": null,
            "margin": null,
            "max_height": null,
            "max_width": null,
            "min_height": null,
            "min_width": null,
            "object_fit": null,
            "object_position": null,
            "order": null,
            "overflow": null,
            "overflow_x": null,
            "overflow_y": null,
            "padding": null,
            "right": null,
            "top": null,
            "visibility": null,
            "width": null
          }
        },
        "b176757a5902405cb86f02c7733a3353": {
          "model_module": "@jupyter-widgets/controls",
          "model_name": "DescriptionStyleModel",
          "model_module_version": "1.5.0",
          "state": {
            "_model_module": "@jupyter-widgets/controls",
            "_model_module_version": "1.5.0",
            "_model_name": "DescriptionStyleModel",
            "_view_count": null,
            "_view_module": "@jupyter-widgets/base",
            "_view_module_version": "1.2.0",
            "_view_name": "StyleView",
            "description_width": ""
          }
        },
        "4a79496304834201a997d0a1a28d5fd8": {
          "model_module": "@jupyter-widgets/controls",
          "model_name": "HBoxModel",
          "model_module_version": "1.5.0",
          "state": {
            "_dom_classes": [],
            "_model_module": "@jupyter-widgets/controls",
            "_model_module_version": "1.5.0",
            "_model_name": "HBoxModel",
            "_view_count": null,
            "_view_module": "@jupyter-widgets/controls",
            "_view_module_version": "1.5.0",
            "_view_name": "HBoxView",
            "box_style": "",
            "children": [
              "IPY_MODEL_b99f41fec9e348a3b4d292c87041b359",
              "IPY_MODEL_fca1098347624364882f8d4a9cc51c70",
              "IPY_MODEL_2ca1fa90637d464a8e22291ca430619a"
            ],
            "layout": "IPY_MODEL_4a6ad43ccc65476590e20d4d5f791c7e"
          }
        },
        "b99f41fec9e348a3b4d292c87041b359": {
          "model_module": "@jupyter-widgets/controls",
          "model_name": "HTMLModel",
          "model_module_version": "1.5.0",
          "state": {
            "_dom_classes": [],
            "_model_module": "@jupyter-widgets/controls",
            "_model_module_version": "1.5.0",
            "_model_name": "HTMLModel",
            "_view_count": null,
            "_view_module": "@jupyter-widgets/controls",
            "_view_module_version": "1.5.0",
            "_view_name": "HTMLView",
            "description": "",
            "description_tooltip": null,
            "layout": "IPY_MODEL_aee87ad49fcf49378c256bb83aa3eb49",
            "placeholder": "​",
            "style": "IPY_MODEL_f004a82d4e434eef9fb4885adf6b4bae",
            "value": "tfidf_safety_filtered_58641.pkl: 100%"
          }
        },
        "fca1098347624364882f8d4a9cc51c70": {
          "model_module": "@jupyter-widgets/controls",
          "model_name": "FloatProgressModel",
          "model_module_version": "1.5.0",
          "state": {
            "_dom_classes": [],
            "_model_module": "@jupyter-widgets/controls",
            "_model_module_version": "1.5.0",
            "_model_name": "FloatProgressModel",
            "_view_count": null,
            "_view_module": "@jupyter-widgets/controls",
            "_view_module_version": "1.5.0",
            "_view_name": "ProgressView",
            "bar_style": "success",
            "description": "",
            "description_tooltip": null,
            "layout": "IPY_MODEL_0f7ee55676ed4307ba9f398193ec3879",
            "max": 2022460,
            "min": 0,
            "orientation": "horizontal",
            "style": "IPY_MODEL_b4406d51422b44d6ab4b1ac86fef5cd6",
            "value": 2022460
          }
        },
        "2ca1fa90637d464a8e22291ca430619a": {
          "model_module": "@jupyter-widgets/controls",
          "model_name": "HTMLModel",
          "model_module_version": "1.5.0",
          "state": {
            "_dom_classes": [],
            "_model_module": "@jupyter-widgets/controls",
            "_model_module_version": "1.5.0",
            "_model_name": "HTMLModel",
            "_view_count": null,
            "_view_module": "@jupyter-widgets/controls",
            "_view_module_version": "1.5.0",
            "_view_name": "HTMLView",
            "description": "",
            "description_tooltip": null,
            "layout": "IPY_MODEL_81a51e5fe8df4b51a6c94296df7ae20b",
            "placeholder": "​",
            "style": "IPY_MODEL_a67514db29cc48e49b4186b916d5ffec",
            "value": " 2.02M/2.02M [00:00&lt;00:00, 9.56MB/s]"
          }
        },
        "4a6ad43ccc65476590e20d4d5f791c7e": {
          "model_module": "@jupyter-widgets/base",
          "model_name": "LayoutModel",
          "model_module_version": "1.2.0",
          "state": {
            "_model_module": "@jupyter-widgets/base",
            "_model_module_version": "1.2.0",
            "_model_name": "LayoutModel",
            "_view_count": null,
            "_view_module": "@jupyter-widgets/base",
            "_view_module_version": "1.2.0",
            "_view_name": "LayoutView",
            "align_content": null,
            "align_items": null,
            "align_self": null,
            "border": null,
            "bottom": null,
            "display": null,
            "flex": null,
            "flex_flow": null,
            "grid_area": null,
            "grid_auto_columns": null,
            "grid_auto_flow": null,
            "grid_auto_rows": null,
            "grid_column": null,
            "grid_gap": null,
            "grid_row": null,
            "grid_template_areas": null,
            "grid_template_columns": null,
            "grid_template_rows": null,
            "height": null,
            "justify_content": null,
            "justify_items": null,
            "left": null,
            "margin": null,
            "max_height": null,
            "max_width": null,
            "min_height": null,
            "min_width": null,
            "object_fit": null,
            "object_position": null,
            "order": null,
            "overflow": null,
            "overflow_x": null,
            "overflow_y": null,
            "padding": null,
            "right": null,
            "top": null,
            "visibility": null,
            "width": null
          }
        },
        "aee87ad49fcf49378c256bb83aa3eb49": {
          "model_module": "@jupyter-widgets/base",
          "model_name": "LayoutModel",
          "model_module_version": "1.2.0",
          "state": {
            "_model_module": "@jupyter-widgets/base",
            "_model_module_version": "1.2.0",
            "_model_name": "LayoutModel",
            "_view_count": null,
            "_view_module": "@jupyter-widgets/base",
            "_view_module_version": "1.2.0",
            "_view_name": "LayoutView",
            "align_content": null,
            "align_items": null,
            "align_self": null,
            "border": null,
            "bottom": null,
            "display": null,
            "flex": null,
            "flex_flow": null,
            "grid_area": null,
            "grid_auto_columns": null,
            "grid_auto_flow": null,
            "grid_auto_rows": null,
            "grid_column": null,
            "grid_gap": null,
            "grid_row": null,
            "grid_template_areas": null,
            "grid_template_columns": null,
            "grid_template_rows": null,
            "height": null,
            "justify_content": null,
            "justify_items": null,
            "left": null,
            "margin": null,
            "max_height": null,
            "max_width": null,
            "min_height": null,
            "min_width": null,
            "object_fit": null,
            "object_position": null,
            "order": null,
            "overflow": null,
            "overflow_x": null,
            "overflow_y": null,
            "padding": null,
            "right": null,
            "top": null,
            "visibility": null,
            "width": null
          }
        },
        "f004a82d4e434eef9fb4885adf6b4bae": {
          "model_module": "@jupyter-widgets/controls",
          "model_name": "DescriptionStyleModel",
          "model_module_version": "1.5.0",
          "state": {
            "_model_module": "@jupyter-widgets/controls",
            "_model_module_version": "1.5.0",
            "_model_name": "DescriptionStyleModel",
            "_view_count": null,
            "_view_module": "@jupyter-widgets/base",
            "_view_module_version": "1.2.0",
            "_view_name": "StyleView",
            "description_width": ""
          }
        },
        "0f7ee55676ed4307ba9f398193ec3879": {
          "model_module": "@jupyter-widgets/base",
          "model_name": "LayoutModel",
          "model_module_version": "1.2.0",
          "state": {
            "_model_module": "@jupyter-widgets/base",
            "_model_module_version": "1.2.0",
            "_model_name": "LayoutModel",
            "_view_count": null,
            "_view_module": "@jupyter-widgets/base",
            "_view_module_version": "1.2.0",
            "_view_name": "LayoutView",
            "align_content": null,
            "align_items": null,
            "align_self": null,
            "border": null,
            "bottom": null,
            "display": null,
            "flex": null,
            "flex_flow": null,
            "grid_area": null,
            "grid_auto_columns": null,
            "grid_auto_flow": null,
            "grid_auto_rows": null,
            "grid_column": null,
            "grid_gap": null,
            "grid_row": null,
            "grid_template_areas": null,
            "grid_template_columns": null,
            "grid_template_rows": null,
            "height": null,
            "justify_content": null,
            "justify_items": null,
            "left": null,
            "margin": null,
            "max_height": null,
            "max_width": null,
            "min_height": null,
            "min_width": null,
            "object_fit": null,
            "object_position": null,
            "order": null,
            "overflow": null,
            "overflow_x": null,
            "overflow_y": null,
            "padding": null,
            "right": null,
            "top": null,
            "visibility": null,
            "width": null
          }
        },
        "b4406d51422b44d6ab4b1ac86fef5cd6": {
          "model_module": "@jupyter-widgets/controls",
          "model_name": "ProgressStyleModel",
          "model_module_version": "1.5.0",
          "state": {
            "_model_module": "@jupyter-widgets/controls",
            "_model_module_version": "1.5.0",
            "_model_name": "ProgressStyleModel",
            "_view_count": null,
            "_view_module": "@jupyter-widgets/base",
            "_view_module_version": "1.2.0",
            "_view_name": "StyleView",
            "bar_color": null,
            "description_width": ""
          }
        },
        "81a51e5fe8df4b51a6c94296df7ae20b": {
          "model_module": "@jupyter-widgets/base",
          "model_name": "LayoutModel",
          "model_module_version": "1.2.0",
          "state": {
            "_model_module": "@jupyter-widgets/base",
            "_model_module_version": "1.2.0",
            "_model_name": "LayoutModel",
            "_view_count": null,
            "_view_module": "@jupyter-widgets/base",
            "_view_module_version": "1.2.0",
            "_view_name": "LayoutView",
            "align_content": null,
            "align_items": null,
            "align_self": null,
            "border": null,
            "bottom": null,
            "display": null,
            "flex": null,
            "flex_flow": null,
            "grid_area": null,
            "grid_auto_columns": null,
            "grid_auto_flow": null,
            "grid_auto_rows": null,
            "grid_column": null,
            "grid_gap": null,
            "grid_row": null,
            "grid_template_areas": null,
            "grid_template_columns": null,
            "grid_template_rows": null,
            "height": null,
            "justify_content": null,
            "justify_items": null,
            "left": null,
            "margin": null,
            "max_height": null,
            "max_width": null,
            "min_height": null,
            "min_width": null,
            "object_fit": null,
            "object_position": null,
            "order": null,
            "overflow": null,
            "overflow_x": null,
            "overflow_y": null,
            "padding": null,
            "right": null,
            "top": null,
            "visibility": null,
            "width": null
          }
        },
        "a67514db29cc48e49b4186b916d5ffec": {
          "model_module": "@jupyter-widgets/controls",
          "model_name": "DescriptionStyleModel",
          "model_module_version": "1.5.0",
          "state": {
            "_model_module": "@jupyter-widgets/controls",
            "_model_module_version": "1.5.0",
            "_model_name": "DescriptionStyleModel",
            "_view_count": null,
            "_view_module": "@jupyter-widgets/base",
            "_view_module_version": "1.2.0",
            "_view_name": "StyleView",
            "description_width": ""
          }
        },
        "247065cceb374de9829dc3b5157a7146": {
          "model_module": "@jupyter-widgets/controls",
          "model_name": "HBoxModel",
          "model_module_version": "1.5.0",
          "state": {
            "_dom_classes": [],
            "_model_module": "@jupyter-widgets/controls",
            "_model_module_version": "1.5.0",
            "_model_name": "HBoxModel",
            "_view_count": null,
            "_view_module": "@jupyter-widgets/controls",
            "_view_module_version": "1.5.0",
            "_view_name": "HBoxView",
            "box_style": "",
            "children": [
              "IPY_MODEL_79091665555545a8ad0fbe0bb37fb43c",
              "IPY_MODEL_74d4d04d78cc4e6fa097135215e6d953",
              "IPY_MODEL_fc57ed885fcb4a8c8045a44b0735521c"
            ],
            "layout": "IPY_MODEL_36361d1495344280ab005679d6daa51a"
          }
        },
        "79091665555545a8ad0fbe0bb37fb43c": {
          "model_module": "@jupyter-widgets/controls",
          "model_name": "HTMLModel",
          "model_module_version": "1.5.0",
          "state": {
            "_dom_classes": [],
            "_model_module": "@jupyter-widgets/controls",
            "_model_module_version": "1.5.0",
            "_model_name": "HTMLModel",
            "_view_count": null,
            "_view_module": "@jupyter-widgets/controls",
            "_view_module_version": "1.5.0",
            "_view_name": "HTMLView",
            "description": "",
            "description_tooltip": null,
            "layout": "IPY_MODEL_fc70fa1422da43b7bb959aa02867e708",
            "placeholder": "​",
            "style": "IPY_MODEL_2d08d99c56c74a09862468cdd7185d9a",
            "value": "esm3_function_decoder_v0.pth: 100%"
          }
        },
        "74d4d04d78cc4e6fa097135215e6d953": {
          "model_module": "@jupyter-widgets/controls",
          "model_name": "FloatProgressModel",
          "model_module_version": "1.5.0",
          "state": {
            "_dom_classes": [],
            "_model_module": "@jupyter-widgets/controls",
            "_model_module_version": "1.5.0",
            "_model_name": "FloatProgressModel",
            "_view_count": null,
            "_view_module": "@jupyter-widgets/controls",
            "_view_module_version": "1.5.0",
            "_view_name": "ProgressView",
            "bar_style": "success",
            "description": "",
            "description_tooltip": null,
            "layout": "IPY_MODEL_679a4a882fde42a5b8eaec64e2d6c221",
            "max": 1299947178,
            "min": 0,
            "orientation": "horizontal",
            "style": "IPY_MODEL_50fbe4432b964ed48fcf695beb107c94",
            "value": 1299947178
          }
        },
        "fc57ed885fcb4a8c8045a44b0735521c": {
          "model_module": "@jupyter-widgets/controls",
          "model_name": "HTMLModel",
          "model_module_version": "1.5.0",
          "state": {
            "_dom_classes": [],
            "_model_module": "@jupyter-widgets/controls",
            "_model_module_version": "1.5.0",
            "_model_name": "HTMLModel",
            "_view_count": null,
            "_view_module": "@jupyter-widgets/controls",
            "_view_module_version": "1.5.0",
            "_view_name": "HTMLView",
            "description": "",
            "description_tooltip": null,
            "layout": "IPY_MODEL_9289fae9e7cd4cef947cfa3f872e5516",
            "placeholder": "​",
            "style": "IPY_MODEL_f8cc24712a124d14870b2650e2609691",
            "value": " 1.30G/1.30G [00:55&lt;00:00, 14.5MB/s]"
          }
        },
        "36361d1495344280ab005679d6daa51a": {
          "model_module": "@jupyter-widgets/base",
          "model_name": "LayoutModel",
          "model_module_version": "1.2.0",
          "state": {
            "_model_module": "@jupyter-widgets/base",
            "_model_module_version": "1.2.0",
            "_model_name": "LayoutModel",
            "_view_count": null,
            "_view_module": "@jupyter-widgets/base",
            "_view_module_version": "1.2.0",
            "_view_name": "LayoutView",
            "align_content": null,
            "align_items": null,
            "align_self": null,
            "border": null,
            "bottom": null,
            "display": null,
            "flex": null,
            "flex_flow": null,
            "grid_area": null,
            "grid_auto_columns": null,
            "grid_auto_flow": null,
            "grid_auto_rows": null,
            "grid_column": null,
            "grid_gap": null,
            "grid_row": null,
            "grid_template_areas": null,
            "grid_template_columns": null,
            "grid_template_rows": null,
            "height": null,
            "justify_content": null,
            "justify_items": null,
            "left": null,
            "margin": null,
            "max_height": null,
            "max_width": null,
            "min_height": null,
            "min_width": null,
            "object_fit": null,
            "object_position": null,
            "order": null,
            "overflow": null,
            "overflow_x": null,
            "overflow_y": null,
            "padding": null,
            "right": null,
            "top": null,
            "visibility": null,
            "width": null
          }
        },
        "fc70fa1422da43b7bb959aa02867e708": {
          "model_module": "@jupyter-widgets/base",
          "model_name": "LayoutModel",
          "model_module_version": "1.2.0",
          "state": {
            "_model_module": "@jupyter-widgets/base",
            "_model_module_version": "1.2.0",
            "_model_name": "LayoutModel",
            "_view_count": null,
            "_view_module": "@jupyter-widgets/base",
            "_view_module_version": "1.2.0",
            "_view_name": "LayoutView",
            "align_content": null,
            "align_items": null,
            "align_self": null,
            "border": null,
            "bottom": null,
            "display": null,
            "flex": null,
            "flex_flow": null,
            "grid_area": null,
            "grid_auto_columns": null,
            "grid_auto_flow": null,
            "grid_auto_rows": null,
            "grid_column": null,
            "grid_gap": null,
            "grid_row": null,
            "grid_template_areas": null,
            "grid_template_columns": null,
            "grid_template_rows": null,
            "height": null,
            "justify_content": null,
            "justify_items": null,
            "left": null,
            "margin": null,
            "max_height": null,
            "max_width": null,
            "min_height": null,
            "min_width": null,
            "object_fit": null,
            "object_position": null,
            "order": null,
            "overflow": null,
            "overflow_x": null,
            "overflow_y": null,
            "padding": null,
            "right": null,
            "top": null,
            "visibility": null,
            "width": null
          }
        },
        "2d08d99c56c74a09862468cdd7185d9a": {
          "model_module": "@jupyter-widgets/controls",
          "model_name": "DescriptionStyleModel",
          "model_module_version": "1.5.0",
          "state": {
            "_model_module": "@jupyter-widgets/controls",
            "_model_module_version": "1.5.0",
            "_model_name": "DescriptionStyleModel",
            "_view_count": null,
            "_view_module": "@jupyter-widgets/base",
            "_view_module_version": "1.2.0",
            "_view_name": "StyleView",
            "description_width": ""
          }
        },
        "679a4a882fde42a5b8eaec64e2d6c221": {
          "model_module": "@jupyter-widgets/base",
          "model_name": "LayoutModel",
          "model_module_version": "1.2.0",
          "state": {
            "_model_module": "@jupyter-widgets/base",
            "_model_module_version": "1.2.0",
            "_model_name": "LayoutModel",
            "_view_count": null,
            "_view_module": "@jupyter-widgets/base",
            "_view_module_version": "1.2.0",
            "_view_name": "LayoutView",
            "align_content": null,
            "align_items": null,
            "align_self": null,
            "border": null,
            "bottom": null,
            "display": null,
            "flex": null,
            "flex_flow": null,
            "grid_area": null,
            "grid_auto_columns": null,
            "grid_auto_flow": null,
            "grid_auto_rows": null,
            "grid_column": null,
            "grid_gap": null,
            "grid_row": null,
            "grid_template_areas": null,
            "grid_template_columns": null,
            "grid_template_rows": null,
            "height": null,
            "justify_content": null,
            "justify_items": null,
            "left": null,
            "margin": null,
            "max_height": null,
            "max_width": null,
            "min_height": null,
            "min_width": null,
            "object_fit": null,
            "object_position": null,
            "order": null,
            "overflow": null,
            "overflow_x": null,
            "overflow_y": null,
            "padding": null,
            "right": null,
            "top": null,
            "visibility": null,
            "width": null
          }
        },
        "50fbe4432b964ed48fcf695beb107c94": {
          "model_module": "@jupyter-widgets/controls",
          "model_name": "ProgressStyleModel",
          "model_module_version": "1.5.0",
          "state": {
            "_model_module": "@jupyter-widgets/controls",
            "_model_module_version": "1.5.0",
            "_model_name": "ProgressStyleModel",
            "_view_count": null,
            "_view_module": "@jupyter-widgets/base",
            "_view_module_version": "1.2.0",
            "_view_name": "StyleView",
            "bar_color": null,
            "description_width": ""
          }
        },
        "9289fae9e7cd4cef947cfa3f872e5516": {
          "model_module": "@jupyter-widgets/base",
          "model_name": "LayoutModel",
          "model_module_version": "1.2.0",
          "state": {
            "_model_module": "@jupyter-widgets/base",
            "_model_module_version": "1.2.0",
            "_model_name": "LayoutModel",
            "_view_count": null,
            "_view_module": "@jupyter-widgets/base",
            "_view_module_version": "1.2.0",
            "_view_name": "LayoutView",
            "align_content": null,
            "align_items": null,
            "align_self": null,
            "border": null,
            "bottom": null,
            "display": null,
            "flex": null,
            "flex_flow": null,
            "grid_area": null,
            "grid_auto_columns": null,
            "grid_auto_flow": null,
            "grid_auto_rows": null,
            "grid_column": null,
            "grid_gap": null,
            "grid_row": null,
            "grid_template_areas": null,
            "grid_template_columns": null,
            "grid_template_rows": null,
            "height": null,
            "justify_content": null,
            "justify_items": null,
            "left": null,
            "margin": null,
            "max_height": null,
            "max_width": null,
            "min_height": null,
            "min_width": null,
            "object_fit": null,
            "object_position": null,
            "order": null,
            "overflow": null,
            "overflow_x": null,
            "overflow_y": null,
            "padding": null,
            "right": null,
            "top": null,
            "visibility": null,
            "width": null
          }
        },
        "f8cc24712a124d14870b2650e2609691": {
          "model_module": "@jupyter-widgets/controls",
          "model_name": "DescriptionStyleModel",
          "model_module_version": "1.5.0",
          "state": {
            "_model_module": "@jupyter-widgets/controls",
            "_model_module_version": "1.5.0",
            "_model_name": "DescriptionStyleModel",
            "_view_count": null,
            "_view_module": "@jupyter-widgets/base",
            "_view_module_version": "1.2.0",
            "_view_name": "StyleView",
            "description_width": ""
          }
        },
        "6b277927693042189d4324494c795e2d": {
          "model_module": "@jupyter-widgets/controls",
          "model_name": "HBoxModel",
          "model_module_version": "1.5.0",
          "state": {
            "_dom_classes": [],
            "_model_module": "@jupyter-widgets/controls",
            "_model_module_version": "1.5.0",
            "_model_name": "HBoxModel",
            "_view_count": null,
            "_view_module": "@jupyter-widgets/controls",
            "_view_module_version": "1.5.0",
            "_view_name": "HBoxView",
            "box_style": "",
            "children": [
              "IPY_MODEL_2245cb5ac6ee4a999f4ccfcb03644e15",
              "IPY_MODEL_1feaa13e6b7d42758c3592abd3424eeb",
              "IPY_MODEL_6b8640a0630645758b5f8f0a3cc53888"
            ],
            "layout": "IPY_MODEL_f05ad23bc0254197ac0e8089b65fd6ef"
          }
        },
        "2245cb5ac6ee4a999f4ccfcb03644e15": {
          "model_module": "@jupyter-widgets/controls",
          "model_name": "HTMLModel",
          "model_module_version": "1.5.0",
          "state": {
            "_dom_classes": [],
            "_model_module": "@jupyter-widgets/controls",
            "_model_module_version": "1.5.0",
            "_model_name": "HTMLModel",
            "_view_count": null,
            "_view_module": "@jupyter-widgets/controls",
            "_view_module_version": "1.5.0",
            "_view_name": "HTMLView",
            "description": "",
            "description_tooltip": null,
            "layout": "IPY_MODEL_98d64c86fec24ccda8bcb2e971ea1138",
            "placeholder": "​",
            "style": "IPY_MODEL_83dcb9a7e9a2454895d02dd1c8efc84d",
            "value": "esm3_structure_encoder_v0.pth: 100%"
          }
        },
        "1feaa13e6b7d42758c3592abd3424eeb": {
          "model_module": "@jupyter-widgets/controls",
          "model_name": "FloatProgressModel",
          "model_module_version": "1.5.0",
          "state": {
            "_dom_classes": [],
            "_model_module": "@jupyter-widgets/controls",
            "_model_module_version": "1.5.0",
            "_model_name": "FloatProgressModel",
            "_view_count": null,
            "_view_module": "@jupyter-widgets/controls",
            "_view_module_version": "1.5.0",
            "_view_name": "ProgressView",
            "bar_style": "success",
            "description": "",
            "description_tooltip": null,
            "layout": "IPY_MODEL_b14008d5fb3b4ec19bc31b1cd3a10c89",
            "max": 62349276,
            "min": 0,
            "orientation": "horizontal",
            "style": "IPY_MODEL_ccf6a316688745c28d89cc44f887ae07",
            "value": 62349276
          }
        },
        "6b8640a0630645758b5f8f0a3cc53888": {
          "model_module": "@jupyter-widgets/controls",
          "model_name": "HTMLModel",
          "model_module_version": "1.5.0",
          "state": {
            "_dom_classes": [],
            "_model_module": "@jupyter-widgets/controls",
            "_model_module_version": "1.5.0",
            "_model_name": "HTMLModel",
            "_view_count": null,
            "_view_module": "@jupyter-widgets/controls",
            "_view_module_version": "1.5.0",
            "_view_name": "HTMLView",
            "description": "",
            "description_tooltip": null,
            "layout": "IPY_MODEL_eebb7cf8bd1149799af05ea09f66ab0b",
            "placeholder": "​",
            "style": "IPY_MODEL_cf34c50a635f44b1a22afedc4b70dcec",
            "value": " 62.3M/62.3M [00:01&lt;00:00, 40.7MB/s]"
          }
        },
        "f05ad23bc0254197ac0e8089b65fd6ef": {
          "model_module": "@jupyter-widgets/base",
          "model_name": "LayoutModel",
          "model_module_version": "1.2.0",
          "state": {
            "_model_module": "@jupyter-widgets/base",
            "_model_module_version": "1.2.0",
            "_model_name": "LayoutModel",
            "_view_count": null,
            "_view_module": "@jupyter-widgets/base",
            "_view_module_version": "1.2.0",
            "_view_name": "LayoutView",
            "align_content": null,
            "align_items": null,
            "align_self": null,
            "border": null,
            "bottom": null,
            "display": null,
            "flex": null,
            "flex_flow": null,
            "grid_area": null,
            "grid_auto_columns": null,
            "grid_auto_flow": null,
            "grid_auto_rows": null,
            "grid_column": null,
            "grid_gap": null,
            "grid_row": null,
            "grid_template_areas": null,
            "grid_template_columns": null,
            "grid_template_rows": null,
            "height": null,
            "justify_content": null,
            "justify_items": null,
            "left": null,
            "margin": null,
            "max_height": null,
            "max_width": null,
            "min_height": null,
            "min_width": null,
            "object_fit": null,
            "object_position": null,
            "order": null,
            "overflow": null,
            "overflow_x": null,
            "overflow_y": null,
            "padding": null,
            "right": null,
            "top": null,
            "visibility": null,
            "width": null
          }
        },
        "98d64c86fec24ccda8bcb2e971ea1138": {
          "model_module": "@jupyter-widgets/base",
          "model_name": "LayoutModel",
          "model_module_version": "1.2.0",
          "state": {
            "_model_module": "@jupyter-widgets/base",
            "_model_module_version": "1.2.0",
            "_model_name": "LayoutModel",
            "_view_count": null,
            "_view_module": "@jupyter-widgets/base",
            "_view_module_version": "1.2.0",
            "_view_name": "LayoutView",
            "align_content": null,
            "align_items": null,
            "align_self": null,
            "border": null,
            "bottom": null,
            "display": null,
            "flex": null,
            "flex_flow": null,
            "grid_area": null,
            "grid_auto_columns": null,
            "grid_auto_flow": null,
            "grid_auto_rows": null,
            "grid_column": null,
            "grid_gap": null,
            "grid_row": null,
            "grid_template_areas": null,
            "grid_template_columns": null,
            "grid_template_rows": null,
            "height": null,
            "justify_content": null,
            "justify_items": null,
            "left": null,
            "margin": null,
            "max_height": null,
            "max_width": null,
            "min_height": null,
            "min_width": null,
            "object_fit": null,
            "object_position": null,
            "order": null,
            "overflow": null,
            "overflow_x": null,
            "overflow_y": null,
            "padding": null,
            "right": null,
            "top": null,
            "visibility": null,
            "width": null
          }
        },
        "83dcb9a7e9a2454895d02dd1c8efc84d": {
          "model_module": "@jupyter-widgets/controls",
          "model_name": "DescriptionStyleModel",
          "model_module_version": "1.5.0",
          "state": {
            "_model_module": "@jupyter-widgets/controls",
            "_model_module_version": "1.5.0",
            "_model_name": "DescriptionStyleModel",
            "_view_count": null,
            "_view_module": "@jupyter-widgets/base",
            "_view_module_version": "1.2.0",
            "_view_name": "StyleView",
            "description_width": ""
          }
        },
        "b14008d5fb3b4ec19bc31b1cd3a10c89": {
          "model_module": "@jupyter-widgets/base",
          "model_name": "LayoutModel",
          "model_module_version": "1.2.0",
          "state": {
            "_model_module": "@jupyter-widgets/base",
            "_model_module_version": "1.2.0",
            "_model_name": "LayoutModel",
            "_view_count": null,
            "_view_module": "@jupyter-widgets/base",
            "_view_module_version": "1.2.0",
            "_view_name": "LayoutView",
            "align_content": null,
            "align_items": null,
            "align_self": null,
            "border": null,
            "bottom": null,
            "display": null,
            "flex": null,
            "flex_flow": null,
            "grid_area": null,
            "grid_auto_columns": null,
            "grid_auto_flow": null,
            "grid_auto_rows": null,
            "grid_column": null,
            "grid_gap": null,
            "grid_row": null,
            "grid_template_areas": null,
            "grid_template_columns": null,
            "grid_template_rows": null,
            "height": null,
            "justify_content": null,
            "justify_items": null,
            "left": null,
            "margin": null,
            "max_height": null,
            "max_width": null,
            "min_height": null,
            "min_width": null,
            "object_fit": null,
            "object_position": null,
            "order": null,
            "overflow": null,
            "overflow_x": null,
            "overflow_y": null,
            "padding": null,
            "right": null,
            "top": null,
            "visibility": null,
            "width": null
          }
        },
        "ccf6a316688745c28d89cc44f887ae07": {
          "model_module": "@jupyter-widgets/controls",
          "model_name": "ProgressStyleModel",
          "model_module_version": "1.5.0",
          "state": {
            "_model_module": "@jupyter-widgets/controls",
            "_model_module_version": "1.5.0",
            "_model_name": "ProgressStyleModel",
            "_view_count": null,
            "_view_module": "@jupyter-widgets/base",
            "_view_module_version": "1.2.0",
            "_view_name": "StyleView",
            "bar_color": null,
            "description_width": ""
          }
        },
        "eebb7cf8bd1149799af05ea09f66ab0b": {
          "model_module": "@jupyter-widgets/base",
          "model_name": "LayoutModel",
          "model_module_version": "1.2.0",
          "state": {
            "_model_module": "@jupyter-widgets/base",
            "_model_module_version": "1.2.0",
            "_model_name": "LayoutModel",
            "_view_count": null,
            "_view_module": "@jupyter-widgets/base",
            "_view_module_version": "1.2.0",
            "_view_name": "LayoutView",
            "align_content": null,
            "align_items": null,
            "align_self": null,
            "border": null,
            "bottom": null,
            "display": null,
            "flex": null,
            "flex_flow": null,
            "grid_area": null,
            "grid_auto_columns": null,
            "grid_auto_flow": null,
            "grid_auto_rows": null,
            "grid_column": null,
            "grid_gap": null,
            "grid_row": null,
            "grid_template_areas": null,
            "grid_template_columns": null,
            "grid_template_rows": null,
            "height": null,
            "justify_content": null,
            "justify_items": null,
            "left": null,
            "margin": null,
            "max_height": null,
            "max_width": null,
            "min_height": null,
            "min_width": null,
            "object_fit": null,
            "object_position": null,
            "order": null,
            "overflow": null,
            "overflow_x": null,
            "overflow_y": null,
            "padding": null,
            "right": null,
            "top": null,
            "visibility": null,
            "width": null
          }
        },
        "cf34c50a635f44b1a22afedc4b70dcec": {
          "model_module": "@jupyter-widgets/controls",
          "model_name": "DescriptionStyleModel",
          "model_module_version": "1.5.0",
          "state": {
            "_model_module": "@jupyter-widgets/controls",
            "_model_module_version": "1.5.0",
            "_model_name": "DescriptionStyleModel",
            "_view_count": null,
            "_view_module": "@jupyter-widgets/base",
            "_view_module_version": "1.2.0",
            "_view_name": "StyleView",
            "description_width": ""
          }
        },
        "053cde8c358f4f52aa6cd8de235a9dfb": {
          "model_module": "@jupyter-widgets/controls",
          "model_name": "HBoxModel",
          "model_module_version": "1.5.0",
          "state": {
            "_dom_classes": [],
            "_model_module": "@jupyter-widgets/controls",
            "_model_module_version": "1.5.0",
            "_model_name": "HBoxModel",
            "_view_count": null,
            "_view_module": "@jupyter-widgets/controls",
            "_view_module_version": "1.5.0",
            "_view_name": "HBoxView",
            "box_style": "",
            "children": [
              "IPY_MODEL_9a58dcd83365404888c53cb973d3897b",
              "IPY_MODEL_8d29d5a1e5834bd099610f7d05b2b127",
              "IPY_MODEL_08a02ab7aed44e29a10558af50e681b6"
            ],
            "layout": "IPY_MODEL_5e46ae5caf38408ca701fb2e1a6e864d"
          }
        },
        "9a58dcd83365404888c53cb973d3897b": {
          "model_module": "@jupyter-widgets/controls",
          "model_name": "HTMLModel",
          "model_module_version": "1.5.0",
          "state": {
            "_dom_classes": [],
            "_model_module": "@jupyter-widgets/controls",
            "_model_module_version": "1.5.0",
            "_model_name": "HTMLModel",
            "_view_count": null,
            "_view_module": "@jupyter-widgets/controls",
            "_view_module_version": "1.5.0",
            "_view_name": "HTMLView",
            "description": "",
            "description_tooltip": null,
            "layout": "IPY_MODEL_0ebe4dab675f4dccb618cf6b6e409867",
            "placeholder": "​",
            "style": "IPY_MODEL_7f83f987ff47409bbba2cac41a1e2799",
            "value": "esm3_sm_open_v1.pth: 100%"
          }
        },
        "8d29d5a1e5834bd099610f7d05b2b127": {
          "model_module": "@jupyter-widgets/controls",
          "model_name": "FloatProgressModel",
          "model_module_version": "1.5.0",
          "state": {
            "_dom_classes": [],
            "_model_module": "@jupyter-widgets/controls",
            "_model_module_version": "1.5.0",
            "_model_name": "FloatProgressModel",
            "_view_count": null,
            "_view_module": "@jupyter-widgets/controls",
            "_view_module_version": "1.5.0",
            "_view_name": "ProgressView",
            "bar_style": "success",
            "description": "",
            "description_tooltip": null,
            "layout": "IPY_MODEL_ac6fe361db464e39a0bec62799000932",
            "max": 2803646068,
            "min": 0,
            "orientation": "horizontal",
            "style": "IPY_MODEL_7c80a7890920434db31e8db97027fe7b",
            "value": 2803646068
          }
        },
        "08a02ab7aed44e29a10558af50e681b6": {
          "model_module": "@jupyter-widgets/controls",
          "model_name": "HTMLModel",
          "model_module_version": "1.5.0",
          "state": {
            "_dom_classes": [],
            "_model_module": "@jupyter-widgets/controls",
            "_model_module_version": "1.5.0",
            "_model_name": "HTMLModel",
            "_view_count": null,
            "_view_module": "@jupyter-widgets/controls",
            "_view_module_version": "1.5.0",
            "_view_name": "HTMLView",
            "description": "",
            "description_tooltip": null,
            "layout": "IPY_MODEL_5d6a90f2599f4f1a933332af7e3de3ba",
            "placeholder": "​",
            "style": "IPY_MODEL_2888e4c75877458eaefc58bd0c0364a0",
            "value": " 2.80G/2.80G [01:31&lt;00:00, 39.6MB/s]"
          }
        },
        "5e46ae5caf38408ca701fb2e1a6e864d": {
          "model_module": "@jupyter-widgets/base",
          "model_name": "LayoutModel",
          "model_module_version": "1.2.0",
          "state": {
            "_model_module": "@jupyter-widgets/base",
            "_model_module_version": "1.2.0",
            "_model_name": "LayoutModel",
            "_view_count": null,
            "_view_module": "@jupyter-widgets/base",
            "_view_module_version": "1.2.0",
            "_view_name": "LayoutView",
            "align_content": null,
            "align_items": null,
            "align_self": null,
            "border": null,
            "bottom": null,
            "display": null,
            "flex": null,
            "flex_flow": null,
            "grid_area": null,
            "grid_auto_columns": null,
            "grid_auto_flow": null,
            "grid_auto_rows": null,
            "grid_column": null,
            "grid_gap": null,
            "grid_row": null,
            "grid_template_areas": null,
            "grid_template_columns": null,
            "grid_template_rows": null,
            "height": null,
            "justify_content": null,
            "justify_items": null,
            "left": null,
            "margin": null,
            "max_height": null,
            "max_width": null,
            "min_height": null,
            "min_width": null,
            "object_fit": null,
            "object_position": null,
            "order": null,
            "overflow": null,
            "overflow_x": null,
            "overflow_y": null,
            "padding": null,
            "right": null,
            "top": null,
            "visibility": null,
            "width": null
          }
        },
        "0ebe4dab675f4dccb618cf6b6e409867": {
          "model_module": "@jupyter-widgets/base",
          "model_name": "LayoutModel",
          "model_module_version": "1.2.0",
          "state": {
            "_model_module": "@jupyter-widgets/base",
            "_model_module_version": "1.2.0",
            "_model_name": "LayoutModel",
            "_view_count": null,
            "_view_module": "@jupyter-widgets/base",
            "_view_module_version": "1.2.0",
            "_view_name": "LayoutView",
            "align_content": null,
            "align_items": null,
            "align_self": null,
            "border": null,
            "bottom": null,
            "display": null,
            "flex": null,
            "flex_flow": null,
            "grid_area": null,
            "grid_auto_columns": null,
            "grid_auto_flow": null,
            "grid_auto_rows": null,
            "grid_column": null,
            "grid_gap": null,
            "grid_row": null,
            "grid_template_areas": null,
            "grid_template_columns": null,
            "grid_template_rows": null,
            "height": null,
            "justify_content": null,
            "justify_items": null,
            "left": null,
            "margin": null,
            "max_height": null,
            "max_width": null,
            "min_height": null,
            "min_width": null,
            "object_fit": null,
            "object_position": null,
            "order": null,
            "overflow": null,
            "overflow_x": null,
            "overflow_y": null,
            "padding": null,
            "right": null,
            "top": null,
            "visibility": null,
            "width": null
          }
        },
        "7f83f987ff47409bbba2cac41a1e2799": {
          "model_module": "@jupyter-widgets/controls",
          "model_name": "DescriptionStyleModel",
          "model_module_version": "1.5.0",
          "state": {
            "_model_module": "@jupyter-widgets/controls",
            "_model_module_version": "1.5.0",
            "_model_name": "DescriptionStyleModel",
            "_view_count": null,
            "_view_module": "@jupyter-widgets/base",
            "_view_module_version": "1.2.0",
            "_view_name": "StyleView",
            "description_width": ""
          }
        },
        "ac6fe361db464e39a0bec62799000932": {
          "model_module": "@jupyter-widgets/base",
          "model_name": "LayoutModel",
          "model_module_version": "1.2.0",
          "state": {
            "_model_module": "@jupyter-widgets/base",
            "_model_module_version": "1.2.0",
            "_model_name": "LayoutModel",
            "_view_count": null,
            "_view_module": "@jupyter-widgets/base",
            "_view_module_version": "1.2.0",
            "_view_name": "LayoutView",
            "align_content": null,
            "align_items": null,
            "align_self": null,
            "border": null,
            "bottom": null,
            "display": null,
            "flex": null,
            "flex_flow": null,
            "grid_area": null,
            "grid_auto_columns": null,
            "grid_auto_flow": null,
            "grid_auto_rows": null,
            "grid_column": null,
            "grid_gap": null,
            "grid_row": null,
            "grid_template_areas": null,
            "grid_template_columns": null,
            "grid_template_rows": null,
            "height": null,
            "justify_content": null,
            "justify_items": null,
            "left": null,
            "margin": null,
            "max_height": null,
            "max_width": null,
            "min_height": null,
            "min_width": null,
            "object_fit": null,
            "object_position": null,
            "order": null,
            "overflow": null,
            "overflow_x": null,
            "overflow_y": null,
            "padding": null,
            "right": null,
            "top": null,
            "visibility": null,
            "width": null
          }
        },
        "7c80a7890920434db31e8db97027fe7b": {
          "model_module": "@jupyter-widgets/controls",
          "model_name": "ProgressStyleModel",
          "model_module_version": "1.5.0",
          "state": {
            "_model_module": "@jupyter-widgets/controls",
            "_model_module_version": "1.5.0",
            "_model_name": "ProgressStyleModel",
            "_view_count": null,
            "_view_module": "@jupyter-widgets/base",
            "_view_module_version": "1.2.0",
            "_view_name": "StyleView",
            "bar_color": null,
            "description_width": ""
          }
        },
        "5d6a90f2599f4f1a933332af7e3de3ba": {
          "model_module": "@jupyter-widgets/base",
          "model_name": "LayoutModel",
          "model_module_version": "1.2.0",
          "state": {
            "_model_module": "@jupyter-widgets/base",
            "_model_module_version": "1.2.0",
            "_model_name": "LayoutModel",
            "_view_count": null,
            "_view_module": "@jupyter-widgets/base",
            "_view_module_version": "1.2.0",
            "_view_name": "LayoutView",
            "align_content": null,
            "align_items": null,
            "align_self": null,
            "border": null,
            "bottom": null,
            "display": null,
            "flex": null,
            "flex_flow": null,
            "grid_area": null,
            "grid_auto_columns": null,
            "grid_auto_flow": null,
            "grid_auto_rows": null,
            "grid_column": null,
            "grid_gap": null,
            "grid_row": null,
            "grid_template_areas": null,
            "grid_template_columns": null,
            "grid_template_rows": null,
            "height": null,
            "justify_content": null,
            "justify_items": null,
            "left": null,
            "margin": null,
            "max_height": null,
            "max_width": null,
            "min_height": null,
            "min_width": null,
            "object_fit": null,
            "object_position": null,
            "order": null,
            "overflow": null,
            "overflow_x": null,
            "overflow_y": null,
            "padding": null,
            "right": null,
            "top": null,
            "visibility": null,
            "width": null
          }
        },
        "2888e4c75877458eaefc58bd0c0364a0": {
          "model_module": "@jupyter-widgets/controls",
          "model_name": "DescriptionStyleModel",
          "model_module_version": "1.5.0",
          "state": {
            "_model_module": "@jupyter-widgets/controls",
            "_model_module_version": "1.5.0",
            "_model_name": "DescriptionStyleModel",
            "_view_count": null,
            "_view_module": "@jupyter-widgets/base",
            "_view_module_version": "1.2.0",
            "_view_name": "StyleView",
            "description_width": ""
          }
        },
        "376fdad39afa486c93d1272eab118d0f": {
          "model_module": "@jupyter-widgets/controls",
          "model_name": "HBoxModel",
          "model_module_version": "1.5.0",
          "state": {
            "_dom_classes": [],
            "_model_module": "@jupyter-widgets/controls",
            "_model_module_version": "1.5.0",
            "_model_name": "HBoxModel",
            "_view_count": null,
            "_view_module": "@jupyter-widgets/controls",
            "_view_module_version": "1.5.0",
            "_view_name": "HBoxView",
            "box_style": "",
            "children": [
              "IPY_MODEL_98a768b8c4de4100ac2c7168b8c9072f",
              "IPY_MODEL_44e86ed00161451687fae44e43b5b908",
              "IPY_MODEL_3aa60caff0224e88ae300e0f0b4f5105"
            ],
            "layout": "IPY_MODEL_268860a251db4b6bac4f761cb1511663"
          }
        },
        "98a768b8c4de4100ac2c7168b8c9072f": {
          "model_module": "@jupyter-widgets/controls",
          "model_name": "HTMLModel",
          "model_module_version": "1.5.0",
          "state": {
            "_dom_classes": [],
            "_model_module": "@jupyter-widgets/controls",
            "_model_module_version": "1.5.0",
            "_model_name": "HTMLModel",
            "_view_count": null,
            "_view_module": "@jupyter-widgets/controls",
            "_view_module_version": "1.5.0",
            "_view_name": "HTMLView",
            "description": "",
            "description_tooltip": null,
            "layout": "IPY_MODEL_514da743416b4b609c4c929af5c36e72",
            "placeholder": "​",
            "style": "IPY_MODEL_8250119cc5c5439b8d3bc1fb61c2b414",
            "value": "esm3_structure_decoder_v0.pth: 100%"
          }
        },
        "44e86ed00161451687fae44e43b5b908": {
          "model_module": "@jupyter-widgets/controls",
          "model_name": "FloatProgressModel",
          "model_module_version": "1.5.0",
          "state": {
            "_dom_classes": [],
            "_model_module": "@jupyter-widgets/controls",
            "_model_module_version": "1.5.0",
            "_model_name": "FloatProgressModel",
            "_view_count": null,
            "_view_module": "@jupyter-widgets/controls",
            "_view_module_version": "1.5.0",
            "_view_name": "ProgressView",
            "bar_style": "success",
            "description": "",
            "description_tooltip": null,
            "layout": "IPY_MODEL_c7da67043ee94242acc53e28d3130bb8",
            "max": 1237213098,
            "min": 0,
            "orientation": "horizontal",
            "style": "IPY_MODEL_0515eada3002477d92908042529cc1f7",
            "value": 1237213098
          }
        },
        "3aa60caff0224e88ae300e0f0b4f5105": {
          "model_module": "@jupyter-widgets/controls",
          "model_name": "HTMLModel",
          "model_module_version": "1.5.0",
          "state": {
            "_dom_classes": [],
            "_model_module": "@jupyter-widgets/controls",
            "_model_module_version": "1.5.0",
            "_model_name": "HTMLModel",
            "_view_count": null,
            "_view_module": "@jupyter-widgets/controls",
            "_view_module_version": "1.5.0",
            "_view_name": "HTMLView",
            "description": "",
            "description_tooltip": null,
            "layout": "IPY_MODEL_23b3273b6a0f4977830ee6965a4cb0b2",
            "placeholder": "​",
            "style": "IPY_MODEL_329031c719614bd893311ace99e60725",
            "value": " 1.24G/1.24G [00:54&lt;00:00, 18.3MB/s]"
          }
        },
        "268860a251db4b6bac4f761cb1511663": {
          "model_module": "@jupyter-widgets/base",
          "model_name": "LayoutModel",
          "model_module_version": "1.2.0",
          "state": {
            "_model_module": "@jupyter-widgets/base",
            "_model_module_version": "1.2.0",
            "_model_name": "LayoutModel",
            "_view_count": null,
            "_view_module": "@jupyter-widgets/base",
            "_view_module_version": "1.2.0",
            "_view_name": "LayoutView",
            "align_content": null,
            "align_items": null,
            "align_self": null,
            "border": null,
            "bottom": null,
            "display": null,
            "flex": null,
            "flex_flow": null,
            "grid_area": null,
            "grid_auto_columns": null,
            "grid_auto_flow": null,
            "grid_auto_rows": null,
            "grid_column": null,
            "grid_gap": null,
            "grid_row": null,
            "grid_template_areas": null,
            "grid_template_columns": null,
            "grid_template_rows": null,
            "height": null,
            "justify_content": null,
            "justify_items": null,
            "left": null,
            "margin": null,
            "max_height": null,
            "max_width": null,
            "min_height": null,
            "min_width": null,
            "object_fit": null,
            "object_position": null,
            "order": null,
            "overflow": null,
            "overflow_x": null,
            "overflow_y": null,
            "padding": null,
            "right": null,
            "top": null,
            "visibility": null,
            "width": null
          }
        },
        "514da743416b4b609c4c929af5c36e72": {
          "model_module": "@jupyter-widgets/base",
          "model_name": "LayoutModel",
          "model_module_version": "1.2.0",
          "state": {
            "_model_module": "@jupyter-widgets/base",
            "_model_module_version": "1.2.0",
            "_model_name": "LayoutModel",
            "_view_count": null,
            "_view_module": "@jupyter-widgets/base",
            "_view_module_version": "1.2.0",
            "_view_name": "LayoutView",
            "align_content": null,
            "align_items": null,
            "align_self": null,
            "border": null,
            "bottom": null,
            "display": null,
            "flex": null,
            "flex_flow": null,
            "grid_area": null,
            "grid_auto_columns": null,
            "grid_auto_flow": null,
            "grid_auto_rows": null,
            "grid_column": null,
            "grid_gap": null,
            "grid_row": null,
            "grid_template_areas": null,
            "grid_template_columns": null,
            "grid_template_rows": null,
            "height": null,
            "justify_content": null,
            "justify_items": null,
            "left": null,
            "margin": null,
            "max_height": null,
            "max_width": null,
            "min_height": null,
            "min_width": null,
            "object_fit": null,
            "object_position": null,
            "order": null,
            "overflow": null,
            "overflow_x": null,
            "overflow_y": null,
            "padding": null,
            "right": null,
            "top": null,
            "visibility": null,
            "width": null
          }
        },
        "8250119cc5c5439b8d3bc1fb61c2b414": {
          "model_module": "@jupyter-widgets/controls",
          "model_name": "DescriptionStyleModel",
          "model_module_version": "1.5.0",
          "state": {
            "_model_module": "@jupyter-widgets/controls",
            "_model_module_version": "1.5.0",
            "_model_name": "DescriptionStyleModel",
            "_view_count": null,
            "_view_module": "@jupyter-widgets/base",
            "_view_module_version": "1.2.0",
            "_view_name": "StyleView",
            "description_width": ""
          }
        },
        "c7da67043ee94242acc53e28d3130bb8": {
          "model_module": "@jupyter-widgets/base",
          "model_name": "LayoutModel",
          "model_module_version": "1.2.0",
          "state": {
            "_model_module": "@jupyter-widgets/base",
            "_model_module_version": "1.2.0",
            "_model_name": "LayoutModel",
            "_view_count": null,
            "_view_module": "@jupyter-widgets/base",
            "_view_module_version": "1.2.0",
            "_view_name": "LayoutView",
            "align_content": null,
            "align_items": null,
            "align_self": null,
            "border": null,
            "bottom": null,
            "display": null,
            "flex": null,
            "flex_flow": null,
            "grid_area": null,
            "grid_auto_columns": null,
            "grid_auto_flow": null,
            "grid_auto_rows": null,
            "grid_column": null,
            "grid_gap": null,
            "grid_row": null,
            "grid_template_areas": null,
            "grid_template_columns": null,
            "grid_template_rows": null,
            "height": null,
            "justify_content": null,
            "justify_items": null,
            "left": null,
            "margin": null,
            "max_height": null,
            "max_width": null,
            "min_height": null,
            "min_width": null,
            "object_fit": null,
            "object_position": null,
            "order": null,
            "overflow": null,
            "overflow_x": null,
            "overflow_y": null,
            "padding": null,
            "right": null,
            "top": null,
            "visibility": null,
            "width": null
          }
        },
        "0515eada3002477d92908042529cc1f7": {
          "model_module": "@jupyter-widgets/controls",
          "model_name": "ProgressStyleModel",
          "model_module_version": "1.5.0",
          "state": {
            "_model_module": "@jupyter-widgets/controls",
            "_model_module_version": "1.5.0",
            "_model_name": "ProgressStyleModel",
            "_view_count": null,
            "_view_module": "@jupyter-widgets/base",
            "_view_module_version": "1.2.0",
            "_view_name": "StyleView",
            "bar_color": null,
            "description_width": ""
          }
        },
        "23b3273b6a0f4977830ee6965a4cb0b2": {
          "model_module": "@jupyter-widgets/base",
          "model_name": "LayoutModel",
          "model_module_version": "1.2.0",
          "state": {
            "_model_module": "@jupyter-widgets/base",
            "_model_module_version": "1.2.0",
            "_model_name": "LayoutModel",
            "_view_count": null,
            "_view_module": "@jupyter-widgets/base",
            "_view_module_version": "1.2.0",
            "_view_name": "LayoutView",
            "align_content": null,
            "align_items": null,
            "align_self": null,
            "border": null,
            "bottom": null,
            "display": null,
            "flex": null,
            "flex_flow": null,
            "grid_area": null,
            "grid_auto_columns": null,
            "grid_auto_flow": null,
            "grid_auto_rows": null,
            "grid_column": null,
            "grid_gap": null,
            "grid_row": null,
            "grid_template_areas": null,
            "grid_template_columns": null,
            "grid_template_rows": null,
            "height": null,
            "justify_content": null,
            "justify_items": null,
            "left": null,
            "margin": null,
            "max_height": null,
            "max_width": null,
            "min_height": null,
            "min_width": null,
            "object_fit": null,
            "object_position": null,
            "order": null,
            "overflow": null,
            "overflow_x": null,
            "overflow_y": null,
            "padding": null,
            "right": null,
            "top": null,
            "visibility": null,
            "width": null
          }
        },
        "329031c719614bd893311ace99e60725": {
          "model_module": "@jupyter-widgets/controls",
          "model_name": "DescriptionStyleModel",
          "model_module_version": "1.5.0",
          "state": {
            "_model_module": "@jupyter-widgets/controls",
            "_model_module_version": "1.5.0",
            "_model_name": "DescriptionStyleModel",
            "_view_count": null,
            "_view_module": "@jupyter-widgets/base",
            "_view_module_version": "1.2.0",
            "_view_name": "StyleView",
            "description_width": ""
          }
        },
        "e5d3a1b0c1c24e438897bbb2635873a7": {
          "model_module": "@jupyter-widgets/controls",
          "model_name": "HBoxModel",
          "model_module_version": "1.5.0",
          "state": {
            "_dom_classes": [],
            "_model_module": "@jupyter-widgets/controls",
            "_model_module_version": "1.5.0",
            "_model_name": "HBoxModel",
            "_view_count": null,
            "_view_module": "@jupyter-widgets/controls",
            "_view_module_version": "1.5.0",
            "_view_name": "HBoxView",
            "box_style": "",
            "children": [
              "IPY_MODEL_0ac0a282a63745688d0682a196b464ee",
              "IPY_MODEL_487fd999d8d7423bb87b43e2ab388e37",
              "IPY_MODEL_a5451bf0cc1a496691f4cec297195f1e"
            ],
            "layout": "IPY_MODEL_f4ee1b8725d94d638bacad8b6acb118c"
          }
        },
        "0ac0a282a63745688d0682a196b464ee": {
          "model_module": "@jupyter-widgets/controls",
          "model_name": "HTMLModel",
          "model_module_version": "1.5.0",
          "state": {
            "_dom_classes": [],
            "_model_module": "@jupyter-widgets/controls",
            "_model_module_version": "1.5.0",
            "_model_name": "HTMLModel",
            "_view_count": null,
            "_view_module": "@jupyter-widgets/controls",
            "_view_module_version": "1.5.0",
            "_view_name": "HTMLView",
            "description": "",
            "description_tooltip": null,
            "layout": "IPY_MODEL_5cb73de4414847668924e45a77eabf80",
            "placeholder": "​",
            "style": "IPY_MODEL_7cf76cdcdb714cf1851adcfbed9da2a7",
            "value": "keyword_idf_safety_filtered_58641.npy: 100%"
          }
        },
        "487fd999d8d7423bb87b43e2ab388e37": {
          "model_module": "@jupyter-widgets/controls",
          "model_name": "FloatProgressModel",
          "model_module_version": "1.5.0",
          "state": {
            "_dom_classes": [],
            "_model_module": "@jupyter-widgets/controls",
            "_model_module_version": "1.5.0",
            "_model_name": "FloatProgressModel",
            "_view_count": null,
            "_view_module": "@jupyter-widgets/controls",
            "_view_module_version": "1.5.0",
            "_view_name": "ProgressView",
            "bar_style": "success",
            "description": "",
            "description_tooltip": null,
            "layout": "IPY_MODEL_73035b7679384f2c9fa3d41556f4737f",
            "max": 469256,
            "min": 0,
            "orientation": "horizontal",
            "style": "IPY_MODEL_75a0fbbd7a12482fb59bc944d01e4256",
            "value": 469256
          }
        },
        "a5451bf0cc1a496691f4cec297195f1e": {
          "model_module": "@jupyter-widgets/controls",
          "model_name": "HTMLModel",
          "model_module_version": "1.5.0",
          "state": {
            "_dom_classes": [],
            "_model_module": "@jupyter-widgets/controls",
            "_model_module_version": "1.5.0",
            "_model_name": "HTMLModel",
            "_view_count": null,
            "_view_module": "@jupyter-widgets/controls",
            "_view_module_version": "1.5.0",
            "_view_name": "HTMLView",
            "description": "",
            "description_tooltip": null,
            "layout": "IPY_MODEL_a67a36204a3c477d97f649d11e1ce299",
            "placeholder": "​",
            "style": "IPY_MODEL_264a201f139e4b04904dddd0dab40e04",
            "value": " 469k/469k [00:00&lt;00:00, 3.10MB/s]"
          }
        },
        "f4ee1b8725d94d638bacad8b6acb118c": {
          "model_module": "@jupyter-widgets/base",
          "model_name": "LayoutModel",
          "model_module_version": "1.2.0",
          "state": {
            "_model_module": "@jupyter-widgets/base",
            "_model_module_version": "1.2.0",
            "_model_name": "LayoutModel",
            "_view_count": null,
            "_view_module": "@jupyter-widgets/base",
            "_view_module_version": "1.2.0",
            "_view_name": "LayoutView",
            "align_content": null,
            "align_items": null,
            "align_self": null,
            "border": null,
            "bottom": null,
            "display": null,
            "flex": null,
            "flex_flow": null,
            "grid_area": null,
            "grid_auto_columns": null,
            "grid_auto_flow": null,
            "grid_auto_rows": null,
            "grid_column": null,
            "grid_gap": null,
            "grid_row": null,
            "grid_template_areas": null,
            "grid_template_columns": null,
            "grid_template_rows": null,
            "height": null,
            "justify_content": null,
            "justify_items": null,
            "left": null,
            "margin": null,
            "max_height": null,
            "max_width": null,
            "min_height": null,
            "min_width": null,
            "object_fit": null,
            "object_position": null,
            "order": null,
            "overflow": null,
            "overflow_x": null,
            "overflow_y": null,
            "padding": null,
            "right": null,
            "top": null,
            "visibility": null,
            "width": null
          }
        },
        "5cb73de4414847668924e45a77eabf80": {
          "model_module": "@jupyter-widgets/base",
          "model_name": "LayoutModel",
          "model_module_version": "1.2.0",
          "state": {
            "_model_module": "@jupyter-widgets/base",
            "_model_module_version": "1.2.0",
            "_model_name": "LayoutModel",
            "_view_count": null,
            "_view_module": "@jupyter-widgets/base",
            "_view_module_version": "1.2.0",
            "_view_name": "LayoutView",
            "align_content": null,
            "align_items": null,
            "align_self": null,
            "border": null,
            "bottom": null,
            "display": null,
            "flex": null,
            "flex_flow": null,
            "grid_area": null,
            "grid_auto_columns": null,
            "grid_auto_flow": null,
            "grid_auto_rows": null,
            "grid_column": null,
            "grid_gap": null,
            "grid_row": null,
            "grid_template_areas": null,
            "grid_template_columns": null,
            "grid_template_rows": null,
            "height": null,
            "justify_content": null,
            "justify_items": null,
            "left": null,
            "margin": null,
            "max_height": null,
            "max_width": null,
            "min_height": null,
            "min_width": null,
            "object_fit": null,
            "object_position": null,
            "order": null,
            "overflow": null,
            "overflow_x": null,
            "overflow_y": null,
            "padding": null,
            "right": null,
            "top": null,
            "visibility": null,
            "width": null
          }
        },
        "7cf76cdcdb714cf1851adcfbed9da2a7": {
          "model_module": "@jupyter-widgets/controls",
          "model_name": "DescriptionStyleModel",
          "model_module_version": "1.5.0",
          "state": {
            "_model_module": "@jupyter-widgets/controls",
            "_model_module_version": "1.5.0",
            "_model_name": "DescriptionStyleModel",
            "_view_count": null,
            "_view_module": "@jupyter-widgets/base",
            "_view_module_version": "1.2.0",
            "_view_name": "StyleView",
            "description_width": ""
          }
        },
        "73035b7679384f2c9fa3d41556f4737f": {
          "model_module": "@jupyter-widgets/base",
          "model_name": "LayoutModel",
          "model_module_version": "1.2.0",
          "state": {
            "_model_module": "@jupyter-widgets/base",
            "_model_module_version": "1.2.0",
            "_model_name": "LayoutModel",
            "_view_count": null,
            "_view_module": "@jupyter-widgets/base",
            "_view_module_version": "1.2.0",
            "_view_name": "LayoutView",
            "align_content": null,
            "align_items": null,
            "align_self": null,
            "border": null,
            "bottom": null,
            "display": null,
            "flex": null,
            "flex_flow": null,
            "grid_area": null,
            "grid_auto_columns": null,
            "grid_auto_flow": null,
            "grid_auto_rows": null,
            "grid_column": null,
            "grid_gap": null,
            "grid_row": null,
            "grid_template_areas": null,
            "grid_template_columns": null,
            "grid_template_rows": null,
            "height": null,
            "justify_content": null,
            "justify_items": null,
            "left": null,
            "margin": null,
            "max_height": null,
            "max_width": null,
            "min_height": null,
            "min_width": null,
            "object_fit": null,
            "object_position": null,
            "order": null,
            "overflow": null,
            "overflow_x": null,
            "overflow_y": null,
            "padding": null,
            "right": null,
            "top": null,
            "visibility": null,
            "width": null
          }
        },
        "75a0fbbd7a12482fb59bc944d01e4256": {
          "model_module": "@jupyter-widgets/controls",
          "model_name": "ProgressStyleModel",
          "model_module_version": "1.5.0",
          "state": {
            "_model_module": "@jupyter-widgets/controls",
            "_model_module_version": "1.5.0",
            "_model_name": "ProgressStyleModel",
            "_view_count": null,
            "_view_module": "@jupyter-widgets/base",
            "_view_module_version": "1.2.0",
            "_view_name": "StyleView",
            "bar_color": null,
            "description_width": ""
          }
        },
        "a67a36204a3c477d97f649d11e1ce299": {
          "model_module": "@jupyter-widgets/base",
          "model_name": "LayoutModel",
          "model_module_version": "1.2.0",
          "state": {
            "_model_module": "@jupyter-widgets/base",
            "_model_module_version": "1.2.0",
            "_model_name": "LayoutModel",
            "_view_count": null,
            "_view_module": "@jupyter-widgets/base",
            "_view_module_version": "1.2.0",
            "_view_name": "LayoutView",
            "align_content": null,
            "align_items": null,
            "align_self": null,
            "border": null,
            "bottom": null,
            "display": null,
            "flex": null,
            "flex_flow": null,
            "grid_area": null,
            "grid_auto_columns": null,
            "grid_auto_flow": null,
            "grid_auto_rows": null,
            "grid_column": null,
            "grid_gap": null,
            "grid_row": null,
            "grid_template_areas": null,
            "grid_template_columns": null,
            "grid_template_rows": null,
            "height": null,
            "justify_content": null,
            "justify_items": null,
            "left": null,
            "margin": null,
            "max_height": null,
            "max_width": null,
            "min_height": null,
            "min_width": null,
            "object_fit": null,
            "object_position": null,
            "order": null,
            "overflow": null,
            "overflow_x": null,
            "overflow_y": null,
            "padding": null,
            "right": null,
            "top": null,
            "visibility": null,
            "width": null
          }
        },
        "264a201f139e4b04904dddd0dab40e04": {
          "model_module": "@jupyter-widgets/controls",
          "model_name": "DescriptionStyleModel",
          "model_module_version": "1.5.0",
          "state": {
            "_model_module": "@jupyter-widgets/controls",
            "_model_module_version": "1.5.0",
            "_model_name": "DescriptionStyleModel",
            "_view_count": null,
            "_view_module": "@jupyter-widgets/base",
            "_view_module_version": "1.2.0",
            "_view_name": "StyleView",
            "description_width": ""
          }
        }
      }
    }
  },
  "cells": [
    {
      "cell_type": "markdown",
      "metadata": {
        "id": "view-in-github",
        "colab_type": "text"
      },
      "source": [
        "<a href=\"https://colab.research.google.com/github/vihan-lakshman/mutagenic/blob/main/masking_pipeline_new.ipynb\" target=\"_parent\"><img src=\"https://colab.research.google.com/assets/colab-badge.svg\" alt=\"Open In Colab\"/></a>"
      ]
    },
    {
      "cell_type": "markdown",
      "source": [
        "# Evaluation Dataset"
      ],
      "metadata": {
        "id": "XLX6j4Dz3CNK"
      }
    },
    {
      "cell_type": "code",
      "source": [
        "!pip install Bio"
      ],
      "metadata": {
        "id": "GBRneM-waXxH",
        "outputId": "0e3f5c1b-d127-46f3-ebe3-339defc06d35",
        "colab": {
          "base_uri": "https://localhost:8080/"
        }
      },
      "execution_count": 26,
      "outputs": [
        {
          "output_type": "stream",
          "name": "stdout",
          "text": [
            "Requirement already satisfied: Bio in /usr/local/lib/python3.11/dist-packages (1.7.1)\n",
            "Requirement already satisfied: biopython>=1.80 in /usr/local/lib/python3.11/dist-packages (from Bio) (1.85)\n",
            "Requirement already satisfied: gprofiler-official in /usr/local/lib/python3.11/dist-packages (from Bio) (1.0.0)\n",
            "Requirement already satisfied: mygene in /usr/local/lib/python3.11/dist-packages (from Bio) (3.2.2)\n",
            "Requirement already satisfied: pandas in /usr/local/lib/python3.11/dist-packages (from Bio) (2.2.2)\n",
            "Requirement already satisfied: pooch in /usr/local/lib/python3.11/dist-packages (from Bio) (1.8.2)\n",
            "Requirement already satisfied: requests in /usr/local/lib/python3.11/dist-packages (from Bio) (2.32.3)\n",
            "Requirement already satisfied: tqdm in /usr/local/lib/python3.11/dist-packages (from Bio) (4.67.1)\n",
            "Requirement already satisfied: numpy in /usr/local/lib/python3.11/dist-packages (from biopython>=1.80->Bio) (1.26.4)\n",
            "Requirement already satisfied: biothings-client>=0.2.6 in /usr/local/lib/python3.11/dist-packages (from mygene->Bio) (0.4.1)\n",
            "Requirement already satisfied: python-dateutil>=2.8.2 in /usr/local/lib/python3.11/dist-packages (from pandas->Bio) (2.8.2)\n",
            "Requirement already satisfied: pytz>=2020.1 in /usr/local/lib/python3.11/dist-packages (from pandas->Bio) (2025.1)\n",
            "Requirement already satisfied: tzdata>=2022.7 in /usr/local/lib/python3.11/dist-packages (from pandas->Bio) (2025.1)\n",
            "Requirement already satisfied: platformdirs>=2.5.0 in /usr/local/lib/python3.11/dist-packages (from pooch->Bio) (4.3.6)\n",
            "Requirement already satisfied: packaging>=20.0 in /usr/local/lib/python3.11/dist-packages (from pooch->Bio) (24.2)\n",
            "Requirement already satisfied: charset-normalizer<4,>=2 in /usr/local/lib/python3.11/dist-packages (from requests->Bio) (3.4.1)\n",
            "Requirement already satisfied: idna<4,>=2.5 in /usr/local/lib/python3.11/dist-packages (from requests->Bio) (3.10)\n",
            "Requirement already satisfied: urllib3<3,>=1.21.1 in /usr/local/lib/python3.11/dist-packages (from requests->Bio) (2.3.0)\n",
            "Requirement already satisfied: certifi>=2017.4.17 in /usr/local/lib/python3.11/dist-packages (from requests->Bio) (2025.1.31)\n",
            "Requirement already satisfied: httpx>=0.22.0 in /usr/local/lib/python3.11/dist-packages (from biothings-client>=0.2.6->mygene->Bio) (0.28.1)\n",
            "Requirement already satisfied: six>=1.5 in /usr/local/lib/python3.11/dist-packages (from python-dateutil>=2.8.2->pandas->Bio) (1.17.0)\n",
            "Requirement already satisfied: anyio in /usr/local/lib/python3.11/dist-packages (from httpx>=0.22.0->biothings-client>=0.2.6->mygene->Bio) (3.7.1)\n",
            "Requirement already satisfied: httpcore==1.* in /usr/local/lib/python3.11/dist-packages (from httpx>=0.22.0->biothings-client>=0.2.6->mygene->Bio) (1.0.7)\n",
            "Requirement already satisfied: h11<0.15,>=0.13 in /usr/local/lib/python3.11/dist-packages (from httpcore==1.*->httpx>=0.22.0->biothings-client>=0.2.6->mygene->Bio) (0.14.0)\n",
            "Requirement already satisfied: sniffio>=1.1 in /usr/local/lib/python3.11/dist-packages (from anyio->httpx>=0.22.0->biothings-client>=0.2.6->mygene->Bio) (1.3.1)\n"
          ]
        }
      ]
    },
    {
      "cell_type": "code",
      "source": [
        "import torch\n",
        "import pandas as pd\n",
        "from sklearn.metrics.pairwise import cosine_similarity\n",
        "#df = pd.read_csv('/content/prelim-deletion-validation-dataset-functional-annotations-with-interpro.csv')"
      ],
      "metadata": {
        "id": "Ci8CiCuy3J_3",
        "collapsed": true
      },
      "execution_count": 27,
      "outputs": []
    },
    {
      "cell_type": "code",
      "source": [
        "esm3_test_df = pd.read_csv('/content/selectedrcsbpdb.tsv', sep='\\t', header = None)\n",
        "\n",
        "# Drop the last two columns\n",
        "esm3_test_df = esm3_test_df.iloc[:, :-2]\n",
        "esm3_test_df.columns = [\"Protein Accession\", \"Seq Digest\", \"Seq Length\", \"Analysis\", \"Signature Accession\", \"Signature description\", \"Start location\", \"Stop location\", \"Score\", \"Status\", \"Date\", \"InterPro accession\", \"InterPro description\"]"
      ],
      "metadata": {
        "id": "toZHWLIl9nUE"
      },
      "execution_count": 28,
      "outputs": []
    },
    {
      "cell_type": "code",
      "source": [
        "# prompt: read in InterProDescriptions.tsv and for all rows with GO:0016020 in its value for 'GO Terms', add the value for that row's 'Accession' value as part of a growing string separated by a semicolon. Then set it as the variable list_of_membrane_terms. don't name it df. name it interpro_go_df\n",
        "\n",
        "interpro_go_df = pd.read_csv('/content/InterProDescriptions.tsv', sep='\\t')\n",
        "\n",
        "# Initialize an empty string to store the accessions\n",
        "list_of_membrane_terms = \"\"\n",
        "\n",
        "# Iterate through the DataFrame rows\n",
        "for index, row in interpro_go_df.iterrows():\n",
        "    go_terms = row['GO Terms']\n",
        "    if isinstance(go_terms, str) and \"GO:0016020\" in go_terms:  # Check if the value is a string and contains \"GO:0016020\"\n",
        "        accession = row['Accession']\n",
        "        if isinstance(accession, str):  # Check if the accession is a string\n",
        "          if list_of_membrane_terms == \"\":\n",
        "            list_of_membrane_terms = accession\n",
        "          else:\n",
        "            list_of_membrane_terms += ';' + accession\n"
      ],
      "metadata": {
        "id": "cAtwj6K3gXio"
      },
      "execution_count": 29,
      "outputs": []
    },
    {
      "cell_type": "code",
      "source": [
        "merged_df = esm3_test_df.groupby('Protein Accession').agg({\n",
        "    'Seq Length': 'first',\n",
        "    'InterPro accession': lambda x: ';'.join(x[x != '-'].unique()),\n",
        "    'InterPro description': lambda x: ';'.join(x[x != '-'].unique())\n",
        "}).reset_index()\n",
        "\n",
        "merged_df = merged_df.rename(columns={\"InterPro accession\": \"InterPro_original\", \"InterPro description\": \"InterPro_original_description\"})\n",
        "\n",
        "# Add the new column\n",
        "merged_df['InterPro_target'] = [list_of_membrane_terms] * len(merged_df)\n",
        "df = merged_df\n",
        "df"
      ],
      "metadata": {
        "colab": {
          "base_uri": "https://localhost:8080/",
          "height": 614
        },
        "id": "38Oj89Wr-lTD",
        "outputId": "da756a1f-b359-49b9-e79e-0ad8b0819b61"
      },
      "execution_count": 31,
      "outputs": [
        {
          "output_type": "execute_result",
          "data": {
            "text/plain": [
              "    Protein Accession  Seq Length  \\\n",
              "0        5R1U_1|Chain         419   \n",
              "1        5R1Z_1|Chain         419   \n",
              "2        5R2B_1|Chain         419   \n",
              "3        5R2E_1|Chain         419   \n",
              "4        5R2J_1|Chain         419   \n",
              "..                ...         ...   \n",
              "231      9FX5_1|Chain         235   \n",
              "232      9GI7_1|Chain         129   \n",
              "233      9H3E_1|Chain         147   \n",
              "234      9HC2_1|Chain         129   \n",
              "235      9K9Z_1|Chain         147   \n",
              "\n",
              "                                     InterPro_original  \\\n",
              "0    IPR034163; IPR021109; IPR001461; IPR001969; IP...   \n",
              "1    IPR034163; IPR021109; IPR001461; IPR001969; IP...   \n",
              "2    IPR034163; IPR021109; IPR001461; IPR001969; IP...   \n",
              "3    IPR034163; IPR021109; IPR001461; IPR001969; IP...   \n",
              "4    IPR034163; IPR021109; IPR001461; IPR001969; IP...   \n",
              "..                                                 ...   \n",
              "231                    IPR001938; IPR037176; IPR017949   \n",
              "232         IPR001916; IPR000974; IPR019799; IPR023346   \n",
              "233         IPR000974; IPR023346; IPR019799; IPR001916   \n",
              "234         IPR001916; IPR000974; IPR019799; IPR023346   \n",
              "235         IPR000974; IPR023346; IPR019799; IPR001916   \n",
              "\n",
              "                         InterPro_original_description  \\\n",
              "0    Aspergillopepsin-like catalytic domain; Aspart...   \n",
              "1    Aspergillopepsin-like catalytic domain; Aspart...   \n",
              "2    Aspergillopepsin-like catalytic domain; Aspart...   \n",
              "3    Aspergillopepsin-like catalytic domain; Aspart...   \n",
              "4    Aspergillopepsin-like catalytic domain; Aspart...   \n",
              "..                                                 ...   \n",
              "231  Thaumatin family; Osmotin/thaumatin-like super...   \n",
              "232  Glycoside hydrolase, family 22; Glycoside hydr...   \n",
              "233  Glycoside hydrolase, family 22, lysozyme; Lyso...   \n",
              "234  Glycoside hydrolase, family 22; Glycoside hydr...   \n",
              "235  Glycoside hydrolase, family 22, lysozyme; Lyso...   \n",
              "\n",
              "                                       InterPro_target  \n",
              "0    IPR000015;IPR000018;IPR000021;IPR000025;IPR000...  \n",
              "1    IPR000015;IPR000018;IPR000021;IPR000025;IPR000...  \n",
              "2    IPR000015;IPR000018;IPR000021;IPR000025;IPR000...  \n",
              "3    IPR000015;IPR000018;IPR000021;IPR000025;IPR000...  \n",
              "4    IPR000015;IPR000018;IPR000021;IPR000025;IPR000...  \n",
              "..                                                 ...  \n",
              "231  IPR000015;IPR000018;IPR000021;IPR000025;IPR000...  \n",
              "232  IPR000015;IPR000018;IPR000021;IPR000025;IPR000...  \n",
              "233  IPR000015;IPR000018;IPR000021;IPR000025;IPR000...  \n",
              "234  IPR000015;IPR000018;IPR000021;IPR000025;IPR000...  \n",
              "235  IPR000015;IPR000018;IPR000021;IPR000025;IPR000...  \n",
              "\n",
              "[236 rows x 5 columns]"
            ],
            "text/html": [
              "\n",
              "  <div id=\"df-e8f6f095-7974-4103-ba2a-38a9cecb9f9c\" class=\"colab-df-container\">\n",
              "    <div>\n",
              "<style scoped>\n",
              "    .dataframe tbody tr th:only-of-type {\n",
              "        vertical-align: middle;\n",
              "    }\n",
              "\n",
              "    .dataframe tbody tr th {\n",
              "        vertical-align: top;\n",
              "    }\n",
              "\n",
              "    .dataframe thead th {\n",
              "        text-align: right;\n",
              "    }\n",
              "</style>\n",
              "<table border=\"1\" class=\"dataframe\">\n",
              "  <thead>\n",
              "    <tr style=\"text-align: right;\">\n",
              "      <th></th>\n",
              "      <th>Protein Accession</th>\n",
              "      <th>Seq Length</th>\n",
              "      <th>InterPro_original</th>\n",
              "      <th>InterPro_original_description</th>\n",
              "      <th>InterPro_target</th>\n",
              "    </tr>\n",
              "  </thead>\n",
              "  <tbody>\n",
              "    <tr>\n",
              "      <th>0</th>\n",
              "      <td>5R1U_1|Chain</td>\n",
              "      <td>419</td>\n",
              "      <td>IPR034163; IPR021109; IPR001461; IPR001969; IP...</td>\n",
              "      <td>Aspergillopepsin-like catalytic domain; Aspart...</td>\n",
              "      <td>IPR000015;IPR000018;IPR000021;IPR000025;IPR000...</td>\n",
              "    </tr>\n",
              "    <tr>\n",
              "      <th>1</th>\n",
              "      <td>5R1Z_1|Chain</td>\n",
              "      <td>419</td>\n",
              "      <td>IPR034163; IPR021109; IPR001461; IPR001969; IP...</td>\n",
              "      <td>Aspergillopepsin-like catalytic domain; Aspart...</td>\n",
              "      <td>IPR000015;IPR000018;IPR000021;IPR000025;IPR000...</td>\n",
              "    </tr>\n",
              "    <tr>\n",
              "      <th>2</th>\n",
              "      <td>5R2B_1|Chain</td>\n",
              "      <td>419</td>\n",
              "      <td>IPR034163; IPR021109; IPR001461; IPR001969; IP...</td>\n",
              "      <td>Aspergillopepsin-like catalytic domain; Aspart...</td>\n",
              "      <td>IPR000015;IPR000018;IPR000021;IPR000025;IPR000...</td>\n",
              "    </tr>\n",
              "    <tr>\n",
              "      <th>3</th>\n",
              "      <td>5R2E_1|Chain</td>\n",
              "      <td>419</td>\n",
              "      <td>IPR034163; IPR021109; IPR001461; IPR001969; IP...</td>\n",
              "      <td>Aspergillopepsin-like catalytic domain; Aspart...</td>\n",
              "      <td>IPR000015;IPR000018;IPR000021;IPR000025;IPR000...</td>\n",
              "    </tr>\n",
              "    <tr>\n",
              "      <th>4</th>\n",
              "      <td>5R2J_1|Chain</td>\n",
              "      <td>419</td>\n",
              "      <td>IPR034163; IPR021109; IPR001461; IPR001969; IP...</td>\n",
              "      <td>Aspergillopepsin-like catalytic domain; Aspart...</td>\n",
              "      <td>IPR000015;IPR000018;IPR000021;IPR000025;IPR000...</td>\n",
              "    </tr>\n",
              "    <tr>\n",
              "      <th>...</th>\n",
              "      <td>...</td>\n",
              "      <td>...</td>\n",
              "      <td>...</td>\n",
              "      <td>...</td>\n",
              "      <td>...</td>\n",
              "    </tr>\n",
              "    <tr>\n",
              "      <th>231</th>\n",
              "      <td>9FX5_1|Chain</td>\n",
              "      <td>235</td>\n",
              "      <td>IPR001938; IPR037176; IPR017949</td>\n",
              "      <td>Thaumatin family; Osmotin/thaumatin-like super...</td>\n",
              "      <td>IPR000015;IPR000018;IPR000021;IPR000025;IPR000...</td>\n",
              "    </tr>\n",
              "    <tr>\n",
              "      <th>232</th>\n",
              "      <td>9GI7_1|Chain</td>\n",
              "      <td>129</td>\n",
              "      <td>IPR001916; IPR000974; IPR019799; IPR023346</td>\n",
              "      <td>Glycoside hydrolase, family 22; Glycoside hydr...</td>\n",
              "      <td>IPR000015;IPR000018;IPR000021;IPR000025;IPR000...</td>\n",
              "    </tr>\n",
              "    <tr>\n",
              "      <th>233</th>\n",
              "      <td>9H3E_1|Chain</td>\n",
              "      <td>147</td>\n",
              "      <td>IPR000974; IPR023346; IPR019799; IPR001916</td>\n",
              "      <td>Glycoside hydrolase, family 22, lysozyme; Lyso...</td>\n",
              "      <td>IPR000015;IPR000018;IPR000021;IPR000025;IPR000...</td>\n",
              "    </tr>\n",
              "    <tr>\n",
              "      <th>234</th>\n",
              "      <td>9HC2_1|Chain</td>\n",
              "      <td>129</td>\n",
              "      <td>IPR001916; IPR000974; IPR019799; IPR023346</td>\n",
              "      <td>Glycoside hydrolase, family 22; Glycoside hydr...</td>\n",
              "      <td>IPR000015;IPR000018;IPR000021;IPR000025;IPR000...</td>\n",
              "    </tr>\n",
              "    <tr>\n",
              "      <th>235</th>\n",
              "      <td>9K9Z_1|Chain</td>\n",
              "      <td>147</td>\n",
              "      <td>IPR000974; IPR023346; IPR019799; IPR001916</td>\n",
              "      <td>Glycoside hydrolase, family 22, lysozyme; Lyso...</td>\n",
              "      <td>IPR000015;IPR000018;IPR000021;IPR000025;IPR000...</td>\n",
              "    </tr>\n",
              "  </tbody>\n",
              "</table>\n",
              "<p>236 rows × 5 columns</p>\n",
              "</div>\n",
              "    <div class=\"colab-df-buttons\">\n",
              "\n",
              "  <div class=\"colab-df-container\">\n",
              "    <button class=\"colab-df-convert\" onclick=\"convertToInteractive('df-e8f6f095-7974-4103-ba2a-38a9cecb9f9c')\"\n",
              "            title=\"Convert this dataframe to an interactive table.\"\n",
              "            style=\"display:none;\">\n",
              "\n",
              "  <svg xmlns=\"http://www.w3.org/2000/svg\" height=\"24px\" viewBox=\"0 -960 960 960\">\n",
              "    <path d=\"M120-120v-720h720v720H120Zm60-500h600v-160H180v160Zm220 220h160v-160H400v160Zm0 220h160v-160H400v160ZM180-400h160v-160H180v160Zm440 0h160v-160H620v160ZM180-180h160v-160H180v160Zm440 0h160v-160H620v160Z\"/>\n",
              "  </svg>\n",
              "    </button>\n",
              "\n",
              "  <style>\n",
              "    .colab-df-container {\n",
              "      display:flex;\n",
              "      gap: 12px;\n",
              "    }\n",
              "\n",
              "    .colab-df-convert {\n",
              "      background-color: #E8F0FE;\n",
              "      border: none;\n",
              "      border-radius: 50%;\n",
              "      cursor: pointer;\n",
              "      display: none;\n",
              "      fill: #1967D2;\n",
              "      height: 32px;\n",
              "      padding: 0 0 0 0;\n",
              "      width: 32px;\n",
              "    }\n",
              "\n",
              "    .colab-df-convert:hover {\n",
              "      background-color: #E2EBFA;\n",
              "      box-shadow: 0px 1px 2px rgba(60, 64, 67, 0.3), 0px 1px 3px 1px rgba(60, 64, 67, 0.15);\n",
              "      fill: #174EA6;\n",
              "    }\n",
              "\n",
              "    .colab-df-buttons div {\n",
              "      margin-bottom: 4px;\n",
              "    }\n",
              "\n",
              "    [theme=dark] .colab-df-convert {\n",
              "      background-color: #3B4455;\n",
              "      fill: #D2E3FC;\n",
              "    }\n",
              "\n",
              "    [theme=dark] .colab-df-convert:hover {\n",
              "      background-color: #434B5C;\n",
              "      box-shadow: 0px 1px 3px 1px rgba(0, 0, 0, 0.15);\n",
              "      filter: drop-shadow(0px 1px 2px rgba(0, 0, 0, 0.3));\n",
              "      fill: #FFFFFF;\n",
              "    }\n",
              "  </style>\n",
              "\n",
              "    <script>\n",
              "      const buttonEl =\n",
              "        document.querySelector('#df-e8f6f095-7974-4103-ba2a-38a9cecb9f9c button.colab-df-convert');\n",
              "      buttonEl.style.display =\n",
              "        google.colab.kernel.accessAllowed ? 'block' : 'none';\n",
              "\n",
              "      async function convertToInteractive(key) {\n",
              "        const element = document.querySelector('#df-e8f6f095-7974-4103-ba2a-38a9cecb9f9c');\n",
              "        const dataTable =\n",
              "          await google.colab.kernel.invokeFunction('convertToInteractive',\n",
              "                                                    [key], {});\n",
              "        if (!dataTable) return;\n",
              "\n",
              "        const docLinkHtml = 'Like what you see? Visit the ' +\n",
              "          '<a target=\"_blank\" href=https://colab.research.google.com/notebooks/data_table.ipynb>data table notebook</a>'\n",
              "          + ' to learn more about interactive tables.';\n",
              "        element.innerHTML = '';\n",
              "        dataTable['output_type'] = 'display_data';\n",
              "        await google.colab.output.renderOutput(dataTable, element);\n",
              "        const docLink = document.createElement('div');\n",
              "        docLink.innerHTML = docLinkHtml;\n",
              "        element.appendChild(docLink);\n",
              "      }\n",
              "    </script>\n",
              "  </div>\n",
              "\n",
              "\n",
              "<div id=\"df-6063c4bc-0401-44d7-8189-2e591b1a4741\">\n",
              "  <button class=\"colab-df-quickchart\" onclick=\"quickchart('df-6063c4bc-0401-44d7-8189-2e591b1a4741')\"\n",
              "            title=\"Suggest charts\"\n",
              "            style=\"display:none;\">\n",
              "\n",
              "<svg xmlns=\"http://www.w3.org/2000/svg\" height=\"24px\"viewBox=\"0 0 24 24\"\n",
              "     width=\"24px\">\n",
              "    <g>\n",
              "        <path d=\"M19 3H5c-1.1 0-2 .9-2 2v14c0 1.1.9 2 2 2h14c1.1 0 2-.9 2-2V5c0-1.1-.9-2-2-2zM9 17H7v-7h2v7zm4 0h-2V7h2v10zm4 0h-2v-4h2v4z\"/>\n",
              "    </g>\n",
              "</svg>\n",
              "  </button>\n",
              "\n",
              "<style>\n",
              "  .colab-df-quickchart {\n",
              "      --bg-color: #E8F0FE;\n",
              "      --fill-color: #1967D2;\n",
              "      --hover-bg-color: #E2EBFA;\n",
              "      --hover-fill-color: #174EA6;\n",
              "      --disabled-fill-color: #AAA;\n",
              "      --disabled-bg-color: #DDD;\n",
              "  }\n",
              "\n",
              "  [theme=dark] .colab-df-quickchart {\n",
              "      --bg-color: #3B4455;\n",
              "      --fill-color: #D2E3FC;\n",
              "      --hover-bg-color: #434B5C;\n",
              "      --hover-fill-color: #FFFFFF;\n",
              "      --disabled-bg-color: #3B4455;\n",
              "      --disabled-fill-color: #666;\n",
              "  }\n",
              "\n",
              "  .colab-df-quickchart {\n",
              "    background-color: var(--bg-color);\n",
              "    border: none;\n",
              "    border-radius: 50%;\n",
              "    cursor: pointer;\n",
              "    display: none;\n",
              "    fill: var(--fill-color);\n",
              "    height: 32px;\n",
              "    padding: 0;\n",
              "    width: 32px;\n",
              "  }\n",
              "\n",
              "  .colab-df-quickchart:hover {\n",
              "    background-color: var(--hover-bg-color);\n",
              "    box-shadow: 0 1px 2px rgba(60, 64, 67, 0.3), 0 1px 3px 1px rgba(60, 64, 67, 0.15);\n",
              "    fill: var(--button-hover-fill-color);\n",
              "  }\n",
              "\n",
              "  .colab-df-quickchart-complete:disabled,\n",
              "  .colab-df-quickchart-complete:disabled:hover {\n",
              "    background-color: var(--disabled-bg-color);\n",
              "    fill: var(--disabled-fill-color);\n",
              "    box-shadow: none;\n",
              "  }\n",
              "\n",
              "  .colab-df-spinner {\n",
              "    border: 2px solid var(--fill-color);\n",
              "    border-color: transparent;\n",
              "    border-bottom-color: var(--fill-color);\n",
              "    animation:\n",
              "      spin 1s steps(1) infinite;\n",
              "  }\n",
              "\n",
              "  @keyframes spin {\n",
              "    0% {\n",
              "      border-color: transparent;\n",
              "      border-bottom-color: var(--fill-color);\n",
              "      border-left-color: var(--fill-color);\n",
              "    }\n",
              "    20% {\n",
              "      border-color: transparent;\n",
              "      border-left-color: var(--fill-color);\n",
              "      border-top-color: var(--fill-color);\n",
              "    }\n",
              "    30% {\n",
              "      border-color: transparent;\n",
              "      border-left-color: var(--fill-color);\n",
              "      border-top-color: var(--fill-color);\n",
              "      border-right-color: var(--fill-color);\n",
              "    }\n",
              "    40% {\n",
              "      border-color: transparent;\n",
              "      border-right-color: var(--fill-color);\n",
              "      border-top-color: var(--fill-color);\n",
              "    }\n",
              "    60% {\n",
              "      border-color: transparent;\n",
              "      border-right-color: var(--fill-color);\n",
              "    }\n",
              "    80% {\n",
              "      border-color: transparent;\n",
              "      border-right-color: var(--fill-color);\n",
              "      border-bottom-color: var(--fill-color);\n",
              "    }\n",
              "    90% {\n",
              "      border-color: transparent;\n",
              "      border-bottom-color: var(--fill-color);\n",
              "    }\n",
              "  }\n",
              "</style>\n",
              "\n",
              "  <script>\n",
              "    async function quickchart(key) {\n",
              "      const quickchartButtonEl =\n",
              "        document.querySelector('#' + key + ' button');\n",
              "      quickchartButtonEl.disabled = true;  // To prevent multiple clicks.\n",
              "      quickchartButtonEl.classList.add('colab-df-spinner');\n",
              "      try {\n",
              "        const charts = await google.colab.kernel.invokeFunction(\n",
              "            'suggestCharts', [key], {});\n",
              "      } catch (error) {\n",
              "        console.error('Error during call to suggestCharts:', error);\n",
              "      }\n",
              "      quickchartButtonEl.classList.remove('colab-df-spinner');\n",
              "      quickchartButtonEl.classList.add('colab-df-quickchart-complete');\n",
              "    }\n",
              "    (() => {\n",
              "      let quickchartButtonEl =\n",
              "        document.querySelector('#df-6063c4bc-0401-44d7-8189-2e591b1a4741 button');\n",
              "      quickchartButtonEl.style.display =\n",
              "        google.colab.kernel.accessAllowed ? 'block' : 'none';\n",
              "    })();\n",
              "  </script>\n",
              "</div>\n",
              "\n",
              "  <div id=\"id_4f77b047-1827-42ad-aa0c-53e853406b72\">\n",
              "    <style>\n",
              "      .colab-df-generate {\n",
              "        background-color: #E8F0FE;\n",
              "        border: none;\n",
              "        border-radius: 50%;\n",
              "        cursor: pointer;\n",
              "        display: none;\n",
              "        fill: #1967D2;\n",
              "        height: 32px;\n",
              "        padding: 0 0 0 0;\n",
              "        width: 32px;\n",
              "      }\n",
              "\n",
              "      .colab-df-generate:hover {\n",
              "        background-color: #E2EBFA;\n",
              "        box-shadow: 0px 1px 2px rgba(60, 64, 67, 0.3), 0px 1px 3px 1px rgba(60, 64, 67, 0.15);\n",
              "        fill: #174EA6;\n",
              "      }\n",
              "\n",
              "      [theme=dark] .colab-df-generate {\n",
              "        background-color: #3B4455;\n",
              "        fill: #D2E3FC;\n",
              "      }\n",
              "\n",
              "      [theme=dark] .colab-df-generate:hover {\n",
              "        background-color: #434B5C;\n",
              "        box-shadow: 0px 1px 3px 1px rgba(0, 0, 0, 0.15);\n",
              "        filter: drop-shadow(0px 1px 2px rgba(0, 0, 0, 0.3));\n",
              "        fill: #FFFFFF;\n",
              "      }\n",
              "    </style>\n",
              "    <button class=\"colab-df-generate\" onclick=\"generateWithVariable('merged_df')\"\n",
              "            title=\"Generate code using this dataframe.\"\n",
              "            style=\"display:none;\">\n",
              "\n",
              "  <svg xmlns=\"http://www.w3.org/2000/svg\" height=\"24px\"viewBox=\"0 0 24 24\"\n",
              "       width=\"24px\">\n",
              "    <path d=\"M7,19H8.4L18.45,9,17,7.55,7,17.6ZM5,21V16.75L18.45,3.32a2,2,0,0,1,2.83,0l1.4,1.43a1.91,1.91,0,0,1,.58,1.4,1.91,1.91,0,0,1-.58,1.4L9.25,21ZM18.45,9,17,7.55Zm-12,3A5.31,5.31,0,0,0,4.9,8.1,5.31,5.31,0,0,0,1,6.5,5.31,5.31,0,0,0,4.9,4.9,5.31,5.31,0,0,0,6.5,1,5.31,5.31,0,0,0,8.1,4.9,5.31,5.31,0,0,0,12,6.5,5.46,5.46,0,0,0,6.5,12Z\"/>\n",
              "  </svg>\n",
              "    </button>\n",
              "    <script>\n",
              "      (() => {\n",
              "      const buttonEl =\n",
              "        document.querySelector('#id_4f77b047-1827-42ad-aa0c-53e853406b72 button.colab-df-generate');\n",
              "      buttonEl.style.display =\n",
              "        google.colab.kernel.accessAllowed ? 'block' : 'none';\n",
              "\n",
              "      buttonEl.onclick = () => {\n",
              "        google.colab.notebook.generateWithVariable('merged_df');\n",
              "      }\n",
              "      })();\n",
              "    </script>\n",
              "  </div>\n",
              "\n",
              "    </div>\n",
              "  </div>\n"
            ],
            "application/vnd.google.colaboratory.intrinsic+json": {
              "type": "dataframe",
              "variable_name": "merged_df",
              "summary": "{\n  \"name\": \"merged_df\",\n  \"rows\": 236,\n  \"fields\": [\n    {\n      \"column\": \"Protein Accession\",\n      \"properties\": {\n        \"dtype\": \"string\",\n        \"num_unique_values\": 236,\n        \"samples\": [\n          \"7B8E_1|Chain\",\n          \"8PH6_1|Chain\",\n          \"8JCR_1|Chain\"\n        ],\n        \"semantic_type\": \"\",\n        \"description\": \"\"\n      }\n    },\n    {\n      \"column\": \"Seq Length\",\n      \"properties\": {\n        \"dtype\": \"number\",\n        \"std\": 179,\n        \"min\": 58,\n        \"max\": 1239,\n        \"num_unique_values\": 64,\n        \"samples\": [\n          830,\n          218,\n          419\n        ],\n        \"semantic_type\": \"\",\n        \"description\": \"\"\n      }\n    },\n    {\n      \"column\": \"InterPro_original\",\n      \"properties\": {\n        \"dtype\": \"category\",\n        \"num_unique_values\": 62,\n        \"samples\": [\n          \"IPR037176; IPR001938; IPR017949\",\n          \"IPR001254; IPR009003; IPR050850; IPR043504; IPR018114; IPR001314; IPR033116\",\n          \"IPR034163; IPR021109; IPR001461; IPR001969; IPR033121\"\n        ],\n        \"semantic_type\": \"\",\n        \"description\": \"\"\n      }\n    },\n    {\n      \"column\": \"InterPro_original_description\",\n      \"properties\": {\n        \"dtype\": \"category\",\n        \"num_unique_values\": 62,\n        \"samples\": [\n          \"Osmotin/thaumatin-like superfamily; Thaumatin family; Thaumatin, conserved site\",\n          \"Serine proteases, trypsin domain; Peptidase S1, PA clan; Peptidase S1 family, Elastase subfamily; Peptidase S1, PA clan, chymotrypsin-like fold; Serine proteases, trypsin family, histidine active site; Peptidase S1A, chymotrypsin family; Serine proteases, trypsin family, serine active site\",\n          \"Aspergillopepsin-like catalytic domain; Aspartic peptidase domain superfamily; Aspartic peptidase A1; Aspartic peptidase, active site; Peptidase family A1 domain\"\n        ],\n        \"semantic_type\": \"\",\n        \"description\": \"\"\n      }\n    },\n    {\n      \"column\": \"InterPro_target\",\n      \"properties\": {\n        \"dtype\": \"category\",\n        \"num_unique_values\": 1,\n        \"samples\": [\n          \"IPR000015;IPR000018;IPR000021;IPR000025;IPR000044;IPR000045;IPR000046;IPR000057;IPR000060;IPR000066;IPR000068;IPR000072;IPR000076;IPR000105;IPR000109;IPR000112;IPR000133;IPR000136;IPR000141;IPR000142;IPR000144;IPR000147;IPR000154;IPR000155;IPR000161;IPR000162;IPR000163;IPR000174;IPR000175;IPR000189;IPR000190;IPR000202;IPR000204;IPR000207;IPR000223;IPR000248;IPR000265;IPR000272;IPR000276;IPR000283;IPR000292;IPR000293;IPR000298;IPR000301;IPR000314;IPR000321;IPR000332;IPR000333;IPR000337;IPR000344;IPR000351;IPR000353;IPR000355;IPR000356;IPR000363;IPR000366;IPR000369;IPR000370;IPR000371;IPR000374;IPR000376;IPR000378;IPR000382;IPR000388;IPR000390;IPR000393;IPR000405;IPR000412;IPR000425;IPR000431;IPR000434;IPR000452;IPR000460;IPR000462;IPR000466;IPR000472;IPR000481;IPR000482;IPR000496;IPR000498;IPR000499;IPR000503;IPR000507;IPR000515;IPR000516;IPR000522;IPR000537;IPR000539;IPR000549;IPR000576;IPR000579;IPR000586;IPR000596;IPR000599;IPR000609;IPR000611;IPR000612;IPR000620;IPR000621;IPR000622;IPR000628;IPR000670;IPR000680;IPR000681;IPR000699;IPR000708;IPR000715;IPR000720;IPR000723;IPR000725;IPR000732;IPR000735;IPR000761;IPR000778;IPR000791;IPR000802;IPR000810;IPR000817;IPR000820;IPR000826;IPR000829;IPR000830;IPR000832;IPR000844;IPR000848;IPR000849;IPR000883;IPR000913;IPR000920;IPR000921;IPR000932;IPR000935;IPR000973;IPR000984;IPR000986;IPR000987;IPR000998;IPR001003;IPR001004;IPR001013;IPR001036;IPR001046;IPR001050;IPR001053;IPR001056;IPR001065;IPR001068;IPR001069;IPR001105;IPR001108;IPR001112;IPR001115;IPR001116;IPR001123;IPR001129;IPR001136;IPR001151;IPR001168;IPR001170;IPR001171;IPR001182;IPR001184;IPR001185;IPR001186;IPR001187;IPR001190;IPR001193;IPR001195;IPR001204;IPR001224;IPR001231;IPR001234;IPR001244;IPR001248;IPR001256;IPR001277;IPR001280;IPR001285;IPR001320;IPR001344;IPR001350;IPR001355;IPR001358;IPR001382;IPR001388;IPR001390;IPR001391;IPR001397;IPR001402;IPR001414;IPR001416;IPR001418;IPR001420;IPR001425;IPR001426;IPR001435;IPR001446;IPR001458;IPR001463;IPR001475;IPR001481;IPR001493;IPR001499;IPR001503;IPR001504;IPR001508;IPR001512;IPR001513;IPR001521;IPR001546;IPR001548;IPR001551;IPR001556;IPR001560;IPR001565;IPR001571;IPR001577;IPR001614;IPR001634;IPR001642;IPR001644;IPR001658;IPR001671;IPR001681;IPR001686;IPR001688;IPR001694;IPR001702;IPR001708;IPR001712;IPR001717;IPR001718;IPR001733;IPR001734;IPR001735;IPR001740;IPR001743;IPR001749;IPR001757;IPR001758;IPR001760;IPR001771;IPR001774;IPR001779;IPR001786;IPR001793;IPR001799;IPR001807;IPR001817;IPR001851;IPR001856;IPR001860;IPR001872;IPR001873;IPR001879;IPR001883;IPR001893;IPR001897;IPR001898;IPR001901;IPR001902;IPR001905;IPR001908;IPR001922;IPR001923;IPR001927;IPR001933;IPR001946;IPR001953;IPR001966;IPR001970;IPR001972;IPR001973;IPR001991;IPR001992;IPR002000;IPR002001;IPR002002;IPR002010;IPR002011;IPR002031;IPR002033;IPR002062;IPR002074;IPR002076;IPR002090;IPR002120;IPR002122;IPR002126;IPR002131;IPR002144;IPR002153;IPR002159;IPR002170;IPR002175;IPR002184;IPR002191;IPR002206;IPR002208;IPR002230;IPR002232;IPR002233;IPR002234;IPR002235;IPR002236;IPR002237;IPR002238;IPR002239;IPR002240;IPR002242;IPR002243;IPR002244;IPR002245;IPR002246;IPR002247;IPR002248;IPR002249;IPR002250;IPR002251;IPR002258;IPR002259;IPR002272;IPR002273;IPR002274;IPR002275;IPR002276;IPR002277;IPR002278;IPR002279;IPR002280;IPR002281;IPR002282;IPR002284;IPR002285;IPR002289;IPR002293;IPR002299;IPR002361;IPR002362;IPR002368;IPR002394;IPR002396;IPR002429;IPR002434;IPR002435;IPR002436;IPR002439;IPR002440;IPR002441;IPR002442;IPR002443;IPR002444;IPR002445;IPR002455;IPR002456;IPR002457;IPR002516;IPR002523;IPR002524;IPR002528;IPR002552;IPR002567;IPR002574;IPR002610;IPR002621;IPR002657;IPR002659;IPR002666;IPR002682;IPR002685;IPR002751;IPR002758;IPR002771;IPR002781;IPR002794;IPR002797;IPR002809;IPR002825;IPR002896;IPR002944;IPR002945;IPR002948;IPR002956;IPR002958;IPR002959;IPR002960;IPR002961;IPR002962;IPR002977;IPR002978;IPR002979;IPR002980;IPR002981;IPR002982;IPR002983;IPR002984;IPR002987;IPR002994;IPR002995;IPR003020;IPR003024;IPR003028;IPR003038;IPR003044;IPR003045;IPR003046;IPR003047;IPR003048;IPR003049;IPR003050;IPR003051;IPR003052;IPR003053;IPR003056;IPR003092;IPR003110;IPR003187;IPR003192;IPR003211;IPR003263;IPR003269;IPR003270;IPR003271;IPR003272;IPR003273;IPR003274;IPR003275;IPR003276;IPR003277;IPR003278;IPR003279;IPR003280;IPR003287;IPR003288;IPR003289;IPR003290;IPR003291;IPR003292;IPR003298;IPR003317;IPR003334;IPR003342;IPR003352;IPR003359;IPR003372;IPR003373;IPR003378;IPR003392;IPR003394;IPR003398;IPR003406;IPR003416;IPR003418;IPR003425;IPR003440;IPR003452;IPR003457;IPR003474;IPR003492;IPR003510;IPR003524;IPR003528;IPR003529;IPR003530;IPR003531;IPR003532;IPR003543;IPR003544;IPR003557;IPR003566;IPR003567;IPR003568;IPR003569;IPR003570;IPR003605;IPR003644;IPR003660;IPR003663;IPR003667;IPR003674;IPR003675;IPR003684;IPR003686;IPR003688;IPR003689;IPR003691;IPR003705;IPR003706;IPR003752;IPR003763;IPR003780;IPR003820;IPR003824;IPR003825;IPR003834;IPR003838;IPR003841;IPR003844;IPR003852;IPR003855;IPR003856;IPR003864;IPR003873;IPR003895;IPR003904;IPR003905;IPR003906;IPR003907;IPR003908;IPR003909;IPR003910;IPR003912;IPR003915;IPR003919;IPR003920;IPR003921;IPR003924;IPR003929;IPR003930;IPR003932;IPR003933;IPR003934;IPR003935;IPR003936;IPR003937;IPR003938;IPR003943;IPR003944;IPR003947;IPR003948;IPR003949;IPR003950;IPR003967;IPR003976;IPR003980;IPR003981;IPR003982;IPR003983;IPR003984;IPR003985;IPR003986;IPR003987;IPR003988;IPR003989;IPR004031;IPR004032;IPR004047;IPR004059;IPR004060;IPR004061;IPR004062;IPR004063;IPR004064;IPR004065;IPR004066;IPR004067;IPR004068;IPR004069;IPR004070;IPR004071;IPR004072;IPR004073;IPR004089;IPR004090;IPR004117;IPR004131;IPR004151;IPR004156;IPR004178;IPR004213;IPR004240;IPR004254;IPR004282;IPR004307;IPR004316;IPR004324;IPR004326;IPR004338;IPR004342;IPR004350;IPR004387;IPR004445;IPR004471;IPR004485;IPR004488;IPR004501;IPR004513;IPR004552;IPR004563;IPR004570;IPR004630;IPR004633;IPR004634;IPR004638;IPR004657;IPR004667;IPR004668;IPR004669;IPR004670;IPR004671;IPR004673;IPR004679;IPR004680;IPR004681;IPR004684;IPR004685;IPR004686;IPR004687;IPR004690;IPR004692;IPR004694;IPR004695;IPR004696;IPR004698;IPR004699;IPR004700;IPR004701;IPR004702;IPR004703;IPR004704;IPR004705;IPR004706;IPR004707;IPR004709;IPR004711;IPR004713;IPR004715;IPR004718;IPR004719;IPR004724;IPR004725;IPR004726;IPR004734;IPR004736;IPR004737;IPR004738;IPR004740;IPR004741;IPR004742;IPR004743;IPR004745;IPR004746;IPR004747;IPR004748;IPR004749;IPR004750;IPR004752;IPR004754;IPR004755;IPR004756;IPR004759;IPR004760;IPR004761;IPR004762;IPR004763;IPR004764;IPR004765;IPR004766;IPR004768;IPR004770;IPR004771;IPR004772;IPR004773;IPR004775;IPR004776;IPR004777;IPR004778;IPR004779;IPR004796;IPR004797;IPR004801;IPR004812;IPR004817;IPR004836;IPR004837;IPR004840;IPR004841;IPR004842;IPR004847;IPR004869;IPR004878;IPR004891;IPR004923;IPR004932;IPR004933;IPR004937;IPR004938;IPR004960;IPR004961;IPR004965;IPR004995;IPR005016;IPR005027;IPR005041;IPR005045;IPR005052;IPR005074;IPR005076;IPR005150;IPR005171;IPR005199;IPR005254;IPR005267;IPR005279;IPR005281;IPR005283;IPR005284;IPR005285;IPR005292;IPR005318;IPR005331;IPR005344;IPR005349;IPR005352;IPR005372;IPR005382;IPR005383;IPR005384;IPR005385;IPR005386;IPR005387;IPR005388;IPR005389;IPR005390;IPR005391;IPR005392;IPR005393;IPR005394;IPR005395;IPR005396;IPR005397;IPR005400;IPR005401;IPR005402;IPR005403;IPR005404;IPR005405;IPR005406;IPR005407;IPR005408;IPR005409;IPR005410;IPR005424;IPR005425;IPR005426;IPR005431;IPR005432;IPR005433;IPR005434;IPR005435;IPR005436;IPR005437;IPR005438;IPR005439;IPR005440;IPR005457;IPR005458;IPR005459;IPR005460;IPR005461;IPR005462;IPR005463;IPR005464;IPR005466;IPR005495;IPR005496;IPR005538;IPR005610;IPR005628;IPR005666;IPR005667;IPR005670;IPR005701;IPR005719;IPR005744;IPR005773;IPR005775;IPR005782;IPR005797;IPR005798;IPR005805;IPR005807;IPR005821;IPR005828;IPR005829;IPR005837;IPR005838;IPR005865;IPR005866;IPR005868;IPR005869;IPR005889;IPR005890;IPR005892;IPR005897;IPR005898;IPR005899;IPR005936;IPR005947;IPR005964;IPR005968;IPR005978;IPR005981;IPR005984;IPR006008;IPR006011;IPR006012;IPR006028;IPR006029;IPR006042;IPR006043;IPR006052;IPR006053;IPR006135;IPR006136;IPR006143;IPR006144;IPR006153;IPR006201;IPR006202;IPR006213;IPR006216;IPR006241;IPR006243;IPR006244;IPR006290;IPR006301;IPR006302;IPR006303;IPR006304;IPR006305;IPR006306;IPR006307;IPR006312;IPR006327;IPR006332;IPR006333;IPR006369;IPR006370;IPR006391;IPR006408;IPR006413;IPR006414;IPR006415;IPR006419;IPR006469;IPR006470;IPR006471;IPR006534;IPR006539;IPR006544;IPR006581;IPR006614;IPR006634;IPR006639;IPR006644;IPR006664;IPR006669;IPR006685;IPR006686;IPR006690;IPR006741;IPR006757;IPR006782;IPR006813;IPR006838;IPR006859;IPR006875;IPR006884;IPR006916;IPR006918;IPR006977;IPR006985;IPR006990;IPR007007;IPR007049;IPR007059;IPR007078;IPR007173;IPR007203;IPR007208;IPR007223;IPR007226;IPR007227;IPR007237;IPR007246;IPR007248;IPR007265;IPR007267;IPR007269;IPR007271;IPR007273;IPR007274;IPR007277;IPR007288;IPR007313;IPR007329;IPR007341;IPR007369;IPR007428;IPR007430;IPR007441;IPR007554;IPR007568;IPR007593;IPR007594;IPR007653;IPR007676;IPR007704;IPR007705;IPR007720;IPR007734;IPR007735;IPR007743;IPR007746;IPR007754;IPR007763;IPR007764;IPR007775;IPR007820;IPR007826;IPR007866;IPR007875;IPR007880;IPR007905;IPR007943;IPR007960;IPR007961;IPR007977;IPR007992;IPR008001;IPR008006;IPR008028;IPR008056;IPR008057;IPR008058;IPR008059;IPR008060;IPR008061;IPR008062;IPR008063;IPR008073;IPR008074;IPR008077;IPR008078;IPR008083;IPR008093;IPR008096;IPR008098;IPR008099;IPR008100;IPR008101;IPR008102;IPR008103;IPR008104;IPR008109;IPR008112;IPR008128;IPR008129;IPR008130;IPR008131;IPR008132;IPR008133;IPR008134;IPR008155;IPR008158;IPR008253;IPR008276;IPR008294;IPR008297;IPR008337;IPR008338;IPR008344;IPR008345;IPR008346;IPR008347;IPR008348;IPR008355;IPR008358;IPR008359;IPR008361;IPR008362;IPR008365;IPR008368;IPR008369;IPR008370;IPR008371;IPR008372;IPR008399;IPR008400;IPR008414;IPR008417;IPR008424;IPR008429;IPR008431;IPR008457;IPR008485;IPR008504;IPR008509;IPR008521;IPR008523;IPR008564;IPR008568;IPR008602;IPR008608;IPR008630;IPR008652;IPR008657;IPR008661;IPR008690;IPR008691;IPR008710;IPR008795;IPR008814;IPR008818;IPR008819;IPR008820;IPR008821;IPR008837;IPR008844;IPR008855;IPR008856;IPR008882;IPR008892;IPR008896;IPR008901;IPR008952;IPR009119;IPR009120;IPR009121;IPR009122;IPR009126;IPR009132;IPR009133;IPR009136;IPR009138;IPR009147;IPR009150;IPR009152;IPR009154;IPR009160;IPR009167;IPR009248;IPR009262;IPR009281;IPR009294;IPR009311;IPR009315;IPR009316;IPR009318;IPR009379;IPR009388;IPR009431;IPR009433;IPR009447;IPR009450;IPR009455;IPR009460;IPR009471;IPR009518;IPR009539;IPR009542;IPR009582;IPR009600;IPR009621;IPR009635;IPR009637;IPR009716;IPR009729;IPR009779;IPR009825;IPR009834;IPR009861;IPR009887;IPR009896;IPR009908;IPR009980;IPR010065;IPR010067;IPR010101;IPR010128;IPR010129;IPR010131;IPR010132;IPR010200;IPR010201;IPR010204;IPR010205;IPR010208;IPR010226;IPR010245;IPR010278;IPR010284;IPR010288;IPR010379;IPR010407;IPR010423;IPR010435;IPR010514;IPR010548;IPR010559;IPR010560;IPR010574;IPR010599;IPR010635;IPR010651;IPR010660;IPR010691;IPR010761;IPR010771;IPR010798;IPR010826;IPR010901;IPR010929;IPR010966;IPR010967;IPR010968;IPR010973;IPR010974;IPR010989;IPR011014;IPR011066;IPR011115;IPR011116;IPR011130;IPR011163;IPR011176;IPR011248;IPR011265;IPR011296;IPR011299;IPR011303;IPR011307;IPR011365;IPR011388;IPR011399;IPR011402;IPR011527;IPR011531;IPR011546;IPR011547;IPR011552;IPR011577;IPR011618;IPR011620;IPR011638;IPR011640;IPR011651;IPR011653;IPR011656;IPR011691;IPR011712;IPR011759;IPR011799;IPR011812;IPR011849;IPR011851;IPR011864;IPR011867;IPR011868;IPR011885;IPR011917;IPR011919;IPR011920;IPR011921;IPR011922;IPR011923;IPR011924;IPR011925;IPR011926;IPR011937;IPR011988;IPR012049;IPR012105;IPR012136;IPR012218;IPR012315;IPR012358;IPR012392;IPR012404;IPR012466;IPR012493;IPR012496;IPR012506;IPR012549;IPR012556;IPR012560;IPR012561;IPR012597;IPR012681;IPR012693;IPR012750;IPR012826;IPR012858;IPR012897;IPR012926;IPR013082;IPR013305;IPR013312;IPR013313;IPR013347;IPR013437;IPR013455;IPR013525;IPR013601;IPR013604;IPR013695;IPR013698;IPR013769;IPR013803;IPR013833;IPR013861;IPR013928;IPR014116;IPR014157;IPR014161;IPR014163;IPR014164;IPR014168;IPR014170;IPR014171;IPR014172;IPR014210;IPR014216;IPR014222;IPR014223;IPR014233;IPR014246;IPR014250;IPR014302;IPR014310;IPR014312;IPR014353;IPR014409;IPR014430;IPR014551;IPR014739;IPR014740;IPR014745;IPR015013;IPR015014;IPR015059;IPR015127;IPR015149;IPR015169;IPR015260;IPR015319;IPR015338;IPR015386;IPR015414;IPR015449;IPR015631;IPR015771;IPR015827;IPR015853;IPR015856;IPR015860;IPR015919;IPR015993;IPR016174;IPR016235;IPR016244;IPR016245;IPR016246;IPR016248;IPR016251;IPR016373;IPR016380;IPR016408;IPR016449;IPR016574;IPR016636;IPR016707;IPR016710;IPR016975;IPR017051;IPR017079;IPR017092;IPR017157;IPR017194;IPR017202;IPR017213;IPR017241;IPR017360;IPR017402;IPR017452;IPR017472;IPR017486;IPR017511;IPR017512;IPR017571;IPR017572;IPR017588;IPR017636;IPR017661;IPR017705;IPR017753;IPR017790;IPR017807;IPR017879;IPR017978;IPR017979;IPR017981;IPR018006;IPR018011;IPR018024;IPR018043;IPR018047;IPR018084;IPR018086;IPR018229;IPR018241;IPR018270;IPR018295;IPR018365;IPR018383;IPR018385;IPR018395;IPR018396;IPR018410;IPR018422;IPR018448;IPR018456;IPR018460;IPR018461;IPR018469;IPR018491;IPR018495;IPR018498;IPR018499;IPR018503;IPR018513;IPR018604;IPR018629;IPR018732;IPR018764;IPR018801;IPR018938;IPR019017;IPR019029;IPR019365;IPR019594;IPR019756;IPR019757;IPR019758;IPR019765;IPR019957;IPR019998;IPR020155;IPR020368;IPR020411;IPR020513;IPR020693;IPR020775;IPR020776;IPR020781;IPR020849;IPR020874;IPR020903;IPR020937;IPR020959;IPR020963;IPR020969;IPR021015;IPR021050;IPR021082;IPR021091;IPR021522;IPR021532;IPR021910;IPR022308;IPR022324;IPR022335;IPR022339;IPR022347;IPR022348;IPR022369;IPR022416;IPR022457;IPR022535;IPR022732;IPR022764;IPR022781;IPR023060;IPR023449;IPR023517;IPR023597;IPR023599;IPR023601;IPR023662;IPR023680;IPR023690;IPR023691;IPR023726;IPR023729;IPR023743;IPR023754;IPR023755;IPR023760;IPR023762;IPR023783;IPR023838;IPR023954;IPR023960;IPR023999;IPR024041;IPR024371;IPR024717;IPR024791;IPR024862;IPR024919;IPR024921;IPR025940;IPR025958;IPR026030;IPR026082;IPR026221;IPR026228;IPR026230;IPR026232;IPR026233;IPR026234;IPR026252;IPR026355;IPR026919;IPR027256;IPR027272;IPR027294;IPR027336;IPR027435;IPR027659;IPR027669;IPR027917;IPR028070;IPR028181;IPR028337;IPR028338;IPR029238;IPR029372;IPR029589;IPR029636;IPR030050;IPR030055;IPR030182;IPR030183;IPR030184;IPR030185;IPR030189;IPR030191;IPR030192;IPR030240;IPR030254;IPR030541;IPR030687;IPR030856;IPR030858;IPR030873;IPR031155;IPR032700;IPR032895;IPR033280;IPR033481;IPR033539;IPR033549;IPR033900;IPR034703;IPR034764;IPR034804;IPR035288;IPR035463;IPR035689;IPR035973;IPR035982;IPR036001;IPR036026;IPR036122;IPR036150;IPR036445;IPR036458;IPR036541;IPR036613;IPR036640;IPR036662;IPR036670;IPR036719;IPR036734;IPR036772;IPR036863;IPR036924;IPR036945;IPR036998;IPR037065;IPR037071;IPR037413;IPR037671;IPR037936;IPR038978;IPR039032;IPR039090;IPR039672;IPR039680;IPR039972;IPR042379;IPR042454;IPR042472;IPR042473;IPR043315;IPR043406;IPR043429;IPR043506;IPR044377;IPR044379;IPR044783;IPR044991;IPR045120;IPR045225;IPR045915;IPR047818;IPR047846;IPR048259;IPR048260;IPR048307\"\n        ],\n        \"semantic_type\": \"\",\n        \"description\": \"\"\n      }\n    }\n  ]\n}"
            }
          },
          "metadata": {},
          "execution_count": 31
        }
      ]
    },
    {
      "cell_type": "code",
      "source": [
        "from Bio import SeqIO\n",
        "# Read FASTA file into a dictionary\n",
        "def parse_fasta(fasta_file):\n",
        "    fasta_dict = {}\n",
        "    for record in SeqIO.parse(fasta_file, \"fasta\"):\n",
        "        accession = record.id.split(\"|\")[0]  # Extract only the part before the first \"|\"\n",
        "        fasta_dict[accession] = str(record.seq)\n",
        "    return fasta_dict\n",
        "\n",
        "# Update DataFrame with sequences\n",
        "def update_dataframe_with_sequences(df, fasta_dict):\n",
        "    # Preprocess 'Protein Accession' column\n",
        "    df[\"Protein Accession\"] = df[\"Protein Accession\"].str.split(\"|\").str[0]\n",
        "    df[\"Sequence\"] = df[\"Protein Accession\"].map(fasta_dict)\n",
        "    return df\n",
        "\n",
        "# Example usage\n",
        "fasta_file = \"/content/selectedrcsbpdb.fasta\"\n",
        "fasta_dict = parse_fasta(fasta_file)\n",
        "df = update_dataframe_with_sequences(df, fasta_dict)\n",
        "\n",
        "df"
      ],
      "metadata": {
        "id": "R5PMVa_Sbeci",
        "outputId": "15960a8d-8b23-44c2-d778-a857bcfe7ba5",
        "colab": {
          "base_uri": "https://localhost:8080/",
          "height": 964
        }
      },
      "execution_count": 33,
      "outputs": [
        {
          "output_type": "execute_result",
          "data": {
            "text/plain": [
              "    Protein Accession  Seq Length  \\\n",
              "0              5R1U_1         419   \n",
              "1              5R1Z_1         419   \n",
              "2              5R2B_1         419   \n",
              "3              5R2E_1         419   \n",
              "4              5R2J_1         419   \n",
              "..                ...         ...   \n",
              "231            9FX5_1         235   \n",
              "232            9GI7_1         129   \n",
              "233            9H3E_1         147   \n",
              "234            9HC2_1         129   \n",
              "235            9K9Z_1         147   \n",
              "\n",
              "                                     InterPro_original  \\\n",
              "0    IPR034163; IPR021109; IPR001461; IPR001969; IP...   \n",
              "1    IPR034163; IPR021109; IPR001461; IPR001969; IP...   \n",
              "2    IPR034163; IPR021109; IPR001461; IPR001969; IP...   \n",
              "3    IPR034163; IPR021109; IPR001461; IPR001969; IP...   \n",
              "4    IPR034163; IPR021109; IPR001461; IPR001969; IP...   \n",
              "..                                                 ...   \n",
              "231                    IPR001938; IPR037176; IPR017949   \n",
              "232         IPR001916; IPR000974; IPR019799; IPR023346   \n",
              "233         IPR000974; IPR023346; IPR019799; IPR001916   \n",
              "234         IPR001916; IPR000974; IPR019799; IPR023346   \n",
              "235         IPR000974; IPR023346; IPR019799; IPR001916   \n",
              "\n",
              "                         InterPro_original_description  \\\n",
              "0    Aspergillopepsin-like catalytic domain; Aspart...   \n",
              "1    Aspergillopepsin-like catalytic domain; Aspart...   \n",
              "2    Aspergillopepsin-like catalytic domain; Aspart...   \n",
              "3    Aspergillopepsin-like catalytic domain; Aspart...   \n",
              "4    Aspergillopepsin-like catalytic domain; Aspart...   \n",
              "..                                                 ...   \n",
              "231  Thaumatin family; Osmotin/thaumatin-like super...   \n",
              "232  Glycoside hydrolase, family 22; Glycoside hydr...   \n",
              "233  Glycoside hydrolase, family 22, lysozyme; Lyso...   \n",
              "234  Glycoside hydrolase, family 22; Glycoside hydr...   \n",
              "235  Glycoside hydrolase, family 22, lysozyme; Lyso...   \n",
              "\n",
              "                                       InterPro_target  \\\n",
              "0    IPR000015;IPR000018;IPR000021;IPR000025;IPR000...   \n",
              "1    IPR000015;IPR000018;IPR000021;IPR000025;IPR000...   \n",
              "2    IPR000015;IPR000018;IPR000021;IPR000025;IPR000...   \n",
              "3    IPR000015;IPR000018;IPR000021;IPR000025;IPR000...   \n",
              "4    IPR000015;IPR000018;IPR000021;IPR000025;IPR000...   \n",
              "..                                                 ...   \n",
              "231  IPR000015;IPR000018;IPR000021;IPR000025;IPR000...   \n",
              "232  IPR000015;IPR000018;IPR000021;IPR000025;IPR000...   \n",
              "233  IPR000015;IPR000018;IPR000021;IPR000025;IPR000...   \n",
              "234  IPR000015;IPR000018;IPR000021;IPR000025;IPR000...   \n",
              "235  IPR000015;IPR000018;IPR000021;IPR000025;IPR000...   \n",
              "\n",
              "                                              Sequence  \n",
              "0    MSSPLKNALVTAMLAGGALSSPTKQHVGIPVNASPEVGPGKYSFKQ...  \n",
              "1    MSSPLKNALVTAMLAGGALSSPTKQHVGIPVNASPEVGPGKYSFKQ...  \n",
              "2    MSSPLKNALVTAMLAGGALSSPTKQHVGIPVNASPEVGPGKYSFKQ...  \n",
              "3    MSSPLKNALVTAMLAGGALSSPTKQHVGIPVNASPEVGPGKYSFKQ...  \n",
              "4    MSSPLKNALVTAMLAGGALSSPTKQHVGIPVNASPEVGPGKYSFKQ...  \n",
              "..                                                 ...  \n",
              "231  MAATTCFFFLFPFLLLLTLSRAATFEIVNRCSYTVWAAASKGDAAL...  \n",
              "232  KVFGRCELAAAMKRHGLDNYRGYSLGNWVCAAKFESNFNTQATNRN...  \n",
              "233  MRSLLILVLCFLPLAALGKVFGRCELAAAMKRHGLDNYRGYSLGNW...  \n",
              "234  KVFGRCELAAAMKRHGLDNYRGYSLGNWVCAAKFESNFNTQATNRN...  \n",
              "235  MRSLLILVLCFLPLAALGKVFGRCELAAAMKRHGLDNYRGYSLGNW...  \n",
              "\n",
              "[236 rows x 6 columns]"
            ],
            "text/html": [
              "\n",
              "  <div id=\"df-dc9575c4-6f91-47ed-98fe-7afa839b4573\" class=\"colab-df-container\">\n",
              "    <div>\n",
              "<style scoped>\n",
              "    .dataframe tbody tr th:only-of-type {\n",
              "        vertical-align: middle;\n",
              "    }\n",
              "\n",
              "    .dataframe tbody tr th {\n",
              "        vertical-align: top;\n",
              "    }\n",
              "\n",
              "    .dataframe thead th {\n",
              "        text-align: right;\n",
              "    }\n",
              "</style>\n",
              "<table border=\"1\" class=\"dataframe\">\n",
              "  <thead>\n",
              "    <tr style=\"text-align: right;\">\n",
              "      <th></th>\n",
              "      <th>Protein Accession</th>\n",
              "      <th>Seq Length</th>\n",
              "      <th>InterPro_original</th>\n",
              "      <th>InterPro_original_description</th>\n",
              "      <th>InterPro_target</th>\n",
              "      <th>Sequence</th>\n",
              "    </tr>\n",
              "  </thead>\n",
              "  <tbody>\n",
              "    <tr>\n",
              "      <th>0</th>\n",
              "      <td>5R1U_1</td>\n",
              "      <td>419</td>\n",
              "      <td>IPR034163; IPR021109; IPR001461; IPR001969; IP...</td>\n",
              "      <td>Aspergillopepsin-like catalytic domain; Aspart...</td>\n",
              "      <td>IPR000015;IPR000018;IPR000021;IPR000025;IPR000...</td>\n",
              "      <td>MSSPLKNALVTAMLAGGALSSPTKQHVGIPVNASPEVGPGKYSFKQ...</td>\n",
              "    </tr>\n",
              "    <tr>\n",
              "      <th>1</th>\n",
              "      <td>5R1Z_1</td>\n",
              "      <td>419</td>\n",
              "      <td>IPR034163; IPR021109; IPR001461; IPR001969; IP...</td>\n",
              "      <td>Aspergillopepsin-like catalytic domain; Aspart...</td>\n",
              "      <td>IPR000015;IPR000018;IPR000021;IPR000025;IPR000...</td>\n",
              "      <td>MSSPLKNALVTAMLAGGALSSPTKQHVGIPVNASPEVGPGKYSFKQ...</td>\n",
              "    </tr>\n",
              "    <tr>\n",
              "      <th>2</th>\n",
              "      <td>5R2B_1</td>\n",
              "      <td>419</td>\n",
              "      <td>IPR034163; IPR021109; IPR001461; IPR001969; IP...</td>\n",
              "      <td>Aspergillopepsin-like catalytic domain; Aspart...</td>\n",
              "      <td>IPR000015;IPR000018;IPR000021;IPR000025;IPR000...</td>\n",
              "      <td>MSSPLKNALVTAMLAGGALSSPTKQHVGIPVNASPEVGPGKYSFKQ...</td>\n",
              "    </tr>\n",
              "    <tr>\n",
              "      <th>3</th>\n",
              "      <td>5R2E_1</td>\n",
              "      <td>419</td>\n",
              "      <td>IPR034163; IPR021109; IPR001461; IPR001969; IP...</td>\n",
              "      <td>Aspergillopepsin-like catalytic domain; Aspart...</td>\n",
              "      <td>IPR000015;IPR000018;IPR000021;IPR000025;IPR000...</td>\n",
              "      <td>MSSPLKNALVTAMLAGGALSSPTKQHVGIPVNASPEVGPGKYSFKQ...</td>\n",
              "    </tr>\n",
              "    <tr>\n",
              "      <th>4</th>\n",
              "      <td>5R2J_1</td>\n",
              "      <td>419</td>\n",
              "      <td>IPR034163; IPR021109; IPR001461; IPR001969; IP...</td>\n",
              "      <td>Aspergillopepsin-like catalytic domain; Aspart...</td>\n",
              "      <td>IPR000015;IPR000018;IPR000021;IPR000025;IPR000...</td>\n",
              "      <td>MSSPLKNALVTAMLAGGALSSPTKQHVGIPVNASPEVGPGKYSFKQ...</td>\n",
              "    </tr>\n",
              "    <tr>\n",
              "      <th>...</th>\n",
              "      <td>...</td>\n",
              "      <td>...</td>\n",
              "      <td>...</td>\n",
              "      <td>...</td>\n",
              "      <td>...</td>\n",
              "      <td>...</td>\n",
              "    </tr>\n",
              "    <tr>\n",
              "      <th>231</th>\n",
              "      <td>9FX5_1</td>\n",
              "      <td>235</td>\n",
              "      <td>IPR001938; IPR037176; IPR017949</td>\n",
              "      <td>Thaumatin family; Osmotin/thaumatin-like super...</td>\n",
              "      <td>IPR000015;IPR000018;IPR000021;IPR000025;IPR000...</td>\n",
              "      <td>MAATTCFFFLFPFLLLLTLSRAATFEIVNRCSYTVWAAASKGDAAL...</td>\n",
              "    </tr>\n",
              "    <tr>\n",
              "      <th>232</th>\n",
              "      <td>9GI7_1</td>\n",
              "      <td>129</td>\n",
              "      <td>IPR001916; IPR000974; IPR019799; IPR023346</td>\n",
              "      <td>Glycoside hydrolase, family 22; Glycoside hydr...</td>\n",
              "      <td>IPR000015;IPR000018;IPR000021;IPR000025;IPR000...</td>\n",
              "      <td>KVFGRCELAAAMKRHGLDNYRGYSLGNWVCAAKFESNFNTQATNRN...</td>\n",
              "    </tr>\n",
              "    <tr>\n",
              "      <th>233</th>\n",
              "      <td>9H3E_1</td>\n",
              "      <td>147</td>\n",
              "      <td>IPR000974; IPR023346; IPR019799; IPR001916</td>\n",
              "      <td>Glycoside hydrolase, family 22, lysozyme; Lyso...</td>\n",
              "      <td>IPR000015;IPR000018;IPR000021;IPR000025;IPR000...</td>\n",
              "      <td>MRSLLILVLCFLPLAALGKVFGRCELAAAMKRHGLDNYRGYSLGNW...</td>\n",
              "    </tr>\n",
              "    <tr>\n",
              "      <th>234</th>\n",
              "      <td>9HC2_1</td>\n",
              "      <td>129</td>\n",
              "      <td>IPR001916; IPR000974; IPR019799; IPR023346</td>\n",
              "      <td>Glycoside hydrolase, family 22; Glycoside hydr...</td>\n",
              "      <td>IPR000015;IPR000018;IPR000021;IPR000025;IPR000...</td>\n",
              "      <td>KVFGRCELAAAMKRHGLDNYRGYSLGNWVCAAKFESNFNTQATNRN...</td>\n",
              "    </tr>\n",
              "    <tr>\n",
              "      <th>235</th>\n",
              "      <td>9K9Z_1</td>\n",
              "      <td>147</td>\n",
              "      <td>IPR000974; IPR023346; IPR019799; IPR001916</td>\n",
              "      <td>Glycoside hydrolase, family 22, lysozyme; Lyso...</td>\n",
              "      <td>IPR000015;IPR000018;IPR000021;IPR000025;IPR000...</td>\n",
              "      <td>MRSLLILVLCFLPLAALGKVFGRCELAAAMKRHGLDNYRGYSLGNW...</td>\n",
              "    </tr>\n",
              "  </tbody>\n",
              "</table>\n",
              "<p>236 rows × 6 columns</p>\n",
              "</div>\n",
              "    <div class=\"colab-df-buttons\">\n",
              "\n",
              "  <div class=\"colab-df-container\">\n",
              "    <button class=\"colab-df-convert\" onclick=\"convertToInteractive('df-dc9575c4-6f91-47ed-98fe-7afa839b4573')\"\n",
              "            title=\"Convert this dataframe to an interactive table.\"\n",
              "            style=\"display:none;\">\n",
              "\n",
              "  <svg xmlns=\"http://www.w3.org/2000/svg\" height=\"24px\" viewBox=\"0 -960 960 960\">\n",
              "    <path d=\"M120-120v-720h720v720H120Zm60-500h600v-160H180v160Zm220 220h160v-160H400v160Zm0 220h160v-160H400v160ZM180-400h160v-160H180v160Zm440 0h160v-160H620v160ZM180-180h160v-160H180v160Zm440 0h160v-160H620v160Z\"/>\n",
              "  </svg>\n",
              "    </button>\n",
              "\n",
              "  <style>\n",
              "    .colab-df-container {\n",
              "      display:flex;\n",
              "      gap: 12px;\n",
              "    }\n",
              "\n",
              "    .colab-df-convert {\n",
              "      background-color: #E8F0FE;\n",
              "      border: none;\n",
              "      border-radius: 50%;\n",
              "      cursor: pointer;\n",
              "      display: none;\n",
              "      fill: #1967D2;\n",
              "      height: 32px;\n",
              "      padding: 0 0 0 0;\n",
              "      width: 32px;\n",
              "    }\n",
              "\n",
              "    .colab-df-convert:hover {\n",
              "      background-color: #E2EBFA;\n",
              "      box-shadow: 0px 1px 2px rgba(60, 64, 67, 0.3), 0px 1px 3px 1px rgba(60, 64, 67, 0.15);\n",
              "      fill: #174EA6;\n",
              "    }\n",
              "\n",
              "    .colab-df-buttons div {\n",
              "      margin-bottom: 4px;\n",
              "    }\n",
              "\n",
              "    [theme=dark] .colab-df-convert {\n",
              "      background-color: #3B4455;\n",
              "      fill: #D2E3FC;\n",
              "    }\n",
              "\n",
              "    [theme=dark] .colab-df-convert:hover {\n",
              "      background-color: #434B5C;\n",
              "      box-shadow: 0px 1px 3px 1px rgba(0, 0, 0, 0.15);\n",
              "      filter: drop-shadow(0px 1px 2px rgba(0, 0, 0, 0.3));\n",
              "      fill: #FFFFFF;\n",
              "    }\n",
              "  </style>\n",
              "\n",
              "    <script>\n",
              "      const buttonEl =\n",
              "        document.querySelector('#df-dc9575c4-6f91-47ed-98fe-7afa839b4573 button.colab-df-convert');\n",
              "      buttonEl.style.display =\n",
              "        google.colab.kernel.accessAllowed ? 'block' : 'none';\n",
              "\n",
              "      async function convertToInteractive(key) {\n",
              "        const element = document.querySelector('#df-dc9575c4-6f91-47ed-98fe-7afa839b4573');\n",
              "        const dataTable =\n",
              "          await google.colab.kernel.invokeFunction('convertToInteractive',\n",
              "                                                    [key], {});\n",
              "        if (!dataTable) return;\n",
              "\n",
              "        const docLinkHtml = 'Like what you see? Visit the ' +\n",
              "          '<a target=\"_blank\" href=https://colab.research.google.com/notebooks/data_table.ipynb>data table notebook</a>'\n",
              "          + ' to learn more about interactive tables.';\n",
              "        element.innerHTML = '';\n",
              "        dataTable['output_type'] = 'display_data';\n",
              "        await google.colab.output.renderOutput(dataTable, element);\n",
              "        const docLink = document.createElement('div');\n",
              "        docLink.innerHTML = docLinkHtml;\n",
              "        element.appendChild(docLink);\n",
              "      }\n",
              "    </script>\n",
              "  </div>\n",
              "\n",
              "\n",
              "<div id=\"df-08ea5558-174b-4214-a9a5-9e98c35618aa\">\n",
              "  <button class=\"colab-df-quickchart\" onclick=\"quickchart('df-08ea5558-174b-4214-a9a5-9e98c35618aa')\"\n",
              "            title=\"Suggest charts\"\n",
              "            style=\"display:none;\">\n",
              "\n",
              "<svg xmlns=\"http://www.w3.org/2000/svg\" height=\"24px\"viewBox=\"0 0 24 24\"\n",
              "     width=\"24px\">\n",
              "    <g>\n",
              "        <path d=\"M19 3H5c-1.1 0-2 .9-2 2v14c0 1.1.9 2 2 2h14c1.1 0 2-.9 2-2V5c0-1.1-.9-2-2-2zM9 17H7v-7h2v7zm4 0h-2V7h2v10zm4 0h-2v-4h2v4z\"/>\n",
              "    </g>\n",
              "</svg>\n",
              "  </button>\n",
              "\n",
              "<style>\n",
              "  .colab-df-quickchart {\n",
              "      --bg-color: #E8F0FE;\n",
              "      --fill-color: #1967D2;\n",
              "      --hover-bg-color: #E2EBFA;\n",
              "      --hover-fill-color: #174EA6;\n",
              "      --disabled-fill-color: #AAA;\n",
              "      --disabled-bg-color: #DDD;\n",
              "  }\n",
              "\n",
              "  [theme=dark] .colab-df-quickchart {\n",
              "      --bg-color: #3B4455;\n",
              "      --fill-color: #D2E3FC;\n",
              "      --hover-bg-color: #434B5C;\n",
              "      --hover-fill-color: #FFFFFF;\n",
              "      --disabled-bg-color: #3B4455;\n",
              "      --disabled-fill-color: #666;\n",
              "  }\n",
              "\n",
              "  .colab-df-quickchart {\n",
              "    background-color: var(--bg-color);\n",
              "    border: none;\n",
              "    border-radius: 50%;\n",
              "    cursor: pointer;\n",
              "    display: none;\n",
              "    fill: var(--fill-color);\n",
              "    height: 32px;\n",
              "    padding: 0;\n",
              "    width: 32px;\n",
              "  }\n",
              "\n",
              "  .colab-df-quickchart:hover {\n",
              "    background-color: var(--hover-bg-color);\n",
              "    box-shadow: 0 1px 2px rgba(60, 64, 67, 0.3), 0 1px 3px 1px rgba(60, 64, 67, 0.15);\n",
              "    fill: var(--button-hover-fill-color);\n",
              "  }\n",
              "\n",
              "  .colab-df-quickchart-complete:disabled,\n",
              "  .colab-df-quickchart-complete:disabled:hover {\n",
              "    background-color: var(--disabled-bg-color);\n",
              "    fill: var(--disabled-fill-color);\n",
              "    box-shadow: none;\n",
              "  }\n",
              "\n",
              "  .colab-df-spinner {\n",
              "    border: 2px solid var(--fill-color);\n",
              "    border-color: transparent;\n",
              "    border-bottom-color: var(--fill-color);\n",
              "    animation:\n",
              "      spin 1s steps(1) infinite;\n",
              "  }\n",
              "\n",
              "  @keyframes spin {\n",
              "    0% {\n",
              "      border-color: transparent;\n",
              "      border-bottom-color: var(--fill-color);\n",
              "      border-left-color: var(--fill-color);\n",
              "    }\n",
              "    20% {\n",
              "      border-color: transparent;\n",
              "      border-left-color: var(--fill-color);\n",
              "      border-top-color: var(--fill-color);\n",
              "    }\n",
              "    30% {\n",
              "      border-color: transparent;\n",
              "      border-left-color: var(--fill-color);\n",
              "      border-top-color: var(--fill-color);\n",
              "      border-right-color: var(--fill-color);\n",
              "    }\n",
              "    40% {\n",
              "      border-color: transparent;\n",
              "      border-right-color: var(--fill-color);\n",
              "      border-top-color: var(--fill-color);\n",
              "    }\n",
              "    60% {\n",
              "      border-color: transparent;\n",
              "      border-right-color: var(--fill-color);\n",
              "    }\n",
              "    80% {\n",
              "      border-color: transparent;\n",
              "      border-right-color: var(--fill-color);\n",
              "      border-bottom-color: var(--fill-color);\n",
              "    }\n",
              "    90% {\n",
              "      border-color: transparent;\n",
              "      border-bottom-color: var(--fill-color);\n",
              "    }\n",
              "  }\n",
              "</style>\n",
              "\n",
              "  <script>\n",
              "    async function quickchart(key) {\n",
              "      const quickchartButtonEl =\n",
              "        document.querySelector('#' + key + ' button');\n",
              "      quickchartButtonEl.disabled = true;  // To prevent multiple clicks.\n",
              "      quickchartButtonEl.classList.add('colab-df-spinner');\n",
              "      try {\n",
              "        const charts = await google.colab.kernel.invokeFunction(\n",
              "            'suggestCharts', [key], {});\n",
              "      } catch (error) {\n",
              "        console.error('Error during call to suggestCharts:', error);\n",
              "      }\n",
              "      quickchartButtonEl.classList.remove('colab-df-spinner');\n",
              "      quickchartButtonEl.classList.add('colab-df-quickchart-complete');\n",
              "    }\n",
              "    (() => {\n",
              "      let quickchartButtonEl =\n",
              "        document.querySelector('#df-08ea5558-174b-4214-a9a5-9e98c35618aa button');\n",
              "      quickchartButtonEl.style.display =\n",
              "        google.colab.kernel.accessAllowed ? 'block' : 'none';\n",
              "    })();\n",
              "  </script>\n",
              "</div>\n",
              "\n",
              "  <div id=\"id_9869d98d-8e71-4ed0-bc04-9388f1998761\">\n",
              "    <style>\n",
              "      .colab-df-generate {\n",
              "        background-color: #E8F0FE;\n",
              "        border: none;\n",
              "        border-radius: 50%;\n",
              "        cursor: pointer;\n",
              "        display: none;\n",
              "        fill: #1967D2;\n",
              "        height: 32px;\n",
              "        padding: 0 0 0 0;\n",
              "        width: 32px;\n",
              "      }\n",
              "\n",
              "      .colab-df-generate:hover {\n",
              "        background-color: #E2EBFA;\n",
              "        box-shadow: 0px 1px 2px rgba(60, 64, 67, 0.3), 0px 1px 3px 1px rgba(60, 64, 67, 0.15);\n",
              "        fill: #174EA6;\n",
              "      }\n",
              "\n",
              "      [theme=dark] .colab-df-generate {\n",
              "        background-color: #3B4455;\n",
              "        fill: #D2E3FC;\n",
              "      }\n",
              "\n",
              "      [theme=dark] .colab-df-generate:hover {\n",
              "        background-color: #434B5C;\n",
              "        box-shadow: 0px 1px 3px 1px rgba(0, 0, 0, 0.15);\n",
              "        filter: drop-shadow(0px 1px 2px rgba(0, 0, 0, 0.3));\n",
              "        fill: #FFFFFF;\n",
              "      }\n",
              "    </style>\n",
              "    <button class=\"colab-df-generate\" onclick=\"generateWithVariable('merged_df')\"\n",
              "            title=\"Generate code using this dataframe.\"\n",
              "            style=\"display:none;\">\n",
              "\n",
              "  <svg xmlns=\"http://www.w3.org/2000/svg\" height=\"24px\"viewBox=\"0 0 24 24\"\n",
              "       width=\"24px\">\n",
              "    <path d=\"M7,19H8.4L18.45,9,17,7.55,7,17.6ZM5,21V16.75L18.45,3.32a2,2,0,0,1,2.83,0l1.4,1.43a1.91,1.91,0,0,1,.58,1.4,1.91,1.91,0,0,1-.58,1.4L9.25,21ZM18.45,9,17,7.55Zm-12,3A5.31,5.31,0,0,0,4.9,8.1,5.31,5.31,0,0,0,1,6.5,5.31,5.31,0,0,0,4.9,4.9,5.31,5.31,0,0,0,6.5,1,5.31,5.31,0,0,0,8.1,4.9,5.31,5.31,0,0,0,12,6.5,5.46,5.46,0,0,0,6.5,12Z\"/>\n",
              "  </svg>\n",
              "    </button>\n",
              "    <script>\n",
              "      (() => {\n",
              "      const buttonEl =\n",
              "        document.querySelector('#id_9869d98d-8e71-4ed0-bc04-9388f1998761 button.colab-df-generate');\n",
              "      buttonEl.style.display =\n",
              "        google.colab.kernel.accessAllowed ? 'block' : 'none';\n",
              "\n",
              "      buttonEl.onclick = () => {\n",
              "        google.colab.notebook.generateWithVariable('merged_df');\n",
              "      }\n",
              "      })();\n",
              "    </script>\n",
              "  </div>\n",
              "\n",
              "    </div>\n",
              "  </div>\n"
            ],
            "application/vnd.google.colaboratory.intrinsic+json": {
              "type": "dataframe",
              "variable_name": "merged_df",
              "summary": "{\n  \"name\": \"merged_df\",\n  \"rows\": 236,\n  \"fields\": [\n    {\n      \"column\": \"Protein Accession\",\n      \"properties\": {\n        \"dtype\": \"string\",\n        \"num_unique_values\": 236,\n        \"samples\": [\n          \"7B8E_1\",\n          \"8PH6_1\",\n          \"8JCR_1\"\n        ],\n        \"semantic_type\": \"\",\n        \"description\": \"\"\n      }\n    },\n    {\n      \"column\": \"Seq Length\",\n      \"properties\": {\n        \"dtype\": \"number\",\n        \"std\": 179,\n        \"min\": 58,\n        \"max\": 1239,\n        \"num_unique_values\": 64,\n        \"samples\": [\n          830,\n          218,\n          419\n        ],\n        \"semantic_type\": \"\",\n        \"description\": \"\"\n      }\n    },\n    {\n      \"column\": \"InterPro_original\",\n      \"properties\": {\n        \"dtype\": \"category\",\n        \"num_unique_values\": 62,\n        \"samples\": [\n          \"IPR037176; IPR001938; IPR017949\",\n          \"IPR001254; IPR009003; IPR050850; IPR043504; IPR018114; IPR001314; IPR033116\",\n          \"IPR034163; IPR021109; IPR001461; IPR001969; IPR033121\"\n        ],\n        \"semantic_type\": \"\",\n        \"description\": \"\"\n      }\n    },\n    {\n      \"column\": \"InterPro_original_description\",\n      \"properties\": {\n        \"dtype\": \"category\",\n        \"num_unique_values\": 62,\n        \"samples\": [\n          \"Osmotin/thaumatin-like superfamily; Thaumatin family; Thaumatin, conserved site\",\n          \"Serine proteases, trypsin domain; Peptidase S1, PA clan; Peptidase S1 family, Elastase subfamily; Peptidase S1, PA clan, chymotrypsin-like fold; Serine proteases, trypsin family, histidine active site; Peptidase S1A, chymotrypsin family; Serine proteases, trypsin family, serine active site\",\n          \"Aspergillopepsin-like catalytic domain; Aspartic peptidase domain superfamily; Aspartic peptidase A1; Aspartic peptidase, active site; Peptidase family A1 domain\"\n        ],\n        \"semantic_type\": \"\",\n        \"description\": \"\"\n      }\n    },\n    {\n      \"column\": \"InterPro_target\",\n      \"properties\": {\n        \"dtype\": \"category\",\n        \"num_unique_values\": 1,\n        \"samples\": [\n          \"IPR000015;IPR000018;IPR000021;IPR000025;IPR000044;IPR000045;IPR000046;IPR000057;IPR000060;IPR000066;IPR000068;IPR000072;IPR000076;IPR000105;IPR000109;IPR000112;IPR000133;IPR000136;IPR000141;IPR000142;IPR000144;IPR000147;IPR000154;IPR000155;IPR000161;IPR000162;IPR000163;IPR000174;IPR000175;IPR000189;IPR000190;IPR000202;IPR000204;IPR000207;IPR000223;IPR000248;IPR000265;IPR000272;IPR000276;IPR000283;IPR000292;IPR000293;IPR000298;IPR000301;IPR000314;IPR000321;IPR000332;IPR000333;IPR000337;IPR000344;IPR000351;IPR000353;IPR000355;IPR000356;IPR000363;IPR000366;IPR000369;IPR000370;IPR000371;IPR000374;IPR000376;IPR000378;IPR000382;IPR000388;IPR000390;IPR000393;IPR000405;IPR000412;IPR000425;IPR000431;IPR000434;IPR000452;IPR000460;IPR000462;IPR000466;IPR000472;IPR000481;IPR000482;IPR000496;IPR000498;IPR000499;IPR000503;IPR000507;IPR000515;IPR000516;IPR000522;IPR000537;IPR000539;IPR000549;IPR000576;IPR000579;IPR000586;IPR000596;IPR000599;IPR000609;IPR000611;IPR000612;IPR000620;IPR000621;IPR000622;IPR000628;IPR000670;IPR000680;IPR000681;IPR000699;IPR000708;IPR000715;IPR000720;IPR000723;IPR000725;IPR000732;IPR000735;IPR000761;IPR000778;IPR000791;IPR000802;IPR000810;IPR000817;IPR000820;IPR000826;IPR000829;IPR000830;IPR000832;IPR000844;IPR000848;IPR000849;IPR000883;IPR000913;IPR000920;IPR000921;IPR000932;IPR000935;IPR000973;IPR000984;IPR000986;IPR000987;IPR000998;IPR001003;IPR001004;IPR001013;IPR001036;IPR001046;IPR001050;IPR001053;IPR001056;IPR001065;IPR001068;IPR001069;IPR001105;IPR001108;IPR001112;IPR001115;IPR001116;IPR001123;IPR001129;IPR001136;IPR001151;IPR001168;IPR001170;IPR001171;IPR001182;IPR001184;IPR001185;IPR001186;IPR001187;IPR001190;IPR001193;IPR001195;IPR001204;IPR001224;IPR001231;IPR001234;IPR001244;IPR001248;IPR001256;IPR001277;IPR001280;IPR001285;IPR001320;IPR001344;IPR001350;IPR001355;IPR001358;IPR001382;IPR001388;IPR001390;IPR001391;IPR001397;IPR001402;IPR001414;IPR001416;IPR001418;IPR001420;IPR001425;IPR001426;IPR001435;IPR001446;IPR001458;IPR001463;IPR001475;IPR001481;IPR001493;IPR001499;IPR001503;IPR001504;IPR001508;IPR001512;IPR001513;IPR001521;IPR001546;IPR001548;IPR001551;IPR001556;IPR001560;IPR001565;IPR001571;IPR001577;IPR001614;IPR001634;IPR001642;IPR001644;IPR001658;IPR001671;IPR001681;IPR001686;IPR001688;IPR001694;IPR001702;IPR001708;IPR001712;IPR001717;IPR001718;IPR001733;IPR001734;IPR001735;IPR001740;IPR001743;IPR001749;IPR001757;IPR001758;IPR001760;IPR001771;IPR001774;IPR001779;IPR001786;IPR001793;IPR001799;IPR001807;IPR001817;IPR001851;IPR001856;IPR001860;IPR001872;IPR001873;IPR001879;IPR001883;IPR001893;IPR001897;IPR001898;IPR001901;IPR001902;IPR001905;IPR001908;IPR001922;IPR001923;IPR001927;IPR001933;IPR001946;IPR001953;IPR001966;IPR001970;IPR001972;IPR001973;IPR001991;IPR001992;IPR002000;IPR002001;IPR002002;IPR002010;IPR002011;IPR002031;IPR002033;IPR002062;IPR002074;IPR002076;IPR002090;IPR002120;IPR002122;IPR002126;IPR002131;IPR002144;IPR002153;IPR002159;IPR002170;IPR002175;IPR002184;IPR002191;IPR002206;IPR002208;IPR002230;IPR002232;IPR002233;IPR002234;IPR002235;IPR002236;IPR002237;IPR002238;IPR002239;IPR002240;IPR002242;IPR002243;IPR002244;IPR002245;IPR002246;IPR002247;IPR002248;IPR002249;IPR002250;IPR002251;IPR002258;IPR002259;IPR002272;IPR002273;IPR002274;IPR002275;IPR002276;IPR002277;IPR002278;IPR002279;IPR002280;IPR002281;IPR002282;IPR002284;IPR002285;IPR002289;IPR002293;IPR002299;IPR002361;IPR002362;IPR002368;IPR002394;IPR002396;IPR002429;IPR002434;IPR002435;IPR002436;IPR002439;IPR002440;IPR002441;IPR002442;IPR002443;IPR002444;IPR002445;IPR002455;IPR002456;IPR002457;IPR002516;IPR002523;IPR002524;IPR002528;IPR002552;IPR002567;IPR002574;IPR002610;IPR002621;IPR002657;IPR002659;IPR002666;IPR002682;IPR002685;IPR002751;IPR002758;IPR002771;IPR002781;IPR002794;IPR002797;IPR002809;IPR002825;IPR002896;IPR002944;IPR002945;IPR002948;IPR002956;IPR002958;IPR002959;IPR002960;IPR002961;IPR002962;IPR002977;IPR002978;IPR002979;IPR002980;IPR002981;IPR002982;IPR002983;IPR002984;IPR002987;IPR002994;IPR002995;IPR003020;IPR003024;IPR003028;IPR003038;IPR003044;IPR003045;IPR003046;IPR003047;IPR003048;IPR003049;IPR003050;IPR003051;IPR003052;IPR003053;IPR003056;IPR003092;IPR003110;IPR003187;IPR003192;IPR003211;IPR003263;IPR003269;IPR003270;IPR003271;IPR003272;IPR003273;IPR003274;IPR003275;IPR003276;IPR003277;IPR003278;IPR003279;IPR003280;IPR003287;IPR003288;IPR003289;IPR003290;IPR003291;IPR003292;IPR003298;IPR003317;IPR003334;IPR003342;IPR003352;IPR003359;IPR003372;IPR003373;IPR003378;IPR003392;IPR003394;IPR003398;IPR003406;IPR003416;IPR003418;IPR003425;IPR003440;IPR003452;IPR003457;IPR003474;IPR003492;IPR003510;IPR003524;IPR003528;IPR003529;IPR003530;IPR003531;IPR003532;IPR003543;IPR003544;IPR003557;IPR003566;IPR003567;IPR003568;IPR003569;IPR003570;IPR003605;IPR003644;IPR003660;IPR003663;IPR003667;IPR003674;IPR003675;IPR003684;IPR003686;IPR003688;IPR003689;IPR003691;IPR003705;IPR003706;IPR003752;IPR003763;IPR003780;IPR003820;IPR003824;IPR003825;IPR003834;IPR003838;IPR003841;IPR003844;IPR003852;IPR003855;IPR003856;IPR003864;IPR003873;IPR003895;IPR003904;IPR003905;IPR003906;IPR003907;IPR003908;IPR003909;IPR003910;IPR003912;IPR003915;IPR003919;IPR003920;IPR003921;IPR003924;IPR003929;IPR003930;IPR003932;IPR003933;IPR003934;IPR003935;IPR003936;IPR003937;IPR003938;IPR003943;IPR003944;IPR003947;IPR003948;IPR003949;IPR003950;IPR003967;IPR003976;IPR003980;IPR003981;IPR003982;IPR003983;IPR003984;IPR003985;IPR003986;IPR003987;IPR003988;IPR003989;IPR004031;IPR004032;IPR004047;IPR004059;IPR004060;IPR004061;IPR004062;IPR004063;IPR004064;IPR004065;IPR004066;IPR004067;IPR004068;IPR004069;IPR004070;IPR004071;IPR004072;IPR004073;IPR004089;IPR004090;IPR004117;IPR004131;IPR004151;IPR004156;IPR004178;IPR004213;IPR004240;IPR004254;IPR004282;IPR004307;IPR004316;IPR004324;IPR004326;IPR004338;IPR004342;IPR004350;IPR004387;IPR004445;IPR004471;IPR004485;IPR004488;IPR004501;IPR004513;IPR004552;IPR004563;IPR004570;IPR004630;IPR004633;IPR004634;IPR004638;IPR004657;IPR004667;IPR004668;IPR004669;IPR004670;IPR004671;IPR004673;IPR004679;IPR004680;IPR004681;IPR004684;IPR004685;IPR004686;IPR004687;IPR004690;IPR004692;IPR004694;IPR004695;IPR004696;IPR004698;IPR004699;IPR004700;IPR004701;IPR004702;IPR004703;IPR004704;IPR004705;IPR004706;IPR004707;IPR004709;IPR004711;IPR004713;IPR004715;IPR004718;IPR004719;IPR004724;IPR004725;IPR004726;IPR004734;IPR004736;IPR004737;IPR004738;IPR004740;IPR004741;IPR004742;IPR004743;IPR004745;IPR004746;IPR004747;IPR004748;IPR004749;IPR004750;IPR004752;IPR004754;IPR004755;IPR004756;IPR004759;IPR004760;IPR004761;IPR004762;IPR004763;IPR004764;IPR004765;IPR004766;IPR004768;IPR004770;IPR004771;IPR004772;IPR004773;IPR004775;IPR004776;IPR004777;IPR004778;IPR004779;IPR004796;IPR004797;IPR004801;IPR004812;IPR004817;IPR004836;IPR004837;IPR004840;IPR004841;IPR004842;IPR004847;IPR004869;IPR004878;IPR004891;IPR004923;IPR004932;IPR004933;IPR004937;IPR004938;IPR004960;IPR004961;IPR004965;IPR004995;IPR005016;IPR005027;IPR005041;IPR005045;IPR005052;IPR005074;IPR005076;IPR005150;IPR005171;IPR005199;IPR005254;IPR005267;IPR005279;IPR005281;IPR005283;IPR005284;IPR005285;IPR005292;IPR005318;IPR005331;IPR005344;IPR005349;IPR005352;IPR005372;IPR005382;IPR005383;IPR005384;IPR005385;IPR005386;IPR005387;IPR005388;IPR005389;IPR005390;IPR005391;IPR005392;IPR005393;IPR005394;IPR005395;IPR005396;IPR005397;IPR005400;IPR005401;IPR005402;IPR005403;IPR005404;IPR005405;IPR005406;IPR005407;IPR005408;IPR005409;IPR005410;IPR005424;IPR005425;IPR005426;IPR005431;IPR005432;IPR005433;IPR005434;IPR005435;IPR005436;IPR005437;IPR005438;IPR005439;IPR005440;IPR005457;IPR005458;IPR005459;IPR005460;IPR005461;IPR005462;IPR005463;IPR005464;IPR005466;IPR005495;IPR005496;IPR005538;IPR005610;IPR005628;IPR005666;IPR005667;IPR005670;IPR005701;IPR005719;IPR005744;IPR005773;IPR005775;IPR005782;IPR005797;IPR005798;IPR005805;IPR005807;IPR005821;IPR005828;IPR005829;IPR005837;IPR005838;IPR005865;IPR005866;IPR005868;IPR005869;IPR005889;IPR005890;IPR005892;IPR005897;IPR005898;IPR005899;IPR005936;IPR005947;IPR005964;IPR005968;IPR005978;IPR005981;IPR005984;IPR006008;IPR006011;IPR006012;IPR006028;IPR006029;IPR006042;IPR006043;IPR006052;IPR006053;IPR006135;IPR006136;IPR006143;IPR006144;IPR006153;IPR006201;IPR006202;IPR006213;IPR006216;IPR006241;IPR006243;IPR006244;IPR006290;IPR006301;IPR006302;IPR006303;IPR006304;IPR006305;IPR006306;IPR006307;IPR006312;IPR006327;IPR006332;IPR006333;IPR006369;IPR006370;IPR006391;IPR006408;IPR006413;IPR006414;IPR006415;IPR006419;IPR006469;IPR006470;IPR006471;IPR006534;IPR006539;IPR006544;IPR006581;IPR006614;IPR006634;IPR006639;IPR006644;IPR006664;IPR006669;IPR006685;IPR006686;IPR006690;IPR006741;IPR006757;IPR006782;IPR006813;IPR006838;IPR006859;IPR006875;IPR006884;IPR006916;IPR006918;IPR006977;IPR006985;IPR006990;IPR007007;IPR007049;IPR007059;IPR007078;IPR007173;IPR007203;IPR007208;IPR007223;IPR007226;IPR007227;IPR007237;IPR007246;IPR007248;IPR007265;IPR007267;IPR007269;IPR007271;IPR007273;IPR007274;IPR007277;IPR007288;IPR007313;IPR007329;IPR007341;IPR007369;IPR007428;IPR007430;IPR007441;IPR007554;IPR007568;IPR007593;IPR007594;IPR007653;IPR007676;IPR007704;IPR007705;IPR007720;IPR007734;IPR007735;IPR007743;IPR007746;IPR007754;IPR007763;IPR007764;IPR007775;IPR007820;IPR007826;IPR007866;IPR007875;IPR007880;IPR007905;IPR007943;IPR007960;IPR007961;IPR007977;IPR007992;IPR008001;IPR008006;IPR008028;IPR008056;IPR008057;IPR008058;IPR008059;IPR008060;IPR008061;IPR008062;IPR008063;IPR008073;IPR008074;IPR008077;IPR008078;IPR008083;IPR008093;IPR008096;IPR008098;IPR008099;IPR008100;IPR008101;IPR008102;IPR008103;IPR008104;IPR008109;IPR008112;IPR008128;IPR008129;IPR008130;IPR008131;IPR008132;IPR008133;IPR008134;IPR008155;IPR008158;IPR008253;IPR008276;IPR008294;IPR008297;IPR008337;IPR008338;IPR008344;IPR008345;IPR008346;IPR008347;IPR008348;IPR008355;IPR008358;IPR008359;IPR008361;IPR008362;IPR008365;IPR008368;IPR008369;IPR008370;IPR008371;IPR008372;IPR008399;IPR008400;IPR008414;IPR008417;IPR008424;IPR008429;IPR008431;IPR008457;IPR008485;IPR008504;IPR008509;IPR008521;IPR008523;IPR008564;IPR008568;IPR008602;IPR008608;IPR008630;IPR008652;IPR008657;IPR008661;IPR008690;IPR008691;IPR008710;IPR008795;IPR008814;IPR008818;IPR008819;IPR008820;IPR008821;IPR008837;IPR008844;IPR008855;IPR008856;IPR008882;IPR008892;IPR008896;IPR008901;IPR008952;IPR009119;IPR009120;IPR009121;IPR009122;IPR009126;IPR009132;IPR009133;IPR009136;IPR009138;IPR009147;IPR009150;IPR009152;IPR009154;IPR009160;IPR009167;IPR009248;IPR009262;IPR009281;IPR009294;IPR009311;IPR009315;IPR009316;IPR009318;IPR009379;IPR009388;IPR009431;IPR009433;IPR009447;IPR009450;IPR009455;IPR009460;IPR009471;IPR009518;IPR009539;IPR009542;IPR009582;IPR009600;IPR009621;IPR009635;IPR009637;IPR009716;IPR009729;IPR009779;IPR009825;IPR009834;IPR009861;IPR009887;IPR009896;IPR009908;IPR009980;IPR010065;IPR010067;IPR010101;IPR010128;IPR010129;IPR010131;IPR010132;IPR010200;IPR010201;IPR010204;IPR010205;IPR010208;IPR010226;IPR010245;IPR010278;IPR010284;IPR010288;IPR010379;IPR010407;IPR010423;IPR010435;IPR010514;IPR010548;IPR010559;IPR010560;IPR010574;IPR010599;IPR010635;IPR010651;IPR010660;IPR010691;IPR010761;IPR010771;IPR010798;IPR010826;IPR010901;IPR010929;IPR010966;IPR010967;IPR010968;IPR010973;IPR010974;IPR010989;IPR011014;IPR011066;IPR011115;IPR011116;IPR011130;IPR011163;IPR011176;IPR011248;IPR011265;IPR011296;IPR011299;IPR011303;IPR011307;IPR011365;IPR011388;IPR011399;IPR011402;IPR011527;IPR011531;IPR011546;IPR011547;IPR011552;IPR011577;IPR011618;IPR011620;IPR011638;IPR011640;IPR011651;IPR011653;IPR011656;IPR011691;IPR011712;IPR011759;IPR011799;IPR011812;IPR011849;IPR011851;IPR011864;IPR011867;IPR011868;IPR011885;IPR011917;IPR011919;IPR011920;IPR011921;IPR011922;IPR011923;IPR011924;IPR011925;IPR011926;IPR011937;IPR011988;IPR012049;IPR012105;IPR012136;IPR012218;IPR012315;IPR012358;IPR012392;IPR012404;IPR012466;IPR012493;IPR012496;IPR012506;IPR012549;IPR012556;IPR012560;IPR012561;IPR012597;IPR012681;IPR012693;IPR012750;IPR012826;IPR012858;IPR012897;IPR012926;IPR013082;IPR013305;IPR013312;IPR013313;IPR013347;IPR013437;IPR013455;IPR013525;IPR013601;IPR013604;IPR013695;IPR013698;IPR013769;IPR013803;IPR013833;IPR013861;IPR013928;IPR014116;IPR014157;IPR014161;IPR014163;IPR014164;IPR014168;IPR014170;IPR014171;IPR014172;IPR014210;IPR014216;IPR014222;IPR014223;IPR014233;IPR014246;IPR014250;IPR014302;IPR014310;IPR014312;IPR014353;IPR014409;IPR014430;IPR014551;IPR014739;IPR014740;IPR014745;IPR015013;IPR015014;IPR015059;IPR015127;IPR015149;IPR015169;IPR015260;IPR015319;IPR015338;IPR015386;IPR015414;IPR015449;IPR015631;IPR015771;IPR015827;IPR015853;IPR015856;IPR015860;IPR015919;IPR015993;IPR016174;IPR016235;IPR016244;IPR016245;IPR016246;IPR016248;IPR016251;IPR016373;IPR016380;IPR016408;IPR016449;IPR016574;IPR016636;IPR016707;IPR016710;IPR016975;IPR017051;IPR017079;IPR017092;IPR017157;IPR017194;IPR017202;IPR017213;IPR017241;IPR017360;IPR017402;IPR017452;IPR017472;IPR017486;IPR017511;IPR017512;IPR017571;IPR017572;IPR017588;IPR017636;IPR017661;IPR017705;IPR017753;IPR017790;IPR017807;IPR017879;IPR017978;IPR017979;IPR017981;IPR018006;IPR018011;IPR018024;IPR018043;IPR018047;IPR018084;IPR018086;IPR018229;IPR018241;IPR018270;IPR018295;IPR018365;IPR018383;IPR018385;IPR018395;IPR018396;IPR018410;IPR018422;IPR018448;IPR018456;IPR018460;IPR018461;IPR018469;IPR018491;IPR018495;IPR018498;IPR018499;IPR018503;IPR018513;IPR018604;IPR018629;IPR018732;IPR018764;IPR018801;IPR018938;IPR019017;IPR019029;IPR019365;IPR019594;IPR019756;IPR019757;IPR019758;IPR019765;IPR019957;IPR019998;IPR020155;IPR020368;IPR020411;IPR020513;IPR020693;IPR020775;IPR020776;IPR020781;IPR020849;IPR020874;IPR020903;IPR020937;IPR020959;IPR020963;IPR020969;IPR021015;IPR021050;IPR021082;IPR021091;IPR021522;IPR021532;IPR021910;IPR022308;IPR022324;IPR022335;IPR022339;IPR022347;IPR022348;IPR022369;IPR022416;IPR022457;IPR022535;IPR022732;IPR022764;IPR022781;IPR023060;IPR023449;IPR023517;IPR023597;IPR023599;IPR023601;IPR023662;IPR023680;IPR023690;IPR023691;IPR023726;IPR023729;IPR023743;IPR023754;IPR023755;IPR023760;IPR023762;IPR023783;IPR023838;IPR023954;IPR023960;IPR023999;IPR024041;IPR024371;IPR024717;IPR024791;IPR024862;IPR024919;IPR024921;IPR025940;IPR025958;IPR026030;IPR026082;IPR026221;IPR026228;IPR026230;IPR026232;IPR026233;IPR026234;IPR026252;IPR026355;IPR026919;IPR027256;IPR027272;IPR027294;IPR027336;IPR027435;IPR027659;IPR027669;IPR027917;IPR028070;IPR028181;IPR028337;IPR028338;IPR029238;IPR029372;IPR029589;IPR029636;IPR030050;IPR030055;IPR030182;IPR030183;IPR030184;IPR030185;IPR030189;IPR030191;IPR030192;IPR030240;IPR030254;IPR030541;IPR030687;IPR030856;IPR030858;IPR030873;IPR031155;IPR032700;IPR032895;IPR033280;IPR033481;IPR033539;IPR033549;IPR033900;IPR034703;IPR034764;IPR034804;IPR035288;IPR035463;IPR035689;IPR035973;IPR035982;IPR036001;IPR036026;IPR036122;IPR036150;IPR036445;IPR036458;IPR036541;IPR036613;IPR036640;IPR036662;IPR036670;IPR036719;IPR036734;IPR036772;IPR036863;IPR036924;IPR036945;IPR036998;IPR037065;IPR037071;IPR037413;IPR037671;IPR037936;IPR038978;IPR039032;IPR039090;IPR039672;IPR039680;IPR039972;IPR042379;IPR042454;IPR042472;IPR042473;IPR043315;IPR043406;IPR043429;IPR043506;IPR044377;IPR044379;IPR044783;IPR044991;IPR045120;IPR045225;IPR045915;IPR047818;IPR047846;IPR048259;IPR048260;IPR048307\"\n        ],\n        \"semantic_type\": \"\",\n        \"description\": \"\"\n      }\n    },\n    {\n      \"column\": \"Sequence\",\n      \"properties\": {\n        \"dtype\": \"category\",\n        \"num_unique_values\": 71,\n        \"samples\": [\n          \"DDHSELLVNTKSGKVMGTRVPVLSSHISAFLGIPFAEPPVGNMRFRRPEPKKPWSGVWNASTYPNNCQQYVDEQFPGFSGSEMWNPNREMSEDCLYLNIWVPSPRPKSTTVMVWIYGGGFYSGSSTLDVYNGKYLAYTEEVVLVSLSYRVGAFGFLALHGSQEAPGNVGLLDQRMALQWVHDNIQFFGGDPKTVTIFGESAGGASVGMHILSPGSRDLFRRAILQSGSPNCPWASVSVAEGRRRAVELGRNLNCNLNSDEELIHCLREKKPQELIDVEWNVLPFDSIFRFSFVPVIDGEFFPTSLESMLNSGNFKKTQILLGVNKDEGSFFLLYGAPGFSKDSESKISREDFMSGVKLSVPHANDLGLDAVTLQYTDWMDDNNGIKNRDGLDDIVGDHNVICPLMHFVNKYTKFGNGTYLYFFNHRASNLVWPEWMGVIHGYEIEFVFGLPLVKELNYTAEEEALSRRIMHYWATFAKTGNPNEPHSQESKWPLFTTKEQKFIDLNTEPMKVHQRLRVQMCVFWNQFLPKLLNATAC\"\n        ],\n        \"semantic_type\": \"\",\n        \"description\": \"\"\n      }\n    }\n  ]\n}"
            }
          },
          "metadata": {},
          "execution_count": 33
        }
      ]
    },
    {
      "cell_type": "code",
      "source": [
        "# merged_df.to_csv('/content/merged_data.csv', index=False)\n",
        "\n",
        "# # Download the file (for Google Colab)\n",
        "# from google.colab import files\n",
        "# files.download('/content/merged_data.csv')"
      ],
      "metadata": {
        "id": "DyrTrHzd4ASX",
        "outputId": "4ae7a300-9f9d-4813-a93b-c57859ccf555",
        "colab": {
          "base_uri": "https://localhost:8080/",
          "height": 17
        }
      },
      "execution_count": null,
      "outputs": [
        {
          "output_type": "display_data",
          "data": {
            "text/plain": [
              "<IPython.core.display.Javascript object>"
            ],
            "application/javascript": [
              "\n",
              "    async function download(id, filename, size) {\n",
              "      if (!google.colab.kernel.accessAllowed) {\n",
              "        return;\n",
              "      }\n",
              "      const div = document.createElement('div');\n",
              "      const label = document.createElement('label');\n",
              "      label.textContent = `Downloading \"${filename}\": `;\n",
              "      div.appendChild(label);\n",
              "      const progress = document.createElement('progress');\n",
              "      progress.max = size;\n",
              "      div.appendChild(progress);\n",
              "      document.body.appendChild(div);\n",
              "\n",
              "      const buffers = [];\n",
              "      let downloaded = 0;\n",
              "\n",
              "      const channel = await google.colab.kernel.comms.open(id);\n",
              "      // Send a message to notify the kernel that we're ready.\n",
              "      channel.send({})\n",
              "\n",
              "      for await (const message of channel.messages) {\n",
              "        // Send a message to notify the kernel that we're ready.\n",
              "        channel.send({})\n",
              "        if (message.buffers) {\n",
              "          for (const buffer of message.buffers) {\n",
              "            buffers.push(buffer);\n",
              "            downloaded += buffer.byteLength;\n",
              "            progress.value = downloaded;\n",
              "          }\n",
              "        }\n",
              "      }\n",
              "      const blob = new Blob(buffers, {type: 'application/binary'});\n",
              "      const a = document.createElement('a');\n",
              "      a.href = window.URL.createObjectURL(blob);\n",
              "      a.download = filename;\n",
              "      div.appendChild(a);\n",
              "      a.click();\n",
              "      div.remove();\n",
              "    }\n",
              "  "
            ]
          },
          "metadata": {}
        },
        {
          "output_type": "display_data",
          "data": {
            "text/plain": [
              "<IPython.core.display.Javascript object>"
            ],
            "application/javascript": [
              "download(\"download_ede08ac2-35b4-47b7-bd2b-8bd4c812863d\", \"merged_data.csv\", 61544)"
            ]
          },
          "metadata": {}
        }
      ]
    },
    {
      "cell_type": "code",
      "source": [
        "# import random\n",
        "\n",
        "# # List of standard amino acid single-letter codes\n",
        "# amino_acids = \"ACDEFGHIKLMNPQRSTVWY\"\n",
        "\n",
        "# def substitute_substring(sequence, del_start, del_end):\n",
        "#     \"\"\"Substitutes amino acids in a substring with random amino acids.\"\"\"\n",
        "\n",
        "#     # Adjust del_start to be 0-indexed\n",
        "#     del_start -= 1\n",
        "\n",
        "#     if del_start < 0 or del_end > len(sequence) or del_start >= del_end:\n",
        "#         return sequence  # Handle invalid indices\n",
        "\n",
        "#     substituted_seq = list(sequence)\n",
        "#     for i in range(del_start, del_end):\n",
        "#         substituted_seq[i] = random.choice(amino_acids)\n",
        "\n",
        "#     return \"\".join(substituted_seq)\n",
        "\n",
        "\n",
        "# # Apply the function to each row of the DataFrame\n",
        "# df['substituted_seq'] = df.apply(lambda row: substitute_substring(row['sequence'], row['del_start'], row['del_end']), axis=1)\n",
        "# df['substituted_seq'].head()"
      ],
      "metadata": {
        "id": "P37D2iO54WAP",
        "outputId": "6b409e7a-15a9-4d91-f203-68be368b878b",
        "colab": {
          "base_uri": "https://localhost:8080/",
          "height": 241
        }
      },
      "execution_count": null,
      "outputs": [
        {
          "output_type": "execute_result",
          "data": {
            "text/plain": [
              "0    MRSRKLTGGVRSSARLRARSYSSASLASARDVTSSTSASGDRYTMT...\n",
              "1    MDGAPVAEFRPTMTHGGRYLLYDIFGNKFEVTNKYQPPIMPIGRGA...\n",
              "2    MSKRTTYCGLVTEAFLGQEITLKGWVNNRRDLGGLIFVDLRDREGI...\n",
              "3    MAWLEDVDFLEDVPLLEDIPLLEDVPLLEDVPLLEDTSRLEDINLM...\n",
              "4    MRYYEKIDGSKYRNIWVVGDLHGCYTNLMNKLDTIGFDNKKDLLIS...\n",
              "Name: substituted_seq, dtype: object"
            ],
            "text/html": [
              "<div>\n",
              "<style scoped>\n",
              "    .dataframe tbody tr th:only-of-type {\n",
              "        vertical-align: middle;\n",
              "    }\n",
              "\n",
              "    .dataframe tbody tr th {\n",
              "        vertical-align: top;\n",
              "    }\n",
              "\n",
              "    .dataframe thead th {\n",
              "        text-align: right;\n",
              "    }\n",
              "</style>\n",
              "<table border=\"1\" class=\"dataframe\">\n",
              "  <thead>\n",
              "    <tr style=\"text-align: right;\">\n",
              "      <th></th>\n",
              "      <th>substituted_seq</th>\n",
              "    </tr>\n",
              "  </thead>\n",
              "  <tbody>\n",
              "    <tr>\n",
              "      <th>0</th>\n",
              "      <td>MRSRKLTGGVRSSARLRARSYSSASLASARDVTSSTSASGDRYTMT...</td>\n",
              "    </tr>\n",
              "    <tr>\n",
              "      <th>1</th>\n",
              "      <td>MDGAPVAEFRPTMTHGGRYLLYDIFGNKFEVTNKYQPPIMPIGRGA...</td>\n",
              "    </tr>\n",
              "    <tr>\n",
              "      <th>2</th>\n",
              "      <td>MSKRTTYCGLVTEAFLGQEITLKGWVNNRRDLGGLIFVDLRDREGI...</td>\n",
              "    </tr>\n",
              "    <tr>\n",
              "      <th>3</th>\n",
              "      <td>MAWLEDVDFLEDVPLLEDIPLLEDVPLLEDVPLLEDTSRLEDINLM...</td>\n",
              "    </tr>\n",
              "    <tr>\n",
              "      <th>4</th>\n",
              "      <td>MRYYEKIDGSKYRNIWVVGDLHGCYTNLMNKLDTIGFDNKKDLLIS...</td>\n",
              "    </tr>\n",
              "  </tbody>\n",
              "</table>\n",
              "</div><br><label><b>dtype:</b> object</label>"
            ]
          },
          "metadata": {},
          "execution_count": 10
        }
      ]
    },
    {
      "cell_type": "code",
      "source": [
        "# Dictionary to hold the results\n",
        "embeddings_dict = {}\n",
        "\n",
        "# Iterate through each row in the DataFrame\n",
        "for _, row in df.iterrows():\n",
        "    entry = row['Protein Accession']\n",
        "    interpro_target = row['InterPro_target']\n",
        "    interpro_original = row['InterPro_original']\n",
        "\n",
        "    # Skip rows where 'Interpro' is None\n",
        "    if pd.isna(interpro_target) or not interpro_target.strip() or pd.isna(interpro_original) or not interpro_target.strip():\n",
        "        continue\n",
        "\n",
        "    # Split the InterPro IDs by semicolons\n",
        "    interpro_ids_target = interpro_target.split(';')\n",
        "    interpro_ids_target = interpro_ids_target[:-1]\n",
        "    interpro_ids_original = interpro_original.split(';')\n",
        "    interpro_ids_original = interpro_ids_original[:-1]\n",
        "\n",
        "    # Initialize entry in the dictionary if not present\n",
        "    if entry not in embeddings_dict:\n",
        "        embeddings_dict[entry] = {\n",
        "            'InterPro_ids_target': interpro_ids_target,\n",
        "            'InterPro_ids_original': interpro_ids_original\n",
        "        }\n"
      ],
      "metadata": {
        "id": "hFA6bz-EIPYq"
      },
      "execution_count": 34,
      "outputs": []
    },
    {
      "cell_type": "code",
      "source": [
        "first_key, first_value = next(iter(embeddings_dict.items()))\n",
        "print(first_key, first_value['InterPro_ids_original'])"
      ],
      "metadata": {
        "colab": {
          "base_uri": "https://localhost:8080/"
        },
        "collapsed": true,
        "id": "geqILgUFNn1-",
        "outputId": "8bd93598-ca11-4c3c-bae1-ded06b93398c"
      },
      "execution_count": 51,
      "outputs": [
        {
          "output_type": "stream",
          "name": "stdout",
          "text": [
            "5R1U_1 ['IPR034163', ' IPR021109', ' IPR001461', ' IPR001969']\n"
          ]
        }
      ]
    },
    {
      "cell_type": "code",
      "source": [
        "pip install esm"
      ],
      "metadata": {
        "colab": {
          "base_uri": "https://localhost:8080/"
        },
        "collapsed": true,
        "id": "WApDjmPCPlaH",
        "outputId": "5c6f75b2-bcca-4895-f03a-b33f19270b5f"
      },
      "execution_count": 35,
      "outputs": [
        {
          "output_type": "stream",
          "name": "stdout",
          "text": [
            "Collecting esm\n",
            "  Downloading esm-3.1.3-py3-none-any.whl.metadata (15 kB)\n",
            "Requirement already satisfied: torch>=2.2.0 in /usr/local/lib/python3.11/dist-packages (from esm) (2.5.1+cu124)\n",
            "Requirement already satisfied: torchvision in /usr/local/lib/python3.11/dist-packages (from esm) (0.20.1+cu124)\n",
            "Collecting torchtext (from esm)\n",
            "  Downloading torchtext-0.18.0-cp311-cp311-manylinux1_x86_64.whl.metadata (7.9 kB)\n",
            "Collecting transformers<4.47.0 (from esm)\n",
            "  Downloading transformers-4.46.3-py3-none-any.whl.metadata (44 kB)\n",
            "\u001b[2K     \u001b[90m━━━━━━━━━━━━━━━━━━━━━━━━━━━━━━━━━━━━━━━━\u001b[0m \u001b[32m44.1/44.1 kB\u001b[0m \u001b[31m2.7 MB/s\u001b[0m eta \u001b[36m0:00:00\u001b[0m\n",
            "\u001b[?25hRequirement already satisfied: ipython in /usr/local/lib/python3.11/dist-packages (from esm) (7.34.0)\n",
            "Requirement already satisfied: einops in /usr/local/lib/python3.11/dist-packages (from esm) (0.8.0)\n",
            "Collecting biotite==0.41.2 (from esm)\n",
            "  Downloading biotite-0.41.2-cp311-cp311-manylinux_2_17_x86_64.manylinux2014_x86_64.whl.metadata (7.1 kB)\n",
            "Collecting msgpack-numpy (from esm)\n",
            "  Downloading msgpack_numpy-0.4.8-py2.py3-none-any.whl.metadata (5.0 kB)\n",
            "Requirement already satisfied: biopython in /usr/local/lib/python3.11/dist-packages (from esm) (1.85)\n",
            "Requirement already satisfied: scikit-learn in /usr/local/lib/python3.11/dist-packages (from esm) (1.6.1)\n",
            "Collecting brotli (from esm)\n",
            "  Downloading Brotli-1.1.0-cp311-cp311-manylinux_2_17_x86_64.manylinux2014_x86_64.whl.metadata (5.5 kB)\n",
            "Requirement already satisfied: attrs in /usr/local/lib/python3.11/dist-packages (from esm) (25.1.0)\n",
            "Requirement already satisfied: pandas in /usr/local/lib/python3.11/dist-packages (from esm) (2.2.2)\n",
            "Requirement already satisfied: cloudpathlib in /usr/local/lib/python3.11/dist-packages (from esm) (0.20.0)\n",
            "Requirement already satisfied: tenacity in /usr/local/lib/python3.11/dist-packages (from esm) (9.0.0)\n",
            "Collecting zstd (from esm)\n",
            "  Downloading zstd-1.5.6.2-cp311-cp311-manylinux_2_17_x86_64.manylinux2014_x86_64.whl.metadata (10 kB)\n",
            "Requirement already satisfied: msgpack>=0.5.6 in /usr/local/lib/python3.11/dist-packages (from biotite==0.41.2->esm) (1.1.0)\n",
            "Requirement already satisfied: networkx>=2.0 in /usr/local/lib/python3.11/dist-packages (from biotite==0.41.2->esm) (3.4.2)\n",
            "Requirement already satisfied: numpy<2.0,>=1.14.5 in /usr/local/lib/python3.11/dist-packages (from biotite==0.41.2->esm) (1.26.4)\n",
            "Requirement already satisfied: requests>=2.12 in /usr/local/lib/python3.11/dist-packages (from biotite==0.41.2->esm) (2.32.3)\n",
            "Requirement already satisfied: filelock in /usr/local/lib/python3.11/dist-packages (from torch>=2.2.0->esm) (3.17.0)\n",
            "Requirement already satisfied: typing-extensions>=4.8.0 in /usr/local/lib/python3.11/dist-packages (from torch>=2.2.0->esm) (4.12.2)\n",
            "Requirement already satisfied: jinja2 in /usr/local/lib/python3.11/dist-packages (from torch>=2.2.0->esm) (3.1.5)\n",
            "Requirement already satisfied: fsspec in /usr/local/lib/python3.11/dist-packages (from torch>=2.2.0->esm) (2024.10.0)\n",
            "Collecting nvidia-cuda-nvrtc-cu12==12.4.127 (from torch>=2.2.0->esm)\n",
            "  Downloading nvidia_cuda_nvrtc_cu12-12.4.127-py3-none-manylinux2014_x86_64.whl.metadata (1.5 kB)\n",
            "Collecting nvidia-cuda-runtime-cu12==12.4.127 (from torch>=2.2.0->esm)\n",
            "  Downloading nvidia_cuda_runtime_cu12-12.4.127-py3-none-manylinux2014_x86_64.whl.metadata (1.5 kB)\n",
            "Collecting nvidia-cuda-cupti-cu12==12.4.127 (from torch>=2.2.0->esm)\n",
            "  Downloading nvidia_cuda_cupti_cu12-12.4.127-py3-none-manylinux2014_x86_64.whl.metadata (1.6 kB)\n",
            "Collecting nvidia-cudnn-cu12==9.1.0.70 (from torch>=2.2.0->esm)\n",
            "  Downloading nvidia_cudnn_cu12-9.1.0.70-py3-none-manylinux2014_x86_64.whl.metadata (1.6 kB)\n",
            "Collecting nvidia-cublas-cu12==12.4.5.8 (from torch>=2.2.0->esm)\n",
            "  Downloading nvidia_cublas_cu12-12.4.5.8-py3-none-manylinux2014_x86_64.whl.metadata (1.5 kB)\n",
            "Collecting nvidia-cufft-cu12==11.2.1.3 (from torch>=2.2.0->esm)\n",
            "  Downloading nvidia_cufft_cu12-11.2.1.3-py3-none-manylinux2014_x86_64.whl.metadata (1.5 kB)\n",
            "Collecting nvidia-curand-cu12==10.3.5.147 (from torch>=2.2.0->esm)\n",
            "  Downloading nvidia_curand_cu12-10.3.5.147-py3-none-manylinux2014_x86_64.whl.metadata (1.5 kB)\n",
            "Collecting nvidia-cusolver-cu12==11.6.1.9 (from torch>=2.2.0->esm)\n",
            "  Downloading nvidia_cusolver_cu12-11.6.1.9-py3-none-manylinux2014_x86_64.whl.metadata (1.6 kB)\n",
            "Collecting nvidia-cusparse-cu12==12.3.1.170 (from torch>=2.2.0->esm)\n",
            "  Downloading nvidia_cusparse_cu12-12.3.1.170-py3-none-manylinux2014_x86_64.whl.metadata (1.6 kB)\n",
            "Requirement already satisfied: nvidia-nccl-cu12==2.21.5 in /usr/local/lib/python3.11/dist-packages (from torch>=2.2.0->esm) (2.21.5)\n",
            "Requirement already satisfied: nvidia-nvtx-cu12==12.4.127 in /usr/local/lib/python3.11/dist-packages (from torch>=2.2.0->esm) (12.4.127)\n",
            "Collecting nvidia-nvjitlink-cu12==12.4.127 (from torch>=2.2.0->esm)\n",
            "  Downloading nvidia_nvjitlink_cu12-12.4.127-py3-none-manylinux2014_x86_64.whl.metadata (1.5 kB)\n",
            "Requirement already satisfied: triton==3.1.0 in /usr/local/lib/python3.11/dist-packages (from torch>=2.2.0->esm) (3.1.0)\n",
            "Requirement already satisfied: sympy==1.13.1 in /usr/local/lib/python3.11/dist-packages (from torch>=2.2.0->esm) (1.13.1)\n",
            "Requirement already satisfied: mpmath<1.4,>=1.1.0 in /usr/local/lib/python3.11/dist-packages (from sympy==1.13.1->torch>=2.2.0->esm) (1.3.0)\n",
            "Requirement already satisfied: huggingface-hub<1.0,>=0.23.2 in /usr/local/lib/python3.11/dist-packages (from transformers<4.47.0->esm) (0.28.1)\n",
            "Requirement already satisfied: packaging>=20.0 in /usr/local/lib/python3.11/dist-packages (from transformers<4.47.0->esm) (24.2)\n",
            "Requirement already satisfied: pyyaml>=5.1 in /usr/local/lib/python3.11/dist-packages (from transformers<4.47.0->esm) (6.0.2)\n",
            "Requirement already satisfied: regex!=2019.12.17 in /usr/local/lib/python3.11/dist-packages (from transformers<4.47.0->esm) (2024.11.6)\n",
            "Collecting tokenizers<0.21,>=0.20 (from transformers<4.47.0->esm)\n",
            "  Downloading tokenizers-0.20.3-cp311-cp311-manylinux_2_17_x86_64.manylinux2014_x86_64.whl.metadata (6.7 kB)\n",
            "Requirement already satisfied: safetensors>=0.4.1 in /usr/local/lib/python3.11/dist-packages (from transformers<4.47.0->esm) (0.5.2)\n",
            "Requirement already satisfied: tqdm>=4.27 in /usr/local/lib/python3.11/dist-packages (from transformers<4.47.0->esm) (4.67.1)\n",
            "Requirement already satisfied: setuptools>=18.5 in /usr/local/lib/python3.11/dist-packages (from ipython->esm) (75.1.0)\n",
            "Collecting jedi>=0.16 (from ipython->esm)\n",
            "  Downloading jedi-0.19.2-py2.py3-none-any.whl.metadata (22 kB)\n",
            "Requirement already satisfied: decorator in /usr/local/lib/python3.11/dist-packages (from ipython->esm) (4.4.2)\n",
            "Requirement already satisfied: pickleshare in /usr/local/lib/python3.11/dist-packages (from ipython->esm) (0.7.5)\n",
            "Requirement already satisfied: traitlets>=4.2 in /usr/local/lib/python3.11/dist-packages (from ipython->esm) (5.7.1)\n",
            "Requirement already satisfied: prompt-toolkit!=3.0.0,!=3.0.1,<3.1.0,>=2.0.0 in /usr/local/lib/python3.11/dist-packages (from ipython->esm) (3.0.50)\n",
            "Requirement already satisfied: pygments in /usr/local/lib/python3.11/dist-packages (from ipython->esm) (2.18.0)\n",
            "Requirement already satisfied: backcall in /usr/local/lib/python3.11/dist-packages (from ipython->esm) (0.2.0)\n",
            "Requirement already satisfied: matplotlib-inline in /usr/local/lib/python3.11/dist-packages (from ipython->esm) (0.1.7)\n",
            "Requirement already satisfied: pexpect>4.3 in /usr/local/lib/python3.11/dist-packages (from ipython->esm) (4.9.0)\n",
            "Requirement already satisfied: python-dateutil>=2.8.2 in /usr/local/lib/python3.11/dist-packages (from pandas->esm) (2.8.2)\n",
            "Requirement already satisfied: pytz>=2020.1 in /usr/local/lib/python3.11/dist-packages (from pandas->esm) (2025.1)\n",
            "Requirement already satisfied: tzdata>=2022.7 in /usr/local/lib/python3.11/dist-packages (from pandas->esm) (2025.1)\n",
            "Requirement already satisfied: scipy>=1.6.0 in /usr/local/lib/python3.11/dist-packages (from scikit-learn->esm) (1.13.1)\n",
            "Requirement already satisfied: joblib>=1.2.0 in /usr/local/lib/python3.11/dist-packages (from scikit-learn->esm) (1.4.2)\n",
            "Requirement already satisfied: threadpoolctl>=3.1.0 in /usr/local/lib/python3.11/dist-packages (from scikit-learn->esm) (3.5.0)\n",
            "Requirement already satisfied: pillow!=8.3.*,>=5.3.0 in /usr/local/lib/python3.11/dist-packages (from torchvision->esm) (11.1.0)\n",
            "Requirement already satisfied: parso<0.9.0,>=0.8.4 in /usr/local/lib/python3.11/dist-packages (from jedi>=0.16->ipython->esm) (0.8.4)\n",
            "Requirement already satisfied: ptyprocess>=0.5 in /usr/local/lib/python3.11/dist-packages (from pexpect>4.3->ipython->esm) (0.7.0)\n",
            "Requirement already satisfied: wcwidth in /usr/local/lib/python3.11/dist-packages (from prompt-toolkit!=3.0.0,!=3.0.1,<3.1.0,>=2.0.0->ipython->esm) (0.2.13)\n",
            "Requirement already satisfied: six>=1.5 in /usr/local/lib/python3.11/dist-packages (from python-dateutil>=2.8.2->pandas->esm) (1.17.0)\n",
            "Requirement already satisfied: charset-normalizer<4,>=2 in /usr/local/lib/python3.11/dist-packages (from requests>=2.12->biotite==0.41.2->esm) (3.4.1)\n",
            "Requirement already satisfied: idna<4,>=2.5 in /usr/local/lib/python3.11/dist-packages (from requests>=2.12->biotite==0.41.2->esm) (3.10)\n",
            "Requirement already satisfied: urllib3<3,>=1.21.1 in /usr/local/lib/python3.11/dist-packages (from requests>=2.12->biotite==0.41.2->esm) (2.3.0)\n",
            "Requirement already satisfied: certifi>=2017.4.17 in /usr/local/lib/python3.11/dist-packages (from requests>=2.12->biotite==0.41.2->esm) (2025.1.31)\n",
            "Requirement already satisfied: MarkupSafe>=2.0 in /usr/local/lib/python3.11/dist-packages (from jinja2->torch>=2.2.0->esm) (3.0.2)\n",
            "Downloading esm-3.1.3-py3-none-any.whl (2.4 MB)\n",
            "\u001b[2K   \u001b[90m━━━━━━━━━━━━━━━━━━━━━━━━━━━━━━━━━━━━━━━━\u001b[0m \u001b[32m2.4/2.4 MB\u001b[0m \u001b[31m47.2 MB/s\u001b[0m eta \u001b[36m0:00:00\u001b[0m\n",
            "\u001b[?25hDownloading biotite-0.41.2-cp311-cp311-manylinux_2_17_x86_64.manylinux2014_x86_64.whl (37.0 MB)\n",
            "\u001b[2K   \u001b[90m━━━━━━━━━━━━━━━━━━━━━━━━━━━━━━━━━━━━━━━━\u001b[0m \u001b[32m37.0/37.0 MB\u001b[0m \u001b[31m31.1 MB/s\u001b[0m eta \u001b[36m0:00:00\u001b[0m\n",
            "\u001b[?25hDownloading nvidia_cublas_cu12-12.4.5.8-py3-none-manylinux2014_x86_64.whl (363.4 MB)\n",
            "\u001b[2K   \u001b[90m━━━━━━━━━━━━━━━━━━━━━━━━━━━━━━━━━━━━━━━━\u001b[0m \u001b[32m363.4/363.4 MB\u001b[0m \u001b[31m2.2 MB/s\u001b[0m eta \u001b[36m0:00:00\u001b[0m\n",
            "\u001b[?25hDownloading nvidia_cuda_cupti_cu12-12.4.127-py3-none-manylinux2014_x86_64.whl (13.8 MB)\n",
            "\u001b[2K   \u001b[90m━━━━━━━━━━━━━━━━━━━━━━━━━━━━━━━━━━━━━━━━\u001b[0m \u001b[32m13.8/13.8 MB\u001b[0m \u001b[31m111.6 MB/s\u001b[0m eta \u001b[36m0:00:00\u001b[0m\n",
            "\u001b[?25hDownloading nvidia_cuda_nvrtc_cu12-12.4.127-py3-none-manylinux2014_x86_64.whl (24.6 MB)\n",
            "\u001b[2K   \u001b[90m━━━━━━━━━━━━━━━━━━━━━━━━━━━━━━━━━━━━━━━━\u001b[0m \u001b[32m24.6/24.6 MB\u001b[0m \u001b[31m90.1 MB/s\u001b[0m eta \u001b[36m0:00:00\u001b[0m\n",
            "\u001b[?25hDownloading nvidia_cuda_runtime_cu12-12.4.127-py3-none-manylinux2014_x86_64.whl (883 kB)\n",
            "\u001b[2K   \u001b[90m━━━━━━━━━━━━━━━━━━━━━━━━━━━━━━━━━━━━━━━━\u001b[0m \u001b[32m883.7/883.7 kB\u001b[0m \u001b[31m60.9 MB/s\u001b[0m eta \u001b[36m0:00:00\u001b[0m\n",
            "\u001b[?25hDownloading nvidia_cudnn_cu12-9.1.0.70-py3-none-manylinux2014_x86_64.whl (664.8 MB)\n",
            "\u001b[2K   \u001b[90m━━━━━━━━━━━━━━━━━━━━━━━━━━━━━━━━━━━━━━━━\u001b[0m \u001b[32m664.8/664.8 MB\u001b[0m \u001b[31m2.9 MB/s\u001b[0m eta \u001b[36m0:00:00\u001b[0m\n",
            "\u001b[?25hDownloading nvidia_cufft_cu12-11.2.1.3-py3-none-manylinux2014_x86_64.whl (211.5 MB)\n",
            "\u001b[2K   \u001b[90m━━━━━━━━━━━━━━━━━━━━━━━━━━━━━━━━━━━━━━━━\u001b[0m \u001b[32m211.5/211.5 MB\u001b[0m \u001b[31m5.6 MB/s\u001b[0m eta \u001b[36m0:00:00\u001b[0m\n",
            "\u001b[?25hDownloading nvidia_curand_cu12-10.3.5.147-py3-none-manylinux2014_x86_64.whl (56.3 MB)\n",
            "\u001b[2K   \u001b[90m━━━━━━━━━━━━━━━━━━━━━━━━━━━━━━━━━━━━━━━━\u001b[0m \u001b[32m56.3/56.3 MB\u001b[0m \u001b[31m13.2 MB/s\u001b[0m eta \u001b[36m0:00:00\u001b[0m\n",
            "\u001b[?25hDownloading nvidia_cusolver_cu12-11.6.1.9-py3-none-manylinux2014_x86_64.whl (127.9 MB)\n",
            "\u001b[2K   \u001b[90m━━━━━━━━━━━━━━━━━━━━━━━━━━━━━━━━━━━━━━━━\u001b[0m \u001b[32m127.9/127.9 MB\u001b[0m \u001b[31m8.2 MB/s\u001b[0m eta \u001b[36m0:00:00\u001b[0m\n",
            "\u001b[?25hDownloading nvidia_cusparse_cu12-12.3.1.170-py3-none-manylinux2014_x86_64.whl (207.5 MB)\n",
            "\u001b[2K   \u001b[90m━━━━━━━━━━━━━━━━━━━━━━━━━━━━━━━━━━━━━━━━\u001b[0m \u001b[32m207.5/207.5 MB\u001b[0m \u001b[31m5.9 MB/s\u001b[0m eta \u001b[36m0:00:00\u001b[0m\n",
            "\u001b[?25hDownloading nvidia_nvjitlink_cu12-12.4.127-py3-none-manylinux2014_x86_64.whl (21.1 MB)\n",
            "\u001b[2K   \u001b[90m━━━━━━━━━━━━━━━━━━━━━━━━━━━━━━━━━━━━━━━━\u001b[0m \u001b[32m21.1/21.1 MB\u001b[0m \u001b[31m94.7 MB/s\u001b[0m eta \u001b[36m0:00:00\u001b[0m\n",
            "\u001b[?25hDownloading transformers-4.46.3-py3-none-any.whl (10.0 MB)\n",
            "\u001b[2K   \u001b[90m━━━━━━━━━━━━━━━━━━━━━━━━━━━━━━━━━━━━━━━━\u001b[0m \u001b[32m10.0/10.0 MB\u001b[0m \u001b[31m125.3 MB/s\u001b[0m eta \u001b[36m0:00:00\u001b[0m\n",
            "\u001b[?25hDownloading Brotli-1.1.0-cp311-cp311-manylinux_2_17_x86_64.manylinux2014_x86_64.whl (2.9 MB)\n",
            "\u001b[2K   \u001b[90m━━━━━━━━━━━━━━━━━━━━━━━━━━━━━━━━━━━━━━━━\u001b[0m \u001b[32m2.9/2.9 MB\u001b[0m \u001b[31m104.1 MB/s\u001b[0m eta \u001b[36m0:00:00\u001b[0m\n",
            "\u001b[?25hDownloading msgpack_numpy-0.4.8-py2.py3-none-any.whl (6.9 kB)\n",
            "Downloading torchtext-0.18.0-cp311-cp311-manylinux1_x86_64.whl (2.0 MB)\n",
            "\u001b[2K   \u001b[90m━━━━━━━━━━━━━━━━━━━━━━━━━━━━━━━━━━━━━━━━\u001b[0m \u001b[32m2.0/2.0 MB\u001b[0m \u001b[31m84.6 MB/s\u001b[0m eta \u001b[36m0:00:00\u001b[0m\n",
            "\u001b[?25hDownloading zstd-1.5.6.2-cp311-cp311-manylinux_2_17_x86_64.manylinux2014_x86_64.whl (1.8 MB)\n",
            "\u001b[2K   \u001b[90m━━━━━━━━━━━━━━━━━━━━━━━━━━━━━━━━━━━━━━━━\u001b[0m \u001b[32m1.8/1.8 MB\u001b[0m \u001b[31m88.4 MB/s\u001b[0m eta \u001b[36m0:00:00\u001b[0m\n",
            "\u001b[?25hDownloading jedi-0.19.2-py2.py3-none-any.whl (1.6 MB)\n",
            "\u001b[2K   \u001b[90m━━━━━━━━━━━━━━━━━━━━━━━━━━━━━━━━━━━━━━━━\u001b[0m \u001b[32m1.6/1.6 MB\u001b[0m \u001b[31m68.4 MB/s\u001b[0m eta \u001b[36m0:00:00\u001b[0m\n",
            "\u001b[?25hDownloading tokenizers-0.20.3-cp311-cp311-manylinux_2_17_x86_64.manylinux2014_x86_64.whl (3.0 MB)\n",
            "\u001b[2K   \u001b[90m━━━━━━━━━━━━━━━━━━━━━━━━━━━━━━━━━━━━━━━━\u001b[0m \u001b[32m3.0/3.0 MB\u001b[0m \u001b[31m100.4 MB/s\u001b[0m eta \u001b[36m0:00:00\u001b[0m\n",
            "\u001b[?25hInstalling collected packages: zstd, brotli, nvidia-nvjitlink-cu12, nvidia-curand-cu12, nvidia-cufft-cu12, nvidia-cuda-runtime-cu12, nvidia-cuda-nvrtc-cu12, nvidia-cuda-cupti-cu12, nvidia-cublas-cu12, msgpack-numpy, jedi, nvidia-cusparse-cu12, nvidia-cudnn-cu12, biotite, tokenizers, nvidia-cusolver-cu12, transformers, torchtext, esm\n",
            "  Attempting uninstall: nvidia-nvjitlink-cu12\n",
            "    Found existing installation: nvidia-nvjitlink-cu12 12.5.82\n",
            "    Uninstalling nvidia-nvjitlink-cu12-12.5.82:\n",
            "      Successfully uninstalled nvidia-nvjitlink-cu12-12.5.82\n",
            "  Attempting uninstall: nvidia-curand-cu12\n",
            "    Found existing installation: nvidia-curand-cu12 10.3.6.82\n",
            "    Uninstalling nvidia-curand-cu12-10.3.6.82:\n",
            "      Successfully uninstalled nvidia-curand-cu12-10.3.6.82\n",
            "  Attempting uninstall: nvidia-cufft-cu12\n",
            "    Found existing installation: nvidia-cufft-cu12 11.2.3.61\n",
            "    Uninstalling nvidia-cufft-cu12-11.2.3.61:\n",
            "      Successfully uninstalled nvidia-cufft-cu12-11.2.3.61\n",
            "  Attempting uninstall: nvidia-cuda-runtime-cu12\n",
            "    Found existing installation: nvidia-cuda-runtime-cu12 12.5.82\n",
            "    Uninstalling nvidia-cuda-runtime-cu12-12.5.82:\n",
            "      Successfully uninstalled nvidia-cuda-runtime-cu12-12.5.82\n",
            "  Attempting uninstall: nvidia-cuda-nvrtc-cu12\n",
            "    Found existing installation: nvidia-cuda-nvrtc-cu12 12.5.82\n",
            "    Uninstalling nvidia-cuda-nvrtc-cu12-12.5.82:\n",
            "      Successfully uninstalled nvidia-cuda-nvrtc-cu12-12.5.82\n",
            "  Attempting uninstall: nvidia-cuda-cupti-cu12\n",
            "    Found existing installation: nvidia-cuda-cupti-cu12 12.5.82\n",
            "    Uninstalling nvidia-cuda-cupti-cu12-12.5.82:\n",
            "      Successfully uninstalled nvidia-cuda-cupti-cu12-12.5.82\n",
            "  Attempting uninstall: nvidia-cublas-cu12\n",
            "    Found existing installation: nvidia-cublas-cu12 12.5.3.2\n",
            "    Uninstalling nvidia-cublas-cu12-12.5.3.2:\n",
            "      Successfully uninstalled nvidia-cublas-cu12-12.5.3.2\n",
            "  Attempting uninstall: nvidia-cusparse-cu12\n",
            "    Found existing installation: nvidia-cusparse-cu12 12.5.1.3\n",
            "    Uninstalling nvidia-cusparse-cu12-12.5.1.3:\n",
            "      Successfully uninstalled nvidia-cusparse-cu12-12.5.1.3\n",
            "  Attempting uninstall: nvidia-cudnn-cu12\n",
            "    Found existing installation: nvidia-cudnn-cu12 9.3.0.75\n",
            "    Uninstalling nvidia-cudnn-cu12-9.3.0.75:\n",
            "      Successfully uninstalled nvidia-cudnn-cu12-9.3.0.75\n",
            "  Attempting uninstall: tokenizers\n",
            "    Found existing installation: tokenizers 0.21.0\n",
            "    Uninstalling tokenizers-0.21.0:\n",
            "      Successfully uninstalled tokenizers-0.21.0\n",
            "  Attempting uninstall: nvidia-cusolver-cu12\n",
            "    Found existing installation: nvidia-cusolver-cu12 11.6.3.83\n",
            "    Uninstalling nvidia-cusolver-cu12-11.6.3.83:\n",
            "      Successfully uninstalled nvidia-cusolver-cu12-11.6.3.83\n",
            "  Attempting uninstall: transformers\n",
            "    Found existing installation: transformers 4.48.2\n",
            "    Uninstalling transformers-4.48.2:\n",
            "      Successfully uninstalled transformers-4.48.2\n",
            "Successfully installed biotite-0.41.2 brotli-1.1.0 esm-3.1.3 jedi-0.19.2 msgpack-numpy-0.4.8 nvidia-cublas-cu12-12.4.5.8 nvidia-cuda-cupti-cu12-12.4.127 nvidia-cuda-nvrtc-cu12-12.4.127 nvidia-cuda-runtime-cu12-12.4.127 nvidia-cudnn-cu12-9.1.0.70 nvidia-cufft-cu12-11.2.1.3 nvidia-curand-cu12-10.3.5.147 nvidia-cusolver-cu12-11.6.1.9 nvidia-cusparse-cu12-12.3.1.170 nvidia-nvjitlink-cu12-12.4.127 tokenizers-0.20.3 torchtext-0.18.0 transformers-4.46.3 zstd-1.5.6.2\n"
          ]
        }
      ]
    },
    {
      "cell_type": "code",
      "source": [
        "from huggingface_hub import login\n",
        "from esm.models.esm3 import ESM3\n",
        "from esm.sdk.api import ESM3InferenceClient, ESMProtein, GenerationConfig\n",
        "\n",
        "# Will instruct you how to get an API key from huggingface hub, make one with \"Read\" permission.\n",
        "login()"
      ],
      "metadata": {
        "colab": {
          "base_uri": "https://localhost:8080/",
          "height": 17,
          "referenced_widgets": [
            "b1a82d12c48142ab8d7292aa3b95aad4",
            "73d99bb5fdee48fbb29cbf719d26c5c7",
            "99447f18cd2041bd8fba531ea55f8362",
            "0f72cddc1d9740aa8ae4528e8aeb290c",
            "c16714a922884057a01d50fd031ffcb2",
            "d5f78ff879d2433db73789dfc9ce0805",
            "c0869472b4e3462087324bd8f053053b",
            "2444b661fcfa483093be33ab50e1c4ce",
            "24d68adccee047529c154d17311766af",
            "631b28c8fb69439597f4820a3b902220",
            "4285e67534f245a59266799f1959e93d",
            "54e55689aca74142b1344a3fe89c3014",
            "b21fff4957094b06b580be24f0fba0eb",
            "ab743d46436a4989b7236b9b8cf466e2",
            "981dd790f4204c9bbe7ffd732baf6b1c",
            "347557e99698460ea96fb92010d49eac",
            "f564f0bcd2a74199b6cc15a9c3720384",
            "4e828641561c42f2bbcf1cc6647fe371",
            "3e8eda892c3c4b408a91cf95152fe100",
            "8fc7c13c26394981ad8a298bef2f9efa"
          ]
        },
        "id": "dUMozcJZPU_X",
        "outputId": "8eb9e287-6028-4105-f74e-c5fe2ba4431d"
      },
      "execution_count": 38,
      "outputs": [
        {
          "output_type": "display_data",
          "data": {
            "text/plain": [
              "VBox(children=(HTML(value='<center> <img\\nsrc=https://huggingface.co/front/assets/huggingface_logo-noborder.sv…"
            ],
            "application/vnd.jupyter.widget-view+json": {
              "version_major": 2,
              "version_minor": 0,
              "model_id": "b1a82d12c48142ab8d7292aa3b95aad4"
            }
          },
          "metadata": {}
        }
      ]
    },
    {
      "cell_type": "code",
      "source": [
        "model: ESM3InferenceClient = ESM3.from_pretrained(\"esm3_sm_open_v1\").to(\"cuda\")"
      ],
      "metadata": {
        "colab": {
          "base_uri": "https://localhost:8080/",
          "height": 912,
          "referenced_widgets": [
            "46f22c5941254f1ba9034efe7aec002c",
            "c5708ed2915f49b2b2ec8e946eabc631",
            "0132fc258f034dbcb1aa645002f9e534",
            "4086b59ec23b4d1cac58481a818110c9",
            "bf3e268fe3bd4c6bb0f3cc624a2cdb7e",
            "0f68e1ec213d40479ee76aa114489d38",
            "097dd37aa5ab44668ffc10b0761c9931",
            "1f4d181f856c468aba5db67187ffc355",
            "dcceb6a711504bb98274ee3d7dc0e876",
            "598edee413c64d6abb6ed204000bad06",
            "d8a3cbecc11c4f13baa837a17126478c",
            "03c1f23209c346e1abf72fe2a4c08c90",
            "4ac585a243a7458eabc2fb1f9ac6a658",
            "c409ab6213cf4d3fb4460bf5a4209552",
            "331d586d3c94490d8778306bd9eaddde",
            "91aadfe914d542fdb4795f89f04fb76b",
            "9d0ec97923dd4f6a8ae4df95300bfd14",
            "603f839efac248c1b66560c28e46ea0a",
            "5291ddc320b044c0a8efb8e7d6a544eb",
            "229b272f56e4466bbb0f95790656bf19",
            "dd66d60ebf1448fc88ec7db633cf0a97",
            "d2fd00ae47874bf49805fadfc97963a7",
            "26e11f1f845c4ef08d5de8ce000d8bf4",
            "817462efbc9b4f28960b9678d170b343",
            "1798ca2e567c4fdebe1daa36ff050d70",
            "55cf035e22b045338ef9511f4003beea",
            "52a636ce7aee4a5586659871dbb3c5b7",
            "0497945e5af3486fbca1e0f863027e04",
            "20a00ff4b3114ca68cec141f0386e2e1",
            "d9f15ef5cb144dc19dcfb3222b40f207",
            "281b648c4e0b4defb9031070a62f672f",
            "a7241e508c074de98cb1e9820d6a1b71",
            "779e8d99a0054300b962b084b380d13f",
            "0a47bf055a5b4cf88a23e69ba1706361",
            "cc0dd9558a9145cd8a3dea724773495e",
            "2b82ecfe74bf4b75a610b2422886b2cf",
            "4b830a3474074988801429131c8b11be",
            "b0b6c18f985b410fb4107ded3fd16807",
            "3037ad6ff8bd4bc69877eafb4049bd9f",
            "5486fa54ec0a41229589303dbbc39984",
            "966235794c354daab2284b6062ed6c25",
            "5634d56f041548b58e03ef36d0f7be93",
            "0cf66d181709433cba752bc064617196",
            "76510881f905441fa73416bf6d65d7e7",
            "b97efae8efa345c48cd84f942cab34f7",
            "c025ec08a9324839894e6c719a79ed8c",
            "15a2e8a39e6a4c24b025c5d2a8a3b34e",
            "7b56cad2d499475693138f52a85e36a0",
            "a7991fa54abc409e8b756b8a99a7b035",
            "c43fa927483b407cae2d030bb1c896a8",
            "5d3d9ee333324ac1af06321ce8c08811",
            "d6ef40cf91614709a925f0f56f9fd1c4",
            "396621b92b234d2d86676227ef9c77f9",
            "f923697f720c48deb992113f1d1bacc3",
            "7dbf9113b779488b9a45b60b2a579450",
            "1fa15096b466402292fe06b543b7ffd8",
            "b00a1c419e104d8387ab615149c3a57b",
            "c42c19a05778427a857d7477afbc8b4b",
            "82ee6eecc0c74cf4ad2711c5d2179387",
            "a01ac68e8004493a9952214da9c643b4",
            "9714e0671ac64ddbaebeb93bf97c244d",
            "7b9cb8fdc86e40b088180947ee864df2",
            "02af3c58553343dab1ab8ee5355e0837",
            "1d55f1ce1cb94d62ba6f60b02898753a",
            "95802546fe10478f9a6c0822364f073b",
            "b6094ad60e14447fa462bc5230bb4a33",
            "317341faef6e4c6a97df7125b2e4032b",
            "9bd91379cb5f4b2f95edce8e6e8da0f6",
            "7bed911a3d7746ccbc18ce16c24e56b3",
            "16d3bc6c0205460aa4a8ae514c1331b6",
            "c74beec1521e4a21968e458f13b08d57",
            "2ce8ad5c70c6452f84630884b918b11f",
            "f25a06b53b45471c98dcefba752a994b",
            "0a3efad985ba450595ceeeec322bf1a4",
            "64b8b8b5c68f46be9d7d1cc8cee79b2e",
            "75461d90771f418888c87a3bd155c337",
            "374ea8220f3647ff93748a5f6df38e89",
            "00b8d34313784c90b530830d093afeaa",
            "ee46b2cb26b34883a08be65322f10bd6",
            "ae34a4bb21e6454389d0ec7f8defec53",
            "0c633f73392145d5947b2aff098259c8",
            "2bde2643f0c44995acb6d00541d6fa27",
            "f2a04a869573467f970b23f5b835637b",
            "4fe0e5ce657d4c19a712a9d9d7c89a81",
            "435c6cf5aced4a668e965384f63d95e9",
            "f5fcac3958764d799e810ef386ace786",
            "69b9d39f8c4941b9850dfc26b67a1052",
            "98b886c8250f4564b0e6c236f630b76c",
            "8edd55f2f92b4a82a81ef694dbaaa3ba",
            "dd9390821e4d4ae48fd33a1e38cd8cc4",
            "bd3ef22a38d042f8b750e9d1feb9a163",
            "5316171b5b564c0d976baf9d3715ec8d",
            "c4f34c25ec7a41e390fb0b2a5e1f0dc5",
            "6cfec725304f4586813a6350365fefe9",
            "a817f2df92674c0ba21addc93beb5c48",
            "d035a2300571418fa6f8b985dafd8cf3",
            "1c21b3ce292d48bbbba036842d47b557",
            "9d54fd41367447eeb4c0d1afd251a0a9",
            "5a5b2ad3108b4c7bbe8538dfd7758737",
            "51fcc7515d314caab8b47f2dd1170bc1",
            "af86d5b73375483a8051a0028c72d5c3",
            "906fd4d734d04c6ab46bb56cd0075044",
            "45fc39afa3074ceebbfc85aff67693d2",
            "152b8bbd22094765b00e7f6da69ff258",
            "23f5c25fa73d4a0080726f9078a2407d",
            "f7a0f6c76f674a55834afcbd3db97525",
            "a09dbea0b5a54f209965a08731897903",
            "034ccadc1a5d4fa89f4164e84eb225e8",
            "2448543343e2467fafbe9a2e034a75f2",
            "f005a60db7c746dd966efefbef582807",
            "60070935186e4935948d61a7c025699e",
            "7a5fe66bc1e045c0b3c4094eeca189a0",
            "efb3449861064b70a1254f47610e3c03",
            "bc08e13d02514f6e9b1dbd2ad818ce8f",
            "4f6f5ec183ca4100baf8e302014f22e9",
            "45eef5d60e8343a4b4f5d1949e6b87ea",
            "bac1a818e88544efb0f69bc9b882645e",
            "9d546fa2e8714a398f0217ad42014dbc",
            "fdfabf706bb74943b9c1ee730d55dc7e",
            "b68f98b8a39543c688be0ab9e4d759fe",
            "117dd519805941cc9bfe64c1cd142ccb",
            "6b33e188d37949e5bc2297294f0ecbff",
            "5fcf4ef86d6b4bc095d41e820e34a161",
            "a3ed6a4b5f484cc0b339ca67492254fe",
            "e298a7a1fc1642a59e7d77187e266447",
            "b5260950ac4d4eeca042018030c1a4b4",
            "6456a360531b42b5a4f45485834e9939",
            "5f9e6442626e48d3ba791a7b52dd47e2",
            "4c4eb25867324e6eaff60beb9a674197",
            "6d0b858420c44cb5a8ef1641e8277cf2",
            "e8fd65b997544f7d8eccac0dbd61b9f9",
            "f03d2d51bab846ac8bba92448994270b",
            "86a68559718f4acea424248ed3c10d6f",
            "78fc7405129f4aeab733186e826cb35e",
            "4bb84f16396448df9ca32e613f5133d1",
            "3a71133343e84379af0514d6ac975f56",
            "9d506fb97cf04dba900c51ce99f8c465",
            "7cab5514a9cb4275aff22fc3d6814e68",
            "f0437e5175b74a7a8cc3aca8cb2506c1",
            "f37d0d697f4347e1b8c848a0e7e0981f",
            "8645ac7f35064d24b9c857b5cf021347",
            "4ae40f4a8e7e493d8dc0a56dbfe6264b",
            "4b025c70108944e09b88743f705d380a",
            "02a3bd12050541e286ba9e7e6a8a7d57",
            "4bbbda4c521d47b293a0578e8b0ca383",
            "d46258a0d01648a295cc5d2079d653a0",
            "941edac8d0124b0fbba858a1a1e68ecf",
            "ccd2e23a6733465e96520e3f6214a1fa",
            "8a312e3dadb649a8a9c1a565bc542541",
            "8f84cd1a3d034c4492984f698169833a",
            "d79924a3930b4e78a34a6f4df4ac4d5a",
            "1f1e2a7e56ea4e58b4ca4104aa483f8a",
            "d9ef30bce6cf42daa2c154ce1a162ebb",
            "825148fb193d45da9015c4d35a44516a",
            "4f8c0451d05e43658b265d2ae4766faf",
            "400c6a298be04761863ad9699c5face3",
            "e5458361689144a889236068685329c7",
            "d0c38a638ef844878367a736d3dbfb9f",
            "6a28848406d84b8da80a7c7fc133ddd9",
            "b1014d4e7cfc43c28c3d9facf76da544",
            "b9ee2aadd6fa45e487ffe265a744879d",
            "ee4cd096d0644f4295739630cdc67a5c",
            "ead3d579775b4dbe841eb72e2b2ddf62",
            "08f62bec8cbc4208887f9c87d959bec7",
            "2116c6388a00413abdbed3a9facc57be",
            "81ce2158d61244efa8156931f6b6d61f",
            "49bfc5b62a504c5da48a318c4890dc47",
            "4180eb8a05d0456cbee501f4044fa65b",
            "dbfe341401a44f74a3ed5388c06d9328",
            "7ac3bfb68ca248f6aa9fea410f3db925",
            "48e9d1b4a693418ba9c3f87984d36ee5",
            "f3054de2e8854bdf8e81439ce00240a4",
            "4c1976dd09a644d3bd55136ed28ecc35",
            "926a385ea0d04744a79765062d0c0bfe",
            "4213074d6efa47a3afc6dcaabd6dc46a",
            "baa40f99e43e4eb180ad483d518cd553",
            "efeffd2afb6d471d9a3776df32877d0e",
            "dd32425c75854dbca8bb7acbb4c848ce",
            "cc3b78ec63f44abcacf6ec94b6562d49",
            "2d6b9db14c434be1b2bb996b2bac74d7",
            "b396feba00d64edba19f0d6602c693aa",
            "9b4c1214aaf5489e9548f6819abf8861",
            "71de10f14c1c492ea0bca92502877962",
            "8e49868a65cc4013b2e03a8d0c527613",
            "986c7482cb2d492dba8256ce48ba4918",
            "65204d9dddea4ad1996cddfee225cdfc",
            "b176757a5902405cb86f02c7733a3353",
            "4a79496304834201a997d0a1a28d5fd8",
            "b99f41fec9e348a3b4d292c87041b359",
            "fca1098347624364882f8d4a9cc51c70",
            "2ca1fa90637d464a8e22291ca430619a",
            "4a6ad43ccc65476590e20d4d5f791c7e",
            "aee87ad49fcf49378c256bb83aa3eb49",
            "f004a82d4e434eef9fb4885adf6b4bae",
            "0f7ee55676ed4307ba9f398193ec3879",
            "b4406d51422b44d6ab4b1ac86fef5cd6",
            "81a51e5fe8df4b51a6c94296df7ae20b",
            "a67514db29cc48e49b4186b916d5ffec",
            "247065cceb374de9829dc3b5157a7146",
            "79091665555545a8ad0fbe0bb37fb43c",
            "74d4d04d78cc4e6fa097135215e6d953",
            "fc57ed885fcb4a8c8045a44b0735521c",
            "36361d1495344280ab005679d6daa51a",
            "fc70fa1422da43b7bb959aa02867e708",
            "2d08d99c56c74a09862468cdd7185d9a",
            "679a4a882fde42a5b8eaec64e2d6c221",
            "50fbe4432b964ed48fcf695beb107c94",
            "9289fae9e7cd4cef947cfa3f872e5516",
            "f8cc24712a124d14870b2650e2609691",
            "6b277927693042189d4324494c795e2d",
            "2245cb5ac6ee4a999f4ccfcb03644e15",
            "1feaa13e6b7d42758c3592abd3424eeb",
            "6b8640a0630645758b5f8f0a3cc53888",
            "f05ad23bc0254197ac0e8089b65fd6ef",
            "98d64c86fec24ccda8bcb2e971ea1138",
            "83dcb9a7e9a2454895d02dd1c8efc84d",
            "b14008d5fb3b4ec19bc31b1cd3a10c89",
            "ccf6a316688745c28d89cc44f887ae07",
            "eebb7cf8bd1149799af05ea09f66ab0b",
            "cf34c50a635f44b1a22afedc4b70dcec",
            "053cde8c358f4f52aa6cd8de235a9dfb",
            "9a58dcd83365404888c53cb973d3897b",
            "8d29d5a1e5834bd099610f7d05b2b127",
            "08a02ab7aed44e29a10558af50e681b6",
            "5e46ae5caf38408ca701fb2e1a6e864d",
            "0ebe4dab675f4dccb618cf6b6e409867",
            "7f83f987ff47409bbba2cac41a1e2799",
            "ac6fe361db464e39a0bec62799000932",
            "7c80a7890920434db31e8db97027fe7b",
            "5d6a90f2599f4f1a933332af7e3de3ba",
            "2888e4c75877458eaefc58bd0c0364a0",
            "376fdad39afa486c93d1272eab118d0f",
            "98a768b8c4de4100ac2c7168b8c9072f",
            "44e86ed00161451687fae44e43b5b908",
            "3aa60caff0224e88ae300e0f0b4f5105",
            "268860a251db4b6bac4f761cb1511663",
            "514da743416b4b609c4c929af5c36e72",
            "8250119cc5c5439b8d3bc1fb61c2b414",
            "c7da67043ee94242acc53e28d3130bb8",
            "0515eada3002477d92908042529cc1f7",
            "23b3273b6a0f4977830ee6965a4cb0b2",
            "329031c719614bd893311ace99e60725",
            "e5d3a1b0c1c24e438897bbb2635873a7",
            "0ac0a282a63745688d0682a196b464ee",
            "487fd999d8d7423bb87b43e2ab388e37",
            "a5451bf0cc1a496691f4cec297195f1e",
            "f4ee1b8725d94d638bacad8b6acb118c",
            "5cb73de4414847668924e45a77eabf80",
            "7cf76cdcdb714cf1851adcfbed9da2a7",
            "73035b7679384f2c9fa3d41556f4737f",
            "75a0fbbd7a12482fb59bc944d01e4256",
            "a67a36204a3c477d97f649d11e1ce299",
            "264a201f139e4b04904dddd0dab40e04"
          ]
        },
        "collapsed": true,
        "id": "pk8NkDtQPyJv",
        "outputId": "bdef1a06-1ae6-48f7-b5a1-0463e5801b58"
      },
      "execution_count": 39,
      "outputs": [
        {
          "output_type": "stream",
          "name": "stderr",
          "text": [
            "/usr/local/lib/python3.11/dist-packages/huggingface_hub/utils/_auth.py:94: UserWarning: \n",
            "The secret `HF_TOKEN` does not exist in your Colab secrets.\n",
            "To authenticate with the Hugging Face Hub, create a token in your settings tab (https://huggingface.co/settings/tokens), set it as secret in your Google Colab and restart your session.\n",
            "You will be able to reuse this secret in all of your notebooks.\n",
            "Please note that authentication is recommended but still optional to access public models or datasets.\n",
            "  warnings.warn(\n"
          ]
        },
        {
          "output_type": "display_data",
          "data": {
            "text/plain": [
              "Fetching 22 files:   0%|          | 0/22 [00:00<?, ?it/s]"
            ],
            "application/vnd.jupyter.widget-view+json": {
              "version_major": 2,
              "version_minor": 0,
              "model_id": "46f22c5941254f1ba9034efe7aec002c"
            }
          },
          "metadata": {}
        },
        {
          "output_type": "display_data",
          "data": {
            "text/plain": [
              "README.md:   0%|          | 0.00/3.06k [00:00<?, ?B/s]"
            ],
            "application/vnd.jupyter.widget-view+json": {
              "version_major": 2,
              "version_minor": 0,
              "model_id": "03c1f23209c346e1abf72fe2a4c08c90"
            }
          },
          "metadata": {}
        },
        {
          "output_type": "display_data",
          "data": {
            "text/plain": [
              "data/1utn.pdb:   0%|          | 0.00/569k [00:00<?, ?B/s]"
            ],
            "application/vnd.jupyter.widget-view+json": {
              "version_major": 2,
              "version_minor": 0,
              "model_id": "26e11f1f845c4ef08d5de8ce000d8bf4"
            }
          },
          "metadata": {}
        },
        {
          "output_type": "display_data",
          "data": {
            "text/plain": [
              "config.json:   0%|          | 0.00/3.00 [00:00<?, ?B/s]"
            ],
            "application/vnd.jupyter.widget-view+json": {
              "version_major": 2,
              "version_minor": 0,
              "model_id": "0a47bf055a5b4cf88a23e69ba1706361"
            }
          },
          "metadata": {}
        },
        {
          "output_type": "display_data",
          "data": {
            "text/plain": [
              ".gitattributes:   0%|          | 0.00/1.52k [00:00<?, ?B/s]"
            ],
            "application/vnd.jupyter.widget-view+json": {
              "version_major": 2,
              "version_minor": 0,
              "model_id": "b97efae8efa345c48cd84f942cab34f7"
            }
          },
          "metadata": {}
        },
        {
          "output_type": "display_data",
          "data": {
            "text/plain": [
              "hyperplanes_8bit_58641.npz:   0%|          | 0.00/30.0M [00:00<?, ?B/s]"
            ],
            "application/vnd.jupyter.widget-view+json": {
              "version_major": 2,
              "version_minor": 0,
              "model_id": "1fa15096b466402292fe06b543b7ffd8"
            }
          },
          "metadata": {}
        },
        {
          "output_type": "display_data",
          "data": {
            "text/plain": [
              "data/entry_list_safety_29026.list:   0%|          | 0.00/1.60M [00:00<?, ?B/s]"
            ],
            "application/vnd.jupyter.widget-view+json": {
              "version_major": 2,
              "version_minor": 0,
              "model_id": "317341faef6e4c6a97df7125b2e4032b"
            }
          },
          "metadata": {}
        },
        {
          "output_type": "display_data",
          "data": {
            "text/plain": [
              "data/ParentChildTreeFile.txt:   0%|          | 0.00/595k [00:00<?, ?B/s]"
            ],
            "application/vnd.jupyter.widget-view+json": {
              "version_major": 2,
              "version_minor": 0,
              "model_id": "00b8d34313784c90b530830d093afeaa"
            }
          },
          "metadata": {}
        },
        {
          "output_type": "display_data",
          "data": {
            "text/plain": [
              "hyperplanes_8bit_68103.npz:   0%|          | 0.00/34.9M [00:00<?, ?B/s]"
            ],
            "application/vnd.jupyter.widget-view+json": {
              "version_major": 2,
              "version_minor": 0,
              "model_id": "8edd55f2f92b4a82a81ef694dbaaa3ba"
            }
          },
          "metadata": {}
        },
        {
          "output_type": "display_data",
          "data": {
            "text/plain": [
              "(…)ata/interpro_29026_to_keywords_58641.csv:   0%|          | 0.00/10.1M [00:00<?, ?B/s]"
            ],
            "application/vnd.jupyter.widget-view+json": {
              "version_major": 2,
              "version_minor": 0,
              "model_id": "51fcc7515d314caab8b47f2dd1170bc1"
            }
          },
          "metadata": {}
        },
        {
          "output_type": "display_data",
          "data": {
            "text/plain": [
              "data/esm3_entry.list:   0%|          | 0.00/1.93M [00:00<?, ?B/s]"
            ],
            "application/vnd.jupyter.widget-view+json": {
              "version_major": 2,
              "version_minor": 0,
              "model_id": "60070935186e4935948d61a7c025699e"
            }
          },
          "metadata": {}
        },
        {
          "output_type": "display_data",
          "data": {
            "text/plain": [
              "data/interpro2keywords.csv:   0%|          | 0.00/7.32M [00:00<?, ?B/s]"
            ],
            "application/vnd.jupyter.widget-view+json": {
              "version_major": 2,
              "version_minor": 0,
              "model_id": "6b33e188d37949e5bc2297294f0ecbff"
            }
          },
          "metadata": {}
        },
        {
          "output_type": "display_data",
          "data": {
            "text/plain": [
              "(…)ord_vocabulary_safety_filtered_58641.txt:   0%|          | 0.00/788k [00:00<?, ?B/s]"
            ],
            "application/vnd.jupyter.widget-view+json": {
              "version_major": 2,
              "version_minor": 0,
              "model_id": "86a68559718f4acea424248ed3c10d6f"
            }
          },
          "metadata": {}
        },
        {
          "output_type": "display_data",
          "data": {
            "text/plain": [
              "data/keywords.txt:   0%|          | 0.00/788k [00:00<?, ?B/s]"
            ],
            "application/vnd.jupyter.widget-view+json": {
              "version_major": 2,
              "version_minor": 0,
              "model_id": "02a3bd12050541e286ba9e7e6a8a7d57"
            }
          },
          "metadata": {}
        },
        {
          "output_type": "display_data",
          "data": {
            "text/plain": [
              "data/tag_dict_4.json:   0%|          | 0.00/691k [00:00<?, ?B/s]"
            ],
            "application/vnd.jupyter.widget-view+json": {
              "version_major": 2,
              "version_minor": 0,
              "model_id": "4f8c0451d05e43658b265d2ae4766faf"
            }
          },
          "metadata": {}
        },
        {
          "output_type": "display_data",
          "data": {
            "text/plain": [
              "data/tag_dict_4_safety_filtered.json:   0%|          | 0.00/569k [00:00<?, ?B/s]"
            ],
            "application/vnd.jupyter.widget-view+json": {
              "version_major": 2,
              "version_minor": 0,
              "model_id": "81ce2158d61244efa8156931f6b6d61f"
            }
          },
          "metadata": {}
        },
        {
          "output_type": "display_data",
          "data": {
            "text/plain": [
              "(…)0_residue_annotations_gt_1k_proteins.csv:   0%|          | 0.00/109k [00:00<?, ?B/s]"
            ],
            "application/vnd.jupyter.widget-view+json": {
              "version_major": 2,
              "version_minor": 0,
              "model_id": "efeffd2afb6d471d9a3776df32877d0e"
            }
          },
          "metadata": {}
        },
        {
          "output_type": "display_data",
          "data": {
            "text/plain": [
              "tfidf_safety_filtered_58641.pkl:   0%|          | 0.00/2.02M [00:00<?, ?B/s]"
            ],
            "application/vnd.jupyter.widget-view+json": {
              "version_major": 2,
              "version_minor": 0,
              "model_id": "4a79496304834201a997d0a1a28d5fd8"
            }
          },
          "metadata": {}
        },
        {
          "output_type": "display_data",
          "data": {
            "text/plain": [
              "esm3_function_decoder_v0.pth:   0%|          | 0.00/1.30G [00:00<?, ?B/s]"
            ],
            "application/vnd.jupyter.widget-view+json": {
              "version_major": 2,
              "version_minor": 0,
              "model_id": "247065cceb374de9829dc3b5157a7146"
            }
          },
          "metadata": {}
        },
        {
          "output_type": "display_data",
          "data": {
            "text/plain": [
              "esm3_structure_encoder_v0.pth:   0%|          | 0.00/62.3M [00:00<?, ?B/s]"
            ],
            "application/vnd.jupyter.widget-view+json": {
              "version_major": 2,
              "version_minor": 0,
              "model_id": "6b277927693042189d4324494c795e2d"
            }
          },
          "metadata": {}
        },
        {
          "output_type": "display_data",
          "data": {
            "text/plain": [
              "esm3_sm_open_v1.pth:   0%|          | 0.00/2.80G [00:00<?, ?B/s]"
            ],
            "application/vnd.jupyter.widget-view+json": {
              "version_major": 2,
              "version_minor": 0,
              "model_id": "053cde8c358f4f52aa6cd8de235a9dfb"
            }
          },
          "metadata": {}
        },
        {
          "output_type": "display_data",
          "data": {
            "text/plain": [
              "esm3_structure_decoder_v0.pth:   0%|          | 0.00/1.24G [00:00<?, ?B/s]"
            ],
            "application/vnd.jupyter.widget-view+json": {
              "version_major": 2,
              "version_minor": 0,
              "model_id": "376fdad39afa486c93d1272eab118d0f"
            }
          },
          "metadata": {}
        },
        {
          "output_type": "display_data",
          "data": {
            "text/plain": [
              "keyword_idf_safety_filtered_58641.npy:   0%|          | 0.00/469k [00:00<?, ?B/s]"
            ],
            "application/vnd.jupyter.widget-view+json": {
              "version_major": 2,
              "version_minor": 0,
              "model_id": "e5d3a1b0c1c24e438897bbb2635873a7"
            }
          },
          "metadata": {}
        },
        {
          "output_type": "stream",
          "name": "stderr",
          "text": [
            "/usr/local/lib/python3.11/dist-packages/esm/pretrained.py:113: FutureWarning: You are using `torch.load` with `weights_only=False` (the current default value), which uses the default pickle module implicitly. It is possible to construct malicious pickle data which will execute arbitrary code during unpickling (See https://github.com/pytorch/pytorch/blob/main/SECURITY.md#untrusted-models for more details). In a future release, the default value for `weights_only` will be flipped to `True`. This limits the functions that could be executed during unpickling. Arbitrary objects will no longer be allowed to be loaded via this mode unless they are explicitly allowlisted by the user via `torch.serialization.add_safe_globals`. We recommend you start setting `weights_only=True` for any use case where you don't have full control of the loaded file. Please open an issue on GitHub for any issues related to this experimental feature.\n",
            "  state_dict = torch.load(\n"
          ]
        }
      ]
    },
    {
      "cell_type": "code",
      "source": [
        "import torch.nn as nn\n",
        "from esm.tokenization import InterProQuantizedTokenizer\n",
        "from esm.utils.types import FunctionAnnotation\n",
        "def get_keywords_from_interpro(\n",
        "    interpro_annotations,\n",
        "    interpro2keywords=InterProQuantizedTokenizer().interpro2keywords,\n",
        "):\n",
        "    keyword_annotations_list = []\n",
        "    for interpro_annotation in interpro_annotations:\n",
        "        keywords = interpro2keywords.get(interpro_annotation.label, [])\n",
        "        keyword_annotations_list.extend([\n",
        "            FunctionAnnotation(\n",
        "                label=keyword,\n",
        "                start=interpro_annotation.start,\n",
        "                end=interpro_annotation.end,\n",
        "            )\n",
        "            for keyword in keywords\n",
        "        ])\n",
        "    return keyword_annotations_list"
      ],
      "metadata": {
        "id": "sNzHH_40SM9N"
      },
      "execution_count": 40,
      "outputs": []
    },
    {
      "cell_type": "code",
      "source": [
        "#protein that only has one function?\n",
        "#longer sequences of all As, all Gs, or completely random\n",
        "def get_label_embedding(interpro_label,sequence):\n",
        "  hostProtein = ESMProtein(sequence=sequence)\n",
        "  embedding_function = model.encoder.function_embed\n",
        "  hostProtein.function_annotations = get_keywords_from_interpro([FunctionAnnotation(label=interpro_label, start=1, end=len(sequence))])\n",
        "  hostProtein_tensor = model.encode(hostProtein)\n",
        "  device = hostProtein_tensor.function.device  # Get the device of protein2_tensor.function\n",
        "  embedding_function = embedding_function.to(device)  # Move embedding_function to the device\n",
        "\n",
        "  function_embed = torch.cat(\n",
        "      [\n",
        "          embed_fn(funcs.to(device)) # Ensure funcs is on the same device\n",
        "          for embed_fn, funcs in zip(\n",
        "              embedding_function, hostProtein_tensor.function.unbind(-1)\n",
        "          )\n",
        "      ],\n",
        "      -1,\n",
        "  )\n",
        "\n",
        "  if function_embed.shape[0] >= 3:\n",
        "      row_sum = function_embed.sum(dim=0)  # Sum all rows\n",
        "      row_avg = row_sum / (function_embed.shape[0] - 2)  # Divide by (number of rows - 2)\n",
        "      row_avg_np = row_avg.cpu().detach().type(torch.float32).numpy()\n",
        "      return row_avg_np\n",
        "  else:\n",
        "      return None"
      ],
      "metadata": {
        "id": "CPBQ9St1P5NS"
      },
      "execution_count": 42,
      "outputs": []
    },
    {
      "cell_type": "code",
      "source": [
        "import numpy as np\n",
        "embedding_target_dict = {}  # Store the average embedding_target for each set of InterPro_ids_target\n",
        "\n",
        "for entry, interpro_ids in embeddings_dict.items():\n",
        "    # Check if the embedding_target for this set has already been calculated\n",
        "    if tuple(interpro_ids['InterPro_ids_target']) not in embedding_target_dict:\n",
        "        embeddings_target = []\n",
        "        for interpro_id in interpro_ids['InterPro_ids_target']:\n",
        "            embeddings_target.append(get_label_embedding(interpro_id, \"A\"))\n",
        "        avg_embedding_target = np.mean(embeddings_target, axis=0)\n",
        "        embedding_target_dict[tuple(interpro_ids['InterPro_ids_target'])] = avg_embedding_target\n",
        "    else:\n",
        "        avg_embedding_target = embedding_target_dict[tuple(interpro_ids['InterPro_ids_target'])]\n",
        "\n",
        "    embeddings_dict[entry]['embedding_target'] = avg_embedding_target\n",
        "\n",
        "    # Calculate embedding_original as before\n",
        "    embeddings_original = []\n",
        "    for interpro_id in interpro_ids['InterPro_ids_original']:\n",
        "        embeddings_original.append(get_label_embedding(interpro_id, \"A\"))\n",
        "    avg_embedding_original = np.mean(embeddings_original, axis=0)\n",
        "    embeddings_dict[entry]['embedding_original'] = avg_embedding_original"
      ],
      "metadata": {
        "id": "tAb3xFBbjujP"
      },
      "execution_count": null,
      "outputs": []
    },
    {
      "cell_type": "code",
      "source": [
        "first_key, first_value = next(iter(embeddings_dict.items()))\n",
        "print(first_key, first_value)"
      ],
      "metadata": {
        "id": "vqyqXu0KRYKE",
        "colab": {
          "base_uri": "https://localhost:8080/"
        },
        "outputId": "bc9042cf-7c44-4ccc-e731-22e988d21c45"
      },
      "execution_count": 50,
      "outputs": [
        {
          "output_type": "stream",
          "name": "stdout",
          "text": [
            "5R1U_1 {'InterPro_ids_target': ['IPR000015', 'IPR000018', 'IPR000021', 'IPR000025', 'IPR000044', 'IPR000045', 'IPR000046', 'IPR000057', 'IPR000060', 'IPR000066', 'IPR000068', 'IPR000072', 'IPR000076', 'IPR000105', 'IPR000109', 'IPR000112', 'IPR000133', 'IPR000136', 'IPR000141', 'IPR000142', 'IPR000144', 'IPR000147', 'IPR000154', 'IPR000155', 'IPR000161', 'IPR000162', 'IPR000163', 'IPR000174', 'IPR000175', 'IPR000189', 'IPR000190', 'IPR000202', 'IPR000204', 'IPR000207', 'IPR000223', 'IPR000248', 'IPR000265', 'IPR000272', 'IPR000276', 'IPR000283', 'IPR000292', 'IPR000293', 'IPR000298', 'IPR000301', 'IPR000314', 'IPR000321', 'IPR000332', 'IPR000333', 'IPR000337', 'IPR000344', 'IPR000351', 'IPR000353', 'IPR000355', 'IPR000356', 'IPR000363', 'IPR000366', 'IPR000369', 'IPR000370', 'IPR000371', 'IPR000374', 'IPR000376', 'IPR000378', 'IPR000382', 'IPR000388', 'IPR000390', 'IPR000393', 'IPR000405', 'IPR000412', 'IPR000425', 'IPR000431', 'IPR000434', 'IPR000452', 'IPR000460', 'IPR000462', 'IPR000466', 'IPR000472', 'IPR000481', 'IPR000482', 'IPR000496', 'IPR000498', 'IPR000499', 'IPR000503', 'IPR000507', 'IPR000515', 'IPR000516', 'IPR000522', 'IPR000537', 'IPR000539', 'IPR000549', 'IPR000576', 'IPR000579', 'IPR000586', 'IPR000596', 'IPR000599', 'IPR000609', 'IPR000611', 'IPR000612', 'IPR000620', 'IPR000621', 'IPR000622', 'IPR000628', 'IPR000670', 'IPR000680', 'IPR000681', 'IPR000699', 'IPR000708', 'IPR000715', 'IPR000720', 'IPR000723', 'IPR000725', 'IPR000732', 'IPR000735', 'IPR000761', 'IPR000778', 'IPR000791', 'IPR000802', 'IPR000810', 'IPR000817', 'IPR000820', 'IPR000826', 'IPR000829', 'IPR000830', 'IPR000832', 'IPR000844', 'IPR000848', 'IPR000849', 'IPR000883', 'IPR000913', 'IPR000920', 'IPR000921', 'IPR000932', 'IPR000935', 'IPR000973', 'IPR000984', 'IPR000986', 'IPR000987', 'IPR000998', 'IPR001003', 'IPR001004', 'IPR001013', 'IPR001036', 'IPR001046', 'IPR001050', 'IPR001053', 'IPR001056', 'IPR001065', 'IPR001068', 'IPR001069', 'IPR001105', 'IPR001108', 'IPR001112', 'IPR001115', 'IPR001116', 'IPR001123', 'IPR001129', 'IPR001136', 'IPR001151', 'IPR001168', 'IPR001170', 'IPR001171', 'IPR001182', 'IPR001184', 'IPR001185', 'IPR001186', 'IPR001187', 'IPR001190', 'IPR001193', 'IPR001195', 'IPR001204', 'IPR001224', 'IPR001231', 'IPR001234', 'IPR001244', 'IPR001248', 'IPR001256', 'IPR001277', 'IPR001280', 'IPR001285', 'IPR001320', 'IPR001344', 'IPR001350', 'IPR001355', 'IPR001358', 'IPR001382', 'IPR001388', 'IPR001390', 'IPR001391', 'IPR001397', 'IPR001402', 'IPR001414', 'IPR001416', 'IPR001418', 'IPR001420', 'IPR001425', 'IPR001426', 'IPR001435', 'IPR001446', 'IPR001458', 'IPR001463', 'IPR001475', 'IPR001481', 'IPR001493', 'IPR001499', 'IPR001503', 'IPR001504', 'IPR001508', 'IPR001512', 'IPR001513', 'IPR001521', 'IPR001546', 'IPR001548', 'IPR001551', 'IPR001556', 'IPR001560', 'IPR001565', 'IPR001571', 'IPR001577', 'IPR001614', 'IPR001634', 'IPR001642', 'IPR001644', 'IPR001658', 'IPR001671', 'IPR001681', 'IPR001686', 'IPR001688', 'IPR001694', 'IPR001702', 'IPR001708', 'IPR001712', 'IPR001717', 'IPR001718', 'IPR001733', 'IPR001734', 'IPR001735', 'IPR001740', 'IPR001743', 'IPR001749', 'IPR001757', 'IPR001758', 'IPR001760', 'IPR001771', 'IPR001774', 'IPR001779', 'IPR001786', 'IPR001793', 'IPR001799', 'IPR001807', 'IPR001817', 'IPR001851', 'IPR001856', 'IPR001860', 'IPR001872', 'IPR001873', 'IPR001879', 'IPR001883', 'IPR001893', 'IPR001897', 'IPR001898', 'IPR001901', 'IPR001902', 'IPR001905', 'IPR001908', 'IPR001922', 'IPR001923', 'IPR001927', 'IPR001933', 'IPR001946', 'IPR001953', 'IPR001966', 'IPR001970', 'IPR001972', 'IPR001973', 'IPR001991', 'IPR001992', 'IPR002000', 'IPR002001', 'IPR002002', 'IPR002010', 'IPR002011', 'IPR002031', 'IPR002033', 'IPR002062', 'IPR002074', 'IPR002076', 'IPR002090', 'IPR002120', 'IPR002122', 'IPR002126', 'IPR002131', 'IPR002144', 'IPR002153', 'IPR002159', 'IPR002170', 'IPR002175', 'IPR002184', 'IPR002191', 'IPR002206', 'IPR002208', 'IPR002230', 'IPR002232', 'IPR002233', 'IPR002234', 'IPR002235', 'IPR002236', 'IPR002237', 'IPR002238', 'IPR002239', 'IPR002240', 'IPR002242', 'IPR002243', 'IPR002244', 'IPR002245', 'IPR002246', 'IPR002247', 'IPR002248', 'IPR002249', 'IPR002250', 'IPR002251', 'IPR002258', 'IPR002259', 'IPR002272', 'IPR002273', 'IPR002274', 'IPR002275', 'IPR002276', 'IPR002277', 'IPR002278', 'IPR002279', 'IPR002280', 'IPR002281', 'IPR002282', 'IPR002284', 'IPR002285', 'IPR002289', 'IPR002293', 'IPR002299', 'IPR002361', 'IPR002362', 'IPR002368', 'IPR002394', 'IPR002396', 'IPR002429', 'IPR002434', 'IPR002435', 'IPR002436', 'IPR002439', 'IPR002440', 'IPR002441', 'IPR002442', 'IPR002443', 'IPR002444', 'IPR002445', 'IPR002455', 'IPR002456', 'IPR002457', 'IPR002516', 'IPR002523', 'IPR002524', 'IPR002528', 'IPR002552', 'IPR002567', 'IPR002574', 'IPR002610', 'IPR002621', 'IPR002657', 'IPR002659', 'IPR002666', 'IPR002682', 'IPR002685', 'IPR002751', 'IPR002758', 'IPR002771', 'IPR002781', 'IPR002794', 'IPR002797', 'IPR002809', 'IPR002825', 'IPR002896', 'IPR002944', 'IPR002945', 'IPR002948', 'IPR002956', 'IPR002958', 'IPR002959', 'IPR002960', 'IPR002961', 'IPR002962', 'IPR002977', 'IPR002978', 'IPR002979', 'IPR002980', 'IPR002981', 'IPR002982', 'IPR002983', 'IPR002984', 'IPR002987', 'IPR002994', 'IPR002995', 'IPR003020', 'IPR003024', 'IPR003028', 'IPR003038', 'IPR003044', 'IPR003045', 'IPR003046', 'IPR003047', 'IPR003048', 'IPR003049', 'IPR003050', 'IPR003051', 'IPR003052', 'IPR003053', 'IPR003056', 'IPR003092', 'IPR003110', 'IPR003187', 'IPR003192', 'IPR003211', 'IPR003263', 'IPR003269', 'IPR003270', 'IPR003271', 'IPR003272', 'IPR003273', 'IPR003274', 'IPR003275', 'IPR003276', 'IPR003277', 'IPR003278', 'IPR003279', 'IPR003280', 'IPR003287', 'IPR003288', 'IPR003289', 'IPR003290', 'IPR003291', 'IPR003292', 'IPR003298', 'IPR003317', 'IPR003334', 'IPR003342', 'IPR003352', 'IPR003359', 'IPR003372', 'IPR003373', 'IPR003378', 'IPR003392', 'IPR003394', 'IPR003398', 'IPR003406', 'IPR003416', 'IPR003418', 'IPR003425', 'IPR003440', 'IPR003452', 'IPR003457', 'IPR003474', 'IPR003492', 'IPR003510', 'IPR003524', 'IPR003528', 'IPR003529', 'IPR003530', 'IPR003531', 'IPR003532', 'IPR003543', 'IPR003544', 'IPR003557', 'IPR003566', 'IPR003567', 'IPR003568', 'IPR003569', 'IPR003570', 'IPR003605', 'IPR003644', 'IPR003660', 'IPR003663', 'IPR003667', 'IPR003674', 'IPR003675', 'IPR003684', 'IPR003686', 'IPR003688', 'IPR003689', 'IPR003691', 'IPR003705', 'IPR003706', 'IPR003752', 'IPR003763', 'IPR003780', 'IPR003820', 'IPR003824', 'IPR003825', 'IPR003834', 'IPR003838', 'IPR003841', 'IPR003844', 'IPR003852', 'IPR003855', 'IPR003856', 'IPR003864', 'IPR003873', 'IPR003895', 'IPR003904', 'IPR003905', 'IPR003906', 'IPR003907', 'IPR003908', 'IPR003909', 'IPR003910', 'IPR003912', 'IPR003915', 'IPR003919', 'IPR003920', 'IPR003921', 'IPR003924', 'IPR003929', 'IPR003930', 'IPR003932', 'IPR003933', 'IPR003934', 'IPR003935', 'IPR003936', 'IPR003937', 'IPR003938', 'IPR003943', 'IPR003944', 'IPR003947', 'IPR003948', 'IPR003949', 'IPR003950', 'IPR003967', 'IPR003976', 'IPR003980', 'IPR003981', 'IPR003982', 'IPR003983', 'IPR003984', 'IPR003985', 'IPR003986', 'IPR003987', 'IPR003988', 'IPR003989', 'IPR004031', 'IPR004032', 'IPR004047', 'IPR004059', 'IPR004060', 'IPR004061', 'IPR004062', 'IPR004063', 'IPR004064', 'IPR004065', 'IPR004066', 'IPR004067', 'IPR004068', 'IPR004069', 'IPR004070', 'IPR004071', 'IPR004072', 'IPR004073', 'IPR004089', 'IPR004090', 'IPR004117', 'IPR004131', 'IPR004151', 'IPR004156', 'IPR004178', 'IPR004213', 'IPR004240', 'IPR004254', 'IPR004282', 'IPR004307', 'IPR004316', 'IPR004324', 'IPR004326', 'IPR004338', 'IPR004342', 'IPR004350', 'IPR004387', 'IPR004445', 'IPR004471', 'IPR004485', 'IPR004488', 'IPR004501', 'IPR004513', 'IPR004552', 'IPR004563', 'IPR004570', 'IPR004630', 'IPR004633', 'IPR004634', 'IPR004638', 'IPR004657', 'IPR004667', 'IPR004668', 'IPR004669', 'IPR004670', 'IPR004671', 'IPR004673', 'IPR004679', 'IPR004680', 'IPR004681', 'IPR004684', 'IPR004685', 'IPR004686', 'IPR004687', 'IPR004690', 'IPR004692', 'IPR004694', 'IPR004695', 'IPR004696', 'IPR004698', 'IPR004699', 'IPR004700', 'IPR004701', 'IPR004702', 'IPR004703', 'IPR004704', 'IPR004705', 'IPR004706', 'IPR004707', 'IPR004709', 'IPR004711', 'IPR004713', 'IPR004715', 'IPR004718', 'IPR004719', 'IPR004724', 'IPR004725', 'IPR004726', 'IPR004734', 'IPR004736', 'IPR004737', 'IPR004738', 'IPR004740', 'IPR004741', 'IPR004742', 'IPR004743', 'IPR004745', 'IPR004746', 'IPR004747', 'IPR004748', 'IPR004749', 'IPR004750', 'IPR004752', 'IPR004754', 'IPR004755', 'IPR004756', 'IPR004759', 'IPR004760', 'IPR004761', 'IPR004762', 'IPR004763', 'IPR004764', 'IPR004765', 'IPR004766', 'IPR004768', 'IPR004770', 'IPR004771', 'IPR004772', 'IPR004773', 'IPR004775', 'IPR004776', 'IPR004777', 'IPR004778', 'IPR004779', 'IPR004796', 'IPR004797', 'IPR004801', 'IPR004812', 'IPR004817', 'IPR004836', 'IPR004837', 'IPR004840', 'IPR004841', 'IPR004842', 'IPR004847', 'IPR004869', 'IPR004878', 'IPR004891', 'IPR004923', 'IPR004932', 'IPR004933', 'IPR004937', 'IPR004938', 'IPR004960', 'IPR004961', 'IPR004965', 'IPR004995', 'IPR005016', 'IPR005027', 'IPR005041', 'IPR005045', 'IPR005052', 'IPR005074', 'IPR005076', 'IPR005150', 'IPR005171', 'IPR005199', 'IPR005254', 'IPR005267', 'IPR005279', 'IPR005281', 'IPR005283', 'IPR005284', 'IPR005285', 'IPR005292', 'IPR005318', 'IPR005331', 'IPR005344', 'IPR005349', 'IPR005352', 'IPR005372', 'IPR005382', 'IPR005383', 'IPR005384', 'IPR005385', 'IPR005386', 'IPR005387', 'IPR005388', 'IPR005389', 'IPR005390', 'IPR005391', 'IPR005392', 'IPR005393', 'IPR005394', 'IPR005395', 'IPR005396', 'IPR005397', 'IPR005400', 'IPR005401', 'IPR005402', 'IPR005403', 'IPR005404', 'IPR005405', 'IPR005406', 'IPR005407', 'IPR005408', 'IPR005409', 'IPR005410', 'IPR005424', 'IPR005425', 'IPR005426', 'IPR005431', 'IPR005432', 'IPR005433', 'IPR005434', 'IPR005435', 'IPR005436', 'IPR005437', 'IPR005438', 'IPR005439', 'IPR005440', 'IPR005457', 'IPR005458', 'IPR005459', 'IPR005460', 'IPR005461', 'IPR005462', 'IPR005463', 'IPR005464', 'IPR005466', 'IPR005495', 'IPR005496', 'IPR005538', 'IPR005610', 'IPR005628', 'IPR005666', 'IPR005667', 'IPR005670', 'IPR005701', 'IPR005719', 'IPR005744', 'IPR005773', 'IPR005775', 'IPR005782', 'IPR005797', 'IPR005798', 'IPR005805', 'IPR005807', 'IPR005821', 'IPR005828', 'IPR005829', 'IPR005837', 'IPR005838', 'IPR005865', 'IPR005866', 'IPR005868', 'IPR005869', 'IPR005889', 'IPR005890', 'IPR005892', 'IPR005897', 'IPR005898', 'IPR005899', 'IPR005936', 'IPR005947', 'IPR005964', 'IPR005968', 'IPR005978', 'IPR005981', 'IPR005984', 'IPR006008', 'IPR006011', 'IPR006012', 'IPR006028', 'IPR006029', 'IPR006042', 'IPR006043', 'IPR006052', 'IPR006053', 'IPR006135', 'IPR006136', 'IPR006143', 'IPR006144', 'IPR006153', 'IPR006201', 'IPR006202', 'IPR006213', 'IPR006216', 'IPR006241', 'IPR006243', 'IPR006244', 'IPR006290', 'IPR006301', 'IPR006302', 'IPR006303', 'IPR006304', 'IPR006305', 'IPR006306', 'IPR006307', 'IPR006312', 'IPR006327', 'IPR006332', 'IPR006333', 'IPR006369', 'IPR006370', 'IPR006391', 'IPR006408', 'IPR006413', 'IPR006414', 'IPR006415', 'IPR006419', 'IPR006469', 'IPR006470', 'IPR006471', 'IPR006534', 'IPR006539', 'IPR006544', 'IPR006581', 'IPR006614', 'IPR006634', 'IPR006639', 'IPR006644', 'IPR006664', 'IPR006669', 'IPR006685', 'IPR006686', 'IPR006690', 'IPR006741', 'IPR006757', 'IPR006782', 'IPR006813', 'IPR006838', 'IPR006859', 'IPR006875', 'IPR006884', 'IPR006916', 'IPR006918', 'IPR006977', 'IPR006985', 'IPR006990', 'IPR007007', 'IPR007049', 'IPR007059', 'IPR007078', 'IPR007173', 'IPR007203', 'IPR007208', 'IPR007223', 'IPR007226', 'IPR007227', 'IPR007237', 'IPR007246', 'IPR007248', 'IPR007265', 'IPR007267', 'IPR007269', 'IPR007271', 'IPR007273', 'IPR007274', 'IPR007277', 'IPR007288', 'IPR007313', 'IPR007329', 'IPR007341', 'IPR007369', 'IPR007428', 'IPR007430', 'IPR007441', 'IPR007554', 'IPR007568', 'IPR007593', 'IPR007594', 'IPR007653', 'IPR007676', 'IPR007704', 'IPR007705', 'IPR007720', 'IPR007734', 'IPR007735', 'IPR007743', 'IPR007746', 'IPR007754', 'IPR007763', 'IPR007764', 'IPR007775', 'IPR007820', 'IPR007826', 'IPR007866', 'IPR007875', 'IPR007880', 'IPR007905', 'IPR007943', 'IPR007960', 'IPR007961', 'IPR007977', 'IPR007992', 'IPR008001', 'IPR008006', 'IPR008028', 'IPR008056', 'IPR008057', 'IPR008058', 'IPR008059', 'IPR008060', 'IPR008061', 'IPR008062', 'IPR008063', 'IPR008073', 'IPR008074', 'IPR008077', 'IPR008078', 'IPR008083', 'IPR008093', 'IPR008096', 'IPR008098', 'IPR008099', 'IPR008100', 'IPR008101', 'IPR008102', 'IPR008103', 'IPR008104', 'IPR008109', 'IPR008112', 'IPR008128', 'IPR008129', 'IPR008130', 'IPR008131', 'IPR008132', 'IPR008133', 'IPR008134', 'IPR008155', 'IPR008158', 'IPR008253', 'IPR008276', 'IPR008294', 'IPR008297', 'IPR008337', 'IPR008338', 'IPR008344', 'IPR008345', 'IPR008346', 'IPR008347', 'IPR008348', 'IPR008355', 'IPR008358', 'IPR008359', 'IPR008361', 'IPR008362', 'IPR008365', 'IPR008368', 'IPR008369', 'IPR008370', 'IPR008371', 'IPR008372', 'IPR008399', 'IPR008400', 'IPR008414', 'IPR008417', 'IPR008424', 'IPR008429', 'IPR008431', 'IPR008457', 'IPR008485', 'IPR008504', 'IPR008509', 'IPR008521', 'IPR008523', 'IPR008564', 'IPR008568', 'IPR008602', 'IPR008608', 'IPR008630', 'IPR008652', 'IPR008657', 'IPR008661', 'IPR008690', 'IPR008691', 'IPR008710', 'IPR008795', 'IPR008814', 'IPR008818', 'IPR008819', 'IPR008820', 'IPR008821', 'IPR008837', 'IPR008844', 'IPR008855', 'IPR008856', 'IPR008882', 'IPR008892', 'IPR008896', 'IPR008901', 'IPR008952', 'IPR009119', 'IPR009120', 'IPR009121', 'IPR009122', 'IPR009126', 'IPR009132', 'IPR009133', 'IPR009136', 'IPR009138', 'IPR009147', 'IPR009150', 'IPR009152', 'IPR009154', 'IPR009160', 'IPR009167', 'IPR009248', 'IPR009262', 'IPR009281', 'IPR009294', 'IPR009311', 'IPR009315', 'IPR009316', 'IPR009318', 'IPR009379', 'IPR009388', 'IPR009431', 'IPR009433', 'IPR009447', 'IPR009450', 'IPR009455', 'IPR009460', 'IPR009471', 'IPR009518', 'IPR009539', 'IPR009542', 'IPR009582', 'IPR009600', 'IPR009621', 'IPR009635', 'IPR009637', 'IPR009716', 'IPR009729', 'IPR009779', 'IPR009825', 'IPR009834', 'IPR009861', 'IPR009887', 'IPR009896', 'IPR009908', 'IPR009980', 'IPR010065', 'IPR010067', 'IPR010101', 'IPR010128', 'IPR010129', 'IPR010131', 'IPR010132', 'IPR010200', 'IPR010201', 'IPR010204', 'IPR010205', 'IPR010208', 'IPR010226', 'IPR010245', 'IPR010278', 'IPR010284', 'IPR010288', 'IPR010379', 'IPR010407', 'IPR010423', 'IPR010435', 'IPR010514', 'IPR010548', 'IPR010559', 'IPR010560', 'IPR010574', 'IPR010599', 'IPR010635', 'IPR010651', 'IPR010660', 'IPR010691', 'IPR010761', 'IPR010771', 'IPR010798', 'IPR010826', 'IPR010901', 'IPR010929', 'IPR010966', 'IPR010967', 'IPR010968', 'IPR010973', 'IPR010974', 'IPR010989', 'IPR011014', 'IPR011066', 'IPR011115', 'IPR011116', 'IPR011130', 'IPR011163', 'IPR011176', 'IPR011248', 'IPR011265', 'IPR011296', 'IPR011299', 'IPR011303', 'IPR011307', 'IPR011365', 'IPR011388', 'IPR011399', 'IPR011402', 'IPR011527', 'IPR011531', 'IPR011546', 'IPR011547', 'IPR011552', 'IPR011577', 'IPR011618', 'IPR011620', 'IPR011638', 'IPR011640', 'IPR011651', 'IPR011653', 'IPR011656', 'IPR011691', 'IPR011712', 'IPR011759', 'IPR011799', 'IPR011812', 'IPR011849', 'IPR011851', 'IPR011864', 'IPR011867', 'IPR011868', 'IPR011885', 'IPR011917', 'IPR011919', 'IPR011920', 'IPR011921', 'IPR011922', 'IPR011923', 'IPR011924', 'IPR011925', 'IPR011926', 'IPR011937', 'IPR011988', 'IPR012049', 'IPR012105', 'IPR012136', 'IPR012218', 'IPR012315', 'IPR012358', 'IPR012392', 'IPR012404', 'IPR012466', 'IPR012493', 'IPR012496', 'IPR012506', 'IPR012549', 'IPR012556', 'IPR012560', 'IPR012561', 'IPR012597', 'IPR012681', 'IPR012693', 'IPR012750', 'IPR012826', 'IPR012858', 'IPR012897', 'IPR012926', 'IPR013082', 'IPR013305', 'IPR013312', 'IPR013313', 'IPR013347', 'IPR013437', 'IPR013455', 'IPR013525', 'IPR013601', 'IPR013604', 'IPR013695', 'IPR013698', 'IPR013769', 'IPR013803', 'IPR013833', 'IPR013861', 'IPR013928', 'IPR014116', 'IPR014157', 'IPR014161', 'IPR014163', 'IPR014164', 'IPR014168', 'IPR014170', 'IPR014171', 'IPR014172', 'IPR014210', 'IPR014216', 'IPR014222', 'IPR014223', 'IPR014233', 'IPR014246', 'IPR014250', 'IPR014302', 'IPR014310', 'IPR014312', 'IPR014353', 'IPR014409', 'IPR014430', 'IPR014551', 'IPR014739', 'IPR014740', 'IPR014745', 'IPR015013', 'IPR015014', 'IPR015059', 'IPR015127', 'IPR015149', 'IPR015169', 'IPR015260', 'IPR015319', 'IPR015338', 'IPR015386', 'IPR015414', 'IPR015449', 'IPR015631', 'IPR015771', 'IPR015827', 'IPR015853', 'IPR015856', 'IPR015860', 'IPR015919', 'IPR015993', 'IPR016174', 'IPR016235', 'IPR016244', 'IPR016245', 'IPR016246', 'IPR016248', 'IPR016251', 'IPR016373', 'IPR016380', 'IPR016408', 'IPR016449', 'IPR016574', 'IPR016636', 'IPR016707', 'IPR016710', 'IPR016975', 'IPR017051', 'IPR017079', 'IPR017092', 'IPR017157', 'IPR017194', 'IPR017202', 'IPR017213', 'IPR017241', 'IPR017360', 'IPR017402', 'IPR017452', 'IPR017472', 'IPR017486', 'IPR017511', 'IPR017512', 'IPR017571', 'IPR017572', 'IPR017588', 'IPR017636', 'IPR017661', 'IPR017705', 'IPR017753', 'IPR017790', 'IPR017807', 'IPR017879', 'IPR017978', 'IPR017979', 'IPR017981', 'IPR018006', 'IPR018011', 'IPR018024', 'IPR018043', 'IPR018047', 'IPR018084', 'IPR018086', 'IPR018229', 'IPR018241', 'IPR018270', 'IPR018295', 'IPR018365', 'IPR018383', 'IPR018385', 'IPR018395', 'IPR018396', 'IPR018410', 'IPR018422', 'IPR018448', 'IPR018456', 'IPR018460', 'IPR018461', 'IPR018469', 'IPR018491', 'IPR018495', 'IPR018498', 'IPR018499', 'IPR018503', 'IPR018513', 'IPR018604', 'IPR018629', 'IPR018732', 'IPR018764', 'IPR018801', 'IPR018938', 'IPR019017', 'IPR019029', 'IPR019365', 'IPR019594', 'IPR019756', 'IPR019757', 'IPR019758', 'IPR019765', 'IPR019957', 'IPR019998', 'IPR020155', 'IPR020368', 'IPR020411', 'IPR020513', 'IPR020693', 'IPR020775', 'IPR020776', 'IPR020781', 'IPR020849', 'IPR020874', 'IPR020903', 'IPR020937', 'IPR020959', 'IPR020963', 'IPR020969', 'IPR021015', 'IPR021050', 'IPR021082', 'IPR021091', 'IPR021522', 'IPR021532', 'IPR021910', 'IPR022308', 'IPR022324', 'IPR022335', 'IPR022339', 'IPR022347', 'IPR022348', 'IPR022369', 'IPR022416', 'IPR022457', 'IPR022535', 'IPR022732', 'IPR022764', 'IPR022781', 'IPR023060', 'IPR023449', 'IPR023517', 'IPR023597', 'IPR023599', 'IPR023601', 'IPR023662', 'IPR023680', 'IPR023690', 'IPR023691', 'IPR023726', 'IPR023729', 'IPR023743', 'IPR023754', 'IPR023755', 'IPR023760', 'IPR023762', 'IPR023783', 'IPR023838', 'IPR023954', 'IPR023960', 'IPR023999', 'IPR024041', 'IPR024371', 'IPR024717', 'IPR024791', 'IPR024862', 'IPR024919', 'IPR024921', 'IPR025940', 'IPR025958', 'IPR026030', 'IPR026082', 'IPR026221', 'IPR026228', 'IPR026230', 'IPR026232', 'IPR026233', 'IPR026234', 'IPR026252', 'IPR026355', 'IPR026919', 'IPR027256', 'IPR027272', 'IPR027294', 'IPR027336', 'IPR027435', 'IPR027659', 'IPR027669', 'IPR027917', 'IPR028070', 'IPR028181', 'IPR028337', 'IPR028338', 'IPR029238', 'IPR029372', 'IPR029589', 'IPR029636', 'IPR030050', 'IPR030055', 'IPR030182', 'IPR030183', 'IPR030184', 'IPR030185', 'IPR030189', 'IPR030191', 'IPR030192', 'IPR030240', 'IPR030254', 'IPR030541', 'IPR030687', 'IPR030856', 'IPR030858', 'IPR030873', 'IPR031155', 'IPR032700', 'IPR032895', 'IPR033280', 'IPR033481', 'IPR033539', 'IPR033549', 'IPR033900', 'IPR034703', 'IPR034764', 'IPR034804', 'IPR035288', 'IPR035463', 'IPR035689', 'IPR035973', 'IPR035982', 'IPR036001', 'IPR036026', 'IPR036122', 'IPR036150', 'IPR036445', 'IPR036458', 'IPR036541', 'IPR036613', 'IPR036640', 'IPR036662', 'IPR036670', 'IPR036719', 'IPR036734', 'IPR036772', 'IPR036863', 'IPR036924', 'IPR036945', 'IPR036998', 'IPR037065', 'IPR037071', 'IPR037413', 'IPR037671', 'IPR037936', 'IPR038978', 'IPR039032', 'IPR039090', 'IPR039672', 'IPR039680', 'IPR039972', 'IPR042379', 'IPR042454', 'IPR042472', 'IPR042473', 'IPR043315', 'IPR043406', 'IPR043429', 'IPR043506', 'IPR044377', 'IPR044379', 'IPR044783', 'IPR044991', 'IPR045120', 'IPR045225', 'IPR045915', 'IPR047818', 'IPR047846', 'IPR048259', 'IPR048260'], 'InterPro_ids_original': ['IPR034163', ' IPR021109', ' IPR001461', ' IPR001969'], 'embedding_target': array([-0.02424946,  0.08652738,  0.03575097, ...,  0.0090877 ,\n",
            "       -0.02586079, -0.008005  ], dtype=float32), 'embedding_original': array([0., 0., 0., ..., 0., 0., 0.], dtype=float32)}\n"
          ]
        }
      ]
    },
    {
      "cell_type": "code",
      "source": [
        "def embedding_masking_model(\n",
        "    prompt,\n",
        "    model,\n",
        "    df,\n",
        "    embeddings_dict,\n",
        "    percentage=10,\n",
        "):\n",
        "    \"\"\"\n",
        "    Helper function to process a protein sequence, calculate similarities,\n",
        "    and return indices for masking.\n",
        "\n",
        "    Args:\n",
        "        prompt (str): The protein sequence to be processed.\n",
        "        model: The model used for protein generation and embeddings.\n",
        "        df (pd.DataFrame): DataFrame containing protein data.\n",
        "        embeddings_dict (dict): Dictionary storing embeddings and other details.\n",
        "\n",
        "    Returns:\n",
        "        List[int]: Indices used for masking in the sequence.\n",
        "    \"\"\"\n",
        "    # Create an ESMProtein object\n",
        "    protein = ESMProtein(sequence=prompt)\n",
        "\n",
        "    # Configure the model for generation\n",
        "    generation_config = GenerationConfig(track=\"function\", num_steps=8)\n",
        "\n",
        "    # Generate the protein\n",
        "    generated_protein = model.generate(protein, generation_config)\n",
        "\n",
        "    # Check if function annotations are available\n",
        "    entry = df.loc[df['sequence'] == prompt, 'Protein Accession'].iloc[0]\n",
        "    if generated_protein.function_annotations is None:\n",
        "        embeddings_dict[entry]['hamming_distance'] = None\n",
        "        return []\n",
        "\n",
        "    # Getting embedding for the protein\n",
        "    protein_tensor = model.encode(generated_protein)\n",
        "    embedding_function = model.encoder.function_embed\n",
        "    device = protein_tensor.function.device  # Get the device of protein_tensor.function\n",
        "    embedding_function = embedding_function.to(device)  # Move embedding_function to the device\n",
        "\n",
        "    function_embed = torch.cat(\n",
        "        [\n",
        "            embed_fn(funcs.to(device))  # Ensure funcs is on the same device\n",
        "            for embed_fn, funcs in zip(\n",
        "                embedding_function, protein_tensor.function.unbind(-1)\n",
        "            )\n",
        "        ],\n",
        "        -1,\n",
        "    )\n",
        "\n",
        "    # Exclude start and end tokens\n",
        "    function_embed = function_embed[1:-1, :]\n",
        "\n",
        "    # Convert the protein_tensor.function to a NumPy array\n",
        "    protein_np = function_embed.cpu().detach().type(torch.float32).numpy()\n",
        "\n",
        "    # Retrieve embedding for target function's InterPro IDs (target function = function we're trying to add in addition to, not in place of, original)\n",
        "    embedding_target = embeddings_dict[entry]['embedding_target']\n",
        "\n",
        "    # Retrieve embedding for original function's InterPro IDs\n",
        "    embedding_original = embeddings_dict[entry]['embedding_original']\n",
        "\n",
        "    # Calculate cosine similarity\n",
        "    similarities_target = cosine_similarity(protein_np, embedding_target.reshape(1, -1))\n",
        "    similarities_original = cosine_similarity(protein_np, embedding_original.reshape(1, -1))\n",
        "\n",
        "    # Get ranks for similarity from highest similarity to lowest similarity\n",
        "    ranks_target = np.argsort(similarities_target.flatten())[::-1]\n",
        "    ranks_original = np.argsort(similarities_original.flatten())[::-1]\n",
        "\n",
        "    #Get number of indices to mask\n",
        "    num_indices = int(len(prompt) * percentage / 100)\n",
        "\n",
        "    # Ensure we select at least 1 index\n",
        "    num_indices = max(1, num_indices)\n",
        "\n",
        "    # Sum ranks and find top 10 indices with lowest (largest) rank\n",
        "    ranks = ranks_target + ranks_original\n",
        "    num_negated = -1*num_indices\n",
        "    indices = np.argsort(ranks)[num_negated:]\n",
        "\n",
        "    # Store the indices in the embeddings_dict\n",
        "    embeddings_dict[entry]['indices'] = indices.tolist()\n",
        "\n",
        "    return indices.tolist()"
      ],
      "metadata": {
        "id": "xVy8aX3ikCZU"
      },
      "execution_count": null,
      "outputs": []
    },
    {
      "cell_type": "code",
      "source": [
        "def get_random_indices(prompt, percentage):\n",
        "    \"\"\"\n",
        "    Randomly select indices to mask based on the percentage of the prompt's length.\n",
        "    \"\"\"\n",
        "    num_indices = int(len(prompt) * percentage / 100)\n",
        "    # Ensure we select at least one index\n",
        "    num_indices = max(1, num_indices)\n",
        "\n",
        "    # Randomly select unique indices to mask\n",
        "    return random.sample(range(len(prompt)), num_indices)"
      ],
      "metadata": {
        "id": "eR7TIDhsmbZb"
      },
      "execution_count": null,
      "outputs": []
    },
    {
      "cell_type": "code",
      "source": [
        "for idx, prompt in enumerate(df['sequence']):\n",
        "  try:\n",
        "    random_indices = get_random_indices(prompt, 8)\n",
        "    # Replace locations in prompt corresponding to indices in 'indices' with \"_\"\n",
        "    target_seq = df.loc[df['sequence'] == prompt, 'sequence'].iloc[0]\n",
        "    entry = df.loc[df['sequence'] == prompt, 'Protein Accession'].iloc[0]\n",
        "    if entry not in embeddings_dict:\n",
        "        continue\n",
        "    for method in ['embedding', 'random']:\n",
        "      if method == 'embedding':\n",
        "        indices = embedding_masking_model(prompt, model, df, embeddings_dict,percentage=8)\n",
        "        if not indices:\n",
        "          continue\n",
        "      elif method == 'random':\n",
        "        indices = get_random_indices(prompt, 8)\n",
        "      modified_prompt = list(prompt)\n",
        "      for index in indices:\n",
        "          modified_prompt[index] = \"_\"\n",
        "      modified_prompt = \"\".join(modified_prompt)\n",
        "      protein_prompt = ESMProtein(sequence=modified_prompt)\n",
        "      sequence_generation = model.generate(\n",
        "          protein_prompt,\n",
        "          GenerationConfig(\n",
        "              track=\"sequence\",\n",
        "              num_steps=protein_prompt.sequence.count(\"_\") // 2,\n",
        "              temperature=0.5,\n",
        "          ),\n",
        "      )\n",
        "      # print(\"Generated Sequence: \" + str(sequence_generation.sequence))\n",
        "      generated_sequence = sequence_generation.sequence\n",
        "      # print(\"Target Sequence: \" + str(target_seq))\n",
        "      # Ensure sequences are of equal length\n",
        "      if len(generated_sequence) != len(target_seq):\n",
        "          raise ValueError(\"Sequences must be of the same length to calculate Hamming distance.\")\n",
        "\n",
        "      # Calculate Hamming distance\n",
        "      hamming_distance = sum(1 for gen, target in zip(generated_sequence, target_seq) if gen != target)\n",
        "\n",
        "      # Print results\n",
        "      print(f'Index {idx}: {method} Hamming Distance:', hamming_distance)\n",
        "      embeddings_dict[entry][f'{method}_hamming_distance'] = hamming_distance\n",
        "      torch.cuda.empty_cache()\n",
        "  except Exception as e:\n",
        "    print(f\"An error occurred for index {idx}: {e}\")\n",
        "    continue"
      ],
      "metadata": {
        "colab": {
          "base_uri": "https://localhost:8080/"
        },
        "id": "d_8iZ-eFS2PI",
        "outputId": "4e76c608-6945-4fe0-f037-3ed6dea4dbbb"
      },
      "execution_count": null,
      "outputs": [
        {
          "output_type": "stream",
          "name": "stderr",
          "text": [
            "100%|██████████| 8/8 [00:00<00:00, 13.04it/s]\n",
            "100%|██████████| 9/9 [00:00<00:00, 13.46it/s]\n"
          ]
        },
        {
          "output_type": "stream",
          "name": "stdout",
          "text": [
            "Index 0: random Hamming Distance: 25\n"
          ]
        },
        {
          "output_type": "stream",
          "name": "stderr",
          "text": [
            "100%|██████████| 8/8 [00:00<00:00, 13.23it/s]\n",
            "100%|██████████| 14/14 [00:01<00:00, 12.96it/s]\n"
          ]
        },
        {
          "output_type": "stream",
          "name": "stdout",
          "text": [
            "Index 1: embedding Hamming Distance: 43\n"
          ]
        },
        {
          "output_type": "stream",
          "name": "stderr",
          "text": [
            "100%|██████████| 14/14 [00:01<00:00, 13.27it/s]\n"
          ]
        },
        {
          "output_type": "stream",
          "name": "stdout",
          "text": [
            "Index 1: random Hamming Distance: 29\n"
          ]
        },
        {
          "output_type": "stream",
          "name": "stderr",
          "text": [
            "100%|██████████| 8/8 [00:00<00:00, 13.50it/s]\n",
            "100%|██████████| 23/23 [00:01<00:00, 12.92it/s]\n"
          ]
        },
        {
          "output_type": "stream",
          "name": "stdout",
          "text": [
            "Index 2: embedding Hamming Distance: 165\n"
          ]
        },
        {
          "output_type": "stream",
          "name": "stderr",
          "text": [
            "100%|██████████| 23/23 [00:01<00:00, 13.46it/s]\n"
          ]
        },
        {
          "output_type": "stream",
          "name": "stdout",
          "text": [
            "Index 2: random Hamming Distance: 156\n"
          ]
        },
        {
          "output_type": "stream",
          "name": "stderr",
          "text": [
            "100%|██████████| 8/8 [00:00<00:00, 13.09it/s]\n",
            "100%|██████████| 10/10 [00:00<00:00, 13.21it/s]\n"
          ]
        },
        {
          "output_type": "stream",
          "name": "stdout",
          "text": [
            "Index 3: random Hamming Distance: 20\n"
          ]
        },
        {
          "output_type": "stream",
          "name": "stderr",
          "text": [
            "100%|██████████| 8/8 [00:00<00:00, 13.16it/s]\n",
            "100%|██████████| 8/8 [00:00<00:00, 12.58it/s]\n"
          ]
        },
        {
          "output_type": "stream",
          "name": "stdout",
          "text": [
            "Index 4: embedding Hamming Distance: 80\n"
          ]
        },
        {
          "output_type": "stream",
          "name": "stderr",
          "text": [
            "100%|██████████| 8/8 [00:00<00:00, 13.16it/s]\n"
          ]
        },
        {
          "output_type": "stream",
          "name": "stdout",
          "text": [
            "Index 4: random Hamming Distance: 84\n"
          ]
        },
        {
          "output_type": "stream",
          "name": "stderr",
          "text": [
            "100%|██████████| 8/8 [00:00<00:00, 12.81it/s]\n",
            "100%|██████████| 16/16 [00:01<00:00, 12.30it/s]\n"
          ]
        },
        {
          "output_type": "stream",
          "name": "stdout",
          "text": [
            "Index 5: embedding Hamming Distance: 32\n"
          ]
        },
        {
          "output_type": "stream",
          "name": "stderr",
          "text": [
            "100%|██████████| 16/16 [00:01<00:00, 13.40it/s]\n"
          ]
        },
        {
          "output_type": "stream",
          "name": "stdout",
          "text": [
            "Index 5: random Hamming Distance: 32\n"
          ]
        },
        {
          "output_type": "stream",
          "name": "stderr",
          "text": [
            "100%|██████████| 8/8 [00:00<00:00, 13.44it/s]\n",
            "100%|██████████| 6/6 [00:00<00:00, 12.71it/s]\n"
          ]
        },
        {
          "output_type": "stream",
          "name": "stdout",
          "text": [
            "Index 6: embedding Hamming Distance: 59\n"
          ]
        },
        {
          "output_type": "stream",
          "name": "stderr",
          "text": [
            "100%|██████████| 6/6 [00:00<00:00, 13.13it/s]\n"
          ]
        },
        {
          "output_type": "stream",
          "name": "stdout",
          "text": [
            "Index 6: random Hamming Distance: 63\n"
          ]
        },
        {
          "output_type": "stream",
          "name": "stderr",
          "text": [
            "100%|██████████| 8/8 [00:00<00:00, 13.23it/s]\n",
            "100%|██████████| 17/17 [00:01<00:00, 13.23it/s]\n"
          ]
        },
        {
          "output_type": "stream",
          "name": "stdout",
          "text": [
            "Index 7: embedding Hamming Distance: 209\n"
          ]
        },
        {
          "output_type": "stream",
          "name": "stderr",
          "text": [
            "100%|██████████| 17/17 [00:01<00:00, 13.61it/s]\n"
          ]
        },
        {
          "output_type": "stream",
          "name": "stdout",
          "text": [
            "Index 7: random Hamming Distance: 205\n"
          ]
        },
        {
          "output_type": "stream",
          "name": "stderr",
          "text": [
            "100%|██████████| 8/8 [00:00<00:00, 13.11it/s]\n",
            "100%|██████████| 14/14 [00:01<00:00, 12.95it/s]\n"
          ]
        },
        {
          "output_type": "stream",
          "name": "stdout",
          "text": [
            "Index 8: embedding Hamming Distance: 186\n"
          ]
        },
        {
          "output_type": "stream",
          "name": "stderr",
          "text": [
            "100%|██████████| 14/14 [00:01<00:00, 13.41it/s]\n"
          ]
        },
        {
          "output_type": "stream",
          "name": "stdout",
          "text": [
            "Index 8: random Hamming Distance: 189\n"
          ]
        },
        {
          "output_type": "stream",
          "name": "stderr",
          "text": [
            "100%|██████████| 8/8 [00:00<00:00, 13.35it/s]\n",
            "100%|██████████| 7/7 [00:00<00:00, 12.74it/s]\n"
          ]
        },
        {
          "output_type": "stream",
          "name": "stdout",
          "text": [
            "Index 9: embedding Hamming Distance: 73\n"
          ]
        },
        {
          "output_type": "stream",
          "name": "stderr",
          "text": [
            "100%|██████████| 7/7 [00:00<00:00, 13.03it/s]\n"
          ]
        },
        {
          "output_type": "stream",
          "name": "stdout",
          "text": [
            "Index 9: random Hamming Distance: 79\n"
          ]
        },
        {
          "output_type": "stream",
          "name": "stderr",
          "text": [
            "100%|██████████| 8/8 [00:00<00:00, 13.32it/s]\n",
            "100%|██████████| 16/16 [00:01<00:00, 13.16it/s]\n"
          ]
        },
        {
          "output_type": "stream",
          "name": "stdout",
          "text": [
            "Index 10: embedding Hamming Distance: 23\n"
          ]
        },
        {
          "output_type": "stream",
          "name": "stderr",
          "text": [
            "100%|██████████| 16/16 [00:01<00:00, 13.34it/s]\n"
          ]
        },
        {
          "output_type": "stream",
          "name": "stdout",
          "text": [
            "Index 10: random Hamming Distance: 17\n"
          ]
        },
        {
          "output_type": "stream",
          "name": "stderr",
          "text": [
            "100%|██████████| 8/8 [00:01<00:00,  7.77it/s]\n",
            "100%|██████████| 52/52 [00:06<00:00,  7.72it/s]\n"
          ]
        },
        {
          "output_type": "stream",
          "name": "stdout",
          "text": [
            "Index 11: embedding Hamming Distance: 243\n"
          ]
        },
        {
          "output_type": "stream",
          "name": "stderr",
          "text": [
            "100%|██████████| 52/52 [00:06<00:00,  7.78it/s]\n"
          ]
        },
        {
          "output_type": "stream",
          "name": "stdout",
          "text": [
            "Index 11: random Hamming Distance: 225\n"
          ]
        },
        {
          "output_type": "stream",
          "name": "stderr",
          "text": [
            "100%|██████████| 8/8 [00:00<00:00, 12.96it/s]\n",
            "100%|██████████| 33/33 [00:02<00:00, 13.33it/s]\n"
          ]
        },
        {
          "output_type": "stream",
          "name": "stdout",
          "text": [
            "Index 12: random Hamming Distance: 347\n"
          ]
        },
        {
          "output_type": "stream",
          "name": "stderr",
          "text": [
            "100%|██████████| 8/8 [00:00<00:00, 13.22it/s]\n",
            "100%|██████████| 4/4 [00:00<00:00, 12.40it/s]\n"
          ]
        },
        {
          "output_type": "stream",
          "name": "stdout",
          "text": [
            "Index 13: embedding Hamming Distance: 22\n"
          ]
        },
        {
          "output_type": "stream",
          "name": "stderr",
          "text": [
            "100%|██████████| 4/4 [00:00<00:00, 13.29it/s]\n"
          ]
        },
        {
          "output_type": "stream",
          "name": "stdout",
          "text": [
            "Index 13: random Hamming Distance: 22\n"
          ]
        },
        {
          "output_type": "stream",
          "name": "stderr",
          "text": [
            "100%|██████████| 8/8 [00:00<00:00, 13.29it/s]\n",
            "100%|██████████| 31/31 [00:02<00:00, 13.23it/s]\n"
          ]
        },
        {
          "output_type": "stream",
          "name": "stdout",
          "text": [
            "Index 14: embedding Hamming Distance: 75\n"
          ]
        },
        {
          "output_type": "stream",
          "name": "stderr",
          "text": [
            "100%|██████████| 31/31 [00:02<00:00, 13.19it/s]\n"
          ]
        },
        {
          "output_type": "stream",
          "name": "stdout",
          "text": [
            "Index 14: random Hamming Distance: 67\n"
          ]
        },
        {
          "output_type": "stream",
          "name": "stderr",
          "text": [
            "100%|██████████| 8/8 [00:00<00:00, 13.15it/s]\n",
            "100%|██████████| 12/12 [00:00<00:00, 12.97it/s]\n"
          ]
        },
        {
          "output_type": "stream",
          "name": "stdout",
          "text": [
            "Index 15: embedding Hamming Distance: 34\n"
          ]
        },
        {
          "output_type": "stream",
          "name": "stderr",
          "text": [
            "100%|██████████| 12/12 [00:00<00:00, 13.29it/s]\n"
          ]
        },
        {
          "output_type": "stream",
          "name": "stdout",
          "text": [
            "Index 15: random Hamming Distance: 38\n"
          ]
        },
        {
          "output_type": "stream",
          "name": "stderr",
          "text": [
            "100%|██████████| 8/8 [00:00<00:00, 12.94it/s]\n",
            "100%|██████████| 17/17 [00:01<00:00, 13.33it/s]\n"
          ]
        },
        {
          "output_type": "stream",
          "name": "stdout",
          "text": [
            "Index 16: embedding Hamming Distance: 89\n"
          ]
        },
        {
          "output_type": "stream",
          "name": "stderr",
          "text": [
            "100%|██████████| 17/17 [00:01<00:00, 13.03it/s]\n"
          ]
        },
        {
          "output_type": "stream",
          "name": "stdout",
          "text": [
            "Index 16: random Hamming Distance: 85\n"
          ]
        },
        {
          "output_type": "stream",
          "name": "stderr",
          "text": [
            "100%|██████████| 8/8 [00:00<00:00, 13.07it/s]\n",
            "100%|██████████| 8/8 [00:00<00:00, 12.81it/s]\n"
          ]
        },
        {
          "output_type": "stream",
          "name": "stdout",
          "text": [
            "Index 17: embedding Hamming Distance: 58\n"
          ]
        },
        {
          "output_type": "stream",
          "name": "stderr",
          "text": [
            "100%|██████████| 8/8 [00:00<00:00, 13.14it/s]\n"
          ]
        },
        {
          "output_type": "stream",
          "name": "stdout",
          "text": [
            "Index 17: random Hamming Distance: 58\n"
          ]
        },
        {
          "output_type": "stream",
          "name": "stderr",
          "text": [
            "100%|██████████| 8/8 [00:01<00:00,  7.39it/s]\n",
            "100%|██████████| 55/55 [00:07<00:00,  7.41it/s]\n"
          ]
        },
        {
          "output_type": "stream",
          "name": "stdout",
          "text": [
            "Index 18: embedding Hamming Distance: 161\n"
          ]
        },
        {
          "output_type": "stream",
          "name": "stderr",
          "text": [
            "100%|██████████| 55/55 [00:07<00:00,  7.27it/s]\n"
          ]
        },
        {
          "output_type": "stream",
          "name": "stdout",
          "text": [
            "Index 18: random Hamming Distance: 159\n"
          ]
        },
        {
          "output_type": "stream",
          "name": "stderr",
          "text": [
            "100%|██████████| 8/8 [00:00<00:00, 12.95it/s]\n",
            "100%|██████████| 16/16 [00:01<00:00, 13.21it/s]\n"
          ]
        },
        {
          "output_type": "stream",
          "name": "stdout",
          "text": [
            "Index 19: embedding Hamming Distance: 281\n"
          ]
        },
        {
          "output_type": "stream",
          "name": "stderr",
          "text": [
            "100%|██████████| 16/16 [00:01<00:00, 13.45it/s]\n"
          ]
        },
        {
          "output_type": "stream",
          "name": "stdout",
          "text": [
            "Index 19: random Hamming Distance: 265\n"
          ]
        },
        {
          "output_type": "stream",
          "name": "stderr",
          "text": [
            "100%|██████████| 8/8 [00:00<00:00, 13.14it/s]\n",
            "100%|██████████| 8/8 [00:00<00:00, 12.63it/s]\n"
          ]
        },
        {
          "output_type": "stream",
          "name": "stdout",
          "text": [
            "Index 20: embedding Hamming Distance: 49\n"
          ]
        },
        {
          "output_type": "stream",
          "name": "stderr",
          "text": [
            "100%|██████████| 8/8 [00:00<00:00, 13.25it/s]\n"
          ]
        },
        {
          "output_type": "stream",
          "name": "stdout",
          "text": [
            "Index 20: random Hamming Distance: 44\n"
          ]
        },
        {
          "output_type": "stream",
          "name": "stderr",
          "text": [
            "100%|██████████| 8/8 [00:00<00:00, 13.07it/s]\n",
            "100%|██████████| 15/15 [00:01<00:00, 13.09it/s]\n"
          ]
        },
        {
          "output_type": "stream",
          "name": "stdout",
          "text": [
            "Index 21: embedding Hamming Distance: 81\n"
          ]
        },
        {
          "output_type": "stream",
          "name": "stderr",
          "text": [
            "100%|██████████| 15/15 [00:01<00:00, 13.48it/s]\n"
          ]
        },
        {
          "output_type": "stream",
          "name": "stdout",
          "text": [
            "Index 21: random Hamming Distance: 75\n"
          ]
        },
        {
          "output_type": "stream",
          "name": "stderr",
          "text": [
            "100%|██████████| 8/8 [00:00<00:00, 12.93it/s]\n",
            "100%|██████████| 11/11 [00:00<00:00, 12.96it/s]\n"
          ]
        },
        {
          "output_type": "stream",
          "name": "stdout",
          "text": [
            "Index 22: embedding Hamming Distance: 47\n"
          ]
        },
        {
          "output_type": "stream",
          "name": "stderr",
          "text": [
            "100%|██████████| 11/11 [00:00<00:00, 13.12it/s]\n"
          ]
        },
        {
          "output_type": "stream",
          "name": "stdout",
          "text": [
            "Index 22: random Hamming Distance: 57\n"
          ]
        },
        {
          "output_type": "stream",
          "name": "stderr",
          "text": [
            "100%|██████████| 8/8 [00:00<00:00, 13.10it/s]\n",
            "100%|██████████| 10/10 [00:00<00:00, 12.78it/s]\n"
          ]
        },
        {
          "output_type": "stream",
          "name": "stdout",
          "text": [
            "Index 23: embedding Hamming Distance: 13\n"
          ]
        },
        {
          "output_type": "stream",
          "name": "stderr",
          "text": [
            "100%|██████████| 10/10 [00:00<00:00, 13.19it/s]\n"
          ]
        },
        {
          "output_type": "stream",
          "name": "stdout",
          "text": [
            "Index 23: random Hamming Distance: 14\n"
          ]
        },
        {
          "output_type": "stream",
          "name": "stderr",
          "text": [
            "100%|██████████| 8/8 [00:00<00:00, 12.99it/s]\n",
            "100%|██████████| 5/5 [00:00<00:00, 13.02it/s]\n"
          ]
        },
        {
          "output_type": "stream",
          "name": "stdout",
          "text": [
            "Index 24: random Hamming Distance: 85\n"
          ]
        },
        {
          "output_type": "stream",
          "name": "stderr",
          "text": [
            "100%|██████████| 8/8 [00:00<00:00, 12.58it/s]\n",
            "100%|██████████| 4/4 [00:00<00:00, 12.20it/s]\n"
          ]
        },
        {
          "output_type": "stream",
          "name": "stdout",
          "text": [
            "Index 25: embedding Hamming Distance: 10\n"
          ]
        },
        {
          "output_type": "stream",
          "name": "stderr",
          "text": [
            "100%|██████████| 4/4 [00:00<00:00, 13.44it/s]\n"
          ]
        },
        {
          "output_type": "stream",
          "name": "stdout",
          "text": [
            "Index 25: random Hamming Distance: 9\n"
          ]
        },
        {
          "output_type": "stream",
          "name": "stderr",
          "text": [
            "100%|██████████| 8/8 [00:00<00:00, 13.30it/s]\n",
            "100%|██████████| 17/17 [00:01<00:00, 13.05it/s]\n"
          ]
        },
        {
          "output_type": "stream",
          "name": "stdout",
          "text": [
            "Index 26: embedding Hamming Distance: 56\n"
          ]
        },
        {
          "output_type": "stream",
          "name": "stderr",
          "text": [
            "100%|██████████| 17/17 [00:01<00:00, 13.38it/s]\n"
          ]
        },
        {
          "output_type": "stream",
          "name": "stdout",
          "text": [
            "Index 26: random Hamming Distance: 54\n"
          ]
        },
        {
          "output_type": "stream",
          "name": "stderr",
          "text": [
            "100%|██████████| 8/8 [00:00<00:00, 12.00it/s]\n",
            "100%|██████████| 39/39 [00:03<00:00, 11.99it/s]\n"
          ]
        },
        {
          "output_type": "stream",
          "name": "stdout",
          "text": [
            "Index 27: embedding Hamming Distance: 171\n"
          ]
        },
        {
          "output_type": "stream",
          "name": "stderr",
          "text": [
            "100%|██████████| 39/39 [00:03<00:00, 12.08it/s]\n"
          ]
        },
        {
          "output_type": "stream",
          "name": "stdout",
          "text": [
            "Index 27: random Hamming Distance: 157\n"
          ]
        },
        {
          "output_type": "stream",
          "name": "stderr",
          "text": [
            "100%|██████████| 8/8 [00:00<00:00, 13.15it/s]\n",
            "100%|██████████| 17/17 [00:01<00:00, 13.16it/s]\n"
          ]
        },
        {
          "output_type": "stream",
          "name": "stdout",
          "text": [
            "Index 28: embedding Hamming Distance: 105\n"
          ]
        },
        {
          "output_type": "stream",
          "name": "stderr",
          "text": [
            "100%|██████████| 17/17 [00:01<00:00, 13.05it/s]\n"
          ]
        },
        {
          "output_type": "stream",
          "name": "stdout",
          "text": [
            "Index 28: random Hamming Distance: 116\n"
          ]
        },
        {
          "output_type": "stream",
          "name": "stderr",
          "text": [
            "100%|██████████| 8/8 [00:00<00:00, 12.20it/s]\n",
            "100%|██████████| 20/20 [00:01<00:00, 13.04it/s]\n"
          ]
        },
        {
          "output_type": "stream",
          "name": "stdout",
          "text": [
            "Index 29: embedding Hamming Distance: 63\n"
          ]
        },
        {
          "output_type": "stream",
          "name": "stderr",
          "text": [
            "100%|██████████| 20/20 [00:01<00:00, 13.14it/s]\n"
          ]
        },
        {
          "output_type": "stream",
          "name": "stdout",
          "text": [
            "Index 29: random Hamming Distance: 57\n"
          ]
        },
        {
          "output_type": "stream",
          "name": "stderr",
          "text": [
            "100%|██████████| 8/8 [00:00<00:00, 13.21it/s]\n",
            "100%|██████████| 8/8 [00:00<00:00, 13.17it/s]\n"
          ]
        },
        {
          "output_type": "stream",
          "name": "stdout",
          "text": [
            "Index 30: random Hamming Distance: 137\n"
          ]
        },
        {
          "output_type": "stream",
          "name": "stderr",
          "text": [
            "100%|██████████| 8/8 [00:00<00:00, 12.96it/s]\n",
            "100%|██████████| 9/9 [00:00<00:00, 12.91it/s]\n"
          ]
        },
        {
          "output_type": "stream",
          "name": "stdout",
          "text": [
            "Index 31: embedding Hamming Distance: 168\n"
          ]
        },
        {
          "output_type": "stream",
          "name": "stderr",
          "text": [
            "100%|██████████| 9/9 [00:00<00:00, 13.06it/s]\n"
          ]
        },
        {
          "output_type": "stream",
          "name": "stdout",
          "text": [
            "Index 31: random Hamming Distance: 174\n"
          ]
        },
        {
          "output_type": "stream",
          "name": "stderr",
          "text": [
            "100%|██████████| 8/8 [00:00<00:00, 13.15it/s]\n",
            "100%|██████████| 23/23 [00:01<00:00, 13.11it/s]\n"
          ]
        },
        {
          "output_type": "stream",
          "name": "stdout",
          "text": [
            "Index 32: embedding Hamming Distance: 223\n"
          ]
        },
        {
          "output_type": "stream",
          "name": "stderr",
          "text": [
            "100%|██████████| 23/23 [00:01<00:00, 13.19it/s]\n"
          ]
        },
        {
          "output_type": "stream",
          "name": "stdout",
          "text": [
            "Index 32: random Hamming Distance: 207\n"
          ]
        },
        {
          "output_type": "stream",
          "name": "stderr",
          "text": [
            "100%|██████████| 8/8 [00:00<00:00, 12.90it/s]\n",
            "100%|██████████| 10/10 [00:00<00:00, 12.77it/s]\n"
          ]
        },
        {
          "output_type": "stream",
          "name": "stdout",
          "text": [
            "Index 33: embedding Hamming Distance: 16\n"
          ]
        },
        {
          "output_type": "stream",
          "name": "stderr",
          "text": [
            "100%|██████████| 10/10 [00:00<00:00, 12.96it/s]\n"
          ]
        },
        {
          "output_type": "stream",
          "name": "stdout",
          "text": [
            "Index 33: random Hamming Distance: 26\n"
          ]
        },
        {
          "output_type": "stream",
          "name": "stderr",
          "text": [
            "100%|██████████| 8/8 [00:00<00:00, 13.24it/s]\n",
            "100%|██████████| 18/18 [00:01<00:00, 12.58it/s]\n"
          ]
        },
        {
          "output_type": "stream",
          "name": "stdout",
          "text": [
            "Index 34: embedding Hamming Distance: 66\n"
          ]
        },
        {
          "output_type": "stream",
          "name": "stderr",
          "text": [
            "100%|██████████| 18/18 [00:01<00:00, 13.31it/s]\n"
          ]
        },
        {
          "output_type": "stream",
          "name": "stdout",
          "text": [
            "Index 34: random Hamming Distance: 52\n"
          ]
        },
        {
          "output_type": "stream",
          "name": "stderr",
          "text": [
            "100%|██████████| 8/8 [00:00<00:00, 13.36it/s]\n",
            "100%|██████████| 17/17 [00:01<00:00, 12.98it/s]\n"
          ]
        },
        {
          "output_type": "stream",
          "name": "stdout",
          "text": [
            "Index 35: embedding Hamming Distance: 23\n"
          ]
        },
        {
          "output_type": "stream",
          "name": "stderr",
          "text": [
            "100%|██████████| 17/17 [00:01<00:00, 13.36it/s]\n"
          ]
        },
        {
          "output_type": "stream",
          "name": "stdout",
          "text": [
            "Index 35: random Hamming Distance: 22\n"
          ]
        },
        {
          "output_type": "stream",
          "name": "stderr",
          "text": [
            "100%|██████████| 8/8 [00:00<00:00, 13.27it/s]\n",
            "100%|██████████| 13/13 [00:00<00:00, 13.22it/s]\n"
          ]
        },
        {
          "output_type": "stream",
          "name": "stdout",
          "text": [
            "Index 36: embedding Hamming Distance: 117\n"
          ]
        },
        {
          "output_type": "stream",
          "name": "stderr",
          "text": [
            "100%|██████████| 13/13 [00:00<00:00, 13.29it/s]\n"
          ]
        },
        {
          "output_type": "stream",
          "name": "stdout",
          "text": [
            "Index 36: random Hamming Distance: 129\n"
          ]
        },
        {
          "output_type": "stream",
          "name": "stderr",
          "text": [
            "100%|██████████| 8/8 [00:00<00:00, 13.17it/s]\n",
            "100%|██████████| 4/4 [00:00<00:00, 12.25it/s]\n"
          ]
        },
        {
          "output_type": "stream",
          "name": "stdout",
          "text": [
            "Index 37: embedding Hamming Distance: 69\n"
          ]
        },
        {
          "output_type": "stream",
          "name": "stderr",
          "text": [
            "100%|██████████| 4/4 [00:00<00:00, 12.66it/s]\n"
          ]
        },
        {
          "output_type": "stream",
          "name": "stdout",
          "text": [
            "Index 37: random Hamming Distance: 63\n"
          ]
        },
        {
          "output_type": "stream",
          "name": "stderr",
          "text": [
            "100%|██████████| 8/8 [00:00<00:00, 12.95it/s]\n",
            "100%|██████████| 10/10 [00:00<00:00, 13.02it/s]\n"
          ]
        },
        {
          "output_type": "stream",
          "name": "stdout",
          "text": [
            "Index 38: random Hamming Distance: 70\n"
          ]
        },
        {
          "output_type": "stream",
          "name": "stderr",
          "text": [
            "100%|██████████| 8/8 [00:00<00:00, 13.05it/s]\n",
            "100%|██████████| 5/5 [00:00<00:00, 13.43it/s]\n"
          ]
        },
        {
          "output_type": "stream",
          "name": "stdout",
          "text": [
            "Index 39: random Hamming Distance: 28\n"
          ]
        },
        {
          "output_type": "stream",
          "name": "stderr",
          "text": [
            "100%|██████████| 8/8 [00:00<00:00, 12.68it/s]\n",
            "100%|██████████| 1/1 [00:00<00:00, 12.56it/s]\n"
          ]
        },
        {
          "output_type": "stream",
          "name": "stdout",
          "text": [
            "Index 40: random Hamming Distance: 18\n"
          ]
        },
        {
          "output_type": "stream",
          "name": "stderr",
          "text": [
            "100%|██████████| 8/8 [00:00<00:00, 12.64it/s]\n",
            "100%|██████████| 17/17 [00:01<00:00, 13.01it/s]\n"
          ]
        },
        {
          "output_type": "stream",
          "name": "stdout",
          "text": [
            "Index 41: embedding Hamming Distance: 148\n"
          ]
        },
        {
          "output_type": "stream",
          "name": "stderr",
          "text": [
            "100%|██████████| 17/17 [00:01<00:00, 13.22it/s]\n"
          ]
        },
        {
          "output_type": "stream",
          "name": "stdout",
          "text": [
            "Index 41: random Hamming Distance: 145\n"
          ]
        },
        {
          "output_type": "stream",
          "name": "stderr",
          "text": [
            "100%|██████████| 8/8 [00:00<00:00, 12.89it/s]\n",
            "100%|██████████| 12/12 [00:00<00:00, 13.09it/s]\n"
          ]
        },
        {
          "output_type": "stream",
          "name": "stdout",
          "text": [
            "Index 42: random Hamming Distance: 282\n"
          ]
        },
        {
          "output_type": "stream",
          "name": "stderr",
          "text": [
            "100%|██████████| 8/8 [00:00<00:00, 13.28it/s]\n",
            "100%|██████████| 20/20 [00:01<00:00, 13.10it/s]\n"
          ]
        },
        {
          "output_type": "stream",
          "name": "stdout",
          "text": [
            "Index 43: embedding Hamming Distance: 52\n"
          ]
        },
        {
          "output_type": "stream",
          "name": "stderr",
          "text": [
            "100%|██████████| 20/20 [00:01<00:00, 13.19it/s]\n"
          ]
        },
        {
          "output_type": "stream",
          "name": "stdout",
          "text": [
            "Index 43: random Hamming Distance: 34\n"
          ]
        },
        {
          "output_type": "stream",
          "name": "stderr",
          "text": [
            "100%|██████████| 8/8 [00:01<00:00,  7.71it/s]\n",
            "100%|██████████| 52/52 [00:06<00:00,  7.79it/s]\n"
          ]
        },
        {
          "output_type": "stream",
          "name": "stdout",
          "text": [
            "Index 44: embedding Hamming Distance: 404\n"
          ]
        },
        {
          "output_type": "stream",
          "name": "stderr",
          "text": [
            "100%|██████████| 52/52 [00:06<00:00,  7.75it/s]\n"
          ]
        },
        {
          "output_type": "stream",
          "name": "stdout",
          "text": [
            "Index 44: random Hamming Distance: 470\n"
          ]
        },
        {
          "output_type": "stream",
          "name": "stderr",
          "text": [
            "100%|██████████| 8/8 [00:00<00:00, 13.10it/s]\n",
            "100%|██████████| 27/27 [00:02<00:00, 13.11it/s]\n"
          ]
        },
        {
          "output_type": "stream",
          "name": "stdout",
          "text": [
            "Index 45: embedding Hamming Distance: 85\n"
          ]
        },
        {
          "output_type": "stream",
          "name": "stderr",
          "text": [
            "100%|██████████| 27/27 [00:02<00:00, 13.15it/s]\n"
          ]
        },
        {
          "output_type": "stream",
          "name": "stdout",
          "text": [
            "Index 45: random Hamming Distance: 76\n"
          ]
        },
        {
          "output_type": "stream",
          "name": "stderr",
          "text": [
            "100%|██████████| 8/8 [00:00<00:00, 13.04it/s]\n",
            "100%|██████████| 9/9 [00:00<00:00, 12.78it/s]\n"
          ]
        },
        {
          "output_type": "stream",
          "name": "stdout",
          "text": [
            "Index 46: embedding Hamming Distance: 45\n"
          ]
        },
        {
          "output_type": "stream",
          "name": "stderr",
          "text": [
            "100%|██████████| 9/9 [00:00<00:00, 13.19it/s]\n"
          ]
        },
        {
          "output_type": "stream",
          "name": "stdout",
          "text": [
            "Index 46: random Hamming Distance: 42\n"
          ]
        },
        {
          "output_type": "stream",
          "name": "stderr",
          "text": [
            "100%|██████████| 8/8 [00:00<00:00, 13.15it/s]\n",
            "100%|██████████| 13/13 [00:01<00:00, 12.93it/s]\n"
          ]
        },
        {
          "output_type": "stream",
          "name": "stdout",
          "text": [
            "Index 47: embedding Hamming Distance: 37\n"
          ]
        },
        {
          "output_type": "stream",
          "name": "stderr",
          "text": [
            "100%|██████████| 13/13 [00:00<00:00, 13.26it/s]\n"
          ]
        },
        {
          "output_type": "stream",
          "name": "stdout",
          "text": [
            "Index 47: random Hamming Distance: 38\n"
          ]
        },
        {
          "output_type": "stream",
          "name": "stderr",
          "text": [
            "100%|██████████| 8/8 [00:00<00:00, 12.82it/s]\n",
            "100%|██████████| 18/18 [00:01<00:00, 12.92it/s]\n"
          ]
        },
        {
          "output_type": "stream",
          "name": "stdout",
          "text": [
            "Index 48: embedding Hamming Distance: 65\n"
          ]
        },
        {
          "output_type": "stream",
          "name": "stderr",
          "text": [
            "100%|██████████| 18/18 [00:01<00:00, 13.21it/s]\n"
          ]
        },
        {
          "output_type": "stream",
          "name": "stdout",
          "text": [
            "Index 48: random Hamming Distance: 72\n"
          ]
        },
        {
          "output_type": "stream",
          "name": "stderr",
          "text": [
            "100%|██████████| 8/8 [00:00<00:00, 13.34it/s]\n",
            "100%|██████████| 16/16 [00:01<00:00, 13.11it/s]\n"
          ]
        },
        {
          "output_type": "stream",
          "name": "stdout",
          "text": [
            "Index 49: embedding Hamming Distance: 102\n"
          ]
        },
        {
          "output_type": "stream",
          "name": "stderr",
          "text": [
            "100%|██████████| 16/16 [00:01<00:00, 13.36it/s]\n"
          ]
        },
        {
          "output_type": "stream",
          "name": "stdout",
          "text": [
            "Index 49: random Hamming Distance: 91\n"
          ]
        },
        {
          "output_type": "stream",
          "name": "stderr",
          "text": [
            "100%|██████████| 8/8 [00:00<00:00, 12.98it/s]\n",
            "100%|██████████| 9/9 [00:00<00:00, 12.72it/s]\n"
          ]
        },
        {
          "output_type": "stream",
          "name": "stdout",
          "text": [
            "Index 50: embedding Hamming Distance: 12\n"
          ]
        },
        {
          "output_type": "stream",
          "name": "stderr",
          "text": [
            "100%|██████████| 9/9 [00:00<00:00, 13.15it/s]\n"
          ]
        },
        {
          "output_type": "stream",
          "name": "stdout",
          "text": [
            "Index 50: random Hamming Distance: 27\n"
          ]
        },
        {
          "output_type": "stream",
          "name": "stderr",
          "text": [
            "100%|██████████| 8/8 [00:00<00:00, 13.05it/s]\n",
            "100%|██████████| 17/17 [00:01<00:00, 13.06it/s]\n"
          ]
        },
        {
          "output_type": "stream",
          "name": "stdout",
          "text": [
            "Index 51: embedding Hamming Distance: 51\n"
          ]
        },
        {
          "output_type": "stream",
          "name": "stderr",
          "text": [
            "100%|██████████| 17/17 [00:01<00:00, 13.29it/s]\n"
          ]
        },
        {
          "output_type": "stream",
          "name": "stdout",
          "text": [
            "Index 51: random Hamming Distance: 49\n"
          ]
        },
        {
          "output_type": "stream",
          "name": "stderr",
          "text": [
            "100%|██████████| 8/8 [00:00<00:00, 13.08it/s]\n",
            "100%|██████████| 4/4 [00:00<00:00, 12.23it/s]\n"
          ]
        },
        {
          "output_type": "stream",
          "name": "stdout",
          "text": [
            "Index 52: embedding Hamming Distance: 75\n"
          ]
        },
        {
          "output_type": "stream",
          "name": "stderr",
          "text": [
            "100%|██████████| 4/4 [00:00<00:00, 13.11it/s]\n"
          ]
        },
        {
          "output_type": "stream",
          "name": "stdout",
          "text": [
            "Index 52: random Hamming Distance: 79\n"
          ]
        },
        {
          "output_type": "stream",
          "name": "stderr",
          "text": [
            "100%|██████████| 8/8 [00:00<00:00, 13.04it/s]\n",
            "100%|██████████| 6/6 [00:00<00:00, 12.57it/s]\n"
          ]
        },
        {
          "output_type": "stream",
          "name": "stdout",
          "text": [
            "Index 53: embedding Hamming Distance: 81\n"
          ]
        },
        {
          "output_type": "stream",
          "name": "stderr",
          "text": [
            "100%|██████████| 6/6 [00:00<00:00, 13.04it/s]\n"
          ]
        },
        {
          "output_type": "stream",
          "name": "stdout",
          "text": [
            "Index 53: random Hamming Distance: 77\n"
          ]
        },
        {
          "output_type": "stream",
          "name": "stderr",
          "text": [
            "100%|██████████| 8/8 [00:00<00:00, 13.02it/s]\n",
            "100%|██████████| 7/7 [00:00<00:00, 12.62it/s]\n"
          ]
        },
        {
          "output_type": "stream",
          "name": "stdout",
          "text": [
            "Index 54: embedding Hamming Distance: 15\n"
          ]
        },
        {
          "output_type": "stream",
          "name": "stderr",
          "text": [
            "100%|██████████| 7/7 [00:00<00:00, 12.90it/s]\n"
          ]
        },
        {
          "output_type": "stream",
          "name": "stdout",
          "text": [
            "Index 54: random Hamming Distance: 7\n"
          ]
        },
        {
          "output_type": "stream",
          "name": "stderr",
          "text": [
            "100%|██████████| 8/8 [00:00<00:00, 13.04it/s]\n",
            "100%|██████████| 5/5 [00:00<00:00, 12.37it/s]\n"
          ]
        },
        {
          "output_type": "stream",
          "name": "stdout",
          "text": [
            "Index 55: embedding Hamming Distance: 42\n"
          ]
        },
        {
          "output_type": "stream",
          "name": "stderr",
          "text": [
            "100%|██████████| 5/5 [00:00<00:00, 12.77it/s]\n"
          ]
        },
        {
          "output_type": "stream",
          "name": "stdout",
          "text": [
            "Index 55: random Hamming Distance: 40\n"
          ]
        },
        {
          "output_type": "stream",
          "name": "stderr",
          "text": [
            "100%|██████████| 8/8 [00:00<00:00, 13.27it/s]\n",
            "100%|██████████| 19/19 [00:01<00:00, 13.03it/s]\n"
          ]
        },
        {
          "output_type": "stream",
          "name": "stdout",
          "text": [
            "Index 56: embedding Hamming Distance: 196\n"
          ]
        },
        {
          "output_type": "stream",
          "name": "stderr",
          "text": [
            "100%|██████████| 19/19 [00:01<00:00, 13.22it/s]\n"
          ]
        },
        {
          "output_type": "stream",
          "name": "stdout",
          "text": [
            "Index 56: random Hamming Distance: 205\n"
          ]
        },
        {
          "output_type": "stream",
          "name": "stderr",
          "text": [
            "100%|██████████| 8/8 [00:00<00:00, 13.00it/s]\n",
            "100%|██████████| 5/5 [00:00<00:00, 12.23it/s]\n"
          ]
        },
        {
          "output_type": "stream",
          "name": "stdout",
          "text": [
            "Index 57: embedding Hamming Distance: 82\n"
          ]
        },
        {
          "output_type": "stream",
          "name": "stderr",
          "text": [
            "100%|██████████| 5/5 [00:00<00:00, 12.36it/s]\n"
          ]
        },
        {
          "output_type": "stream",
          "name": "stdout",
          "text": [
            "Index 57: random Hamming Distance: 77\n"
          ]
        },
        {
          "output_type": "stream",
          "name": "stderr",
          "text": [
            "100%|██████████| 8/8 [00:00<00:00, 13.13it/s]\n",
            "100%|██████████| 2/2 [00:00<00:00, 11.45it/s]\n"
          ]
        },
        {
          "output_type": "stream",
          "name": "stdout",
          "text": [
            "Index 58: embedding Hamming Distance: 16\n"
          ]
        },
        {
          "output_type": "stream",
          "name": "stderr",
          "text": [
            "100%|██████████| 2/2 [00:00<00:00, 12.91it/s]\n"
          ]
        },
        {
          "output_type": "stream",
          "name": "stdout",
          "text": [
            "Index 58: random Hamming Distance: 18\n"
          ]
        },
        {
          "output_type": "stream",
          "name": "stderr",
          "text": [
            "100%|██████████| 8/8 [00:00<00:00, 13.24it/s]\n",
            "100%|██████████| 6/6 [00:00<00:00, 12.54it/s]\n"
          ]
        },
        {
          "output_type": "stream",
          "name": "stdout",
          "text": [
            "Index 59: embedding Hamming Distance: 71\n"
          ]
        },
        {
          "output_type": "stream",
          "name": "stderr",
          "text": [
            "100%|██████████| 6/6 [00:00<00:00, 13.02it/s]\n"
          ]
        },
        {
          "output_type": "stream",
          "name": "stdout",
          "text": [
            "Index 59: random Hamming Distance: 69\n"
          ]
        },
        {
          "output_type": "stream",
          "name": "stderr",
          "text": [
            "100%|██████████| 8/8 [00:00<00:00, 12.95it/s]\n",
            "100%|██████████| 14/14 [00:01<00:00, 12.92it/s]\n"
          ]
        },
        {
          "output_type": "stream",
          "name": "stdout",
          "text": [
            "Index 60: embedding Hamming Distance: 12\n"
          ]
        },
        {
          "output_type": "stream",
          "name": "stderr",
          "text": [
            "100%|██████████| 14/14 [00:01<00:00, 13.22it/s]\n"
          ]
        },
        {
          "output_type": "stream",
          "name": "stdout",
          "text": [
            "Index 60: random Hamming Distance: 23\n"
          ]
        },
        {
          "output_type": "stream",
          "name": "stderr",
          "text": [
            "100%|██████████| 8/8 [00:00<00:00, 12.81it/s]\n",
            "100%|██████████| 23/23 [00:01<00:00, 12.86it/s]\n"
          ]
        },
        {
          "output_type": "stream",
          "name": "stdout",
          "text": [
            "Index 61: embedding Hamming Distance: 201\n"
          ]
        },
        {
          "output_type": "stream",
          "name": "stderr",
          "text": [
            "100%|██████████| 23/23 [00:01<00:00, 13.21it/s]\n"
          ]
        },
        {
          "output_type": "stream",
          "name": "stdout",
          "text": [
            "Index 61: random Hamming Distance: 214\n"
          ]
        },
        {
          "output_type": "stream",
          "name": "stderr",
          "text": [
            "100%|██████████| 8/8 [00:00<00:00, 12.99it/s]\n",
            "100%|██████████| 10/10 [00:00<00:00, 12.82it/s]\n"
          ]
        },
        {
          "output_type": "stream",
          "name": "stdout",
          "text": [
            "Index 62: embedding Hamming Distance: 77\n"
          ]
        },
        {
          "output_type": "stream",
          "name": "stderr",
          "text": [
            "100%|██████████| 10/10 [00:00<00:00, 13.23it/s]\n"
          ]
        },
        {
          "output_type": "stream",
          "name": "stdout",
          "text": [
            "Index 62: random Hamming Distance: 79\n"
          ]
        },
        {
          "output_type": "stream",
          "name": "stderr",
          "text": [
            "100%|██████████| 8/8 [00:00<00:00, 13.24it/s]\n",
            "100%|██████████| 8/8 [00:00<00:00, 12.91it/s]\n"
          ]
        },
        {
          "output_type": "stream",
          "name": "stdout",
          "text": [
            "Index 63: embedding Hamming Distance: 30\n"
          ]
        },
        {
          "output_type": "stream",
          "name": "stderr",
          "text": [
            "100%|██████████| 8/8 [00:00<00:00, 13.18it/s]\n"
          ]
        },
        {
          "output_type": "stream",
          "name": "stdout",
          "text": [
            "Index 63: random Hamming Distance: 40\n"
          ]
        },
        {
          "output_type": "stream",
          "name": "stderr",
          "text": [
            "100%|██████████| 8/8 [00:00<00:00, 13.01it/s]\n",
            "100%|██████████| 20/20 [00:01<00:00, 12.79it/s]\n"
          ]
        },
        {
          "output_type": "stream",
          "name": "stdout",
          "text": [
            "Index 64: embedding Hamming Distance: 43\n"
          ]
        },
        {
          "output_type": "stream",
          "name": "stderr",
          "text": [
            "100%|██████████| 20/20 [00:01<00:00, 13.38it/s]\n"
          ]
        },
        {
          "output_type": "stream",
          "name": "stdout",
          "text": [
            "Index 64: random Hamming Distance: 29\n"
          ]
        },
        {
          "output_type": "stream",
          "name": "stderr",
          "text": [
            "100%|██████████| 8/8 [00:00<00:00, 13.40it/s]\n",
            "100%|██████████| 17/17 [00:01<00:00, 13.11it/s]\n"
          ]
        },
        {
          "output_type": "stream",
          "name": "stdout",
          "text": [
            "Index 65: embedding Hamming Distance: 140\n"
          ]
        },
        {
          "output_type": "stream",
          "name": "stderr",
          "text": [
            "100%|██████████| 17/17 [00:01<00:00, 13.39it/s]\n"
          ]
        },
        {
          "output_type": "stream",
          "name": "stdout",
          "text": [
            "Index 65: random Hamming Distance: 131\n"
          ]
        },
        {
          "output_type": "stream",
          "name": "stderr",
          "text": [
            "100%|██████████| 8/8 [00:00<00:00, 12.96it/s]\n",
            "100%|██████████| 13/13 [00:00<00:00, 13.02it/s]\n"
          ]
        },
        {
          "output_type": "stream",
          "name": "stdout",
          "text": [
            "Index 66: embedding Hamming Distance: 27\n"
          ]
        },
        {
          "output_type": "stream",
          "name": "stderr",
          "text": [
            "100%|██████████| 13/13 [00:00<00:00, 13.20it/s]\n"
          ]
        },
        {
          "output_type": "stream",
          "name": "stdout",
          "text": [
            "Index 66: random Hamming Distance: 20\n"
          ]
        },
        {
          "output_type": "stream",
          "name": "stderr",
          "text": [
            "100%|██████████| 8/8 [00:00<00:00, 13.07it/s]\n",
            "100%|██████████| 17/17 [00:01<00:00, 13.01it/s]\n"
          ]
        },
        {
          "output_type": "stream",
          "name": "stdout",
          "text": [
            "Index 67: embedding Hamming Distance: 88\n"
          ]
        },
        {
          "output_type": "stream",
          "name": "stderr",
          "text": [
            "100%|██████████| 17/17 [00:01<00:00, 13.12it/s]\n"
          ]
        },
        {
          "output_type": "stream",
          "name": "stdout",
          "text": [
            "Index 67: random Hamming Distance: 92\n"
          ]
        },
        {
          "output_type": "stream",
          "name": "stderr",
          "text": [
            "100%|██████████| 8/8 [00:00<00:00, 13.16it/s]\n",
            "100%|██████████| 9/9 [00:00<00:00, 12.87it/s]\n"
          ]
        },
        {
          "output_type": "stream",
          "name": "stdout",
          "text": [
            "Index 68: embedding Hamming Distance: 16\n"
          ]
        },
        {
          "output_type": "stream",
          "name": "stderr",
          "text": [
            "100%|██████████| 9/9 [00:00<00:00, 13.21it/s]\n"
          ]
        },
        {
          "output_type": "stream",
          "name": "stdout",
          "text": [
            "Index 68: random Hamming Distance: 14\n"
          ]
        },
        {
          "output_type": "stream",
          "name": "stderr",
          "text": [
            "100%|██████████| 8/8 [00:00<00:00, 13.20it/s]\n",
            "100%|██████████| 16/16 [00:01<00:00, 13.11it/s]\n"
          ]
        },
        {
          "output_type": "stream",
          "name": "stdout",
          "text": [
            "Index 69: embedding Hamming Distance: 146\n"
          ]
        },
        {
          "output_type": "stream",
          "name": "stderr",
          "text": [
            "100%|██████████| 16/16 [00:01<00:00, 13.41it/s]\n"
          ]
        },
        {
          "output_type": "stream",
          "name": "stdout",
          "text": [
            "Index 69: random Hamming Distance: 145\n"
          ]
        },
        {
          "output_type": "stream",
          "name": "stderr",
          "text": [
            "100%|██████████| 8/8 [00:00<00:00, 12.84it/s]\n",
            "100%|██████████| 6/6 [00:00<00:00, 12.48it/s]\n"
          ]
        },
        {
          "output_type": "stream",
          "name": "stdout",
          "text": [
            "Index 70: embedding Hamming Distance: 15\n"
          ]
        },
        {
          "output_type": "stream",
          "name": "stderr",
          "text": [
            "100%|██████████| 6/6 [00:00<00:00, 13.18it/s]\n"
          ]
        },
        {
          "output_type": "stream",
          "name": "stdout",
          "text": [
            "Index 70: random Hamming Distance: 15\n"
          ]
        },
        {
          "output_type": "stream",
          "name": "stderr",
          "text": [
            "100%|██████████| 8/8 [00:00<00:00, 13.00it/s]\n",
            "100%|██████████| 6/6 [00:00<00:00, 12.64it/s]\n"
          ]
        },
        {
          "output_type": "stream",
          "name": "stdout",
          "text": [
            "Index 71: embedding Hamming Distance: 15\n"
          ]
        },
        {
          "output_type": "stream",
          "name": "stderr",
          "text": [
            "100%|██████████| 6/6 [00:00<00:00, 12.85it/s]\n"
          ]
        },
        {
          "output_type": "stream",
          "name": "stdout",
          "text": [
            "Index 71: random Hamming Distance: 18\n"
          ]
        },
        {
          "output_type": "stream",
          "name": "stderr",
          "text": [
            "100%|██████████| 8/8 [00:00<00:00, 12.90it/s]\n",
            "100%|██████████| 8/8 [00:00<00:00, 12.70it/s]\n"
          ]
        },
        {
          "output_type": "stream",
          "name": "stdout",
          "text": [
            "Index 72: embedding Hamming Distance: 16\n"
          ]
        },
        {
          "output_type": "stream",
          "name": "stderr",
          "text": [
            "100%|██████████| 8/8 [00:00<00:00, 13.14it/s]\n"
          ]
        },
        {
          "output_type": "stream",
          "name": "stdout",
          "text": [
            "Index 72: random Hamming Distance: 10\n"
          ]
        },
        {
          "output_type": "stream",
          "name": "stderr",
          "text": [
            "100%|██████████| 8/8 [00:00<00:00,  8.02it/s]\n",
            "100%|██████████| 51/51 [00:06<00:00,  8.07it/s]\n"
          ]
        },
        {
          "output_type": "stream",
          "name": "stdout",
          "text": [
            "Index 73: embedding Hamming Distance: 82\n"
          ]
        },
        {
          "output_type": "stream",
          "name": "stderr",
          "text": [
            "100%|██████████| 51/51 [00:06<00:00,  8.04it/s]\n"
          ]
        },
        {
          "output_type": "stream",
          "name": "stdout",
          "text": [
            "Index 73: random Hamming Distance: 69\n"
          ]
        },
        {
          "output_type": "stream",
          "name": "stderr",
          "text": [
            "100%|██████████| 8/8 [00:00<00:00, 13.05it/s]\n",
            "100%|██████████| 2/2 [00:00<00:00, 11.36it/s]\n"
          ]
        },
        {
          "output_type": "stream",
          "name": "stdout",
          "text": [
            "Index 74: embedding Hamming Distance: 22\n"
          ]
        },
        {
          "output_type": "stream",
          "name": "stderr",
          "text": [
            "100%|██████████| 2/2 [00:00<00:00, 13.06it/s]\n"
          ]
        },
        {
          "output_type": "stream",
          "name": "stdout",
          "text": [
            "Index 74: random Hamming Distance: 23\n"
          ]
        },
        {
          "output_type": "stream",
          "name": "stderr",
          "text": [
            "100%|██████████| 8/8 [00:00<00:00, 12.99it/s]\n",
            "100%|██████████| 11/11 [00:00<00:00, 12.86it/s]\n"
          ]
        },
        {
          "output_type": "stream",
          "name": "stdout",
          "text": [
            "Index 75: embedding Hamming Distance: 209\n"
          ]
        },
        {
          "output_type": "stream",
          "name": "stderr",
          "text": [
            "100%|██████████| 11/11 [00:00<00:00, 13.09it/s]\n"
          ]
        },
        {
          "output_type": "stream",
          "name": "stdout",
          "text": [
            "Index 75: random Hamming Distance: 211\n"
          ]
        },
        {
          "output_type": "stream",
          "name": "stderr",
          "text": [
            "100%|██████████| 8/8 [00:00<00:00, 13.04it/s]\n",
            "100%|██████████| 11/11 [00:00<00:00, 12.72it/s]\n"
          ]
        },
        {
          "output_type": "stream",
          "name": "stdout",
          "text": [
            "Index 76: embedding Hamming Distance: 30\n"
          ]
        },
        {
          "output_type": "stream",
          "name": "stderr",
          "text": [
            "100%|██████████| 11/11 [00:00<00:00, 13.03it/s]\n"
          ]
        },
        {
          "output_type": "stream",
          "name": "stdout",
          "text": [
            "Index 76: random Hamming Distance: 38\n"
          ]
        },
        {
          "output_type": "stream",
          "name": "stderr",
          "text": [
            "100%|██████████| 8/8 [00:00<00:00, 13.13it/s]\n",
            "100%|██████████| 15/15 [00:01<00:00, 13.38it/s]\n"
          ]
        },
        {
          "output_type": "stream",
          "name": "stdout",
          "text": [
            "Index 77: random Hamming Distance: 38\n"
          ]
        },
        {
          "output_type": "stream",
          "name": "stderr",
          "text": [
            "100%|██████████| 8/8 [00:00<00:00, 13.04it/s]\n",
            "100%|██████████| 10/10 [00:00<00:00, 12.86it/s]\n"
          ]
        },
        {
          "output_type": "stream",
          "name": "stdout",
          "text": [
            "Index 78: embedding Hamming Distance: 21\n"
          ]
        },
        {
          "output_type": "stream",
          "name": "stderr",
          "text": [
            "100%|██████████| 10/10 [00:00<00:00, 13.28it/s]\n"
          ]
        },
        {
          "output_type": "stream",
          "name": "stdout",
          "text": [
            "Index 78: random Hamming Distance: 21\n"
          ]
        },
        {
          "output_type": "stream",
          "name": "stderr",
          "text": [
            "100%|██████████| 8/8 [00:00<00:00, 13.26it/s]\n",
            "100%|██████████| 14/14 [00:01<00:00, 13.14it/s]\n"
          ]
        },
        {
          "output_type": "stream",
          "name": "stdout",
          "text": [
            "Index 79: embedding Hamming Distance: 157\n"
          ]
        },
        {
          "output_type": "stream",
          "name": "stderr",
          "text": [
            "100%|██████████| 14/14 [00:01<00:00, 12.99it/s]\n"
          ]
        },
        {
          "output_type": "stream",
          "name": "stdout",
          "text": [
            "Index 79: random Hamming Distance: 157\n"
          ]
        },
        {
          "output_type": "stream",
          "name": "stderr",
          "text": [
            "100%|██████████| 8/8 [00:00<00:00, 13.02it/s]\n",
            "100%|██████████| 6/6 [00:00<00:00, 12.50it/s]\n"
          ]
        },
        {
          "output_type": "stream",
          "name": "stdout",
          "text": [
            "Index 80: embedding Hamming Distance: 28\n"
          ]
        },
        {
          "output_type": "stream",
          "name": "stderr",
          "text": [
            "100%|██████████| 6/6 [00:00<00:00, 12.99it/s]\n"
          ]
        },
        {
          "output_type": "stream",
          "name": "stdout",
          "text": [
            "Index 80: random Hamming Distance: 24\n"
          ]
        },
        {
          "output_type": "stream",
          "name": "stderr",
          "text": [
            "100%|██████████| 8/8 [00:00<00:00, 12.87it/s]\n",
            "100%|██████████| 21/21 [00:01<00:00, 13.11it/s]\n"
          ]
        },
        {
          "output_type": "stream",
          "name": "stdout",
          "text": [
            "Index 81: embedding Hamming Distance: 85\n"
          ]
        },
        {
          "output_type": "stream",
          "name": "stderr",
          "text": [
            "100%|██████████| 21/21 [00:01<00:00, 13.37it/s]\n"
          ]
        },
        {
          "output_type": "stream",
          "name": "stdout",
          "text": [
            "Index 81: random Hamming Distance: 76\n"
          ]
        },
        {
          "output_type": "stream",
          "name": "stderr",
          "text": [
            "100%|██████████| 8/8 [00:00<00:00, 13.24it/s]\n",
            "100%|██████████| 16/16 [00:01<00:00, 13.01it/s]\n"
          ]
        },
        {
          "output_type": "stream",
          "name": "stdout",
          "text": [
            "Index 82: embedding Hamming Distance: 69\n"
          ]
        },
        {
          "output_type": "stream",
          "name": "stderr",
          "text": [
            "100%|██████████| 16/16 [00:01<00:00, 13.20it/s]\n"
          ]
        },
        {
          "output_type": "stream",
          "name": "stdout",
          "text": [
            "Index 82: random Hamming Distance: 75\n"
          ]
        },
        {
          "output_type": "stream",
          "name": "stderr",
          "text": [
            "100%|██████████| 8/8 [00:00<00:00,  8.02it/s]\n",
            "100%|██████████| 51/51 [00:06<00:00,  8.06it/s]\n"
          ]
        },
        {
          "output_type": "stream",
          "name": "stdout",
          "text": [
            "Index 83: embedding Hamming Distance: 553\n"
          ]
        },
        {
          "output_type": "stream",
          "name": "stderr",
          "text": [
            "100%|██████████| 51/51 [00:06<00:00,  8.05it/s]\n"
          ]
        },
        {
          "output_type": "stream",
          "name": "stdout",
          "text": [
            "Index 83: random Hamming Distance: 585\n"
          ]
        },
        {
          "output_type": "stream",
          "name": "stderr",
          "text": [
            "100%|██████████| 8/8 [00:00<00:00, 13.20it/s]\n",
            "100%|██████████| 7/7 [00:00<00:00, 12.66it/s]\n"
          ]
        },
        {
          "output_type": "stream",
          "name": "stdout",
          "text": [
            "Index 84: embedding Hamming Distance: 12\n"
          ]
        },
        {
          "output_type": "stream",
          "name": "stderr",
          "text": [
            "100%|██████████| 7/7 [00:00<00:00, 13.25it/s]\n"
          ]
        },
        {
          "output_type": "stream",
          "name": "stdout",
          "text": [
            "Index 84: random Hamming Distance: 9\n"
          ]
        },
        {
          "output_type": "stream",
          "name": "stderr",
          "text": [
            "100%|██████████| 8/8 [00:00<00:00, 13.04it/s]\n",
            "100%|██████████| 6/6 [00:00<00:00, 12.82it/s]\n"
          ]
        },
        {
          "output_type": "stream",
          "name": "stdout",
          "text": [
            "Index 85: embedding Hamming Distance: 6\n"
          ]
        },
        {
          "output_type": "stream",
          "name": "stderr",
          "text": [
            "100%|██████████| 6/6 [00:00<00:00, 13.21it/s]\n"
          ]
        },
        {
          "output_type": "stream",
          "name": "stdout",
          "text": [
            "Index 85: random Hamming Distance: 8\n"
          ]
        },
        {
          "output_type": "stream",
          "name": "stderr",
          "text": [
            "100%|██████████| 8/8 [00:00<00:00, 12.90it/s]\n",
            "100%|██████████| 3/3 [00:00<00:00, 12.07it/s]\n"
          ]
        },
        {
          "output_type": "stream",
          "name": "stdout",
          "text": [
            "Index 86: embedding Hamming Distance: 14\n"
          ]
        },
        {
          "output_type": "stream",
          "name": "stderr",
          "text": [
            "100%|██████████| 3/3 [00:00<00:00, 12.60it/s]\n"
          ]
        },
        {
          "output_type": "stream",
          "name": "stdout",
          "text": [
            "Index 86: random Hamming Distance: 17\n"
          ]
        },
        {
          "output_type": "stream",
          "name": "stderr",
          "text": [
            "100%|██████████| 8/8 [00:00<00:00, 12.85it/s]\n",
            "100%|██████████| 15/15 [00:01<00:00, 13.19it/s]\n"
          ]
        },
        {
          "output_type": "stream",
          "name": "stdout",
          "text": [
            "Index 87: embedding Hamming Distance: 13\n"
          ]
        },
        {
          "output_type": "stream",
          "name": "stderr",
          "text": [
            "100%|██████████| 15/15 [00:01<00:00, 13.30it/s]\n"
          ]
        },
        {
          "output_type": "stream",
          "name": "stdout",
          "text": [
            "Index 87: random Hamming Distance: 21\n"
          ]
        },
        {
          "output_type": "stream",
          "name": "stderr",
          "text": [
            "100%|██████████| 8/8 [00:00<00:00, 12.93it/s]\n",
            "100%|██████████| 6/6 [00:00<00:00, 12.65it/s]\n"
          ]
        },
        {
          "output_type": "stream",
          "name": "stdout",
          "text": [
            "Index 88: embedding Hamming Distance: 67\n"
          ]
        },
        {
          "output_type": "stream",
          "name": "stderr",
          "text": [
            "100%|██████████| 6/6 [00:00<00:00, 12.99it/s]\n"
          ]
        },
        {
          "output_type": "stream",
          "name": "stdout",
          "text": [
            "Index 88: random Hamming Distance: 65\n"
          ]
        },
        {
          "output_type": "stream",
          "name": "stderr",
          "text": [
            "100%|██████████| 8/8 [00:00<00:00, 13.07it/s]\n",
            "100%|██████████| 9/9 [00:00<00:00, 12.62it/s]\n"
          ]
        },
        {
          "output_type": "stream",
          "name": "stdout",
          "text": [
            "Index 89: embedding Hamming Distance: 87\n"
          ]
        },
        {
          "output_type": "stream",
          "name": "stderr",
          "text": [
            "100%|██████████| 9/9 [00:00<00:00, 12.88it/s]\n"
          ]
        },
        {
          "output_type": "stream",
          "name": "stdout",
          "text": [
            "Index 89: random Hamming Distance: 74\n"
          ]
        },
        {
          "output_type": "stream",
          "name": "stderr",
          "text": [
            "100%|██████████| 8/8 [00:00<00:00, 13.24it/s]\n",
            "100%|██████████| 5/5 [00:00<00:00, 12.57it/s]\n"
          ]
        },
        {
          "output_type": "stream",
          "name": "stdout",
          "text": [
            "Index 90: embedding Hamming Distance: 25\n"
          ]
        },
        {
          "output_type": "stream",
          "name": "stderr",
          "text": [
            "100%|██████████| 5/5 [00:00<00:00, 13.13it/s]\n"
          ]
        },
        {
          "output_type": "stream",
          "name": "stdout",
          "text": [
            "Index 90: random Hamming Distance: 21\n"
          ]
        },
        {
          "output_type": "stream",
          "name": "stderr",
          "text": [
            "100%|██████████| 8/8 [00:00<00:00, 13.37it/s]\n",
            "100%|██████████| 5/5 [00:00<00:00, 12.29it/s]\n"
          ]
        },
        {
          "output_type": "stream",
          "name": "stdout",
          "text": [
            "Index 91: embedding Hamming Distance: 47\n"
          ]
        },
        {
          "output_type": "stream",
          "name": "stderr",
          "text": [
            "100%|██████████| 5/5 [00:00<00:00, 12.87it/s]\n"
          ]
        },
        {
          "output_type": "stream",
          "name": "stdout",
          "text": [
            "Index 91: random Hamming Distance: 47\n"
          ]
        },
        {
          "output_type": "stream",
          "name": "stderr",
          "text": [
            "100%|██████████| 8/8 [00:00<00:00, 13.21it/s]\n",
            "100%|██████████| 26/26 [00:01<00:00, 13.15it/s]\n"
          ]
        },
        {
          "output_type": "stream",
          "name": "stdout",
          "text": [
            "Index 92: embedding Hamming Distance: 363\n"
          ]
        },
        {
          "output_type": "stream",
          "name": "stderr",
          "text": [
            "100%|██████████| 26/26 [00:01<00:00, 13.26it/s]\n"
          ]
        },
        {
          "output_type": "stream",
          "name": "stdout",
          "text": [
            "Index 92: random Hamming Distance: 360\n"
          ]
        },
        {
          "output_type": "stream",
          "name": "stderr",
          "text": [
            "100%|██████████| 8/8 [00:00<00:00, 13.07it/s]\n",
            "100%|██████████| 13/13 [00:01<00:00, 12.59it/s]\n"
          ]
        },
        {
          "output_type": "stream",
          "name": "stdout",
          "text": [
            "Index 93: embedding Hamming Distance: 105\n"
          ]
        },
        {
          "output_type": "stream",
          "name": "stderr",
          "text": [
            "100%|██████████| 13/13 [00:00<00:00, 13.20it/s]\n"
          ]
        },
        {
          "output_type": "stream",
          "name": "stdout",
          "text": [
            "Index 93: random Hamming Distance: 104\n"
          ]
        },
        {
          "output_type": "stream",
          "name": "stderr",
          "text": [
            "100%|██████████| 8/8 [00:00<00:00, 13.14it/s]\n",
            "100%|██████████| 6/6 [00:00<00:00, 12.66it/s]\n"
          ]
        },
        {
          "output_type": "stream",
          "name": "stdout",
          "text": [
            "Index 94: embedding Hamming Distance: 71\n"
          ]
        },
        {
          "output_type": "stream",
          "name": "stderr",
          "text": [
            "100%|██████████| 6/6 [00:00<00:00, 13.05it/s]\n"
          ]
        },
        {
          "output_type": "stream",
          "name": "stdout",
          "text": [
            "Index 94: random Hamming Distance: 70\n"
          ]
        },
        {
          "output_type": "stream",
          "name": "stderr",
          "text": [
            "100%|██████████| 8/8 [00:00<00:00, 13.18it/s]\n",
            "100%|██████████| 8/8 [00:00<00:00, 12.83it/s]\n"
          ]
        },
        {
          "output_type": "stream",
          "name": "stdout",
          "text": [
            "Index 95: embedding Hamming Distance: 15\n"
          ]
        },
        {
          "output_type": "stream",
          "name": "stderr",
          "text": [
            "100%|██████████| 8/8 [00:00<00:00, 13.16it/s]\n"
          ]
        },
        {
          "output_type": "stream",
          "name": "stdout",
          "text": [
            "Index 95: random Hamming Distance: 9\n"
          ]
        },
        {
          "output_type": "stream",
          "name": "stderr",
          "text": [
            "100%|██████████| 8/8 [00:00<00:00, 13.38it/s]\n",
            "100%|██████████| 14/14 [00:01<00:00, 12.98it/s]\n"
          ]
        },
        {
          "output_type": "stream",
          "name": "stdout",
          "text": [
            "Index 96: embedding Hamming Distance: 75\n"
          ]
        },
        {
          "output_type": "stream",
          "name": "stderr",
          "text": [
            "100%|██████████| 14/14 [00:01<00:00, 13.30it/s]\n"
          ]
        },
        {
          "output_type": "stream",
          "name": "stdout",
          "text": [
            "Index 96: random Hamming Distance: 76\n"
          ]
        },
        {
          "output_type": "stream",
          "name": "stderr",
          "text": [
            "100%|██████████| 8/8 [00:00<00:00, 13.17it/s]\n",
            "100%|██████████| 18/18 [00:01<00:00, 13.05it/s]\n"
          ]
        },
        {
          "output_type": "stream",
          "name": "stdout",
          "text": [
            "Index 97: embedding Hamming Distance: 295\n"
          ]
        },
        {
          "output_type": "stream",
          "name": "stderr",
          "text": [
            "100%|██████████| 18/18 [00:01<00:00, 13.27it/s]\n"
          ]
        },
        {
          "output_type": "stream",
          "name": "stdout",
          "text": [
            "Index 97: random Hamming Distance: 297\n"
          ]
        },
        {
          "output_type": "stream",
          "name": "stderr",
          "text": [
            "100%|██████████| 8/8 [00:00<00:00, 13.30it/s]\n",
            "100%|██████████| 23/23 [00:01<00:00, 13.06it/s]\n"
          ]
        },
        {
          "output_type": "stream",
          "name": "stdout",
          "text": [
            "Index 98: embedding Hamming Distance: 300\n"
          ]
        },
        {
          "output_type": "stream",
          "name": "stderr",
          "text": [
            "100%|██████████| 23/23 [00:01<00:00, 13.29it/s]\n"
          ]
        },
        {
          "output_type": "stream",
          "name": "stdout",
          "text": [
            "Index 98: random Hamming Distance: 286\n"
          ]
        },
        {
          "output_type": "stream",
          "name": "stderr",
          "text": [
            "100%|██████████| 8/8 [00:00<00:00, 12.93it/s]\n",
            "100%|██████████| 25/25 [00:01<00:00, 13.17it/s]\n"
          ]
        },
        {
          "output_type": "stream",
          "name": "stdout",
          "text": [
            "Index 99: embedding Hamming Distance: 19\n"
          ]
        },
        {
          "output_type": "stream",
          "name": "stderr",
          "text": [
            "100%|██████████| 25/25 [00:01<00:00, 13.34it/s]\n"
          ]
        },
        {
          "output_type": "stream",
          "name": "stdout",
          "text": [
            "Index 99: random Hamming Distance: 17\n"
          ]
        },
        {
          "output_type": "stream",
          "name": "stderr",
          "text": [
            "100%|██████████| 8/8 [00:00<00:00, 12.89it/s]\n",
            "100%|██████████| 36/36 [00:02<00:00, 12.87it/s]\n"
          ]
        },
        {
          "output_type": "stream",
          "name": "stdout",
          "text": [
            "Index 100: embedding Hamming Distance: 440\n"
          ]
        },
        {
          "output_type": "stream",
          "name": "stderr",
          "text": [
            "100%|██████████| 36/36 [00:02<00:00, 12.96it/s]\n"
          ]
        },
        {
          "output_type": "stream",
          "name": "stdout",
          "text": [
            "Index 100: random Hamming Distance: 462\n"
          ]
        },
        {
          "output_type": "stream",
          "name": "stderr",
          "text": [
            "100%|██████████| 8/8 [00:00<00:00, 13.30it/s]\n",
            "100%|██████████| 2/2 [00:00<00:00, 13.21it/s]\n"
          ]
        },
        {
          "output_type": "stream",
          "name": "stdout",
          "text": [
            "Index 101: random Hamming Distance: 34\n"
          ]
        },
        {
          "output_type": "stream",
          "name": "stderr",
          "text": [
            "100%|██████████| 8/8 [00:00<00:00, 13.15it/s]\n",
            "100%|██████████| 7/7 [00:00<00:00, 12.72it/s]\n"
          ]
        },
        {
          "output_type": "stream",
          "name": "stdout",
          "text": [
            "Index 102: embedding Hamming Distance: 6\n"
          ]
        },
        {
          "output_type": "stream",
          "name": "stderr",
          "text": [
            "100%|██████████| 7/7 [00:00<00:00, 13.17it/s]\n"
          ]
        },
        {
          "output_type": "stream",
          "name": "stdout",
          "text": [
            "Index 102: random Hamming Distance: 8\n"
          ]
        },
        {
          "output_type": "stream",
          "name": "stderr",
          "text": [
            "100%|██████████| 8/8 [00:00<00:00, 13.30it/s]\n",
            "100%|██████████| 23/23 [00:01<00:00, 13.15it/s]\n"
          ]
        },
        {
          "output_type": "stream",
          "name": "stdout",
          "text": [
            "Index 103: embedding Hamming Distance: 190\n"
          ]
        },
        {
          "output_type": "stream",
          "name": "stderr",
          "text": [
            "100%|██████████| 23/23 [00:01<00:00, 13.10it/s]\n"
          ]
        },
        {
          "output_type": "stream",
          "name": "stdout",
          "text": [
            "Index 103: random Hamming Distance: 203\n"
          ]
        },
        {
          "output_type": "stream",
          "name": "stderr",
          "text": [
            "100%|██████████| 8/8 [00:00<00:00, 13.23it/s]\n",
            "100%|██████████| 15/15 [00:01<00:00, 13.14it/s]\n"
          ]
        },
        {
          "output_type": "stream",
          "name": "stdout",
          "text": [
            "Index 104: embedding Hamming Distance: 190\n"
          ]
        },
        {
          "output_type": "stream",
          "name": "stderr",
          "text": [
            "100%|██████████| 15/15 [00:01<00:00, 13.28it/s]\n"
          ]
        },
        {
          "output_type": "stream",
          "name": "stdout",
          "text": [
            "Index 104: random Hamming Distance: 201\n"
          ]
        },
        {
          "output_type": "stream",
          "name": "stderr",
          "text": [
            "100%|██████████| 8/8 [00:00<00:00, 13.00it/s]\n",
            "100%|██████████| 30/30 [00:02<00:00, 13.21it/s]\n"
          ]
        },
        {
          "output_type": "stream",
          "name": "stdout",
          "text": [
            "Index 105: embedding Hamming Distance: 101\n"
          ]
        },
        {
          "output_type": "stream",
          "name": "stderr",
          "text": [
            "100%|██████████| 30/30 [00:02<00:00, 13.26it/s]\n"
          ]
        },
        {
          "output_type": "stream",
          "name": "stdout",
          "text": [
            "Index 105: random Hamming Distance: 96\n"
          ]
        },
        {
          "output_type": "stream",
          "name": "stderr",
          "text": [
            "100%|██████████| 8/8 [00:00<00:00, 12.79it/s]\n",
            "100%|██████████| 23/23 [00:01<00:00, 13.04it/s]\n"
          ]
        },
        {
          "output_type": "stream",
          "name": "stdout",
          "text": [
            "Index 106: embedding Hamming Distance: 258\n"
          ]
        },
        {
          "output_type": "stream",
          "name": "stderr",
          "text": [
            "100%|██████████| 23/23 [00:01<00:00, 13.30it/s]\n"
          ]
        },
        {
          "output_type": "stream",
          "name": "stdout",
          "text": [
            "Index 106: random Hamming Distance: 253\n"
          ]
        },
        {
          "output_type": "stream",
          "name": "stderr",
          "text": [
            "100%|██████████| 8/8 [00:00<00:00, 13.18it/s]\n",
            "100%|██████████| 4/4 [00:00<00:00, 12.26it/s]\n"
          ]
        },
        {
          "output_type": "stream",
          "name": "stdout",
          "text": [
            "Index 107: embedding Hamming Distance: 10\n"
          ]
        },
        {
          "output_type": "stream",
          "name": "stderr",
          "text": [
            "100%|██████████| 4/4 [00:00<00:00, 13.08it/s]\n"
          ]
        },
        {
          "output_type": "stream",
          "name": "stdout",
          "text": [
            "Index 107: random Hamming Distance: 7\n"
          ]
        },
        {
          "output_type": "stream",
          "name": "stderr",
          "text": [
            "100%|██████████| 8/8 [00:00<00:00, 12.89it/s]\n",
            "100%|██████████| 16/16 [00:01<00:00, 13.07it/s]\n"
          ]
        },
        {
          "output_type": "stream",
          "name": "stdout",
          "text": [
            "Index 108: embedding Hamming Distance: 53\n"
          ]
        },
        {
          "output_type": "stream",
          "name": "stderr",
          "text": [
            "100%|██████████| 16/16 [00:01<00:00, 13.28it/s]\n"
          ]
        },
        {
          "output_type": "stream",
          "name": "stdout",
          "text": [
            "Index 108: random Hamming Distance: 52\n"
          ]
        },
        {
          "output_type": "stream",
          "name": "stderr",
          "text": [
            "100%|██████████| 8/8 [00:00<00:00, 13.02it/s]\n",
            "100%|██████████| 9/9 [00:00<00:00, 12.68it/s]\n"
          ]
        },
        {
          "output_type": "stream",
          "name": "stdout",
          "text": [
            "Index 109: embedding Hamming Distance: 154\n"
          ]
        },
        {
          "output_type": "stream",
          "name": "stderr",
          "text": [
            "100%|██████████| 9/9 [00:00<00:00, 13.08it/s]\n"
          ]
        },
        {
          "output_type": "stream",
          "name": "stdout",
          "text": [
            "Index 109: random Hamming Distance: 152\n"
          ]
        },
        {
          "output_type": "stream",
          "name": "stderr",
          "text": [
            "100%|██████████| 8/8 [00:00<00:00, 13.15it/s]\n",
            "100%|██████████| 20/20 [00:01<00:00, 13.22it/s]\n"
          ]
        },
        {
          "output_type": "stream",
          "name": "stdout",
          "text": [
            "Index 110: embedding Hamming Distance: 45\n"
          ]
        },
        {
          "output_type": "stream",
          "name": "stderr",
          "text": [
            "100%|██████████| 20/20 [00:01<00:00, 13.42it/s]\n"
          ]
        },
        {
          "output_type": "stream",
          "name": "stdout",
          "text": [
            "Index 110: random Hamming Distance: 42\n"
          ]
        },
        {
          "output_type": "stream",
          "name": "stderr",
          "text": [
            "100%|██████████| 8/8 [00:00<00:00, 13.16it/s]\n",
            "100%|██████████| 1/1 [00:00<00:00, 10.37it/s]\n"
          ]
        },
        {
          "output_type": "stream",
          "name": "stdout",
          "text": [
            "Index 111: embedding Hamming Distance: 6\n"
          ]
        },
        {
          "output_type": "stream",
          "name": "stderr",
          "text": [
            "100%|██████████| 1/1 [00:00<00:00, 12.70it/s]\n"
          ]
        },
        {
          "output_type": "stream",
          "name": "stdout",
          "text": [
            "Index 111: random Hamming Distance: 5\n"
          ]
        },
        {
          "output_type": "stream",
          "name": "stderr",
          "text": [
            "100%|██████████| 8/8 [00:00<00:00, 13.15it/s]\n",
            "100%|██████████| 7/7 [00:00<00:00, 12.66it/s]\n"
          ]
        },
        {
          "output_type": "stream",
          "name": "stdout",
          "text": [
            "Index 112: embedding Hamming Distance: 74\n"
          ]
        },
        {
          "output_type": "stream",
          "name": "stderr",
          "text": [
            "100%|██████████| 7/7 [00:00<00:00, 12.81it/s]\n"
          ]
        },
        {
          "output_type": "stream",
          "name": "stdout",
          "text": [
            "Index 112: random Hamming Distance: 82\n"
          ]
        },
        {
          "output_type": "stream",
          "name": "stderr",
          "text": [
            "100%|██████████| 8/8 [00:00<00:00, 12.97it/s]\n",
            "100%|██████████| 3/3 [00:00<00:00, 13.00it/s]\n"
          ]
        },
        {
          "output_type": "stream",
          "name": "stdout",
          "text": [
            "Index 113: random Hamming Distance: 13\n"
          ]
        },
        {
          "output_type": "stream",
          "name": "stderr",
          "text": [
            "100%|██████████| 8/8 [00:00<00:00, 13.21it/s]\n",
            "100%|██████████| 13/13 [00:00<00:00, 13.05it/s]\n"
          ]
        },
        {
          "output_type": "stream",
          "name": "stdout",
          "text": [
            "Index 114: embedding Hamming Distance: 22\n"
          ]
        },
        {
          "output_type": "stream",
          "name": "stderr",
          "text": [
            "100%|██████████| 13/13 [00:00<00:00, 13.06it/s]\n"
          ]
        },
        {
          "output_type": "stream",
          "name": "stdout",
          "text": [
            "Index 114: random Hamming Distance: 21\n"
          ]
        },
        {
          "output_type": "stream",
          "name": "stderr",
          "text": [
            "100%|██████████| 8/8 [00:00<00:00, 12.95it/s]\n",
            "100%|██████████| 20/20 [00:01<00:00, 13.23it/s]\n"
          ]
        },
        {
          "output_type": "stream",
          "name": "stdout",
          "text": [
            "Index 115: embedding Hamming Distance: 205\n"
          ]
        },
        {
          "output_type": "stream",
          "name": "stderr",
          "text": [
            "100%|██████████| 20/20 [00:01<00:00, 13.32it/s]\n"
          ]
        },
        {
          "output_type": "stream",
          "name": "stdout",
          "text": [
            "Index 115: random Hamming Distance: 216\n"
          ]
        },
        {
          "output_type": "stream",
          "name": "stderr",
          "text": [
            "100%|██████████| 8/8 [00:00<00:00, 12.96it/s]\n",
            "100%|██████████| 12/12 [00:00<00:00, 13.31it/s]\n"
          ]
        },
        {
          "output_type": "stream",
          "name": "stdout",
          "text": [
            "Index 116: random Hamming Distance: 251\n"
          ]
        },
        {
          "output_type": "stream",
          "name": "stderr",
          "text": [
            "100%|██████████| 8/8 [00:00<00:00, 13.33it/s]\n",
            "100%|██████████| 9/9 [00:00<00:00, 12.52it/s]\n"
          ]
        },
        {
          "output_type": "stream",
          "name": "stdout",
          "text": [
            "Index 117: embedding Hamming Distance: 23\n"
          ]
        },
        {
          "output_type": "stream",
          "name": "stderr",
          "text": [
            "100%|██████████| 9/9 [00:00<00:00, 13.15it/s]\n"
          ]
        },
        {
          "output_type": "stream",
          "name": "stdout",
          "text": [
            "Index 117: random Hamming Distance: 19\n"
          ]
        },
        {
          "output_type": "stream",
          "name": "stderr",
          "text": [
            "100%|██████████| 8/8 [00:00<00:00, 13.20it/s]\n",
            "100%|██████████| 6/6 [00:00<00:00, 12.53it/s]\n"
          ]
        },
        {
          "output_type": "stream",
          "name": "stdout",
          "text": [
            "Index 118: embedding Hamming Distance: 38\n"
          ]
        },
        {
          "output_type": "stream",
          "name": "stderr",
          "text": [
            "100%|██████████| 6/6 [00:00<00:00, 13.18it/s]\n"
          ]
        },
        {
          "output_type": "stream",
          "name": "stdout",
          "text": [
            "Index 118: random Hamming Distance: 41\n"
          ]
        },
        {
          "output_type": "stream",
          "name": "stderr",
          "text": [
            "100%|██████████| 8/8 [00:00<00:00, 12.78it/s]\n",
            "100%|██████████| 14/14 [00:01<00:00, 13.10it/s]\n"
          ]
        },
        {
          "output_type": "stream",
          "name": "stdout",
          "text": [
            "Index 119: embedding Hamming Distance: 87\n"
          ]
        },
        {
          "output_type": "stream",
          "name": "stderr",
          "text": [
            "100%|██████████| 14/14 [00:01<00:00, 13.25it/s]\n"
          ]
        },
        {
          "output_type": "stream",
          "name": "stdout",
          "text": [
            "Index 119: random Hamming Distance: 81\n"
          ]
        },
        {
          "output_type": "stream",
          "name": "stderr",
          "text": [
            "100%|██████████| 8/8 [00:00<00:00, 13.32it/s]\n",
            "100%|██████████| 10/10 [00:00<00:00, 13.13it/s]\n"
          ]
        },
        {
          "output_type": "stream",
          "name": "stdout",
          "text": [
            "Index 120: embedding Hamming Distance: 59\n"
          ]
        },
        {
          "output_type": "stream",
          "name": "stderr",
          "text": [
            "100%|██████████| 10/10 [00:00<00:00, 12.96it/s]\n"
          ]
        },
        {
          "output_type": "stream",
          "name": "stdout",
          "text": [
            "Index 120: random Hamming Distance: 56\n"
          ]
        },
        {
          "output_type": "stream",
          "name": "stderr",
          "text": [
            "100%|██████████| 8/8 [00:00<00:00, 13.19it/s]\n",
            "100%|██████████| 4/4 [00:00<00:00, 12.06it/s]\n"
          ]
        },
        {
          "output_type": "stream",
          "name": "stdout",
          "text": [
            "Index 121: embedding Hamming Distance: 35\n"
          ]
        },
        {
          "output_type": "stream",
          "name": "stderr",
          "text": [
            "100%|██████████| 4/4 [00:00<00:00, 13.19it/s]\n"
          ]
        },
        {
          "output_type": "stream",
          "name": "stdout",
          "text": [
            "Index 121: random Hamming Distance: 37\n"
          ]
        },
        {
          "output_type": "stream",
          "name": "stderr",
          "text": [
            "100%|██████████| 8/8 [00:00<00:00, 12.57it/s]\n",
            "100%|██████████| 10/10 [00:00<00:00, 12.79it/s]\n"
          ]
        },
        {
          "output_type": "stream",
          "name": "stdout",
          "text": [
            "Index 122: embedding Hamming Distance: 54\n"
          ]
        },
        {
          "output_type": "stream",
          "name": "stderr",
          "text": [
            "100%|██████████| 10/10 [00:00<00:00, 13.32it/s]\n"
          ]
        },
        {
          "output_type": "stream",
          "name": "stdout",
          "text": [
            "Index 122: random Hamming Distance: 55\n"
          ]
        },
        {
          "output_type": "stream",
          "name": "stderr",
          "text": [
            "100%|██████████| 8/8 [00:00<00:00, 13.03it/s]\n",
            "100%|██████████| 9/9 [00:00<00:00, 13.10it/s]\n"
          ]
        },
        {
          "output_type": "stream",
          "name": "stdout",
          "text": [
            "Index 124: random Hamming Distance: 191\n"
          ]
        },
        {
          "output_type": "stream",
          "name": "stderr",
          "text": [
            "100%|██████████| 8/8 [00:00<00:00, 13.12it/s]\n",
            "100%|██████████| 3/3 [00:00<00:00, 12.08it/s]\n"
          ]
        },
        {
          "output_type": "stream",
          "name": "stdout",
          "text": [
            "Index 125: embedding Hamming Distance: 8\n"
          ]
        },
        {
          "output_type": "stream",
          "name": "stderr",
          "text": [
            "100%|██████████| 3/3 [00:00<00:00, 13.04it/s]\n"
          ]
        },
        {
          "output_type": "stream",
          "name": "stdout",
          "text": [
            "Index 125: random Hamming Distance: 5\n"
          ]
        },
        {
          "output_type": "stream",
          "name": "stderr",
          "text": [
            "100%|██████████| 8/8 [00:00<00:00, 13.16it/s]\n",
            "100%|██████████| 4/4 [00:00<00:00, 10.95it/s]\n"
          ]
        },
        {
          "output_type": "stream",
          "name": "stdout",
          "text": [
            "Index 126: embedding Hamming Distance: 13\n"
          ]
        },
        {
          "output_type": "stream",
          "name": "stderr",
          "text": [
            "100%|██████████| 4/4 [00:00<00:00, 13.05it/s]\n"
          ]
        },
        {
          "output_type": "stream",
          "name": "stdout",
          "text": [
            "Index 126: random Hamming Distance: 10\n"
          ]
        },
        {
          "output_type": "stream",
          "name": "stderr",
          "text": [
            "100%|██████████| 8/8 [00:00<00:00, 12.55it/s]\n",
            "100%|██████████| 11/11 [00:00<00:00, 13.16it/s]\n"
          ]
        },
        {
          "output_type": "stream",
          "name": "stdout",
          "text": [
            "Index 127: random Hamming Distance: 205\n"
          ]
        },
        {
          "output_type": "stream",
          "name": "stderr",
          "text": [
            "100%|██████████| 8/8 [00:00<00:00, 13.17it/s]\n",
            "100%|██████████| 1/1 [00:00<00:00, 10.49it/s]\n"
          ]
        },
        {
          "output_type": "stream",
          "name": "stdout",
          "text": [
            "Index 128: embedding Hamming Distance: 4\n"
          ]
        },
        {
          "output_type": "stream",
          "name": "stderr",
          "text": [
            "100%|██████████| 1/1 [00:00<00:00, 13.04it/s]\n"
          ]
        },
        {
          "output_type": "stream",
          "name": "stdout",
          "text": [
            "Index 128: random Hamming Distance: 6\n"
          ]
        },
        {
          "output_type": "stream",
          "name": "stderr",
          "text": [
            "100%|██████████| 8/8 [00:00<00:00, 13.11it/s]\n",
            "100%|██████████| 5/5 [00:00<00:00, 12.48it/s]\n"
          ]
        },
        {
          "output_type": "stream",
          "name": "stdout",
          "text": [
            "Index 129: embedding Hamming Distance: 26\n"
          ]
        },
        {
          "output_type": "stream",
          "name": "stderr",
          "text": [
            "100%|██████████| 5/5 [00:00<00:00, 12.87it/s]\n"
          ]
        },
        {
          "output_type": "stream",
          "name": "stdout",
          "text": [
            "Index 129: random Hamming Distance: 25\n"
          ]
        },
        {
          "output_type": "stream",
          "name": "stderr",
          "text": [
            "100%|██████████| 8/8 [00:00<00:00, 12.99it/s]\n",
            "100%|██████████| 14/14 [00:01<00:00, 13.04it/s]\n"
          ]
        },
        {
          "output_type": "stream",
          "name": "stdout",
          "text": [
            "Index 130: embedding Hamming Distance: 15\n"
          ]
        },
        {
          "output_type": "stream",
          "name": "stderr",
          "text": [
            "100%|██████████| 14/14 [00:01<00:00, 13.17it/s]\n"
          ]
        },
        {
          "output_type": "stream",
          "name": "stdout",
          "text": [
            "Index 130: random Hamming Distance: 13\n"
          ]
        },
        {
          "output_type": "stream",
          "name": "stderr",
          "text": [
            "100%|██████████| 8/8 [00:00<00:00, 12.69it/s]\n",
            "100%|██████████| 13/13 [00:01<00:00, 12.84it/s]\n"
          ]
        },
        {
          "output_type": "stream",
          "name": "stdout",
          "text": [
            "Index 131: embedding Hamming Distance: 79\n"
          ]
        },
        {
          "output_type": "stream",
          "name": "stderr",
          "text": [
            "100%|██████████| 13/13 [00:00<00:00, 13.01it/s]\n"
          ]
        },
        {
          "output_type": "stream",
          "name": "stdout",
          "text": [
            "Index 131: random Hamming Distance: 67\n"
          ]
        },
        {
          "output_type": "stream",
          "name": "stderr",
          "text": [
            "100%|██████████| 8/8 [00:00<00:00, 12.83it/s]\n",
            "100%|██████████| 6/6 [00:00<00:00, 13.24it/s]\n"
          ]
        },
        {
          "output_type": "stream",
          "name": "stdout",
          "text": [
            "Index 132: random Hamming Distance: 125\n"
          ]
        },
        {
          "output_type": "stream",
          "name": "stderr",
          "text": [
            "100%|██████████| 8/8 [00:00<00:00, 13.01it/s]\n",
            "100%|██████████| 22/22 [00:01<00:00, 12.89it/s]\n"
          ]
        },
        {
          "output_type": "stream",
          "name": "stdout",
          "text": [
            "Index 133: embedding Hamming Distance: 247\n"
          ]
        },
        {
          "output_type": "stream",
          "name": "stderr",
          "text": [
            "100%|██████████| 22/22 [00:01<00:00, 13.11it/s]\n"
          ]
        },
        {
          "output_type": "stream",
          "name": "stdout",
          "text": [
            "Index 133: random Hamming Distance: 254\n"
          ]
        },
        {
          "output_type": "stream",
          "name": "stderr",
          "text": [
            "100%|██████████| 8/8 [00:00<00:00, 12.71it/s]\n",
            "100%|██████████| 9/9 [00:00<00:00, 12.72it/s]\n"
          ]
        },
        {
          "output_type": "stream",
          "name": "stdout",
          "text": [
            "Index 134: embedding Hamming Distance: 135\n"
          ]
        },
        {
          "output_type": "stream",
          "name": "stderr",
          "text": [
            "100%|██████████| 9/9 [00:00<00:00, 13.21it/s]\n"
          ]
        },
        {
          "output_type": "stream",
          "name": "stdout",
          "text": [
            "Index 134: random Hamming Distance: 129\n"
          ]
        },
        {
          "output_type": "stream",
          "name": "stderr",
          "text": [
            "100%|██████████| 8/8 [00:00<00:00, 13.22it/s]\n",
            "100%|██████████| 7/7 [00:00<00:00, 12.75it/s]\n"
          ]
        },
        {
          "output_type": "stream",
          "name": "stdout",
          "text": [
            "Index 135: embedding Hamming Distance: 59\n"
          ]
        },
        {
          "output_type": "stream",
          "name": "stderr",
          "text": [
            "100%|██████████| 7/7 [00:00<00:00, 13.21it/s]\n"
          ]
        },
        {
          "output_type": "stream",
          "name": "stdout",
          "text": [
            "Index 135: random Hamming Distance: 59\n"
          ]
        },
        {
          "output_type": "stream",
          "name": "stderr",
          "text": [
            "100%|██████████| 8/8 [00:00<00:00, 12.97it/s]\n",
            "100%|██████████| 13/13 [00:00<00:00, 13.06it/s]\n"
          ]
        },
        {
          "output_type": "stream",
          "name": "stdout",
          "text": [
            "Index 136: random Hamming Distance: 75\n"
          ]
        },
        {
          "output_type": "stream",
          "name": "stderr",
          "text": [
            "100%|██████████| 8/8 [00:00<00:00, 12.92it/s]\n",
            "100%|██████████| 14/14 [00:01<00:00, 13.10it/s]\n"
          ]
        },
        {
          "output_type": "stream",
          "name": "stdout",
          "text": [
            "Index 137: random Hamming Distance: 318\n"
          ]
        },
        {
          "output_type": "stream",
          "name": "stderr",
          "text": [
            "100%|██████████| 8/8 [00:00<00:00, 12.67it/s]\n",
            "100%|██████████| 5/5 [00:00<00:00, 12.35it/s]\n"
          ]
        },
        {
          "output_type": "stream",
          "name": "stdout",
          "text": [
            "Index 138: embedding Hamming Distance: 12\n"
          ]
        },
        {
          "output_type": "stream",
          "name": "stderr",
          "text": [
            "100%|██████████| 5/5 [00:00<00:00, 12.76it/s]\n"
          ]
        },
        {
          "output_type": "stream",
          "name": "stdout",
          "text": [
            "Index 138: random Hamming Distance: 13\n"
          ]
        },
        {
          "output_type": "stream",
          "name": "stderr",
          "text": [
            "100%|██████████| 8/8 [00:00<00:00, 12.58it/s]\n",
            "100%|██████████| 13/13 [00:01<00:00, 12.83it/s]\n"
          ]
        },
        {
          "output_type": "stream",
          "name": "stdout",
          "text": [
            "Index 139: embedding Hamming Distance: 28\n"
          ]
        },
        {
          "output_type": "stream",
          "name": "stderr",
          "text": [
            "100%|██████████| 13/13 [00:00<00:00, 13.22it/s]\n"
          ]
        },
        {
          "output_type": "stream",
          "name": "stdout",
          "text": [
            "Index 139: random Hamming Distance: 15\n"
          ]
        },
        {
          "output_type": "stream",
          "name": "stderr",
          "text": [
            "100%|██████████| 8/8 [00:00<00:00, 13.25it/s]\n",
            "100%|██████████| 22/22 [00:01<00:00, 13.23it/s]\n"
          ]
        },
        {
          "output_type": "stream",
          "name": "stdout",
          "text": [
            "Index 140: embedding Hamming Distance: 76\n"
          ]
        },
        {
          "output_type": "stream",
          "name": "stderr",
          "text": [
            "100%|██████████| 22/22 [00:01<00:00, 13.26it/s]\n"
          ]
        },
        {
          "output_type": "stream",
          "name": "stdout",
          "text": [
            "Index 140: random Hamming Distance: 74\n"
          ]
        },
        {
          "output_type": "stream",
          "name": "stderr",
          "text": [
            "100%|██████████| 8/8 [00:00<00:00, 13.16it/s]\n",
            "100%|██████████| 16/16 [00:01<00:00, 13.14it/s]\n"
          ]
        },
        {
          "output_type": "stream",
          "name": "stdout",
          "text": [
            "Index 141: embedding Hamming Distance: 102\n"
          ]
        },
        {
          "output_type": "stream",
          "name": "stderr",
          "text": [
            "100%|██████████| 16/16 [00:01<00:00, 13.21it/s]\n"
          ]
        },
        {
          "output_type": "stream",
          "name": "stdout",
          "text": [
            "Index 141: random Hamming Distance: 94\n"
          ]
        },
        {
          "output_type": "stream",
          "name": "stderr",
          "text": [
            "100%|██████████| 8/8 [00:00<00:00, 13.13it/s]\n",
            "100%|██████████| 7/7 [00:00<00:00, 12.25it/s]\n"
          ]
        },
        {
          "output_type": "stream",
          "name": "stdout",
          "text": [
            "Index 142: embedding Hamming Distance: 20\n"
          ]
        },
        {
          "output_type": "stream",
          "name": "stderr",
          "text": [
            "100%|██████████| 7/7 [00:00<00:00, 13.12it/s]\n"
          ]
        },
        {
          "output_type": "stream",
          "name": "stdout",
          "text": [
            "Index 142: random Hamming Distance: 26\n"
          ]
        },
        {
          "output_type": "stream",
          "name": "stderr",
          "text": [
            "100%|██████████| 8/8 [00:00<00:00, 13.16it/s]\n",
            "100%|██████████| 15/15 [00:01<00:00, 12.83it/s]\n"
          ]
        },
        {
          "output_type": "stream",
          "name": "stdout",
          "text": [
            "Index 143: embedding Hamming Distance: 52\n"
          ]
        },
        {
          "output_type": "stream",
          "name": "stderr",
          "text": [
            "100%|██████████| 15/15 [00:01<00:00, 13.32it/s]\n"
          ]
        },
        {
          "output_type": "stream",
          "name": "stdout",
          "text": [
            "Index 143: random Hamming Distance: 62\n"
          ]
        },
        {
          "output_type": "stream",
          "name": "stderr",
          "text": [
            "100%|██████████| 8/8 [00:00<00:00, 13.04it/s]\n",
            "100%|██████████| 11/11 [00:00<00:00, 13.12it/s]\n"
          ]
        },
        {
          "output_type": "stream",
          "name": "stdout",
          "text": [
            "Index 144: embedding Hamming Distance: 37\n"
          ]
        },
        {
          "output_type": "stream",
          "name": "stderr",
          "text": [
            "100%|██████████| 11/11 [00:00<00:00, 13.40it/s]\n"
          ]
        },
        {
          "output_type": "stream",
          "name": "stdout",
          "text": [
            "Index 144: random Hamming Distance: 34\n"
          ]
        },
        {
          "output_type": "stream",
          "name": "stderr",
          "text": [
            "100%|██████████| 8/8 [00:00<00:00, 12.77it/s]\n",
            "100%|██████████| 11/11 [00:00<00:00, 12.92it/s]\n"
          ]
        },
        {
          "output_type": "stream",
          "name": "stdout",
          "text": [
            "Index 145: embedding Hamming Distance: 29\n"
          ]
        },
        {
          "output_type": "stream",
          "name": "stderr",
          "text": [
            "100%|██████████| 11/11 [00:00<00:00, 13.19it/s]\n"
          ]
        },
        {
          "output_type": "stream",
          "name": "stdout",
          "text": [
            "Index 145: random Hamming Distance: 28\n"
          ]
        },
        {
          "output_type": "stream",
          "name": "stderr",
          "text": [
            "100%|██████████| 8/8 [00:00<00:00, 13.05it/s]\n",
            "100%|██████████| 10/10 [00:00<00:00, 12.59it/s]\n"
          ]
        },
        {
          "output_type": "stream",
          "name": "stdout",
          "text": [
            "Index 146: embedding Hamming Distance: 66\n"
          ]
        },
        {
          "output_type": "stream",
          "name": "stderr",
          "text": [
            "100%|██████████| 10/10 [00:00<00:00, 13.09it/s]\n"
          ]
        },
        {
          "output_type": "stream",
          "name": "stdout",
          "text": [
            "Index 146: random Hamming Distance: 61\n"
          ]
        },
        {
          "output_type": "stream",
          "name": "stderr",
          "text": [
            "100%|██████████| 8/8 [00:01<00:00,  7.02it/s]\n",
            "100%|██████████| 57/57 [00:08<00:00,  7.09it/s]\n"
          ]
        },
        {
          "output_type": "stream",
          "name": "stdout",
          "text": [
            "Index 147: embedding Hamming Distance: 113\n"
          ]
        },
        {
          "output_type": "stream",
          "name": "stderr",
          "text": [
            "100%|██████████| 57/57 [00:08<00:00,  6.98it/s]\n"
          ]
        },
        {
          "output_type": "stream",
          "name": "stdout",
          "text": [
            "Index 147: random Hamming Distance: 122\n"
          ]
        },
        {
          "output_type": "stream",
          "name": "stderr",
          "text": [
            "100%|██████████| 8/8 [00:00<00:00, 13.01it/s]\n",
            "100%|██████████| 9/9 [00:00<00:00, 12.81it/s]\n"
          ]
        },
        {
          "output_type": "stream",
          "name": "stdout",
          "text": [
            "Index 148: embedding Hamming Distance: 132\n"
          ]
        },
        {
          "output_type": "stream",
          "name": "stderr",
          "text": [
            "100%|██████████| 9/9 [00:00<00:00, 13.06it/s]\n"
          ]
        },
        {
          "output_type": "stream",
          "name": "stdout",
          "text": [
            "Index 148: random Hamming Distance: 124\n"
          ]
        },
        {
          "output_type": "stream",
          "name": "stderr",
          "text": [
            "100%|██████████| 8/8 [00:00<00:00, 13.17it/s]\n",
            "100%|██████████| 18/18 [00:01<00:00, 12.97it/s]\n"
          ]
        },
        {
          "output_type": "stream",
          "name": "stdout",
          "text": [
            "Index 149: embedding Hamming Distance: 179\n"
          ]
        },
        {
          "output_type": "stream",
          "name": "stderr",
          "text": [
            "100%|██████████| 18/18 [00:01<00:00, 13.23it/s]\n"
          ]
        },
        {
          "output_type": "stream",
          "name": "stdout",
          "text": [
            "Index 149: random Hamming Distance: 175\n"
          ]
        },
        {
          "output_type": "stream",
          "name": "stderr",
          "text": [
            "100%|██████████| 8/8 [00:00<00:00, 13.10it/s]\n",
            "100%|██████████| 31/31 [00:02<00:00, 13.08it/s]\n"
          ]
        },
        {
          "output_type": "stream",
          "name": "stdout",
          "text": [
            "Index 150: embedding Hamming Distance: 234\n"
          ]
        },
        {
          "output_type": "stream",
          "name": "stderr",
          "text": [
            "100%|██████████| 31/31 [00:02<00:00, 13.35it/s]\n"
          ]
        },
        {
          "output_type": "stream",
          "name": "stdout",
          "text": [
            "Index 150: random Hamming Distance: 217\n"
          ]
        },
        {
          "output_type": "stream",
          "name": "stderr",
          "text": [
            "100%|██████████| 8/8 [00:00<00:00, 13.28it/s]\n",
            "100%|██████████| 14/14 [00:01<00:00, 13.12it/s]\n"
          ]
        },
        {
          "output_type": "stream",
          "name": "stdout",
          "text": [
            "Index 151: embedding Hamming Distance: 51\n"
          ]
        },
        {
          "output_type": "stream",
          "name": "stderr",
          "text": [
            "100%|██████████| 14/14 [00:01<00:00, 13.25it/s]\n"
          ]
        },
        {
          "output_type": "stream",
          "name": "stdout",
          "text": [
            "Index 151: random Hamming Distance: 43\n"
          ]
        },
        {
          "output_type": "stream",
          "name": "stderr",
          "text": [
            "100%|██████████| 8/8 [00:00<00:00, 13.07it/s]\n",
            "100%|██████████| 19/19 [00:01<00:00, 13.00it/s]\n"
          ]
        },
        {
          "output_type": "stream",
          "name": "stdout",
          "text": [
            "Index 152: embedding Hamming Distance: 96\n"
          ]
        },
        {
          "output_type": "stream",
          "name": "stderr",
          "text": [
            "100%|██████████| 19/19 [00:01<00:00, 13.29it/s]\n"
          ]
        },
        {
          "output_type": "stream",
          "name": "stdout",
          "text": [
            "Index 152: random Hamming Distance: 101\n"
          ]
        },
        {
          "output_type": "stream",
          "name": "stderr",
          "text": [
            "100%|██████████| 8/8 [00:00<00:00, 13.19it/s]\n",
            "100%|██████████| 7/7 [00:00<00:00, 12.68it/s]\n"
          ]
        },
        {
          "output_type": "stream",
          "name": "stdout",
          "text": [
            "Index 154: embedding Hamming Distance: 9\n"
          ]
        },
        {
          "output_type": "stream",
          "name": "stderr",
          "text": [
            "100%|██████████| 7/7 [00:00<00:00, 13.20it/s]\n"
          ]
        },
        {
          "output_type": "stream",
          "name": "stdout",
          "text": [
            "Index 154: random Hamming Distance: 4\n"
          ]
        },
        {
          "output_type": "stream",
          "name": "stderr",
          "text": [
            "100%|██████████| 8/8 [00:00<00:00, 13.22it/s]\n",
            "100%|██████████| 4/4 [00:00<00:00, 13.51it/s]\n"
          ]
        },
        {
          "output_type": "stream",
          "name": "stdout",
          "text": [
            "Index 155: random Hamming Distance: 33\n"
          ]
        },
        {
          "output_type": "stream",
          "name": "stderr",
          "text": [
            "100%|██████████| 8/8 [00:00<00:00, 13.16it/s]\n",
            "100%|██████████| 11/11 [00:00<00:00, 12.95it/s]\n"
          ]
        },
        {
          "output_type": "stream",
          "name": "stdout",
          "text": [
            "Index 156: embedding Hamming Distance: 82\n"
          ]
        },
        {
          "output_type": "stream",
          "name": "stderr",
          "text": [
            "100%|██████████| 11/11 [00:00<00:00, 13.09it/s]\n"
          ]
        },
        {
          "output_type": "stream",
          "name": "stdout",
          "text": [
            "Index 156: random Hamming Distance: 76\n"
          ]
        },
        {
          "output_type": "stream",
          "name": "stderr",
          "text": [
            "100%|██████████| 8/8 [00:00<00:00, 13.03it/s]\n",
            "100%|██████████| 10/10 [00:00<00:00, 12.59it/s]\n"
          ]
        },
        {
          "output_type": "stream",
          "name": "stdout",
          "text": [
            "Index 157: embedding Hamming Distance: 21\n"
          ]
        },
        {
          "output_type": "stream",
          "name": "stderr",
          "text": [
            "100%|██████████| 10/10 [00:00<00:00, 13.25it/s]\n"
          ]
        },
        {
          "output_type": "stream",
          "name": "stdout",
          "text": [
            "Index 157: random Hamming Distance: 17\n"
          ]
        },
        {
          "output_type": "stream",
          "name": "stderr",
          "text": [
            "100%|██████████| 8/8 [00:00<00:00, 12.90it/s]\n",
            "100%|██████████| 7/7 [00:00<00:00, 13.14it/s]\n"
          ]
        },
        {
          "output_type": "stream",
          "name": "stdout",
          "text": [
            "Index 158: random Hamming Distance: 71\n"
          ]
        },
        {
          "output_type": "stream",
          "name": "stderr",
          "text": [
            "100%|██████████| 8/8 [00:00<00:00, 12.85it/s]\n",
            "100%|██████████| 12/12 [00:00<00:00, 12.73it/s]\n"
          ]
        },
        {
          "output_type": "stream",
          "name": "stdout",
          "text": [
            "Index 159: embedding Hamming Distance: 20\n"
          ]
        },
        {
          "output_type": "stream",
          "name": "stderr",
          "text": [
            "100%|██████████| 12/12 [00:00<00:00, 13.10it/s]\n"
          ]
        },
        {
          "output_type": "stream",
          "name": "stdout",
          "text": [
            "Index 159: random Hamming Distance: 14\n"
          ]
        },
        {
          "output_type": "stream",
          "name": "stderr",
          "text": [
            "100%|██████████| 8/8 [00:00<00:00, 13.09it/s]\n",
            "100%|██████████| 26/26 [00:01<00:00, 13.29it/s]\n"
          ]
        },
        {
          "output_type": "stream",
          "name": "stdout",
          "text": [
            "Index 160: random Hamming Distance: 129\n"
          ]
        },
        {
          "output_type": "stream",
          "name": "stderr",
          "text": [
            "100%|██████████| 8/8 [00:01<00:00,  5.98it/s]\n",
            "100%|██████████| 62/62 [00:10<00:00,  6.07it/s]\n"
          ]
        },
        {
          "output_type": "stream",
          "name": "stdout",
          "text": [
            "Index 161: embedding Hamming Distance: 201\n"
          ]
        },
        {
          "output_type": "stream",
          "name": "stderr",
          "text": [
            "100%|██████████| 62/62 [00:10<00:00,  5.93it/s]\n"
          ]
        },
        {
          "output_type": "stream",
          "name": "stdout",
          "text": [
            "Index 161: random Hamming Distance: 173\n"
          ]
        },
        {
          "output_type": "stream",
          "name": "stderr",
          "text": [
            "100%|██████████| 8/8 [00:00<00:00, 12.66it/s]\n",
            "100%|██████████| 12/12 [00:00<00:00, 12.71it/s]\n"
          ]
        },
        {
          "output_type": "stream",
          "name": "stdout",
          "text": [
            "Index 162: embedding Hamming Distance: 64\n"
          ]
        },
        {
          "output_type": "stream",
          "name": "stderr",
          "text": [
            "100%|██████████| 12/12 [00:00<00:00, 13.00it/s]\n"
          ]
        },
        {
          "output_type": "stream",
          "name": "stdout",
          "text": [
            "Index 162: random Hamming Distance: 67\n"
          ]
        },
        {
          "output_type": "stream",
          "name": "stderr",
          "text": [
            "100%|██████████| 8/8 [00:00<00:00, 12.99it/s]\n",
            "100%|██████████| 4/4 [00:00<00:00, 12.17it/s]\n"
          ]
        },
        {
          "output_type": "stream",
          "name": "stdout",
          "text": [
            "Index 163: embedding Hamming Distance: 14\n"
          ]
        },
        {
          "output_type": "stream",
          "name": "stderr",
          "text": [
            "100%|██████████| 4/4 [00:00<00:00, 12.83it/s]\n"
          ]
        },
        {
          "output_type": "stream",
          "name": "stdout",
          "text": [
            "Index 163: random Hamming Distance: 12\n"
          ]
        },
        {
          "output_type": "stream",
          "name": "stderr",
          "text": [
            "100%|██████████| 8/8 [00:00<00:00, 12.42it/s]\n",
            "100%|██████████| 9/9 [00:00<00:00, 12.92it/s]\n"
          ]
        },
        {
          "output_type": "stream",
          "name": "stdout",
          "text": [
            "Index 164: embedding Hamming Distance: 52\n"
          ]
        },
        {
          "output_type": "stream",
          "name": "stderr",
          "text": [
            "100%|██████████| 9/9 [00:00<00:00, 13.13it/s]\n"
          ]
        },
        {
          "output_type": "stream",
          "name": "stdout",
          "text": [
            "Index 164: random Hamming Distance: 55\n"
          ]
        },
        {
          "output_type": "stream",
          "name": "stderr",
          "text": [
            "100%|██████████| 8/8 [00:00<00:00, 13.03it/s]\n",
            "100%|██████████| 2/2 [00:00<00:00, 11.25it/s]\n"
          ]
        },
        {
          "output_type": "stream",
          "name": "stdout",
          "text": [
            "Index 165: embedding Hamming Distance: 9\n"
          ]
        },
        {
          "output_type": "stream",
          "name": "stderr",
          "text": [
            "100%|██████████| 2/2 [00:00<00:00, 13.03it/s]\n"
          ]
        },
        {
          "output_type": "stream",
          "name": "stdout",
          "text": [
            "Index 165: random Hamming Distance: 6\n"
          ]
        },
        {
          "output_type": "stream",
          "name": "stderr",
          "text": [
            "100%|██████████| 8/8 [00:00<00:00, 12.96it/s]\n",
            "100%|██████████| 12/12 [00:00<00:00, 12.80it/s]\n"
          ]
        },
        {
          "output_type": "stream",
          "name": "stdout",
          "text": [
            "Index 166: embedding Hamming Distance: 117\n"
          ]
        },
        {
          "output_type": "stream",
          "name": "stderr",
          "text": [
            "100%|██████████| 12/12 [00:00<00:00, 12.50it/s]\n"
          ]
        },
        {
          "output_type": "stream",
          "name": "stdout",
          "text": [
            "Index 166: random Hamming Distance: 115\n"
          ]
        },
        {
          "output_type": "stream",
          "name": "stderr",
          "text": [
            "100%|██████████| 8/8 [00:00<00:00, 13.11it/s]\n",
            "100%|██████████| 7/7 [00:00<00:00, 12.55it/s]\n"
          ]
        },
        {
          "output_type": "stream",
          "name": "stdout",
          "text": [
            "Index 167: embedding Hamming Distance: 9\n"
          ]
        },
        {
          "output_type": "stream",
          "name": "stderr",
          "text": [
            "100%|██████████| 7/7 [00:00<00:00, 13.10it/s]\n"
          ]
        },
        {
          "output_type": "stream",
          "name": "stdout",
          "text": [
            "Index 167: random Hamming Distance: 5\n"
          ]
        },
        {
          "output_type": "stream",
          "name": "stderr",
          "text": [
            "100%|██████████| 8/8 [00:00<00:00, 13.13it/s]\n",
            "100%|██████████| 5/5 [00:00<00:00, 13.24it/s]\n"
          ]
        },
        {
          "output_type": "stream",
          "name": "stdout",
          "text": [
            "Index 168: random Hamming Distance: 53\n"
          ]
        },
        {
          "output_type": "stream",
          "name": "stderr",
          "text": [
            "100%|██████████| 8/8 [00:00<00:00, 13.05it/s]\n",
            "100%|██████████| 6/6 [00:00<00:00, 12.13it/s]\n"
          ]
        },
        {
          "output_type": "stream",
          "name": "stdout",
          "text": [
            "Index 169: embedding Hamming Distance: 6\n"
          ]
        },
        {
          "output_type": "stream",
          "name": "stderr",
          "text": [
            "100%|██████████| 6/6 [00:00<00:00, 13.26it/s]\n"
          ]
        },
        {
          "output_type": "stream",
          "name": "stdout",
          "text": [
            "Index 169: random Hamming Distance: 11\n"
          ]
        },
        {
          "output_type": "stream",
          "name": "stderr",
          "text": [
            "100%|██████████| 8/8 [00:00<00:00, 12.91it/s]\n",
            "100%|██████████| 6/6 [00:00<00:00, 12.03it/s]\n"
          ]
        },
        {
          "output_type": "stream",
          "name": "stdout",
          "text": [
            "Index 170: embedding Hamming Distance: 29\n"
          ]
        },
        {
          "output_type": "stream",
          "name": "stderr",
          "text": [
            "100%|██████████| 6/6 [00:00<00:00, 12.84it/s]\n"
          ]
        },
        {
          "output_type": "stream",
          "name": "stdout",
          "text": [
            "Index 170: random Hamming Distance: 24\n"
          ]
        },
        {
          "output_type": "stream",
          "name": "stderr",
          "text": [
            "100%|██████████| 8/8 [00:00<00:00, 13.16it/s]\n",
            "100%|██████████| 6/6 [00:00<00:00, 13.20it/s]\n"
          ]
        },
        {
          "output_type": "stream",
          "name": "stdout",
          "text": [
            "Index 171: random Hamming Distance: 103\n"
          ]
        },
        {
          "output_type": "stream",
          "name": "stderr",
          "text": [
            "100%|██████████| 8/8 [00:00<00:00, 12.94it/s]\n",
            "100%|██████████| 7/7 [00:00<00:00, 12.29it/s]\n"
          ]
        },
        {
          "output_type": "stream",
          "name": "stdout",
          "text": [
            "Index 172: embedding Hamming Distance: 118\n"
          ]
        },
        {
          "output_type": "stream",
          "name": "stderr",
          "text": [
            "100%|██████████| 7/7 [00:00<00:00, 12.96it/s]\n"
          ]
        },
        {
          "output_type": "stream",
          "name": "stdout",
          "text": [
            "Index 172: random Hamming Distance: 122\n"
          ]
        },
        {
          "output_type": "stream",
          "name": "stderr",
          "text": [
            "100%|██████████| 8/8 [00:00<00:00, 12.86it/s]\n",
            "100%|██████████| 1/1 [00:00<00:00, 13.13it/s]\n"
          ]
        },
        {
          "output_type": "stream",
          "name": "stdout",
          "text": [
            "Index 173: random Hamming Distance: 12\n"
          ]
        },
        {
          "output_type": "stream",
          "name": "stderr",
          "text": [
            "100%|██████████| 8/8 [00:00<00:00, 12.96it/s]\n",
            "100%|██████████| 14/14 [00:01<00:00, 12.60it/s]\n"
          ]
        },
        {
          "output_type": "stream",
          "name": "stdout",
          "text": [
            "Index 174: embedding Hamming Distance: 30\n"
          ]
        },
        {
          "output_type": "stream",
          "name": "stderr",
          "text": [
            "100%|██████████| 14/14 [00:01<00:00, 13.09it/s]\n"
          ]
        },
        {
          "output_type": "stream",
          "name": "stdout",
          "text": [
            "Index 174: random Hamming Distance: 24\n"
          ]
        },
        {
          "output_type": "stream",
          "name": "stderr",
          "text": [
            "100%|██████████| 8/8 [00:00<00:00, 12.75it/s]\n",
            "100%|██████████| 7/7 [00:00<00:00, 12.33it/s]\n"
          ]
        },
        {
          "output_type": "stream",
          "name": "stdout",
          "text": [
            "Index 175: embedding Hamming Distance: 7\n"
          ]
        },
        {
          "output_type": "stream",
          "name": "stderr",
          "text": [
            "100%|██████████| 7/7 [00:00<00:00, 12.79it/s]\n"
          ]
        },
        {
          "output_type": "stream",
          "name": "stdout",
          "text": [
            "Index 175: random Hamming Distance: 15\n"
          ]
        },
        {
          "output_type": "stream",
          "name": "stderr",
          "text": [
            "100%|██████████| 8/8 [00:00<00:00, 12.92it/s]\n",
            "100%|██████████| 9/9 [00:00<00:00, 12.56it/s]\n"
          ]
        },
        {
          "output_type": "stream",
          "name": "stdout",
          "text": [
            "Index 176: embedding Hamming Distance: 111\n"
          ]
        },
        {
          "output_type": "stream",
          "name": "stderr",
          "text": [
            "100%|██████████| 9/9 [00:00<00:00, 12.75it/s]\n"
          ]
        },
        {
          "output_type": "stream",
          "name": "stdout",
          "text": [
            "Index 176: random Hamming Distance: 114\n"
          ]
        },
        {
          "output_type": "stream",
          "name": "stderr",
          "text": [
            "100%|██████████| 8/8 [00:00<00:00, 13.10it/s]\n",
            "100%|██████████| 16/16 [00:01<00:00, 13.06it/s]\n"
          ]
        },
        {
          "output_type": "stream",
          "name": "stdout",
          "text": [
            "Index 177: embedding Hamming Distance: 185\n"
          ]
        },
        {
          "output_type": "stream",
          "name": "stderr",
          "text": [
            "100%|██████████| 16/16 [00:01<00:00, 13.33it/s]\n"
          ]
        },
        {
          "output_type": "stream",
          "name": "stdout",
          "text": [
            "Index 177: random Hamming Distance: 188\n"
          ]
        },
        {
          "output_type": "stream",
          "name": "stderr",
          "text": [
            "100%|██████████| 8/8 [00:00<00:00, 12.74it/s]\n",
            "100%|██████████| 12/12 [00:00<00:00, 12.30it/s]\n"
          ]
        },
        {
          "output_type": "stream",
          "name": "stdout",
          "text": [
            "Index 178: embedding Hamming Distance: 103\n"
          ]
        },
        {
          "output_type": "stream",
          "name": "stderr",
          "text": [
            "100%|██████████| 12/12 [00:00<00:00, 13.39it/s]\n"
          ]
        },
        {
          "output_type": "stream",
          "name": "stdout",
          "text": [
            "Index 178: random Hamming Distance: 102\n"
          ]
        },
        {
          "output_type": "stream",
          "name": "stderr",
          "text": [
            "100%|██████████| 8/8 [00:00<00:00, 13.06it/s]\n",
            "100%|██████████| 7/7 [00:00<00:00, 13.34it/s]\n"
          ]
        },
        {
          "output_type": "stream",
          "name": "stdout",
          "text": [
            "Index 179: random Hamming Distance: 98\n"
          ]
        },
        {
          "output_type": "stream",
          "name": "stderr",
          "text": [
            "100%|██████████| 8/8 [00:00<00:00, 13.02it/s]\n",
            "100%|██████████| 17/17 [00:01<00:00, 12.86it/s]\n"
          ]
        },
        {
          "output_type": "stream",
          "name": "stdout",
          "text": [
            "Index 180: embedding Hamming Distance: 62\n"
          ]
        },
        {
          "output_type": "stream",
          "name": "stderr",
          "text": [
            "100%|██████████| 17/17 [00:01<00:00, 13.13it/s]\n"
          ]
        },
        {
          "output_type": "stream",
          "name": "stdout",
          "text": [
            "Index 180: random Hamming Distance: 67\n"
          ]
        },
        {
          "output_type": "stream",
          "name": "stderr",
          "text": [
            "100%|██████████| 8/8 [00:00<00:00, 13.29it/s]\n",
            "100%|██████████| 6/6 [00:00<00:00, 13.34it/s]\n"
          ]
        },
        {
          "output_type": "stream",
          "name": "stdout",
          "text": [
            "Index 181: random Hamming Distance: 45\n"
          ]
        },
        {
          "output_type": "stream",
          "name": "stderr",
          "text": [
            "100%|██████████| 8/8 [00:00<00:00, 12.90it/s]\n",
            "100%|██████████| 6/6 [00:00<00:00, 12.17it/s]\n"
          ]
        },
        {
          "output_type": "stream",
          "name": "stdout",
          "text": [
            "Index 182: embedding Hamming Distance: 79\n"
          ]
        },
        {
          "output_type": "stream",
          "name": "stderr",
          "text": [
            "100%|██████████| 6/6 [00:00<00:00, 12.75it/s]\n"
          ]
        },
        {
          "output_type": "stream",
          "name": "stdout",
          "text": [
            "Index 182: random Hamming Distance: 73\n"
          ]
        },
        {
          "output_type": "stream",
          "name": "stderr",
          "text": [
            "100%|██████████| 8/8 [00:00<00:00, 13.10it/s]\n",
            "100%|██████████| 15/15 [00:01<00:00, 12.94it/s]\n"
          ]
        },
        {
          "output_type": "stream",
          "name": "stdout",
          "text": [
            "Index 183: embedding Hamming Distance: 13\n"
          ]
        },
        {
          "output_type": "stream",
          "name": "stderr",
          "text": [
            "100%|██████████| 15/15 [00:01<00:00, 12.97it/s]\n"
          ]
        },
        {
          "output_type": "stream",
          "name": "stdout",
          "text": [
            "Index 183: random Hamming Distance: 8\n"
          ]
        },
        {
          "output_type": "stream",
          "name": "stderr",
          "text": [
            "100%|██████████| 8/8 [00:00<00:00, 10.70it/s]\n",
            "100%|██████████| 41/41 [00:03<00:00, 10.81it/s]\n"
          ]
        },
        {
          "output_type": "stream",
          "name": "stdout",
          "text": [
            "Index 184: embedding Hamming Distance: 258\n"
          ]
        },
        {
          "output_type": "stream",
          "name": "stderr",
          "text": [
            "100%|██████████| 41/41 [00:03<00:00, 10.84it/s]\n"
          ]
        },
        {
          "output_type": "stream",
          "name": "stdout",
          "text": [
            "Index 184: random Hamming Distance: 261\n"
          ]
        },
        {
          "output_type": "stream",
          "name": "stderr",
          "text": [
            "100%|██████████| 8/8 [00:00<00:00, 12.92it/s]\n",
            "100%|██████████| 15/15 [00:01<00:00, 12.59it/s]\n"
          ]
        },
        {
          "output_type": "stream",
          "name": "stdout",
          "text": [
            "Index 185: embedding Hamming Distance: 147\n"
          ]
        },
        {
          "output_type": "stream",
          "name": "stderr",
          "text": [
            "100%|██████████| 15/15 [00:01<00:00, 13.10it/s]\n"
          ]
        },
        {
          "output_type": "stream",
          "name": "stdout",
          "text": [
            "Index 185: random Hamming Distance: 135\n"
          ]
        },
        {
          "output_type": "stream",
          "name": "stderr",
          "text": [
            "100%|██████████| 8/8 [00:00<00:00, 13.09it/s]\n",
            "100%|██████████| 6/6 [00:00<00:00, 12.52it/s]\n"
          ]
        },
        {
          "output_type": "stream",
          "name": "stdout",
          "text": [
            "Index 186: embedding Hamming Distance: 22\n"
          ]
        },
        {
          "output_type": "stream",
          "name": "stderr",
          "text": [
            "100%|██████████| 6/6 [00:00<00:00, 13.02it/s]\n"
          ]
        },
        {
          "output_type": "stream",
          "name": "stdout",
          "text": [
            "Index 186: random Hamming Distance: 16\n"
          ]
        },
        {
          "output_type": "stream",
          "name": "stderr",
          "text": [
            "100%|██████████| 8/8 [00:00<00:00, 12.99it/s]\n",
            "100%|██████████| 7/7 [00:00<00:00, 12.67it/s]\n"
          ]
        },
        {
          "output_type": "stream",
          "name": "stdout",
          "text": [
            "Index 187: embedding Hamming Distance: 36\n"
          ]
        },
        {
          "output_type": "stream",
          "name": "stderr",
          "text": [
            "100%|██████████| 7/7 [00:00<00:00, 12.99it/s]\n"
          ]
        },
        {
          "output_type": "stream",
          "name": "stdout",
          "text": [
            "Index 187: random Hamming Distance: 40\n"
          ]
        },
        {
          "output_type": "stream",
          "name": "stderr",
          "text": [
            "100%|██████████| 8/8 [00:00<00:00, 13.10it/s]\n",
            "100%|██████████| 17/17 [00:01<00:00, 13.22it/s]\n"
          ]
        },
        {
          "output_type": "stream",
          "name": "stdout",
          "text": [
            "Index 188: random Hamming Distance: 165\n"
          ]
        },
        {
          "output_type": "stream",
          "name": "stderr",
          "text": [
            "100%|██████████| 8/8 [00:00<00:00, 13.05it/s]\n",
            "100%|██████████| 21/21 [00:01<00:00, 13.01it/s]\n"
          ]
        },
        {
          "output_type": "stream",
          "name": "stdout",
          "text": [
            "Index 189: embedding Hamming Distance: 124\n"
          ]
        },
        {
          "output_type": "stream",
          "name": "stderr",
          "text": [
            "100%|██████████| 21/21 [00:01<00:00, 13.26it/s]\n"
          ]
        },
        {
          "output_type": "stream",
          "name": "stdout",
          "text": [
            "Index 189: random Hamming Distance: 135\n"
          ]
        },
        {
          "output_type": "stream",
          "name": "stderr",
          "text": [
            "100%|██████████| 8/8 [00:00<00:00, 13.15it/s]\n",
            "100%|██████████| 4/4 [00:00<00:00, 11.96it/s]\n"
          ]
        },
        {
          "output_type": "stream",
          "name": "stdout",
          "text": [
            "Index 190: embedding Hamming Distance: 14\n"
          ]
        },
        {
          "output_type": "stream",
          "name": "stderr",
          "text": [
            "100%|██████████| 4/4 [00:00<00:00, 12.67it/s]\n"
          ]
        },
        {
          "output_type": "stream",
          "name": "stdout",
          "text": [
            "Index 190: random Hamming Distance: 11\n"
          ]
        },
        {
          "output_type": "stream",
          "name": "stderr",
          "text": [
            "100%|██████████| 8/8 [00:00<00:00, 12.99it/s]\n",
            "100%|██████████| 6/6 [00:00<00:00, 12.10it/s]\n"
          ]
        },
        {
          "output_type": "stream",
          "name": "stdout",
          "text": [
            "Index 191: embedding Hamming Distance: 5\n"
          ]
        },
        {
          "output_type": "stream",
          "name": "stderr",
          "text": [
            "100%|██████████| 6/6 [00:00<00:00, 12.92it/s]\n"
          ]
        },
        {
          "output_type": "stream",
          "name": "stdout",
          "text": [
            "Index 191: random Hamming Distance: 7\n"
          ]
        },
        {
          "output_type": "stream",
          "name": "stderr",
          "text": [
            "100%|██████████| 8/8 [00:00<00:00, 12.90it/s]\n",
            "100%|██████████| 11/11 [00:00<00:00, 13.10it/s]\n"
          ]
        },
        {
          "output_type": "stream",
          "name": "stdout",
          "text": [
            "Index 192: random Hamming Distance: 156\n"
          ]
        },
        {
          "output_type": "stream",
          "name": "stderr",
          "text": [
            "100%|██████████| 8/8 [00:00<00:00, 12.94it/s]\n",
            "100%|██████████| 14/14 [00:01<00:00, 12.69it/s]\n"
          ]
        },
        {
          "output_type": "stream",
          "name": "stdout",
          "text": [
            "Index 193: embedding Hamming Distance: 169\n"
          ]
        },
        {
          "output_type": "stream",
          "name": "stderr",
          "text": [
            "100%|██████████| 14/14 [00:01<00:00, 12.62it/s]\n"
          ]
        },
        {
          "output_type": "stream",
          "name": "stdout",
          "text": [
            "Index 193: random Hamming Distance: 173\n"
          ]
        },
        {
          "output_type": "stream",
          "name": "stderr",
          "text": [
            "100%|██████████| 8/8 [00:00<00:00, 12.83it/s]\n",
            "100%|██████████| 6/6 [00:00<00:00, 12.52it/s]\n"
          ]
        },
        {
          "output_type": "stream",
          "name": "stdout",
          "text": [
            "Index 194: embedding Hamming Distance: 19\n"
          ]
        },
        {
          "output_type": "stream",
          "name": "stderr",
          "text": [
            "100%|██████████| 6/6 [00:00<00:00, 13.00it/s]\n"
          ]
        },
        {
          "output_type": "stream",
          "name": "stdout",
          "text": [
            "Index 194: random Hamming Distance: 14\n"
          ]
        },
        {
          "output_type": "stream",
          "name": "stderr",
          "text": [
            "100%|██████████| 8/8 [00:00<00:00, 13.00it/s]\n",
            "100%|██████████| 29/29 [00:02<00:00, 13.10it/s]\n"
          ]
        },
        {
          "output_type": "stream",
          "name": "stdout",
          "text": [
            "Index 195: embedding Hamming Distance: 80\n"
          ]
        },
        {
          "output_type": "stream",
          "name": "stderr",
          "text": [
            "100%|██████████| 29/29 [00:02<00:00, 13.21it/s]\n"
          ]
        },
        {
          "output_type": "stream",
          "name": "stdout",
          "text": [
            "Index 195: random Hamming Distance: 87\n"
          ]
        },
        {
          "output_type": "stream",
          "name": "stderr",
          "text": [
            "100%|██████████| 8/8 [00:00<00:00, 13.13it/s]\n",
            "100%|██████████| 3/3 [00:00<00:00, 13.09it/s]\n"
          ]
        },
        {
          "output_type": "stream",
          "name": "stdout",
          "text": [
            "Index 196: random Hamming Distance: 52\n"
          ]
        },
        {
          "output_type": "stream",
          "name": "stderr",
          "text": [
            "100%|██████████| 8/8 [00:00<00:00, 12.87it/s]\n",
            "100%|██████████| 5/5 [00:00<00:00, 12.37it/s]\n"
          ]
        },
        {
          "output_type": "stream",
          "name": "stdout",
          "text": [
            "Index 197: embedding Hamming Distance: 38\n"
          ]
        },
        {
          "output_type": "stream",
          "name": "stderr",
          "text": [
            "100%|██████████| 5/5 [00:00<00:00, 13.01it/s]\n"
          ]
        },
        {
          "output_type": "stream",
          "name": "stdout",
          "text": [
            "Index 197: random Hamming Distance: 37\n"
          ]
        },
        {
          "output_type": "stream",
          "name": "stderr",
          "text": [
            "100%|██████████| 8/8 [00:00<00:00, 12.96it/s]\n",
            "100%|██████████| 11/11 [00:00<00:00, 12.98it/s]\n"
          ]
        },
        {
          "output_type": "stream",
          "name": "stdout",
          "text": [
            "Index 198: embedding Hamming Distance: 61\n"
          ]
        },
        {
          "output_type": "stream",
          "name": "stderr",
          "text": [
            "100%|██████████| 11/11 [00:00<00:00, 13.02it/s]\n"
          ]
        },
        {
          "output_type": "stream",
          "name": "stdout",
          "text": [
            "Index 198: random Hamming Distance: 62\n"
          ]
        },
        {
          "output_type": "stream",
          "name": "stderr",
          "text": [
            "100%|██████████| 8/8 [00:00<00:00, 12.84it/s]\n",
            "100%|██████████| 14/14 [00:01<00:00, 12.81it/s]\n"
          ]
        },
        {
          "output_type": "stream",
          "name": "stdout",
          "text": [
            "Index 199: embedding Hamming Distance: 113\n"
          ]
        },
        {
          "output_type": "stream",
          "name": "stderr",
          "text": [
            "100%|██████████| 14/14 [00:01<00:00, 13.09it/s]"
          ]
        },
        {
          "output_type": "stream",
          "name": "stdout",
          "text": [
            "Index 199: random Hamming Distance: 110\n"
          ]
        },
        {
          "output_type": "stream",
          "name": "stderr",
          "text": [
            "\n"
          ]
        }
      ]
    },
    {
      "cell_type": "code",
      "source": [
        "import matplotlib.pyplot as plt\n",
        "import numpy as np\n",
        "\n",
        "# Extract Hamming distances for 'embedding' and 'random' methods\n",
        "embedding_distances = []\n",
        "random_distances = []\n",
        "\n",
        "# Iterate over embeddings_dict to gather the hamming distances\n",
        "for key, entry in embeddings_dict.items():\n",
        "    embedding_distance = entry.get('embedding_hamming_distance', None)\n",
        "    random_distance = entry.get('random_hamming_distance', None)\n",
        "    seq_length = len(df.loc[df['Protein Accession'] == key, 'sequence'].iloc[0])\n",
        "    embeddings_dict[key]['seq_length'] = seq_length\n",
        "\n",
        "    # Skip None values and collect valid distances (only compare on proteins w/ both values)\n",
        "    if embedding_distance is not None and random_distance is not None:\n",
        "        embedding_distances.append(embedding_distance/seq_length)\n",
        "        random_distances.append(random_distance/seq_length)\n",
        "\n",
        "# Calculate average and standard deviation for both methods\n",
        "embedding_avg = np.mean(embedding_distances) if embedding_distances else 0\n",
        "embedding_std = np.std(embedding_distances) if embedding_distances else 0\n",
        "print(embedding_avg)\n",
        "print(embedding_std)\n",
        "\n",
        "random_avg = np.mean(random_distances) if random_distances else 0\n",
        "random_std = np.std(random_distances) if random_distances else 0\n",
        "print(random_avg)\n",
        "print(random_std)\n",
        "\n",
        "# Prepare data for the bar plot\n",
        "methods = ['Embedding', 'Random']\n",
        "averages = [embedding_avg, random_avg]\n",
        "std_devs = [embedding_std, random_std]\n",
        "\n",
        "# Create the bar plot\n",
        "fig, ax = plt.subplots()\n",
        "\n",
        "# Set positions for the bars\n",
        "bar_width = 0.35\n",
        "index = np.arange(len(methods))\n",
        "\n",
        "# Plot the bars with error bars\n",
        "ax.bar(index, averages, bar_width, yerr=std_devs, capsize=5, label='Average Hamming Distance')\n",
        "\n",
        "# Customize the plot\n",
        "ax.set_xlabel('Method')\n",
        "ax.set_ylabel('Hamming Distance')\n",
        "ax.set_title('Average Hamming Distance and Standard Deviation by Method')\n",
        "ax.set_xticks(index)\n",
        "ax.set_xticklabels(methods)\n",
        "ax.legend()\n",
        "\n",
        "# Display the plot\n",
        "plt.show()"
      ],
      "metadata": {
        "colab": {
          "base_uri": "https://localhost:8080/",
          "height": 541
        },
        "collapsed": true,
        "id": "jn7BX99JnW4r",
        "outputId": "91810766-98e0-4a6e-88cf-d36e983fa522"
      },
      "execution_count": null,
      "outputs": [
        {
          "output_type": "stream",
          "name": "stdout",
          "text": [
            "0.23663477841474406\n",
            "0.16891755335583075\n",
            "0.23387537453248966\n",
            "0.17095937778785902\n"
          ]
        },
        {
          "output_type": "display_data",
          "data": {
            "text/plain": [
              "<Figure size 640x480 with 1 Axes>"
            ],
            "image/png": "[encoded data removed]"
          },
          "metadata": {}
        }
      ]
    },
    {
      "cell_type": "code",
      "source": [
        "import json\n",
        "import numpy as np\n",
        "\n",
        "# Specify the file path where you want to save the JSON file\n",
        "file_path = 'hamming_distance_dict.json'\n",
        "\n",
        "# Define a custom encoder to handle NumPy arrays\n",
        "class NumpyEncoder(json.JSONEncoder):\n",
        "    def default(self, obj):\n",
        "        if isinstance(obj, np.ndarray):\n",
        "            return obj.tolist()  # Convert NumPy array to list\n",
        "        return json.JSONEncoder.default(self, obj)\n",
        "\n",
        "# Save the dictionary to a JSON file using the custom encoder\n",
        "with open(file_path, 'w') as json_file:\n",
        "    json.dump(embeddings_dict, json_file, indent=4, cls=NumpyEncoder)\n",
        "    # Use cls=NumpyEncoder to apply the custom encoding"
      ],
      "metadata": {
        "id": "BXx_D4ju0X4W"
      },
      "execution_count": null,
      "outputs": []
    }
  ]
}